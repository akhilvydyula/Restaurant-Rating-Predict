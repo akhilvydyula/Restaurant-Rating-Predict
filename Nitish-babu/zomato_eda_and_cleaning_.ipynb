{
  "nbformat": 4,
  "nbformat_minor": 0,
  "metadata": {
    "colab": {
      "name": "zomato eda and cleaning .ipynb",
      "provenance": [],
      "collapsed_sections": [
        "lNJjk3Dmoukb",
        "Ro61kzfdo51M",
        "DC0j7WcBpGEA",
        "jvOD5tbvpOk6",
        "rsi2TJDPh3SD",
        "Vt1LN32cjEmD",
        "EP-DlN8ztm0r",
        "bWFzlBphuTFO",
        "8X2Ci_dwp4bF",
        "WEYR4thmqu5N",
        "MBs1pVuZsaci",
        "L3ddWtQdwrB1",
        "3oAaikFmzCU4",
        "fPZT9s66zv9g"
      ]
    },
    "kernelspec": {
      "name": "python3",
      "display_name": "Python 3"
    },
    "language_info": {
      "name": "python"
    },
    "accelerator": "GPU"
  },
  "cells": [
    {
      "cell_type": "code",
      "metadata": {
        "id": "53h3axgcHuhh",
        "colab": {
          "base_uri": "https://localhost:8080/"
        },
        "outputId": "2da22267-6940-4c1d-cdd9-efef816e611c"
      },
      "source": [
        "from google.colab import drive \n",
        "drive.mount(\"/content/drive\")"
      ],
      "execution_count": 3,
      "outputs": [
        {
          "output_type": "stream",
          "text": [
            "Drive already mounted at /content/drive; to attempt to forcibly remount, call drive.mount(\"/content/drive\", force_remount=True).\n"
          ],
          "name": "stdout"
        }
      ]
    },
    {
      "cell_type": "code",
      "metadata": {
        "id": "EI7yRJV1IZGZ"
      },
      "source": [
        "import os\n",
        "import pandas as pd\n",
        "import numpy as np\n",
        "from sklearn.model_selection import train_test_split\n",
        "import nltk\n",
        "from nltk.corpus import RegexpTokenizer as regextoken\n",
        "from nltk.corpus import stopwords\n",
        "from nltk import FreqDist, bigrams, trigrams\n",
        "from nltk import WordNetLemmatizer\n",
        "import matplotlib\n",
        "from matplotlib import pyplot as plt\n",
        "import seaborn as sns\n",
        "%matplotlib inline\n",
        "from keras.preprocessing.text import Tokenizer\n",
        "from sklearn.linear_model import LogisticRegression\n",
        "from sklearn.linear_model import LinearRegression\n",
        "from sklearn.model_selection import train_test_split\n",
        "from sklearn.metrics import classification_report\n",
        "from sklearn.metrics import confusion_matrix\n",
        "from sklearn.metrics import r2_score\n",
        "from sklearn.preprocessing import LabelEncoder\n",
        "from tensorflow.keras.utils import to_categorical\n",
        "from keras.preprocessing.sequence import pad_sequences\n",
        "from sklearn.metrics import  make_scorer\n",
        "from sklearn.model_selection import GridSearchCV\n",
        "from sklearn import metrics\n",
        "from sklearn.metrics import mean_squared_error\n",
        "import gensim\n",
        "from gensim.models.keyedvectors import KeyedVectors\n",
        "import re\n",
        "from keras.models import Sequential\n",
        "from keras.models import Model\n",
        "from keras.layers import Dense, Flatten, Embedding, Conv1D, MaxPooling1D, Dropout, LSTM, GRU\n",
        "from keras.regularizers import l1, l2\n",
        "from sklearn.metrics import classification_report\n",
        "import warnings\n",
        "warnings.filterwarnings(\"ignore\")\n",
        "plt.style.use('dark_background')\n"
      ],
      "execution_count": 1,
      "outputs": []
    },
    {
      "cell_type": "code",
      "metadata": {
        "id": "PJqZ1MyuJbTi",
        "colab": {
          "base_uri": "https://localhost:8080/",
          "height": 380
        },
        "outputId": "4832da71-68b8-470c-a068-92c18288229e"
      },
      "source": [
        "data=pd.read_csv('/content/drive/MyDrive/zomato.csv')"
      ],
      "execution_count": 4,
      "outputs": [
        {
          "output_type": "error",
          "ename": "FileNotFoundError",
          "evalue": "ignored",
          "traceback": [
            "\u001b[0;31m---------------------------------------------------------------------------\u001b[0m",
            "\u001b[0;31mFileNotFoundError\u001b[0m                         Traceback (most recent call last)",
            "\u001b[0;32m<ipython-input-4-a14355a7dddf>\u001b[0m in \u001b[0;36m<module>\u001b[0;34m()\u001b[0m\n\u001b[0;32m----> 1\u001b[0;31m \u001b[0mdata\u001b[0m\u001b[0;34m=\u001b[0m\u001b[0mpd\u001b[0m\u001b[0;34m.\u001b[0m\u001b[0mread_csv\u001b[0m\u001b[0;34m(\u001b[0m\u001b[0;34m'/content/drive/MyDrive/zomato.csv'\u001b[0m\u001b[0;34m)\u001b[0m\u001b[0;34m\u001b[0m\u001b[0;34m\u001b[0m\u001b[0m\n\u001b[0m",
            "\u001b[0;32m/usr/local/lib/python3.7/dist-packages/pandas/io/parsers.py\u001b[0m in \u001b[0;36mread_csv\u001b[0;34m(filepath_or_buffer, sep, delimiter, header, names, index_col, usecols, squeeze, prefix, mangle_dupe_cols, dtype, engine, converters, true_values, false_values, skipinitialspace, skiprows, skipfooter, nrows, na_values, keep_default_na, na_filter, verbose, skip_blank_lines, parse_dates, infer_datetime_format, keep_date_col, date_parser, dayfirst, cache_dates, iterator, chunksize, compression, thousands, decimal, lineterminator, quotechar, quoting, doublequote, escapechar, comment, encoding, dialect, error_bad_lines, warn_bad_lines, delim_whitespace, low_memory, memory_map, float_precision)\u001b[0m\n\u001b[1;32m    686\u001b[0m     )\n\u001b[1;32m    687\u001b[0m \u001b[0;34m\u001b[0m\u001b[0m\n\u001b[0;32m--> 688\u001b[0;31m     \u001b[0;32mreturn\u001b[0m \u001b[0m_read\u001b[0m\u001b[0;34m(\u001b[0m\u001b[0mfilepath_or_buffer\u001b[0m\u001b[0;34m,\u001b[0m \u001b[0mkwds\u001b[0m\u001b[0;34m)\u001b[0m\u001b[0;34m\u001b[0m\u001b[0;34m\u001b[0m\u001b[0m\n\u001b[0m\u001b[1;32m    689\u001b[0m \u001b[0;34m\u001b[0m\u001b[0m\n\u001b[1;32m    690\u001b[0m \u001b[0;34m\u001b[0m\u001b[0m\n",
            "\u001b[0;32m/usr/local/lib/python3.7/dist-packages/pandas/io/parsers.py\u001b[0m in \u001b[0;36m_read\u001b[0;34m(filepath_or_buffer, kwds)\u001b[0m\n\u001b[1;32m    452\u001b[0m \u001b[0;34m\u001b[0m\u001b[0m\n\u001b[1;32m    453\u001b[0m     \u001b[0;31m# Create the parser.\u001b[0m\u001b[0;34m\u001b[0m\u001b[0;34m\u001b[0m\u001b[0;34m\u001b[0m\u001b[0m\n\u001b[0;32m--> 454\u001b[0;31m     \u001b[0mparser\u001b[0m \u001b[0;34m=\u001b[0m \u001b[0mTextFileReader\u001b[0m\u001b[0;34m(\u001b[0m\u001b[0mfp_or_buf\u001b[0m\u001b[0;34m,\u001b[0m \u001b[0;34m**\u001b[0m\u001b[0mkwds\u001b[0m\u001b[0;34m)\u001b[0m\u001b[0;34m\u001b[0m\u001b[0;34m\u001b[0m\u001b[0m\n\u001b[0m\u001b[1;32m    455\u001b[0m \u001b[0;34m\u001b[0m\u001b[0m\n\u001b[1;32m    456\u001b[0m     \u001b[0;32mif\u001b[0m \u001b[0mchunksize\u001b[0m \u001b[0;32mor\u001b[0m \u001b[0miterator\u001b[0m\u001b[0;34m:\u001b[0m\u001b[0;34m\u001b[0m\u001b[0;34m\u001b[0m\u001b[0m\n",
            "\u001b[0;32m/usr/local/lib/python3.7/dist-packages/pandas/io/parsers.py\u001b[0m in \u001b[0;36m__init__\u001b[0;34m(self, f, engine, **kwds)\u001b[0m\n\u001b[1;32m    946\u001b[0m             \u001b[0mself\u001b[0m\u001b[0;34m.\u001b[0m\u001b[0moptions\u001b[0m\u001b[0;34m[\u001b[0m\u001b[0;34m\"has_index_names\"\u001b[0m\u001b[0;34m]\u001b[0m \u001b[0;34m=\u001b[0m \u001b[0mkwds\u001b[0m\u001b[0;34m[\u001b[0m\u001b[0;34m\"has_index_names\"\u001b[0m\u001b[0;34m]\u001b[0m\u001b[0;34m\u001b[0m\u001b[0;34m\u001b[0m\u001b[0m\n\u001b[1;32m    947\u001b[0m \u001b[0;34m\u001b[0m\u001b[0m\n\u001b[0;32m--> 948\u001b[0;31m         \u001b[0mself\u001b[0m\u001b[0;34m.\u001b[0m\u001b[0m_make_engine\u001b[0m\u001b[0;34m(\u001b[0m\u001b[0mself\u001b[0m\u001b[0;34m.\u001b[0m\u001b[0mengine\u001b[0m\u001b[0;34m)\u001b[0m\u001b[0;34m\u001b[0m\u001b[0;34m\u001b[0m\u001b[0m\n\u001b[0m\u001b[1;32m    949\u001b[0m \u001b[0;34m\u001b[0m\u001b[0m\n\u001b[1;32m    950\u001b[0m     \u001b[0;32mdef\u001b[0m \u001b[0mclose\u001b[0m\u001b[0;34m(\u001b[0m\u001b[0mself\u001b[0m\u001b[0;34m)\u001b[0m\u001b[0;34m:\u001b[0m\u001b[0;34m\u001b[0m\u001b[0;34m\u001b[0m\u001b[0m\n",
            "\u001b[0;32m/usr/local/lib/python3.7/dist-packages/pandas/io/parsers.py\u001b[0m in \u001b[0;36m_make_engine\u001b[0;34m(self, engine)\u001b[0m\n\u001b[1;32m   1178\u001b[0m     \u001b[0;32mdef\u001b[0m \u001b[0m_make_engine\u001b[0m\u001b[0;34m(\u001b[0m\u001b[0mself\u001b[0m\u001b[0;34m,\u001b[0m \u001b[0mengine\u001b[0m\u001b[0;34m=\u001b[0m\u001b[0;34m\"c\"\u001b[0m\u001b[0;34m)\u001b[0m\u001b[0;34m:\u001b[0m\u001b[0;34m\u001b[0m\u001b[0;34m\u001b[0m\u001b[0m\n\u001b[1;32m   1179\u001b[0m         \u001b[0;32mif\u001b[0m \u001b[0mengine\u001b[0m \u001b[0;34m==\u001b[0m \u001b[0;34m\"c\"\u001b[0m\u001b[0;34m:\u001b[0m\u001b[0;34m\u001b[0m\u001b[0;34m\u001b[0m\u001b[0m\n\u001b[0;32m-> 1180\u001b[0;31m             \u001b[0mself\u001b[0m\u001b[0;34m.\u001b[0m\u001b[0m_engine\u001b[0m \u001b[0;34m=\u001b[0m \u001b[0mCParserWrapper\u001b[0m\u001b[0;34m(\u001b[0m\u001b[0mself\u001b[0m\u001b[0;34m.\u001b[0m\u001b[0mf\u001b[0m\u001b[0;34m,\u001b[0m \u001b[0;34m**\u001b[0m\u001b[0mself\u001b[0m\u001b[0;34m.\u001b[0m\u001b[0moptions\u001b[0m\u001b[0;34m)\u001b[0m\u001b[0;34m\u001b[0m\u001b[0;34m\u001b[0m\u001b[0m\n\u001b[0m\u001b[1;32m   1181\u001b[0m         \u001b[0;32melse\u001b[0m\u001b[0;34m:\u001b[0m\u001b[0;34m\u001b[0m\u001b[0;34m\u001b[0m\u001b[0m\n\u001b[1;32m   1182\u001b[0m             \u001b[0;32mif\u001b[0m \u001b[0mengine\u001b[0m \u001b[0;34m==\u001b[0m \u001b[0;34m\"python\"\u001b[0m\u001b[0;34m:\u001b[0m\u001b[0;34m\u001b[0m\u001b[0;34m\u001b[0m\u001b[0m\n",
            "\u001b[0;32m/usr/local/lib/python3.7/dist-packages/pandas/io/parsers.py\u001b[0m in \u001b[0;36m__init__\u001b[0;34m(self, src, **kwds)\u001b[0m\n\u001b[1;32m   2008\u001b[0m         \u001b[0mkwds\u001b[0m\u001b[0;34m[\u001b[0m\u001b[0;34m\"usecols\"\u001b[0m\u001b[0;34m]\u001b[0m \u001b[0;34m=\u001b[0m \u001b[0mself\u001b[0m\u001b[0;34m.\u001b[0m\u001b[0musecols\u001b[0m\u001b[0;34m\u001b[0m\u001b[0;34m\u001b[0m\u001b[0m\n\u001b[1;32m   2009\u001b[0m \u001b[0;34m\u001b[0m\u001b[0m\n\u001b[0;32m-> 2010\u001b[0;31m         \u001b[0mself\u001b[0m\u001b[0;34m.\u001b[0m\u001b[0m_reader\u001b[0m \u001b[0;34m=\u001b[0m \u001b[0mparsers\u001b[0m\u001b[0;34m.\u001b[0m\u001b[0mTextReader\u001b[0m\u001b[0;34m(\u001b[0m\u001b[0msrc\u001b[0m\u001b[0;34m,\u001b[0m \u001b[0;34m**\u001b[0m\u001b[0mkwds\u001b[0m\u001b[0;34m)\u001b[0m\u001b[0;34m\u001b[0m\u001b[0;34m\u001b[0m\u001b[0m\n\u001b[0m\u001b[1;32m   2011\u001b[0m         \u001b[0mself\u001b[0m\u001b[0;34m.\u001b[0m\u001b[0munnamed_cols\u001b[0m \u001b[0;34m=\u001b[0m \u001b[0mself\u001b[0m\u001b[0;34m.\u001b[0m\u001b[0m_reader\u001b[0m\u001b[0;34m.\u001b[0m\u001b[0munnamed_cols\u001b[0m\u001b[0;34m\u001b[0m\u001b[0;34m\u001b[0m\u001b[0m\n\u001b[1;32m   2012\u001b[0m \u001b[0;34m\u001b[0m\u001b[0m\n",
            "\u001b[0;32mpandas/_libs/parsers.pyx\u001b[0m in \u001b[0;36mpandas._libs.parsers.TextReader.__cinit__\u001b[0;34m()\u001b[0m\n",
            "\u001b[0;32mpandas/_libs/parsers.pyx\u001b[0m in \u001b[0;36mpandas._libs.parsers.TextReader._setup_parser_source\u001b[0;34m()\u001b[0m\n",
            "\u001b[0;31mFileNotFoundError\u001b[0m: [Errno 2] No such file or directory: '/content/drive/MyDrive/zomato.csv'"
          ]
        }
      ]
    },
    {
      "cell_type": "code",
      "metadata": {
        "id": "in4qUyVAJpmC",
        "colab": {
          "base_uri": "https://localhost:8080/",
          "height": 165
        },
        "outputId": "8a625e30-ddaf-47d9-85a0-f17c0d1c5556"
      },
      "source": [
        "data.head()"
      ],
      "execution_count": 3,
      "outputs": [
        {
          "output_type": "error",
          "ename": "NameError",
          "evalue": "ignored",
          "traceback": [
            "\u001b[0;31m---------------------------------------------------------------------------\u001b[0m",
            "\u001b[0;31mNameError\u001b[0m                                 Traceback (most recent call last)",
            "\u001b[0;32m<ipython-input-3-304fa4ce4ebd>\u001b[0m in \u001b[0;36m<module>\u001b[0;34m()\u001b[0m\n\u001b[0;32m----> 1\u001b[0;31m \u001b[0mdata\u001b[0m\u001b[0;34m.\u001b[0m\u001b[0mhead\u001b[0m\u001b[0;34m(\u001b[0m\u001b[0;34m)\u001b[0m\u001b[0;34m\u001b[0m\u001b[0;34m\u001b[0m\u001b[0m\n\u001b[0m",
            "\u001b[0;31mNameError\u001b[0m: name 'data' is not defined"
          ]
        }
      ]
    },
    {
      "cell_type": "code",
      "metadata": {
        "id": "_6EfPuFH4qyI"
      },
      "source": [
        "res=data.copy(deep=True)"
      ],
      "execution_count": 7,
      "outputs": []
    },
    {
      "cell_type": "code",
      "metadata": {
        "id": "2USOWCKA41gU",
        "colab": {
          "base_uri": "https://localhost:8080/",
          "height": 1000
        },
        "outputId": "35bd99b9-3a88-4575-a362-35fc2059e5ea"
      },
      "source": [
        "res.head(20)"
      ],
      "execution_count": 8,
      "outputs": [
        {
          "output_type": "execute_result",
          "data": {
            "text/html": [
              "<div>\n",
              "<style scoped>\n",
              "    .dataframe tbody tr th:only-of-type {\n",
              "        vertical-align: middle;\n",
              "    }\n",
              "\n",
              "    .dataframe tbody tr th {\n",
              "        vertical-align: top;\n",
              "    }\n",
              "\n",
              "    .dataframe thead th {\n",
              "        text-align: right;\n",
              "    }\n",
              "</style>\n",
              "<table border=\"1\" class=\"dataframe\">\n",
              "  <thead>\n",
              "    <tr style=\"text-align: right;\">\n",
              "      <th></th>\n",
              "      <th>url</th>\n",
              "      <th>address</th>\n",
              "      <th>name</th>\n",
              "      <th>online_order</th>\n",
              "      <th>book_table</th>\n",
              "      <th>rate</th>\n",
              "      <th>votes</th>\n",
              "      <th>phone</th>\n",
              "      <th>location</th>\n",
              "      <th>rest_type</th>\n",
              "      <th>dish_liked</th>\n",
              "      <th>cuisines</th>\n",
              "      <th>approx_cost(for two people)</th>\n",
              "      <th>reviews_list</th>\n",
              "      <th>menu_item</th>\n",
              "      <th>listed_in(type)</th>\n",
              "      <th>listed_in(city)</th>\n",
              "    </tr>\n",
              "  </thead>\n",
              "  <tbody>\n",
              "    <tr>\n",
              "      <th>0</th>\n",
              "      <td>https://www.zomato.com/bangalore/jalsa-banasha...</td>\n",
              "      <td>942, 21st Main Road, 2nd Stage, Banashankari, ...</td>\n",
              "      <td>Jalsa</td>\n",
              "      <td>Yes</td>\n",
              "      <td>Yes</td>\n",
              "      <td>4.1/5</td>\n",
              "      <td>775</td>\n",
              "      <td>080 42297555\\r\\n+91 9743772233</td>\n",
              "      <td>Banashankari</td>\n",
              "      <td>Casual Dining</td>\n",
              "      <td>Pasta, Lunch Buffet, Masala Papad, Paneer Laja...</td>\n",
              "      <td>North Indian, Mughlai, Chinese</td>\n",
              "      <td>800</td>\n",
              "      <td>[('Rated 4.0', 'RATED\\n  A beautiful place to ...</td>\n",
              "      <td>[]</td>\n",
              "      <td>Buffet</td>\n",
              "      <td>Banashankari</td>\n",
              "    </tr>\n",
              "    <tr>\n",
              "      <th>1</th>\n",
              "      <td>https://www.zomato.com/bangalore/spice-elephan...</td>\n",
              "      <td>2nd Floor, 80 Feet Road, Near Big Bazaar, 6th ...</td>\n",
              "      <td>Spice Elephant</td>\n",
              "      <td>Yes</td>\n",
              "      <td>No</td>\n",
              "      <td>4.1/5</td>\n",
              "      <td>787</td>\n",
              "      <td>080 41714161</td>\n",
              "      <td>Banashankari</td>\n",
              "      <td>Casual Dining</td>\n",
              "      <td>Momos, Lunch Buffet, Chocolate Nirvana, Thai G...</td>\n",
              "      <td>Chinese, North Indian, Thai</td>\n",
              "      <td>800</td>\n",
              "      <td>[('Rated 4.0', 'RATED\\n  Had been here for din...</td>\n",
              "      <td>[]</td>\n",
              "      <td>Buffet</td>\n",
              "      <td>Banashankari</td>\n",
              "    </tr>\n",
              "    <tr>\n",
              "      <th>2</th>\n",
              "      <td>https://www.zomato.com/SanchurroBangalore?cont...</td>\n",
              "      <td>1112, Next to KIMS Medical College, 17th Cross...</td>\n",
              "      <td>San Churro Cafe</td>\n",
              "      <td>Yes</td>\n",
              "      <td>No</td>\n",
              "      <td>3.8/5</td>\n",
              "      <td>918</td>\n",
              "      <td>+91 9663487993</td>\n",
              "      <td>Banashankari</td>\n",
              "      <td>Cafe, Casual Dining</td>\n",
              "      <td>Churros, Cannelloni, Minestrone Soup, Hot Choc...</td>\n",
              "      <td>Cafe, Mexican, Italian</td>\n",
              "      <td>800</td>\n",
              "      <td>[('Rated 3.0', \"RATED\\n  Ambience is not that ...</td>\n",
              "      <td>[]</td>\n",
              "      <td>Buffet</td>\n",
              "      <td>Banashankari</td>\n",
              "    </tr>\n",
              "    <tr>\n",
              "      <th>3</th>\n",
              "      <td>https://www.zomato.com/bangalore/addhuri-udupi...</td>\n",
              "      <td>1st Floor, Annakuteera, 3rd Stage, Banashankar...</td>\n",
              "      <td>Addhuri Udupi Bhojana</td>\n",
              "      <td>No</td>\n",
              "      <td>No</td>\n",
              "      <td>3.7/5</td>\n",
              "      <td>88</td>\n",
              "      <td>+91 9620009302</td>\n",
              "      <td>Banashankari</td>\n",
              "      <td>Quick Bites</td>\n",
              "      <td>Masala Dosa</td>\n",
              "      <td>South Indian, North Indian</td>\n",
              "      <td>300</td>\n",
              "      <td>[('Rated 4.0', \"RATED\\n  Great food and proper...</td>\n",
              "      <td>[]</td>\n",
              "      <td>Buffet</td>\n",
              "      <td>Banashankari</td>\n",
              "    </tr>\n",
              "    <tr>\n",
              "      <th>4</th>\n",
              "      <td>https://www.zomato.com/bangalore/grand-village...</td>\n",
              "      <td>10, 3rd Floor, Lakshmi Associates, Gandhi Baza...</td>\n",
              "      <td>Grand Village</td>\n",
              "      <td>No</td>\n",
              "      <td>No</td>\n",
              "      <td>3.8/5</td>\n",
              "      <td>166</td>\n",
              "      <td>+91 8026612447\\r\\n+91 9901210005</td>\n",
              "      <td>Basavanagudi</td>\n",
              "      <td>Casual Dining</td>\n",
              "      <td>Panipuri, Gol Gappe</td>\n",
              "      <td>North Indian, Rajasthani</td>\n",
              "      <td>600</td>\n",
              "      <td>[('Rated 4.0', 'RATED\\n  Very good restaurant ...</td>\n",
              "      <td>[]</td>\n",
              "      <td>Buffet</td>\n",
              "      <td>Banashankari</td>\n",
              "    </tr>\n",
              "    <tr>\n",
              "      <th>5</th>\n",
              "      <td>https://www.zomato.com/bangalore/timepass-dinn...</td>\n",
              "      <td>37, 5-1, 4th Floor, Bosco Court, Gandhi Bazaar...</td>\n",
              "      <td>Timepass Dinner</td>\n",
              "      <td>Yes</td>\n",
              "      <td>No</td>\n",
              "      <td>3.8/5</td>\n",
              "      <td>286</td>\n",
              "      <td>+91 9980040002\\r\\n+91 9980063005</td>\n",
              "      <td>Basavanagudi</td>\n",
              "      <td>Casual Dining</td>\n",
              "      <td>Onion Rings, Pasta, Kadhai Paneer, Salads, Sal...</td>\n",
              "      <td>North Indian</td>\n",
              "      <td>600</td>\n",
              "      <td>[('Rated 3.0', 'RATED\\n  Food 3/5\\nAmbience 3/...</td>\n",
              "      <td>[]</td>\n",
              "      <td>Buffet</td>\n",
              "      <td>Banashankari</td>\n",
              "    </tr>\n",
              "    <tr>\n",
              "      <th>6</th>\n",
              "      <td>https://www.zomato.com/bangalore/rosewood-inte...</td>\n",
              "      <td>19/1, New Timberyard Layout, Beside Satellite ...</td>\n",
              "      <td>Rosewood International Hotel - Bar &amp; Restaurant</td>\n",
              "      <td>No</td>\n",
              "      <td>No</td>\n",
              "      <td>3.6/5</td>\n",
              "      <td>8</td>\n",
              "      <td>+91 9731716688\\r\\n080 26740366</td>\n",
              "      <td>Mysore Road</td>\n",
              "      <td>Casual Dining</td>\n",
              "      <td>NaN</td>\n",
              "      <td>North Indian, South Indian, Andhra, Chinese</td>\n",
              "      <td>800</td>\n",
              "      <td>[('Rated 5.0', 'RATED\\n  Awesome food ??Great ...</td>\n",
              "      <td>[]</td>\n",
              "      <td>Buffet</td>\n",
              "      <td>Banashankari</td>\n",
              "    </tr>\n",
              "    <tr>\n",
              "      <th>7</th>\n",
              "      <td>https://www.zomato.com/bangalore/onesta-banash...</td>\n",
              "      <td>2469, 3rd Floor, 24th Cross, Opposite BDA Comp...</td>\n",
              "      <td>Onesta</td>\n",
              "      <td>Yes</td>\n",
              "      <td>Yes</td>\n",
              "      <td>4.6/5</td>\n",
              "      <td>2556</td>\n",
              "      <td>080 48653961\\r\\n080 48655715</td>\n",
              "      <td>Banashankari</td>\n",
              "      <td>Casual Dining, Cafe</td>\n",
              "      <td>Farmhouse Pizza, Chocolate Banana, Virgin Moji...</td>\n",
              "      <td>Pizza, Cafe, Italian</td>\n",
              "      <td>600</td>\n",
              "      <td>[('Rated 5.0', 'RATED\\n  I personally really l...</td>\n",
              "      <td>[]</td>\n",
              "      <td>Cafes</td>\n",
              "      <td>Banashankari</td>\n",
              "    </tr>\n",
              "    <tr>\n",
              "      <th>8</th>\n",
              "      <td>https://www.zomato.com/bangalore/penthouse-caf...</td>\n",
              "      <td>1, 30th Main Road, 3rd Stage, Banashankari, Ba...</td>\n",
              "      <td>Penthouse Cafe</td>\n",
              "      <td>Yes</td>\n",
              "      <td>No</td>\n",
              "      <td>4.0/5</td>\n",
              "      <td>324</td>\n",
              "      <td>+91 8884135549\\r\\n+91 9449449316</td>\n",
              "      <td>Banashankari</td>\n",
              "      <td>Cafe</td>\n",
              "      <td>Pizza, Mocktails, Coffee, Nachos, Salad, Pasta...</td>\n",
              "      <td>Cafe, Italian, Continental</td>\n",
              "      <td>700</td>\n",
              "      <td>[('Rated 3.0', \"RATED\\n  I had been to this pl...</td>\n",
              "      <td>[]</td>\n",
              "      <td>Cafes</td>\n",
              "      <td>Banashankari</td>\n",
              "    </tr>\n",
              "    <tr>\n",
              "      <th>9</th>\n",
              "      <td>https://www.zomato.com/bangalore/smacznego-ban...</td>\n",
              "      <td>2470, 21 Main Road, 25th Cross, Banashankari, ...</td>\n",
              "      <td>Smacznego</td>\n",
              "      <td>Yes</td>\n",
              "      <td>No</td>\n",
              "      <td>4.2/5</td>\n",
              "      <td>504</td>\n",
              "      <td>+91 9945230807\\r\\n+91 9743804471</td>\n",
              "      <td>Banashankari</td>\n",
              "      <td>Cafe</td>\n",
              "      <td>Waffles, Pasta, Coleslaw Sandwich, Choco Waffl...</td>\n",
              "      <td>Cafe, Mexican, Italian, Momos, Beverages</td>\n",
              "      <td>550</td>\n",
              "      <td>[('Rated 4.0', \"RATED\\n  Easy to locate\\nVFM 3...</td>\n",
              "      <td>[]</td>\n",
              "      <td>Cafes</td>\n",
              "      <td>Banashankari</td>\n",
              "    </tr>\n",
              "    <tr>\n",
              "      <th>10</th>\n",
              "      <td>https://www.zomato.com/bangalore/caf%C3%A9-dow...</td>\n",
              "      <td>12,29 Near PES University Back Gate, D'Souza N...</td>\n",
              "      <td>CafÃÂÃÂÃÂÃÂÃÂÃÂÃÂÃÂ© Down The A...</td>\n",
              "      <td>Yes</td>\n",
              "      <td>No</td>\n",
              "      <td>4.1/5</td>\n",
              "      <td>402</td>\n",
              "      <td>080 26724489\\r\\n+91 7406048982</td>\n",
              "      <td>Banashankari</td>\n",
              "      <td>Cafe</td>\n",
              "      <td>Waffles, Pasta, Crispy Chicken, Honey Chilli C...</td>\n",
              "      <td>Cafe</td>\n",
              "      <td>500</td>\n",
              "      <td>[('Rated 4.0', 'RATED\\n  We ended up here on a...</td>\n",
              "      <td>[]</td>\n",
              "      <td>Cafes</td>\n",
              "      <td>Banashankari</td>\n",
              "    </tr>\n",
              "    <tr>\n",
              "      <th>11</th>\n",
              "      <td>https://www.zomato.com/bangalore/cafe-shuffle-...</td>\n",
              "      <td>941, 3rd FLOOR, 21st Main, 22nd Cross, Banasha...</td>\n",
              "      <td>Cafe Shuffle</td>\n",
              "      <td>Yes</td>\n",
              "      <td>Yes</td>\n",
              "      <td>4.2/5</td>\n",
              "      <td>150</td>\n",
              "      <td>+91 9742166777</td>\n",
              "      <td>Banashankari</td>\n",
              "      <td>Cafe</td>\n",
              "      <td>Mocktails, Peri Fries, Lasagne, Pizza, Chicken...</td>\n",
              "      <td>Cafe, Italian, Continental</td>\n",
              "      <td>600</td>\n",
              "      <td>[('Rated 1.0', \"RATED\\n \\n\\nHorrible. Not even...</td>\n",
              "      <td>[]</td>\n",
              "      <td>Cafes</td>\n",
              "      <td>Banashankari</td>\n",
              "    </tr>\n",
              "    <tr>\n",
              "      <th>12</th>\n",
              "      <td>https://www.zomato.com/bangalore/the-coffee-sh...</td>\n",
              "      <td>6th Block, 3rd Stage, Banashankari, Bangalore</td>\n",
              "      <td>The Coffee Shack</td>\n",
              "      <td>Yes</td>\n",
              "      <td>Yes</td>\n",
              "      <td>4.2/5</td>\n",
              "      <td>164</td>\n",
              "      <td>+91 9731644212</td>\n",
              "      <td>Banashankari</td>\n",
              "      <td>Cafe</td>\n",
              "      <td>Coffee, Spaghetti, Pancakes, Nachos, Pasta, Sa...</td>\n",
              "      <td>Cafe, Chinese, Continental, Italian</td>\n",
              "      <td>500</td>\n",
              "      <td>[('Rated 4.0', \"RATED\\n  Food - 4/5\\nAmbience ...</td>\n",
              "      <td>[]</td>\n",
              "      <td>Cafes</td>\n",
              "      <td>Banashankari</td>\n",
              "    </tr>\n",
              "    <tr>\n",
              "      <th>13</th>\n",
              "      <td>https://www.zomato.com/bangalore/caf-eleven-ba...</td>\n",
              "      <td>111, Sapphire Toys Building, 100 Feet Ring Roa...</td>\n",
              "      <td>Caf-Eleven</td>\n",
              "      <td>No</td>\n",
              "      <td>No</td>\n",
              "      <td>4.0/5</td>\n",
              "      <td>424</td>\n",
              "      <td>080 49577715</td>\n",
              "      <td>Banashankari</td>\n",
              "      <td>Cafe</td>\n",
              "      <td>Sandwich, Omelette, Ice Tea, Virgin Mojito, Ho...</td>\n",
              "      <td>Cafe, Continental</td>\n",
              "      <td>450</td>\n",
              "      <td>[('Rated 2.0', \"RATED\\n  This is a hookah cafe...</td>\n",
              "      <td>[]</td>\n",
              "      <td>Cafes</td>\n",
              "      <td>Banashankari</td>\n",
              "    </tr>\n",
              "    <tr>\n",
              "      <th>14</th>\n",
              "      <td>https://www.zomato.com/SanchurroBangalore?cont...</td>\n",
              "      <td>1112, Next to KIMS Medical College, 17th Cross...</td>\n",
              "      <td>San Churro Cafe</td>\n",
              "      <td>Yes</td>\n",
              "      <td>No</td>\n",
              "      <td>3.8/5</td>\n",
              "      <td>918</td>\n",
              "      <td>+91 9663487993</td>\n",
              "      <td>Banashankari</td>\n",
              "      <td>Cafe, Casual Dining</td>\n",
              "      <td>Churros, Cannelloni, Minestrone Soup, Hot Choc...</td>\n",
              "      <td>Cafe, Mexican, Italian</td>\n",
              "      <td>800</td>\n",
              "      <td>[('Rated 3.0', \"RATED\\n  Ambience is not that ...</td>\n",
              "      <td>[]</td>\n",
              "      <td>Cafes</td>\n",
              "      <td>Banashankari</td>\n",
              "    </tr>\n",
              "    <tr>\n",
              "      <th>15</th>\n",
              "      <td>https://www.zomato.com/bangalore/cafe-vivacity...</td>\n",
              "      <td>2303, 21st Cross, K R Road, 2nd Stage, Banasha...</td>\n",
              "      <td>Cafe Vivacity</td>\n",
              "      <td>Yes</td>\n",
              "      <td>No</td>\n",
              "      <td>3.8/5</td>\n",
              "      <td>90</td>\n",
              "      <td>080 26768182\\r\\n+91 9845704455</td>\n",
              "      <td>Banashankari</td>\n",
              "      <td>Cafe</td>\n",
              "      <td>Garlic Bread, Burgers, Sandwiches, Pizza, Hot ...</td>\n",
              "      <td>Cafe</td>\n",
              "      <td>650</td>\n",
              "      <td>[('Rated 2.0', 'RATED\\n  Not so good place as ...</td>\n",
              "      <td>[]</td>\n",
              "      <td>Cafes</td>\n",
              "      <td>Banashankari</td>\n",
              "    </tr>\n",
              "    <tr>\n",
              "      <th>16</th>\n",
              "      <td>https://www.zomato.com/bangalore/catch-up-ino-...</td>\n",
              "      <td>241, 4th Floor, 100 Feet Ring Road, Opposite K...</td>\n",
              "      <td>Catch-up-ino</td>\n",
              "      <td>Yes</td>\n",
              "      <td>No</td>\n",
              "      <td>3.9/5</td>\n",
              "      <td>133</td>\n",
              "      <td>+91 9972988038\\r\\n+91 9900121238</td>\n",
              "      <td>Banashankari</td>\n",
              "      <td>Cafe</td>\n",
              "      <td>Momos, Mushroom Bruschettas, Jalapeno Cheeseba...</td>\n",
              "      <td>Cafe, Fast Food, Continental, Chinese, Momos</td>\n",
              "      <td>800</td>\n",
              "      <td>[('Rated 1.0', \"RATED\\n  This place is right o...</td>\n",
              "      <td>[]</td>\n",
              "      <td>Cafes</td>\n",
              "      <td>Banashankari</td>\n",
              "    </tr>\n",
              "    <tr>\n",
              "      <th>17</th>\n",
              "      <td>https://www.zomato.com/bangalore/kirthis-birya...</td>\n",
              "      <td>405, 24th Cross, 9th Main, 2nd Stage, Banashan...</td>\n",
              "      <td>Kirthi's Biryani</td>\n",
              "      <td>Yes</td>\n",
              "      <td>No</td>\n",
              "      <td>3.8/5</td>\n",
              "      <td>144</td>\n",
              "      <td>080 26711554\\r\\n+91 9741406338</td>\n",
              "      <td>Banashankari</td>\n",
              "      <td>Cafe</td>\n",
              "      <td>Pasta, Gelato, Garlic Bread, Mojito, Nachos, P...</td>\n",
              "      <td>Chinese, Cafe, Italian</td>\n",
              "      <td>700</td>\n",
              "      <td>[('Rated 3.0', \"RATED\\n  New place.. though it...</td>\n",
              "      <td>[]</td>\n",
              "      <td>Cafes</td>\n",
              "      <td>Banashankari</td>\n",
              "    </tr>\n",
              "    <tr>\n",
              "      <th>18</th>\n",
              "      <td>https://www.zomato.com/bangalore/t3h-cafe-bana...</td>\n",
              "      <td>504, CJ Venkata Das Road, Padmanabhangar, 2nd ...</td>\n",
              "      <td>T3H Cafe</td>\n",
              "      <td>No</td>\n",
              "      <td>No</td>\n",
              "      <td>3.9/5</td>\n",
              "      <td>93</td>\n",
              "      <td>+91 8884726600</td>\n",
              "      <td>Banashankari</td>\n",
              "      <td>Cafe</td>\n",
              "      <td>Cheese Maggi, Peri Peri Fries, Pasta Arrabiata</td>\n",
              "      <td>Cafe, Italian, American</td>\n",
              "      <td>300</td>\n",
              "      <td>[('Rated 4.0', \"RATED\\n  Happy to see such a c...</td>\n",
              "      <td>[]</td>\n",
              "      <td>Cafes</td>\n",
              "      <td>Banashankari</td>\n",
              "    </tr>\n",
              "    <tr>\n",
              "      <th>19</th>\n",
              "      <td>https://www.zomato.com/bangalore/360-atoms-res...</td>\n",
              "      <td>47, 48 &amp;49, 3Rd Floor, 21st Main Road, 2nd Sta...</td>\n",
              "      <td>360 Atoms Restaurant And Cafe</td>\n",
              "      <td>Yes</td>\n",
              "      <td>No</td>\n",
              "      <td>3.1/5</td>\n",
              "      <td>13</td>\n",
              "      <td>+91 9880594520</td>\n",
              "      <td>Banashankari</td>\n",
              "      <td>Cafe</td>\n",
              "      <td>NaN</td>\n",
              "      <td>Cafe, Chinese, Continental, Italian</td>\n",
              "      <td>400</td>\n",
              "      <td>[('Rated 5.0', 'RATED\\n  Friendly staffs , nic...</td>\n",
              "      <td>[]</td>\n",
              "      <td>Cafes</td>\n",
              "      <td>Banashankari</td>\n",
              "    </tr>\n",
              "  </tbody>\n",
              "</table>\n",
              "</div>"
            ],
            "text/plain": [
              "                                                  url  ... listed_in(city)\n",
              "0   https://www.zomato.com/bangalore/jalsa-banasha...  ...    Banashankari\n",
              "1   https://www.zomato.com/bangalore/spice-elephan...  ...    Banashankari\n",
              "2   https://www.zomato.com/SanchurroBangalore?cont...  ...    Banashankari\n",
              "3   https://www.zomato.com/bangalore/addhuri-udupi...  ...    Banashankari\n",
              "4   https://www.zomato.com/bangalore/grand-village...  ...    Banashankari\n",
              "5   https://www.zomato.com/bangalore/timepass-dinn...  ...    Banashankari\n",
              "6   https://www.zomato.com/bangalore/rosewood-inte...  ...    Banashankari\n",
              "7   https://www.zomato.com/bangalore/onesta-banash...  ...    Banashankari\n",
              "8   https://www.zomato.com/bangalore/penthouse-caf...  ...    Banashankari\n",
              "9   https://www.zomato.com/bangalore/smacznego-ban...  ...    Banashankari\n",
              "10  https://www.zomato.com/bangalore/caf%C3%A9-dow...  ...    Banashankari\n",
              "11  https://www.zomato.com/bangalore/cafe-shuffle-...  ...    Banashankari\n",
              "12  https://www.zomato.com/bangalore/the-coffee-sh...  ...    Banashankari\n",
              "13  https://www.zomato.com/bangalore/caf-eleven-ba...  ...    Banashankari\n",
              "14  https://www.zomato.com/SanchurroBangalore?cont...  ...    Banashankari\n",
              "15  https://www.zomato.com/bangalore/cafe-vivacity...  ...    Banashankari\n",
              "16  https://www.zomato.com/bangalore/catch-up-ino-...  ...    Banashankari\n",
              "17  https://www.zomato.com/bangalore/kirthis-birya...  ...    Banashankari\n",
              "18  https://www.zomato.com/bangalore/t3h-cafe-bana...  ...    Banashankari\n",
              "19  https://www.zomato.com/bangalore/360-atoms-res...  ...    Banashankari\n",
              "\n",
              "[20 rows x 17 columns]"
            ]
          },
          "metadata": {},
          "execution_count": 8
        }
      ]
    },
    {
      "cell_type": "code",
      "metadata": {
        "id": "gDNAN319yJdy",
        "colab": {
          "base_uri": "https://localhost:8080/",
          "height": 625
        },
        "outputId": "09eeabb7-99b5-4ace-8a00-9794d4733e5d"
      },
      "source": [
        "data.tail()"
      ],
      "execution_count": 9,
      "outputs": [
        {
          "output_type": "execute_result",
          "data": {
            "text/html": [
              "<div>\n",
              "<style scoped>\n",
              "    .dataframe tbody tr th:only-of-type {\n",
              "        vertical-align: middle;\n",
              "    }\n",
              "\n",
              "    .dataframe tbody tr th {\n",
              "        vertical-align: top;\n",
              "    }\n",
              "\n",
              "    .dataframe thead th {\n",
              "        text-align: right;\n",
              "    }\n",
              "</style>\n",
              "<table border=\"1\" class=\"dataframe\">\n",
              "  <thead>\n",
              "    <tr style=\"text-align: right;\">\n",
              "      <th></th>\n",
              "      <th>url</th>\n",
              "      <th>address</th>\n",
              "      <th>name</th>\n",
              "      <th>online_order</th>\n",
              "      <th>book_table</th>\n",
              "      <th>rate</th>\n",
              "      <th>votes</th>\n",
              "      <th>phone</th>\n",
              "      <th>location</th>\n",
              "      <th>rest_type</th>\n",
              "      <th>dish_liked</th>\n",
              "      <th>cuisines</th>\n",
              "      <th>approx_cost(for two people)</th>\n",
              "      <th>reviews_list</th>\n",
              "      <th>menu_item</th>\n",
              "      <th>listed_in(type)</th>\n",
              "      <th>listed_in(city)</th>\n",
              "    </tr>\n",
              "  </thead>\n",
              "  <tbody>\n",
              "    <tr>\n",
              "      <th>51712</th>\n",
              "      <td>https://www.zomato.com/bangalore/best-brews-fo...</td>\n",
              "      <td>Four Points by Sheraton Bengaluru, 43/3, White...</td>\n",
              "      <td>Best Brews - Four Points by Sheraton Bengaluru...</td>\n",
              "      <td>No</td>\n",
              "      <td>No</td>\n",
              "      <td>3.6 /5</td>\n",
              "      <td>27</td>\n",
              "      <td>080 40301477</td>\n",
              "      <td>Whitefield</td>\n",
              "      <td>Bar</td>\n",
              "      <td>NaN</td>\n",
              "      <td>Continental</td>\n",
              "      <td>1,500</td>\n",
              "      <td>[('Rated 5.0', \"RATED\\n  Food and service are ...</td>\n",
              "      <td>[]</td>\n",
              "      <td>Pubs and bars</td>\n",
              "      <td>Whitefield</td>\n",
              "    </tr>\n",
              "    <tr>\n",
              "      <th>51713</th>\n",
              "      <td>https://www.zomato.com/bangalore/vinod-bar-and...</td>\n",
              "      <td>Number 10, Garudachar Palya, Mahadevapura, Whi...</td>\n",
              "      <td>Vinod Bar And Restaurant</td>\n",
              "      <td>No</td>\n",
              "      <td>No</td>\n",
              "      <td>NaN</td>\n",
              "      <td>0</td>\n",
              "      <td>+91 8197675843</td>\n",
              "      <td>Whitefield</td>\n",
              "      <td>Bar</td>\n",
              "      <td>NaN</td>\n",
              "      <td>Finger Food</td>\n",
              "      <td>600</td>\n",
              "      <td>[]</td>\n",
              "      <td>[]</td>\n",
              "      <td>Pubs and bars</td>\n",
              "      <td>Whitefield</td>\n",
              "    </tr>\n",
              "    <tr>\n",
              "      <th>51714</th>\n",
              "      <td>https://www.zomato.com/bangalore/plunge-sherat...</td>\n",
              "      <td>Sheraton Grand Bengaluru Whitefield Hotel &amp; Co...</td>\n",
              "      <td>Plunge - Sheraton Grand Bengaluru Whitefield H...</td>\n",
              "      <td>No</td>\n",
              "      <td>No</td>\n",
              "      <td>NaN</td>\n",
              "      <td>0</td>\n",
              "      <td>NaN</td>\n",
              "      <td>Whitefield</td>\n",
              "      <td>Bar</td>\n",
              "      <td>NaN</td>\n",
              "      <td>Finger Food</td>\n",
              "      <td>2,000</td>\n",
              "      <td>[]</td>\n",
              "      <td>[]</td>\n",
              "      <td>Pubs and bars</td>\n",
              "      <td>Whitefield</td>\n",
              "    </tr>\n",
              "    <tr>\n",
              "      <th>51715</th>\n",
              "      <td>https://www.zomato.com/bangalore/chime-sherato...</td>\n",
              "      <td>Sheraton Grand Bengaluru Whitefield Hotel &amp; Co...</td>\n",
              "      <td>Chime - Sheraton Grand Bengaluru Whitefield Ho...</td>\n",
              "      <td>No</td>\n",
              "      <td>Yes</td>\n",
              "      <td>4.3 /5</td>\n",
              "      <td>236</td>\n",
              "      <td>080 49652769</td>\n",
              "      <td>ITPL Main Road, Whitefield</td>\n",
              "      <td>Bar</td>\n",
              "      <td>Cocktails, Pizza, Buttermilk</td>\n",
              "      <td>Finger Food</td>\n",
              "      <td>2,500</td>\n",
              "      <td>[('Rated 4.0', 'RATED\\n  Nice and friendly pla...</td>\n",
              "      <td>[]</td>\n",
              "      <td>Pubs and bars</td>\n",
              "      <td>Whitefield</td>\n",
              "    </tr>\n",
              "    <tr>\n",
              "      <th>51716</th>\n",
              "      <td>https://www.zomato.com/bangalore/the-nest-the-...</td>\n",
              "      <td>ITPL Main Road, KIADB Export Promotion Industr...</td>\n",
              "      <td>The Nest - The Den Bengaluru</td>\n",
              "      <td>No</td>\n",
              "      <td>No</td>\n",
              "      <td>3.4 /5</td>\n",
              "      <td>13</td>\n",
              "      <td>+91 8071117272</td>\n",
              "      <td>ITPL Main Road, Whitefield</td>\n",
              "      <td>Bar, Casual Dining</td>\n",
              "      <td>NaN</td>\n",
              "      <td>Finger Food, North Indian, Continental</td>\n",
              "      <td>1,500</td>\n",
              "      <td>[('Rated 5.0', 'RATED\\n  Great ambience , look...</td>\n",
              "      <td>[]</td>\n",
              "      <td>Pubs and bars</td>\n",
              "      <td>Whitefield</td>\n",
              "    </tr>\n",
              "  </tbody>\n",
              "</table>\n",
              "</div>"
            ],
            "text/plain": [
              "                                                     url  ... listed_in(city)\n",
              "51712  https://www.zomato.com/bangalore/best-brews-fo...  ...      Whitefield\n",
              "51713  https://www.zomato.com/bangalore/vinod-bar-and...  ...      Whitefield\n",
              "51714  https://www.zomato.com/bangalore/plunge-sherat...  ...      Whitefield\n",
              "51715  https://www.zomato.com/bangalore/chime-sherato...  ...      Whitefield\n",
              "51716  https://www.zomato.com/bangalore/the-nest-the-...  ...      Whitefield\n",
              "\n",
              "[5 rows x 17 columns]"
            ]
          },
          "metadata": {},
          "execution_count": 9
        }
      ]
    },
    {
      "cell_type": "code",
      "metadata": {
        "id": "aEHoDXn9ZMJJ",
        "colab": {
          "base_uri": "https://localhost:8080/"
        },
        "outputId": "c60506b1-2dd3-4ddb-8010-d0e32fce447b"
      },
      "source": [
        "data.shape"
      ],
      "execution_count": 10,
      "outputs": [
        {
          "output_type": "execute_result",
          "data": {
            "text/plain": [
              "(51717, 17)"
            ]
          },
          "metadata": {},
          "execution_count": 10
        }
      ]
    },
    {
      "cell_type": "code",
      "metadata": {
        "id": "RkTjdBsZZjTS",
        "colab": {
          "base_uri": "https://localhost:8080/"
        },
        "outputId": "06297b6f-d5a2-4ee1-f185-e42a7bbc861d"
      },
      "source": [
        "data.info()"
      ],
      "execution_count": 11,
      "outputs": [
        {
          "output_type": "stream",
          "text": [
            "<class 'pandas.core.frame.DataFrame'>\n",
            "RangeIndex: 51717 entries, 0 to 51716\n",
            "Data columns (total 17 columns):\n",
            " #   Column                       Non-Null Count  Dtype \n",
            "---  ------                       --------------  ----- \n",
            " 0   url                          51717 non-null  object\n",
            " 1   address                      51717 non-null  object\n",
            " 2   name                         51717 non-null  object\n",
            " 3   online_order                 51717 non-null  object\n",
            " 4   book_table                   51717 non-null  object\n",
            " 5   rate                         43942 non-null  object\n",
            " 6   votes                        51717 non-null  int64 \n",
            " 7   phone                        50509 non-null  object\n",
            " 8   location                     51696 non-null  object\n",
            " 9   rest_type                    51490 non-null  object\n",
            " 10  dish_liked                   23639 non-null  object\n",
            " 11  cuisines                     51672 non-null  object\n",
            " 12  approx_cost(for two people)  51371 non-null  object\n",
            " 13  reviews_list                 51717 non-null  object\n",
            " 14  menu_item                    51717 non-null  object\n",
            " 15  listed_in(type)              51717 non-null  object\n",
            " 16  listed_in(city)              51717 non-null  object\n",
            "dtypes: int64(1), object(16)\n",
            "memory usage: 6.7+ MB\n"
          ],
          "name": "stdout"
        }
      ]
    },
    {
      "cell_type": "markdown",
      "metadata": {
        "id": "j2o18S07oPln"
      },
      "source": [
        "COLUMNS\n"
      ]
    },
    {
      "cell_type": "code",
      "metadata": {
        "id": "zzkf8RQ1Zd96",
        "colab": {
          "base_uri": "https://localhost:8080/"
        },
        "outputId": "26369fa2-0442-492d-dbfa-42d6934753b7"
      },
      "source": [
        "\n",
        "data.columns"
      ],
      "execution_count": 12,
      "outputs": [
        {
          "output_type": "execute_result",
          "data": {
            "text/plain": [
              "Index(['url', 'address', 'name', 'online_order', 'book_table', 'rate', 'votes',\n",
              "       'phone', 'location', 'rest_type', 'dish_liked', 'cuisines',\n",
              "       'approx_cost(for two people)', 'reviews_list', 'menu_item',\n",
              "       'listed_in(type)', 'listed_in(city)'],\n",
              "      dtype='object')"
            ]
          },
          "metadata": {},
          "execution_count": 12
        }
      ]
    },
    {
      "cell_type": "markdown",
      "metadata": {
        "id": "zzXGL8gvoBKE"
      },
      "source": [
        "NO.OF NULL VALUES IN EACH"
      ]
    },
    {
      "cell_type": "code",
      "metadata": {
        "id": "YDkOd7f0ZgYc",
        "colab": {
          "base_uri": "https://localhost:8080/"
        },
        "outputId": "6a7cec0c-6914-47f7-ce8b-87dc1098054b"
      },
      "source": [
        "data.isnull().sum()"
      ],
      "execution_count": 13,
      "outputs": [
        {
          "output_type": "execute_result",
          "data": {
            "text/plain": [
              "url                                0\n",
              "address                            0\n",
              "name                               0\n",
              "online_order                       0\n",
              "book_table                         0\n",
              "rate                            7775\n",
              "votes                              0\n",
              "phone                           1208\n",
              "location                          21\n",
              "rest_type                        227\n",
              "dish_liked                     28078\n",
              "cuisines                          45\n",
              "approx_cost(for two people)      346\n",
              "reviews_list                       0\n",
              "menu_item                          0\n",
              "listed_in(type)                    0\n",
              "listed_in(city)                    0\n",
              "dtype: int64"
            ]
          },
          "metadata": {},
          "execution_count": 13
        }
      ]
    },
    {
      "cell_type": "markdown",
      "metadata": {
        "id": "E7UGCA-hoYqR"
      },
      "source": [
        "#dropping the unwanted columns"
      ]
    },
    {
      "cell_type": "code",
      "metadata": {
        "id": "8Ju_H6jtZ9tq"
      },
      "source": [
        "#data=data.drop(['url','address','phone','dish_liked','menu_item'], axis=1)\n",
        "#data.head()\n"
      ],
      "execution_count": 14,
      "outputs": []
    },
    {
      "cell_type": "code",
      "metadata": {
        "id": "Dvp-1HSpa9iC",
        "colab": {
          "base_uri": "https://localhost:8080/"
        },
        "outputId": "4ecb7f4b-535a-458a-dd47-1c72ce80000c"
      },
      "source": [
        "data.shape"
      ],
      "execution_count": 15,
      "outputs": [
        {
          "output_type": "execute_result",
          "data": {
            "text/plain": [
              "(51717, 17)"
            ]
          },
          "metadata": {},
          "execution_count": 15
        }
      ]
    },
    {
      "cell_type": "code",
      "metadata": {
        "id": "2-YAd9p6bEwm",
        "colab": {
          "base_uri": "https://localhost:8080/"
        },
        "outputId": "846cd318-8d39-4495-c8fa-c9fd72cc82a9"
      },
      "source": [
        "data.info()"
      ],
      "execution_count": 16,
      "outputs": [
        {
          "output_type": "stream",
          "text": [
            "<class 'pandas.core.frame.DataFrame'>\n",
            "RangeIndex: 51717 entries, 0 to 51716\n",
            "Data columns (total 17 columns):\n",
            " #   Column                       Non-Null Count  Dtype \n",
            "---  ------                       --------------  ----- \n",
            " 0   url                          51717 non-null  object\n",
            " 1   address                      51717 non-null  object\n",
            " 2   name                         51717 non-null  object\n",
            " 3   online_order                 51717 non-null  object\n",
            " 4   book_table                   51717 non-null  object\n",
            " 5   rate                         43942 non-null  object\n",
            " 6   votes                        51717 non-null  int64 \n",
            " 7   phone                        50509 non-null  object\n",
            " 8   location                     51696 non-null  object\n",
            " 9   rest_type                    51490 non-null  object\n",
            " 10  dish_liked                   23639 non-null  object\n",
            " 11  cuisines                     51672 non-null  object\n",
            " 12  approx_cost(for two people)  51371 non-null  object\n",
            " 13  reviews_list                 51717 non-null  object\n",
            " 14  menu_item                    51717 non-null  object\n",
            " 15  listed_in(type)              51717 non-null  object\n",
            " 16  listed_in(city)              51717 non-null  object\n",
            "dtypes: int64(1), object(16)\n",
            "memory usage: 6.7+ MB\n"
          ],
          "name": "stdout"
        }
      ]
    },
    {
      "cell_type": "code",
      "metadata": {
        "id": "iPH3O-z4bRLS",
        "colab": {
          "base_uri": "https://localhost:8080/"
        },
        "outputId": "ab597281-d3ca-4a7f-d13c-ae2196b5dc20"
      },
      "source": [
        "#removing duplicates\n",
        "data.drop_duplicates(inplace=True)\n",
        "data.shape"
      ],
      "execution_count": 17,
      "outputs": [
        {
          "output_type": "execute_result",
          "data": {
            "text/plain": [
              "(51717, 17)"
            ]
          },
          "metadata": {},
          "execution_count": 17
        }
      ]
    },
    {
      "cell_type": "markdown",
      "metadata": {
        "id": "lNJjk3Dmoukb"
      },
      "source": [
        "#ANALYZING ALL THE COLUMNS"
      ]
    },
    {
      "cell_type": "code",
      "metadata": {
        "id": "8frcx2bpf8kH",
        "colab": {
          "base_uri": "https://localhost:8080/",
          "height": 0
        },
        "outputId": "f3f0fb6e-d8ef-4c08-c924-0991828fe5a5"
      },
      "source": [
        "#features need to understand Easily so\n",
        "data.rename(columns={'approx_cost(for two people)':'costfor2plates', 'listed_in(type)':'type', 'listed_in(city)':'city'}, inplace=True)\n",
        "data.head()"
      ],
      "execution_count": 18,
      "outputs": [
        {
          "output_type": "execute_result",
          "data": {
            "text/html": [
              "<div>\n",
              "<style scoped>\n",
              "    .dataframe tbody tr th:only-of-type {\n",
              "        vertical-align: middle;\n",
              "    }\n",
              "\n",
              "    .dataframe tbody tr th {\n",
              "        vertical-align: top;\n",
              "    }\n",
              "\n",
              "    .dataframe thead th {\n",
              "        text-align: right;\n",
              "    }\n",
              "</style>\n",
              "<table border=\"1\" class=\"dataframe\">\n",
              "  <thead>\n",
              "    <tr style=\"text-align: right;\">\n",
              "      <th></th>\n",
              "      <th>url</th>\n",
              "      <th>address</th>\n",
              "      <th>name</th>\n",
              "      <th>online_order</th>\n",
              "      <th>book_table</th>\n",
              "      <th>rate</th>\n",
              "      <th>votes</th>\n",
              "      <th>phone</th>\n",
              "      <th>location</th>\n",
              "      <th>rest_type</th>\n",
              "      <th>dish_liked</th>\n",
              "      <th>cuisines</th>\n",
              "      <th>costfor2plates</th>\n",
              "      <th>reviews_list</th>\n",
              "      <th>menu_item</th>\n",
              "      <th>type</th>\n",
              "      <th>city</th>\n",
              "    </tr>\n",
              "  </thead>\n",
              "  <tbody>\n",
              "    <tr>\n",
              "      <th>0</th>\n",
              "      <td>https://www.zomato.com/bangalore/jalsa-banasha...</td>\n",
              "      <td>942, 21st Main Road, 2nd Stage, Banashankari, ...</td>\n",
              "      <td>Jalsa</td>\n",
              "      <td>Yes</td>\n",
              "      <td>Yes</td>\n",
              "      <td>4.1/5</td>\n",
              "      <td>775</td>\n",
              "      <td>080 42297555\\r\\n+91 9743772233</td>\n",
              "      <td>Banashankari</td>\n",
              "      <td>Casual Dining</td>\n",
              "      <td>Pasta, Lunch Buffet, Masala Papad, Paneer Laja...</td>\n",
              "      <td>North Indian, Mughlai, Chinese</td>\n",
              "      <td>800</td>\n",
              "      <td>[('Rated 4.0', 'RATED\\n  A beautiful place to ...</td>\n",
              "      <td>[]</td>\n",
              "      <td>Buffet</td>\n",
              "      <td>Banashankari</td>\n",
              "    </tr>\n",
              "    <tr>\n",
              "      <th>1</th>\n",
              "      <td>https://www.zomato.com/bangalore/spice-elephan...</td>\n",
              "      <td>2nd Floor, 80 Feet Road, Near Big Bazaar, 6th ...</td>\n",
              "      <td>Spice Elephant</td>\n",
              "      <td>Yes</td>\n",
              "      <td>No</td>\n",
              "      <td>4.1/5</td>\n",
              "      <td>787</td>\n",
              "      <td>080 41714161</td>\n",
              "      <td>Banashankari</td>\n",
              "      <td>Casual Dining</td>\n",
              "      <td>Momos, Lunch Buffet, Chocolate Nirvana, Thai G...</td>\n",
              "      <td>Chinese, North Indian, Thai</td>\n",
              "      <td>800</td>\n",
              "      <td>[('Rated 4.0', 'RATED\\n  Had been here for din...</td>\n",
              "      <td>[]</td>\n",
              "      <td>Buffet</td>\n",
              "      <td>Banashankari</td>\n",
              "    </tr>\n",
              "    <tr>\n",
              "      <th>2</th>\n",
              "      <td>https://www.zomato.com/SanchurroBangalore?cont...</td>\n",
              "      <td>1112, Next to KIMS Medical College, 17th Cross...</td>\n",
              "      <td>San Churro Cafe</td>\n",
              "      <td>Yes</td>\n",
              "      <td>No</td>\n",
              "      <td>3.8/5</td>\n",
              "      <td>918</td>\n",
              "      <td>+91 9663487993</td>\n",
              "      <td>Banashankari</td>\n",
              "      <td>Cafe, Casual Dining</td>\n",
              "      <td>Churros, Cannelloni, Minestrone Soup, Hot Choc...</td>\n",
              "      <td>Cafe, Mexican, Italian</td>\n",
              "      <td>800</td>\n",
              "      <td>[('Rated 3.0', \"RATED\\n  Ambience is not that ...</td>\n",
              "      <td>[]</td>\n",
              "      <td>Buffet</td>\n",
              "      <td>Banashankari</td>\n",
              "    </tr>\n",
              "    <tr>\n",
              "      <th>3</th>\n",
              "      <td>https://www.zomato.com/bangalore/addhuri-udupi...</td>\n",
              "      <td>1st Floor, Annakuteera, 3rd Stage, Banashankar...</td>\n",
              "      <td>Addhuri Udupi Bhojana</td>\n",
              "      <td>No</td>\n",
              "      <td>No</td>\n",
              "      <td>3.7/5</td>\n",
              "      <td>88</td>\n",
              "      <td>+91 9620009302</td>\n",
              "      <td>Banashankari</td>\n",
              "      <td>Quick Bites</td>\n",
              "      <td>Masala Dosa</td>\n",
              "      <td>South Indian, North Indian</td>\n",
              "      <td>300</td>\n",
              "      <td>[('Rated 4.0', \"RATED\\n  Great food and proper...</td>\n",
              "      <td>[]</td>\n",
              "      <td>Buffet</td>\n",
              "      <td>Banashankari</td>\n",
              "    </tr>\n",
              "    <tr>\n",
              "      <th>4</th>\n",
              "      <td>https://www.zomato.com/bangalore/grand-village...</td>\n",
              "      <td>10, 3rd Floor, Lakshmi Associates, Gandhi Baza...</td>\n",
              "      <td>Grand Village</td>\n",
              "      <td>No</td>\n",
              "      <td>No</td>\n",
              "      <td>3.8/5</td>\n",
              "      <td>166</td>\n",
              "      <td>+91 8026612447\\r\\n+91 9901210005</td>\n",
              "      <td>Basavanagudi</td>\n",
              "      <td>Casual Dining</td>\n",
              "      <td>Panipuri, Gol Gappe</td>\n",
              "      <td>North Indian, Rajasthani</td>\n",
              "      <td>600</td>\n",
              "      <td>[('Rated 4.0', 'RATED\\n  Very good restaurant ...</td>\n",
              "      <td>[]</td>\n",
              "      <td>Buffet</td>\n",
              "      <td>Banashankari</td>\n",
              "    </tr>\n",
              "  </tbody>\n",
              "</table>\n",
              "</div>"
            ],
            "text/plain": [
              "                                                 url  ...          city\n",
              "0  https://www.zomato.com/bangalore/jalsa-banasha...  ...  Banashankari\n",
              "1  https://www.zomato.com/bangalore/spice-elephan...  ...  Banashankari\n",
              "2  https://www.zomato.com/SanchurroBangalore?cont...  ...  Banashankari\n",
              "3  https://www.zomato.com/bangalore/addhuri-udupi...  ...  Banashankari\n",
              "4  https://www.zomato.com/bangalore/grand-village...  ...  Banashankari\n",
              "\n",
              "[5 rows x 17 columns]"
            ]
          },
          "metadata": {},
          "execution_count": 18
        }
      ]
    },
    {
      "cell_type": "markdown",
      "metadata": {
        "id": "Ro61kzfdo51M"
      },
      "source": [
        "#Data cleaning"
      ]
    },
    {
      "cell_type": "code",
      "metadata": {
        "id": "1AJzF4hwbmLV",
        "colab": {
          "base_uri": "https://localhost:8080/"
        },
        "outputId": "9521152c-1f40-4927-b980-ca26204eb618"
      },
      "source": [
        "#rate column\n",
        "data['rate'].unique()"
      ],
      "execution_count": 19,
      "outputs": [
        {
          "output_type": "execute_result",
          "data": {
            "text/plain": [
              "array(['4.1/5', '3.8/5', '3.7/5', '3.6/5', '4.6/5', '4.0/5', '4.2/5',\n",
              "       '3.9/5', '3.1/5', '3.0/5', '3.2/5', '3.3/5', '2.8/5', '4.4/5',\n",
              "       '4.3/5', 'NEW', '2.9/5', '3.5/5', nan, '2.6/5', '3.8 /5', '3.4/5',\n",
              "       '4.5/5', '2.5/5', '2.7/5', '4.7/5', '2.4/5', '2.2/5', '2.3/5',\n",
              "       '3.4 /5', '-', '3.6 /5', '4.8/5', '3.9 /5', '4.2 /5', '4.0 /5',\n",
              "       '4.1 /5', '3.7 /5', '3.1 /5', '2.9 /5', '3.3 /5', '2.8 /5',\n",
              "       '3.5 /5', '2.7 /5', '2.5 /5', '3.2 /5', '2.6 /5', '4.5 /5',\n",
              "       '4.3 /5', '4.4 /5', '4.9/5', '2.1/5', '2.0/5', '1.8/5', '4.6 /5',\n",
              "       '4.9 /5', '3.0 /5', '4.8 /5', '2.3 /5', '4.7 /5', '2.4 /5',\n",
              "       '2.1 /5', '2.2 /5', '2.0 /5', '1.8 /5'], dtype=object)"
            ]
          },
          "metadata": {},
          "execution_count": 19
        }
      ]
    },
    {
      "cell_type": "code",
      "metadata": {
        "id": "Mi4YffMTcWno",
        "colab": {
          "base_uri": "https://localhost:8080/"
        },
        "outputId": "c1c248b2-18fb-41cb-a12c-1aa0ca8baa08"
      },
      "source": [
        "#we have 3 string values we have to remove it(new,nan,-)\n",
        "def rate(value):\n",
        "  if(value=='NEW' or value=='-'):\n",
        "    return np.nan\n",
        "  else:\n",
        "    value=str(value).split('/')\n",
        "    value=value[0]\n",
        "    return float(value)\n",
        "data['rate']=data['rate'].apply(rate)\n",
        "data['rate'].head()"
      ],
      "execution_count": 20,
      "outputs": [
        {
          "output_type": "execute_result",
          "data": {
            "text/plain": [
              "0    4.1\n",
              "1    4.1\n",
              "2    3.8\n",
              "3    3.7\n",
              "4    3.8\n",
              "Name: rate, dtype: float64"
            ]
          },
          "metadata": {},
          "execution_count": 20
        }
      ]
    },
    {
      "cell_type": "markdown",
      "metadata": {
        "id": "DC0j7WcBpGEA"
      },
      "source": [
        "##Filling null values with mean in rate COLUMNS\n",
        "\n"
      ]
    },
    {
      "cell_type": "code",
      "metadata": {
        "id": "lcRifVsqdz4I",
        "colab": {
          "base_uri": "https://localhost:8080/"
        },
        "outputId": "c279cde8-8c9c-4cc9-b19f-f8bbf4c5f9b1"
      },
      "source": [
        "data['rate'].fillna(data['rate'].mean(), inplace =True)\n",
        "data['rate'].isnull().sum()"
      ],
      "execution_count": 21,
      "outputs": [
        {
          "output_type": "execute_result",
          "data": {
            "text/plain": [
              "0"
            ]
          },
          "metadata": {},
          "execution_count": 21
        }
      ]
    },
    {
      "cell_type": "markdown",
      "metadata": {
        "id": "jvOD5tbvpOk6"
      },
      "source": [
        "##dropping null values in whole dataset as they are very small"
      ]
    },
    {
      "cell_type": "code",
      "metadata": {
        "id": "ZyomGcrtet2a",
        "colab": {
          "base_uri": "https://localhost:8080/",
          "height": 0
        },
        "outputId": "0446507a-148a-46a5-8355-8f8ecc8e9529"
      },
      "source": [
        "data.dropna(inplace=True)\n",
        "data.head()"
      ],
      "execution_count": 22,
      "outputs": [
        {
          "output_type": "execute_result",
          "data": {
            "text/html": [
              "<div>\n",
              "<style scoped>\n",
              "    .dataframe tbody tr th:only-of-type {\n",
              "        vertical-align: middle;\n",
              "    }\n",
              "\n",
              "    .dataframe tbody tr th {\n",
              "        vertical-align: top;\n",
              "    }\n",
              "\n",
              "    .dataframe thead th {\n",
              "        text-align: right;\n",
              "    }\n",
              "</style>\n",
              "<table border=\"1\" class=\"dataframe\">\n",
              "  <thead>\n",
              "    <tr style=\"text-align: right;\">\n",
              "      <th></th>\n",
              "      <th>url</th>\n",
              "      <th>address</th>\n",
              "      <th>name</th>\n",
              "      <th>online_order</th>\n",
              "      <th>book_table</th>\n",
              "      <th>rate</th>\n",
              "      <th>votes</th>\n",
              "      <th>phone</th>\n",
              "      <th>location</th>\n",
              "      <th>rest_type</th>\n",
              "      <th>dish_liked</th>\n",
              "      <th>cuisines</th>\n",
              "      <th>costfor2plates</th>\n",
              "      <th>reviews_list</th>\n",
              "      <th>menu_item</th>\n",
              "      <th>type</th>\n",
              "      <th>city</th>\n",
              "    </tr>\n",
              "  </thead>\n",
              "  <tbody>\n",
              "    <tr>\n",
              "      <th>0</th>\n",
              "      <td>https://www.zomato.com/bangalore/jalsa-banasha...</td>\n",
              "      <td>942, 21st Main Road, 2nd Stage, Banashankari, ...</td>\n",
              "      <td>Jalsa</td>\n",
              "      <td>Yes</td>\n",
              "      <td>Yes</td>\n",
              "      <td>4.1</td>\n",
              "      <td>775</td>\n",
              "      <td>080 42297555\\r\\n+91 9743772233</td>\n",
              "      <td>Banashankari</td>\n",
              "      <td>Casual Dining</td>\n",
              "      <td>Pasta, Lunch Buffet, Masala Papad, Paneer Laja...</td>\n",
              "      <td>North Indian, Mughlai, Chinese</td>\n",
              "      <td>800</td>\n",
              "      <td>[('Rated 4.0', 'RATED\\n  A beautiful place to ...</td>\n",
              "      <td>[]</td>\n",
              "      <td>Buffet</td>\n",
              "      <td>Banashankari</td>\n",
              "    </tr>\n",
              "    <tr>\n",
              "      <th>1</th>\n",
              "      <td>https://www.zomato.com/bangalore/spice-elephan...</td>\n",
              "      <td>2nd Floor, 80 Feet Road, Near Big Bazaar, 6th ...</td>\n",
              "      <td>Spice Elephant</td>\n",
              "      <td>Yes</td>\n",
              "      <td>No</td>\n",
              "      <td>4.1</td>\n",
              "      <td>787</td>\n",
              "      <td>080 41714161</td>\n",
              "      <td>Banashankari</td>\n",
              "      <td>Casual Dining</td>\n",
              "      <td>Momos, Lunch Buffet, Chocolate Nirvana, Thai G...</td>\n",
              "      <td>Chinese, North Indian, Thai</td>\n",
              "      <td>800</td>\n",
              "      <td>[('Rated 4.0', 'RATED\\n  Had been here for din...</td>\n",
              "      <td>[]</td>\n",
              "      <td>Buffet</td>\n",
              "      <td>Banashankari</td>\n",
              "    </tr>\n",
              "    <tr>\n",
              "      <th>2</th>\n",
              "      <td>https://www.zomato.com/SanchurroBangalore?cont...</td>\n",
              "      <td>1112, Next to KIMS Medical College, 17th Cross...</td>\n",
              "      <td>San Churro Cafe</td>\n",
              "      <td>Yes</td>\n",
              "      <td>No</td>\n",
              "      <td>3.8</td>\n",
              "      <td>918</td>\n",
              "      <td>+91 9663487993</td>\n",
              "      <td>Banashankari</td>\n",
              "      <td>Cafe, Casual Dining</td>\n",
              "      <td>Churros, Cannelloni, Minestrone Soup, Hot Choc...</td>\n",
              "      <td>Cafe, Mexican, Italian</td>\n",
              "      <td>800</td>\n",
              "      <td>[('Rated 3.0', \"RATED\\n  Ambience is not that ...</td>\n",
              "      <td>[]</td>\n",
              "      <td>Buffet</td>\n",
              "      <td>Banashankari</td>\n",
              "    </tr>\n",
              "    <tr>\n",
              "      <th>3</th>\n",
              "      <td>https://www.zomato.com/bangalore/addhuri-udupi...</td>\n",
              "      <td>1st Floor, Annakuteera, 3rd Stage, Banashankar...</td>\n",
              "      <td>Addhuri Udupi Bhojana</td>\n",
              "      <td>No</td>\n",
              "      <td>No</td>\n",
              "      <td>3.7</td>\n",
              "      <td>88</td>\n",
              "      <td>+91 9620009302</td>\n",
              "      <td>Banashankari</td>\n",
              "      <td>Quick Bites</td>\n",
              "      <td>Masala Dosa</td>\n",
              "      <td>South Indian, North Indian</td>\n",
              "      <td>300</td>\n",
              "      <td>[('Rated 4.0', \"RATED\\n  Great food and proper...</td>\n",
              "      <td>[]</td>\n",
              "      <td>Buffet</td>\n",
              "      <td>Banashankari</td>\n",
              "    </tr>\n",
              "    <tr>\n",
              "      <th>4</th>\n",
              "      <td>https://www.zomato.com/bangalore/grand-village...</td>\n",
              "      <td>10, 3rd Floor, Lakshmi Associates, Gandhi Baza...</td>\n",
              "      <td>Grand Village</td>\n",
              "      <td>No</td>\n",
              "      <td>No</td>\n",
              "      <td>3.8</td>\n",
              "      <td>166</td>\n",
              "      <td>+91 8026612447\\r\\n+91 9901210005</td>\n",
              "      <td>Basavanagudi</td>\n",
              "      <td>Casual Dining</td>\n",
              "      <td>Panipuri, Gol Gappe</td>\n",
              "      <td>North Indian, Rajasthani</td>\n",
              "      <td>600</td>\n",
              "      <td>[('Rated 4.0', 'RATED\\n  Very good restaurant ...</td>\n",
              "      <td>[]</td>\n",
              "      <td>Buffet</td>\n",
              "      <td>Banashankari</td>\n",
              "    </tr>\n",
              "  </tbody>\n",
              "</table>\n",
              "</div>"
            ],
            "text/plain": [
              "                                                 url  ...          city\n",
              "0  https://www.zomato.com/bangalore/jalsa-banasha...  ...  Banashankari\n",
              "1  https://www.zomato.com/bangalore/spice-elephan...  ...  Banashankari\n",
              "2  https://www.zomato.com/SanchurroBangalore?cont...  ...  Banashankari\n",
              "3  https://www.zomato.com/bangalore/addhuri-udupi...  ...  Banashankari\n",
              "4  https://www.zomato.com/bangalore/grand-village...  ...  Banashankari\n",
              "\n",
              "[5 rows x 17 columns]"
            ]
          },
          "metadata": {},
          "execution_count": 22
        }
      ]
    },
    {
      "cell_type": "code",
      "metadata": {
        "id": "Bc6gS7CCfURr",
        "colab": {
          "base_uri": "https://localhost:8080/"
        },
        "outputId": "1cb9b20f-64d7-4b43-8143-e6a1e49eadfd"
      },
      "source": [
        "data.isnull().sum()"
      ],
      "execution_count": 23,
      "outputs": [
        {
          "output_type": "execute_result",
          "data": {
            "text/plain": [
              "url               0\n",
              "address           0\n",
              "name              0\n",
              "online_order      0\n",
              "book_table        0\n",
              "rate              0\n",
              "votes             0\n",
              "phone             0\n",
              "location          0\n",
              "rest_type         0\n",
              "dish_liked        0\n",
              "cuisines          0\n",
              "costfor2plates    0\n",
              "reviews_list      0\n",
              "menu_item         0\n",
              "type              0\n",
              "city              0\n",
              "dtype: int64"
            ]
          },
          "metadata": {},
          "execution_count": 23
        }
      ]
    },
    {
      "cell_type": "markdown",
      "metadata": {
        "id": "rsi2TJDPh3SD"
      },
      "source": [
        "#we have both city and loaction, lets keep ***one*** ***only***"
      ]
    },
    {
      "cell_type": "code",
      "metadata": {
        "id": "8mq7f0ALfd8Z"
      },
      "source": [
        "data=data.drop(['city'], axis=1)\n"
      ],
      "execution_count": 24,
      "outputs": []
    },
    {
      "cell_type": "markdown",
      "metadata": {
        "id": "tGA-aPbJiorH"
      },
      "source": [
        ""
      ]
    },
    {
      "cell_type": "code",
      "metadata": {
        "id": "wrSkI670iRsT",
        "colab": {
          "base_uri": "https://localhost:8080/"
        },
        "outputId": "f288b315-f1a9-48c2-e5ce-d56851d918d9"
      },
      "source": [
        "data['costfor2plates'].unique()"
      ],
      "execution_count": 25,
      "outputs": [
        {
          "output_type": "execute_result",
          "data": {
            "text/plain": [
              "array(['800', '300', '600', '700', '550', '500', '450', '650', '400',\n",
              "       '750', '200', '850', '1,200', '150', '350', '250', '1,500',\n",
              "       '1,300', '1,000', '100', '900', '1,100', '1,600', '950', '230',\n",
              "       '1,700', '1,400', '1,350', '2,200', '2,000', '1,800', '1,900',\n",
              "       '180', '330', '2,500', '2,100', '3,000', '2,800', '3,400', '40',\n",
              "       '1,250', '3,500', '4,000', '2,400', '1,450', '3,200', '6,000',\n",
              "       '1,050', '4,100', '2,300', '120', '2,600', '5,000', '3,700',\n",
              "       '1,650', '2,700', '4,500'], dtype=object)"
            ]
          },
          "metadata": {},
          "execution_count": 25
        }
      ]
    },
    {
      "cell_type": "markdown",
      "metadata": {
        "id": "Vt1LN32cjEmD"
      },
      "source": [
        "#***Removing*** commas because it represents as ***strings***"
      ]
    },
    {
      "cell_type": "code",
      "metadata": {
        "id": "E0dUksuTi81U",
        "colab": {
          "base_uri": "https://localhost:8080/"
        },
        "outputId": "406fe2aa-906f-4f24-8000-a57ae32293b5"
      },
      "source": [
        "def removecomma(value):\n",
        "  value==str(value)\n",
        "  if \",\" in value:\n",
        "    value=value.replace(\",\", '')\n",
        "    return float(value)\n",
        "  else:\n",
        "    return float(value)\n",
        "data['costfor2plates']=data['costfor2plates'].apply(removecomma)\n",
        "data['costfor2plates'].unique()"
      ],
      "execution_count": 26,
      "outputs": [
        {
          "output_type": "execute_result",
          "data": {
            "text/plain": [
              "array([ 800.,  300.,  600.,  700.,  550.,  500.,  450.,  650.,  400.,\n",
              "        750.,  200.,  850., 1200.,  150.,  350.,  250., 1500., 1300.,\n",
              "       1000.,  100.,  900., 1100., 1600.,  950.,  230., 1700., 1400.,\n",
              "       1350., 2200., 2000., 1800., 1900.,  180.,  330., 2500., 2100.,\n",
              "       3000., 2800., 3400.,   40., 1250., 3500., 4000., 2400., 1450.,\n",
              "       3200., 6000., 1050., 4100., 2300.,  120., 2600., 5000., 3700.,\n",
              "       1650., 2700., 4500.])"
            ]
          },
          "metadata": {},
          "execution_count": 26
        }
      ]
    },
    {
      "cell_type": "markdown",
      "metadata": {
        "id": "EP-DlN8ztm0r"
      },
      "source": [
        "#cleaning location column"
      ]
    },
    {
      "cell_type": "code",
      "metadata": {
        "id": "mbX6CWectkvN",
        "colab": {
          "base_uri": "https://localhost:8080/"
        },
        "outputId": "450dd9b2-4ed8-4517-de4b-6fd7edcd9998"
      },
      "source": [
        "data['location'].value_counts()"
      ],
      "execution_count": 27,
      "outputs": [
        {
          "output_type": "execute_result",
          "data": {
            "text/plain": [
              "Koramangala 5th Block    1784\n",
              "BTM                      1460\n",
              "Indiranagar              1350\n",
              "HSR                      1162\n",
              "Jayanagar                1047\n",
              "                         ... \n",
              "West Bangalore              2\n",
              "Rajarajeshwari Nagar        2\n",
              "Magadi Road                 2\n",
              "Kanakapura Road             2\n",
              "KR Puram                    1\n",
              "Name: location, Length: 88, dtype: int64"
            ]
          },
          "metadata": {},
          "execution_count": 27
        }
      ]
    },
    {
      "cell_type": "markdown",
      "metadata": {
        "id": "bWFzlBphuTFO"
      },
      "source": [
        "#Making a seperate group for locations which are having lessthan 300 restaurants"
      ]
    },
    {
      "cell_type": "code",
      "metadata": {
        "id": "CxYuNNeqtlJH"
      },
      "source": [
        "location=data['location'].value_counts(ascending=False)\n",
        "location_lessthan300=location[location<300]"
      ],
      "execution_count": 28,
      "outputs": []
    },
    {
      "cell_type": "code",
      "metadata": {
        "id": "T_YWKfXVtlU0",
        "colab": {
          "base_uri": "https://localhost:8080/"
        },
        "outputId": "a4dd80f0-db49-4ab9-a558-7692fbb01313"
      },
      "source": [
        "def location(value):\n",
        "  if(value in location_lessthan300):\n",
        "    return \"others\"\n",
        "  else:\n",
        "    return value\n",
        "data['location']=data['location'].apply(location)\n",
        "data['location'].value_counts()"
      ],
      "execution_count": 29,
      "outputs": [
        {
          "output_type": "execute_result",
          "data": {
            "text/plain": [
              "others                   3730\n",
              "Koramangala 5th Block    1784\n",
              "BTM                      1460\n",
              "Indiranagar              1350\n",
              "HSR                      1162\n",
              "Jayanagar                1047\n",
              "JP Nagar                 1025\n",
              "Whitefield                824\n",
              "Koramangala 7th Block     725\n",
              "Koramangala 6th Block     720\n",
              "Marathahalli              683\n",
              "Koramangala 4th Block     644\n",
              "MG Road                   596\n",
              "Brigade Road              570\n",
              "Church Street             508\n",
              "Bannerghatta Road         497\n",
              "Ulsoor                    477\n",
              "Koramangala 1st Block     467\n",
              "Kalyan Nagar              467\n",
              "Bellandur                 462\n",
              "Sarjapur Road             456\n",
              "Lavelle Road              445\n",
              "Residency Road            442\n",
              "Banashankari              390\n",
              "Malleshwaram              366\n",
              "Richmond Road             351\n",
              "Cunningham Road           333\n",
              "Electronic City           327\n",
              "Brookefield               307\n",
              "St. Marks Road            304\n",
              "New BEL Road              303\n",
              "Name: location, dtype: int64"
            ]
          },
          "metadata": {},
          "execution_count": 29
        }
      ]
    },
    {
      "cell_type": "markdown",
      "metadata": {
        "id": "8X2Ci_dwp4bF"
      },
      "source": [
        "#Now REST TYPE column"
      ]
    },
    {
      "cell_type": "code",
      "metadata": {
        "id": "b1rz_vQukFCE",
        "colab": {
          "base_uri": "https://localhost:8080/"
        },
        "outputId": "0b2673dc-a196-43f9-f82d-0deeb907836c"
      },
      "source": [
        "data['rest_type'].value_counts()"
      ],
      "execution_count": 30,
      "outputs": [
        {
          "output_type": "execute_result",
          "data": {
            "text/plain": [
              "Casual Dining                7365\n",
              "Quick Bites                  5243\n",
              "Cafe                         2329\n",
              "Dessert Parlor               1076\n",
              "Casual Dining, Bar            987\n",
              "                             ... \n",
              "Bar, Pub                        5\n",
              "Club, Casual Dining             4\n",
              "Dessert Parlor, Kiosk           2\n",
              "Food Court, Casual Dining       1\n",
              "Dhaba                           1\n",
              "Name: rest_type, Length: 73, dtype: int64"
            ]
          },
          "metadata": {},
          "execution_count": 30
        }
      ]
    },
    {
      "cell_type": "markdown",
      "metadata": {
        "id": "WEYR4thmqu5N"
      },
      "source": [
        "#Here we can see some types which are very less so we make a group of types which are less than 1000 "
      ]
    },
    {
      "cell_type": "code",
      "metadata": {
        "id": "vUI-Q2seqYXL",
        "colab": {
          "base_uri": "https://localhost:8080/"
        },
        "outputId": "daa2cd79-340c-4b4a-a424-7d690ab83186"
      },
      "source": [
        "rest_types=data[\"rest_type\"].value_counts(ascending=False)\n",
        "rest_types"
      ],
      "execution_count": 31,
      "outputs": [
        {
          "output_type": "execute_result",
          "data": {
            "text/plain": [
              "Casual Dining                7365\n",
              "Quick Bites                  5243\n",
              "Cafe                         2329\n",
              "Dessert Parlor               1076\n",
              "Casual Dining, Bar            987\n",
              "                             ... \n",
              "Bar, Pub                        5\n",
              "Club, Casual Dining             4\n",
              "Dessert Parlor, Kiosk           2\n",
              "Food Court, Casual Dining       1\n",
              "Dhaba                           1\n",
              "Name: rest_type, Length: 73, dtype: int64"
            ]
          },
          "metadata": {},
          "execution_count": 31
        }
      ]
    },
    {
      "cell_type": "code",
      "metadata": {
        "id": "nDjHc3I3rYY3",
        "colab": {
          "base_uri": "https://localhost:8080/"
        },
        "outputId": "0ec5e055-8ff2-4fb7-e22e-8c5dfb528536"
      },
      "source": [
        "rest_types_lessthan1000=rest_types[rest_types<1000]\n",
        "rest_types_lessthan1000"
      ],
      "execution_count": 32,
      "outputs": [
        {
          "output_type": "execute_result",
          "data": {
            "text/plain": [
              "Casual Dining, Bar           987\n",
              "Delivery                     670\n",
              "Bar                          357\n",
              "Takeaway, Delivery           343\n",
              "Bar, Casual Dining           343\n",
              "                            ... \n",
              "Bar, Pub                       5\n",
              "Club, Casual Dining            4\n",
              "Dessert Parlor, Kiosk          2\n",
              "Food Court, Casual Dining      1\n",
              "Dhaba                          1\n",
              "Name: rest_type, Length: 69, dtype: int64"
            ]
          },
          "metadata": {},
          "execution_count": 32
        }
      ]
    },
    {
      "cell_type": "markdown",
      "metadata": {
        "id": "MBs1pVuZsaci"
      },
      "source": [
        "#changing those less than 1000 into others"
      ]
    },
    {
      "cell_type": "code",
      "metadata": {
        "id": "9l_dxoxxrxmS",
        "colab": {
          "base_uri": "https://localhost:8080/"
        },
        "outputId": "e98ac893-c7ac-4f8e-af0a-242e490e485b"
      },
      "source": [
        "def rest_type(value):\n",
        "  if(value in rest_types_lessthan1000):\n",
        "    return \"others\"\n",
        "  else:\n",
        "    return value\n",
        "data['rest_type']=data['rest_type'].apply(rest_type)\n",
        "data['rest_type'].value_counts()"
      ],
      "execution_count": 33,
      "outputs": [
        {
          "output_type": "execute_result",
          "data": {
            "text/plain": [
              "Casual Dining     7365\n",
              "others            7209\n",
              "Quick Bites       5243\n",
              "Cafe              2329\n",
              "Dessert Parlor    1076\n",
              "Name: rest_type, dtype: int64"
            ]
          },
          "metadata": {},
          "execution_count": 33
        }
      ]
    },
    {
      "cell_type": "markdown",
      "metadata": {
        "id": "L3ddWtQdwrB1"
      },
      "source": [
        "#cleaning cuisines column "
      ]
    },
    {
      "cell_type": "code",
      "metadata": {
        "id": "zNjrnS-0w2HG"
      },
      "source": [
        "cuisines=data['cuisines'].value_counts(ascending=False)\n",
        "cuisines_lessthan100=cuisines[cuisines<100]"
      ],
      "execution_count": 34,
      "outputs": []
    },
    {
      "cell_type": "code",
      "metadata": {
        "id": "ZsYDN37_xXP3",
        "colab": {
          "base_uri": "https://localhost:8080/"
        },
        "outputId": "ac44a81c-18cd-4d05-db86-9441fcaa8f53"
      },
      "source": [
        "def cuisines(value):\n",
        "  if(value in cuisines_lessthan100):\n",
        "    return \"others\"\n",
        "  else:\n",
        "    return value\n",
        "data['cuisines']=data['cuisines'].apply(cuisines)\n",
        "data['cuisines'].value_counts()"
      ],
      "execution_count": 35,
      "outputs": [
        {
          "output_type": "execute_result",
          "data": {
            "text/plain": [
              "others                                              17633\n",
              "North Indian                                         1144\n",
              "North Indian, Chinese                                 777\n",
              "South Indian                                          360\n",
              "Cafe                                                  273\n",
              "South Indian, North Indian, Chinese                   233\n",
              "Bakery, Desserts                                      216\n",
              "Desserts, Beverages                                   214\n",
              "Chinese                                               210\n",
              "Ice Cream, Desserts                                   208\n",
              "Desserts                                              206\n",
              "Biryani                                               169\n",
              "Chinese, Momos                                        162\n",
              "Finger Food                                           151\n",
              "Fast Food                                             150\n",
              "North Indian, Chinese, Biryani                        139\n",
              "Mithai, Street Food                                   138\n",
              "North Indian, Mughlai                                 134\n",
              "Burger, Fast Food                                     132\n",
              "Cafe, Continental                                     125\n",
              "Desserts, Ice Cream                                   122\n",
              "Chinese, Thai                                         117\n",
              "Pizza, Fast Food                                      106\n",
              "South Indian, North Indian, Chinese, Street Food      103\n",
              "Name: cuisines, dtype: int64"
            ]
          },
          "metadata": {},
          "execution_count": 35
        }
      ]
    },
    {
      "cell_type": "markdown",
      "metadata": {
        "id": "jvet_s7ayvtU"
      },
      "source": [
        "#Type column"
      ]
    },
    {
      "cell_type": "code",
      "metadata": {
        "id": "IxNIS5Znxol_",
        "colab": {
          "base_uri": "https://localhost:8080/"
        },
        "outputId": "9cc8197a-6b2a-4ec0-97a4-d0406e2c36a4"
      },
      "source": [
        "data['type'].value_counts()"
      ],
      "execution_count": 36,
      "outputs": [
        {
          "output_type": "execute_result",
          "data": {
            "text/plain": [
              "Delivery              10628\n",
              "Dine-out               8035\n",
              "Desserts               1333\n",
              "Cafes                  1047\n",
              "Drinks & nightlife      890\n",
              "Buffet                  762\n",
              "Pubs and bars           527\n",
              "Name: type, dtype: int64"
            ]
          },
          "metadata": {},
          "execution_count": 36
        }
      ]
    },
    {
      "cell_type": "code",
      "metadata": {
        "id": "vDQKmIPxo6C-",
        "colab": {
          "base_uri": "https://localhost:8080/"
        },
        "outputId": "8971c01b-0079-4d79-c8d5-e853c287fe0f"
      },
      "source": [
        "type(data.reviews_list[0])"
      ],
      "execution_count": 37,
      "outputs": [
        {
          "output_type": "execute_result",
          "data": {
            "text/plain": [
              "str"
            ]
          },
          "metadata": {},
          "execution_count": 37
        }
      ]
    },
    {
      "cell_type": "code",
      "metadata": {
        "colab": {
          "base_uri": "https://localhost:8080/",
          "height": 104
        },
        "id": "0U1DAcImDCnj",
        "outputId": "654bd32c-773f-4d02-8751-e7f78a842236"
      },
      "source": [
        "\n",
        "# Creating a new dataset that has only customer reviews and restaurant ratings\n",
        "reviews_data = data[[\"reviews_list\", \"rate\"]]\n",
        "# Examining the reviews for the first restaurant in the dataset\n",
        "reviews_data[\"reviews_list\"][0]\n",
        "# The text needs cleaning up"
      ],
      "execution_count": 38,
      "outputs": [
        {
          "output_type": "execute_result",
          "data": {
            "application/vnd.google.colaboratory.intrinsic+json": {
              "type": "string"
            },
            "text/plain": [
              "'[(\\'Rated 4.0\\', \\'RATED\\\\n  A beautiful place to dine in.The interiors take you back to the Mughal era. The lightings are just perfect.We went there on the occasion of Christmas and so they had only limited items available. But the taste and service was not compromised at all.The only complaint is that the breads could have been better.Would surely like to come here again.\\'), (\\'Rated 4.0\\', \\'RATED\\\\n  I was here for dinner with my family on a weekday. The restaurant was completely empty. Ambience is good with some good old hindi music. Seating arrangement are good too. We ordered masala papad, panner and baby corn starters, lemon and corrionder soup, butter roti, olive and chilli paratha. Food was fresh and good, service is good too. Good for family hangout.\\\\nCheers\\'), (\\'Rated 2.0\\', \\'RATED\\\\n  Its a restaurant near to Banashankari BDA. Me along with few of my office friends visited to have buffet but unfortunately they only provide veg buffet. On inquiring they said this place is mostly visited by vegetarians. Anyways we ordered ala carte items which took ages to come. Food was ok ok. Definitely not visiting anymore.\\'), (\\'Rated 4.0\\', \\'RATED\\\\n  We went here on a weekend and one of us had the buffet while two of us took Ala Carte. Firstly the ambience and service of this place is great! The buffet had a lot of items and the good was good. We had a Pumpkin Halwa intm the dessert which was amazing. Must try! The kulchas are great here. Cheers!\\'), (\\'Rated 5.0\\', \\'RATED\\\\n  The best thing about the place is itÃ\\x83\\\\x83Ã\\x82\\\\x83Ã\\x83\\\\x82Ã\\x82\\\\x82Ã\\x83\\\\x83Ã\\x82\\\\x82Ã\\x83\\\\x82Ã\\x82\\\\x92s ambiance. Second best thing was yummy ? food. We try buffet and buffet food was not disappointed us.\\\\nTest ?. ?? ?? ?? ?? ??\\\\nQuality ?. ??????????.\\\\nService: Staff was very professional and friendly.\\\\n\\\\nOverall experience was excellent.\\\\n\\\\nsubirmajumder85.wixsite.com\\'), (\\'Rated 5.0\\', \\'RATED\\\\n  Great food and pleasant ambience. Expensive but Coll place to chill and relax......\\\\n\\\\nService is really very very good and friendly staff...\\\\n\\\\nFood : 5/5\\\\nService : 5/5\\\\nAmbience :5/5\\\\nOverall :5/5\\'), (\\'Rated 4.0\\', \\'RATED\\\\n  Good ambience with tasty food.\\\\nCheese chilli paratha with Bhutta palak methi curry is a good combo.\\\\nLemon Chicken in the starters is a must try item.\\\\nEgg fried rice was also quite tasty.\\\\nIn the mocktails, recommend \"Alice in Junoon\". Do not miss it.\\'), (\\'Rated 4.0\\', \\'RATED\\\\n  You canÃ\\x83\\\\x83Ã\\x82\\\\x83Ã\\x83\\\\x82Ã\\x82\\\\x82Ã\\x83\\\\x83Ã\\x82\\\\x82Ã\\x83\\\\x82Ã\\x82\\\\x92t go wrong with Jalsa. Never been a fan of their buffet and thus always order alacarteÃ\\x83\\\\x83Ã\\x82\\\\x83Ã\\x83\\\\x82Ã\\x82\\\\x82Ã\\x83\\\\x83Ã\\x82\\\\x82Ã\\x83\\\\x82Ã\\x82\\\\x92. Service at times can be on the slower side but food is worth the wait.\\'), (\\'Rated 5.0\\', \\'RATED\\\\n  Overdelighted by the service and food provided at this place. A royal and ethnic atmosphere builds a strong essence of being in India and also the quality and taste of food is truly authentic. I would totally recommend to visit this place once.\\'), (\\'Rated 4.0\\', \\'RATED\\\\n  The place is nice and comfortable. Food wise all jalea outlets maintain a good standard. The soya chaap was a standout dish. Clearly one of trademark dish as per me and a must try.\\\\n\\\\nThe only concern is the parking. It very congested and limited to just 5cars. The basement parking is very steep and makes it cumbersome\\'), (\\'Rated 4.0\\', \\'RATED\\\\n  The place is nice and comfortable. Food wise all jalea outlets maintain a good standard. The soya chaap was a standout dish. Clearly one of trademark dish as per me and a must try.\\\\n\\\\nThe only concern is the parking. It very congested and limited to just 5cars. The basement parking is very steep and makes it cumbersome\\'), (\\'Rated 4.0\\', \\'RATED\\\\n  The place is nice and comfortable. Food wise all jalea outlets maintain a good standard. The soya chaap was a standout dish. Clearly one of trademark dish as per me and a must try.\\\\n\\\\nThe only concern is the parking. It very congested and limited to just 5cars. The basement parking is very steep and makes it cumbersome\\')]'"
            ]
          },
          "metadata": {},
          "execution_count": 38
        }
      ]
    },
    {
      "cell_type": "code",
      "metadata": {
        "id": "XT4jZoKEDCjK"
      },
      "source": [
        "# Converting all the text to lowercase\n",
        "reviews_data[\"reviews_list\"] = reviews_data[\"reviews_list\"].apply(lambda x: x.lower())\n"
      ],
      "execution_count": 39,
      "outputs": []
    },
    {
      "cell_type": "code",
      "metadata": {
        "id": "YFW28IcvDChj",
        "colab": {
          "base_uri": "https://localhost:8080/"
        },
        "outputId": "53d5e715-c9ac-49a6-cc49-64a6499bd55f"
      },
      "source": [
        "# Creating a regular expression tokenizer that matches only alphabets\n",
        "# This will return separate words (tokens) from the text\n",
        "tokenizer = regextoken(\"[a-zA-Z]+\") \n",
        "# Applying the tokenizer to each row of the reviews\n",
        "review_tokens = reviews_data[\"reviews_list\"].apply(tokenizer.tokenize)\n",
        "# Examining the tokens created for the first row / restaurant\n",
        "print(review_tokens[0])"
      ],
      "execution_count": 40,
      "outputs": [
        {
          "output_type": "stream",
          "text": [
            "['rated', 'rated', 'n', 'a', 'beautiful', 'place', 'to', 'dine', 'in', 'the', 'interiors', 'take', 'you', 'back', 'to', 'the', 'mughal', 'era', 'the', 'lightings', 'are', 'just', 'perfect', 'we', 'went', 'there', 'on', 'the', 'occasion', 'of', 'christmas', 'and', 'so', 'they', 'had', 'only', 'limited', 'items', 'available', 'but', 'the', 'taste', 'and', 'service', 'was', 'not', 'compromised', 'at', 'all', 'the', 'only', 'complaint', 'is', 'that', 'the', 'breads', 'could', 'have', 'been', 'better', 'would', 'surely', 'like', 'to', 'come', 'here', 'again', 'rated', 'rated', 'n', 'i', 'was', 'here', 'for', 'dinner', 'with', 'my', 'family', 'on', 'a', 'weekday', 'the', 'restaurant', 'was', 'completely', 'empty', 'ambience', 'is', 'good', 'with', 'some', 'good', 'old', 'hindi', 'music', 'seating', 'arrangement', 'are', 'good', 'too', 'we', 'ordered', 'masala', 'papad', 'panner', 'and', 'baby', 'corn', 'starters', 'lemon', 'and', 'corrionder', 'soup', 'butter', 'roti', 'olive', 'and', 'chilli', 'paratha', 'food', 'was', 'fresh', 'and', 'good', 'service', 'is', 'good', 'too', 'good', 'for', 'family', 'hangout', 'ncheers', 'rated', 'rated', 'n', 'its', 'a', 'restaurant', 'near', 'to', 'banashankari', 'bda', 'me', 'along', 'with', 'few', 'of', 'my', 'office', 'friends', 'visited', 'to', 'have', 'buffet', 'but', 'unfortunately', 'they', 'only', 'provide', 'veg', 'buffet', 'on', 'inquiring', 'they', 'said', 'this', 'place', 'is', 'mostly', 'visited', 'by', 'vegetarians', 'anyways', 'we', 'ordered', 'ala', 'carte', 'items', 'which', 'took', 'ages', 'to', 'come', 'food', 'was', 'ok', 'ok', 'definitely', 'not', 'visiting', 'anymore', 'rated', 'rated', 'n', 'we', 'went', 'here', 'on', 'a', 'weekend', 'and', 'one', 'of', 'us', 'had', 'the', 'buffet', 'while', 'two', 'of', 'us', 'took', 'ala', 'carte', 'firstly', 'the', 'ambience', 'and', 'service', 'of', 'this', 'place', 'is', 'great', 'the', 'buffet', 'had', 'a', 'lot', 'of', 'items', 'and', 'the', 'good', 'was', 'good', 'we', 'had', 'a', 'pumpkin', 'halwa', 'intm', 'the', 'dessert', 'which', 'was', 'amazing', 'must', 'try', 'the', 'kulchas', 'are', 'great', 'here', 'cheers', 'rated', 'rated', 'n', 'the', 'best', 'thing', 'about', 'the', 'place', 'is', 'it', 'x', 'x', 'x', 'x', 'x', 'x', 'x', 'x', 's', 'ambiance', 'second', 'best', 'thing', 'was', 'yummy', 'food', 'we', 'try', 'buffet', 'and', 'buffet', 'food', 'was', 'not', 'disappointed', 'us', 'ntest', 'nquality', 'nservice', 'staff', 'was', 'very', 'professional', 'and', 'friendly', 'n', 'noverall', 'experience', 'was', 'excellent', 'n', 'nsubirmajumder', 'wixsite', 'com', 'rated', 'rated', 'n', 'great', 'food', 'and', 'pleasant', 'ambience', 'expensive', 'but', 'coll', 'place', 'to', 'chill', 'and', 'relax', 'n', 'nservice', 'is', 'really', 'very', 'very', 'good', 'and', 'friendly', 'staff', 'n', 'nfood', 'nservice', 'nambience', 'noverall', 'rated', 'rated', 'n', 'good', 'ambience', 'with', 'tasty', 'food', 'ncheese', 'chilli', 'paratha', 'with', 'bhutta', 'palak', 'methi', 'curry', 'is', 'a', 'good', 'combo', 'nlemon', 'chicken', 'in', 'the', 'starters', 'is', 'a', 'must', 'try', 'item', 'negg', 'fried', 'rice', 'was', 'also', 'quite', 'tasty', 'nin', 'the', 'mocktails', 'recommend', 'alice', 'in', 'junoon', 'do', 'not', 'miss', 'it', 'rated', 'rated', 'n', 'you', 'can', 'x', 'x', 'x', 'x', 'x', 'x', 'x', 'x', 't', 'go', 'wrong', 'with', 'jalsa', 'never', 'been', 'a', 'fan', 'of', 'their', 'buffet', 'and', 'thus', 'always', 'order', 'alacarte', 'x', 'x', 'x', 'x', 'x', 'x', 'x', 'x', 'service', 'at', 'times', 'can', 'be', 'on', 'the', 'slower', 'side', 'but', 'food', 'is', 'worth', 'the', 'wait', 'rated', 'rated', 'n', 'overdelighted', 'by', 'the', 'service', 'and', 'food', 'provided', 'at', 'this', 'place', 'a', 'royal', 'and', 'ethnic', 'atmosphere', 'builds', 'a', 'strong', 'essence', 'of', 'being', 'in', 'india', 'and', 'also', 'the', 'quality', 'and', 'taste', 'of', 'food', 'is', 'truly', 'authentic', 'i', 'would', 'totally', 'recommend', 'to', 'visit', 'this', 'place', 'once', 'rated', 'rated', 'n', 'the', 'place', 'is', 'nice', 'and', 'comfortable', 'food', 'wise', 'all', 'jalea', 'outlets', 'maintain', 'a', 'good', 'standard', 'the', 'soya', 'chaap', 'was', 'a', 'standout', 'dish', 'clearly', 'one', 'of', 'trademark', 'dish', 'as', 'per', 'me', 'and', 'a', 'must', 'try', 'n', 'nthe', 'only', 'concern', 'is', 'the', 'parking', 'it', 'very', 'congested', 'and', 'limited', 'to', 'just', 'cars', 'the', 'basement', 'parking', 'is', 'very', 'steep', 'and', 'makes', 'it', 'cumbersome', 'rated', 'rated', 'n', 'the', 'place', 'is', 'nice', 'and', 'comfortable', 'food', 'wise', 'all', 'jalea', 'outlets', 'maintain', 'a', 'good', 'standard', 'the', 'soya', 'chaap', 'was', 'a', 'standout', 'dish', 'clearly', 'one', 'of', 'trademark', 'dish', 'as', 'per', 'me', 'and', 'a', 'must', 'try', 'n', 'nthe', 'only', 'concern', 'is', 'the', 'parking', 'it', 'very', 'congested', 'and', 'limited', 'to', 'just', 'cars', 'the', 'basement', 'parking', 'is', 'very', 'steep', 'and', 'makes', 'it', 'cumbersome', 'rated', 'rated', 'n', 'the', 'place', 'is', 'nice', 'and', 'comfortable', 'food', 'wise', 'all', 'jalea', 'outlets', 'maintain', 'a', 'good', 'standard', 'the', 'soya', 'chaap', 'was', 'a', 'standout', 'dish', 'clearly', 'one', 'of', 'trademark', 'dish', 'as', 'per', 'me', 'and', 'a', 'must', 'try', 'n', 'nthe', 'only', 'concern', 'is', 'the', 'parking', 'it', 'very', 'congested', 'and', 'limited', 'to', 'just', 'cars', 'the', 'basement', 'parking', 'is', 'very', 'steep', 'and', 'makes', 'it', 'cumbersome']\n"
          ],
          "name": "stdout"
        }
      ]
    },
    {
      "cell_type": "code",
      "metadata": {
        "id": "XKll_NcEDCeb",
        "colab": {
          "base_uri": "https://localhost:8080/"
        },
        "outputId": "665ab054-e951-4d1f-b843-dd7b059fd23a"
      },
      "source": [
        "import nltk\n",
        "nltk.download('stopwords')"
      ],
      "execution_count": 41,
      "outputs": [
        {
          "output_type": "stream",
          "text": [
            "[nltk_data] Downloading package stopwords to /root/nltk_data...\n",
            "[nltk_data]   Unzipping corpora/stopwords.zip.\n"
          ],
          "name": "stdout"
        },
        {
          "output_type": "execute_result",
          "data": {
            "text/plain": [
              "True"
            ]
          },
          "metadata": {},
          "execution_count": 41
        }
      ]
    },
    {
      "cell_type": "code",
      "metadata": {
        "id": "sL-AcJS3DCcm",
        "colab": {
          "base_uri": "https://localhost:8080/"
        },
        "outputId": "bad0a09c-f5a7-496d-8016-70ecdd233327"
      },
      "source": [
        "stop = stopwords.words(\"english\")\n",
        "print(stop)"
      ],
      "execution_count": 42,
      "outputs": [
        {
          "output_type": "stream",
          "text": [
            "['i', 'me', 'my', 'myself', 'we', 'our', 'ours', 'ourselves', 'you', \"you're\", \"you've\", \"you'll\", \"you'd\", 'your', 'yours', 'yourself', 'yourselves', 'he', 'him', 'his', 'himself', 'she', \"she's\", 'her', 'hers', 'herself', 'it', \"it's\", 'its', 'itself', 'they', 'them', 'their', 'theirs', 'themselves', 'what', 'which', 'who', 'whom', 'this', 'that', \"that'll\", 'these', 'those', 'am', 'is', 'are', 'was', 'were', 'be', 'been', 'being', 'have', 'has', 'had', 'having', 'do', 'does', 'did', 'doing', 'a', 'an', 'the', 'and', 'but', 'if', 'or', 'because', 'as', 'until', 'while', 'of', 'at', 'by', 'for', 'with', 'about', 'against', 'between', 'into', 'through', 'during', 'before', 'after', 'above', 'below', 'to', 'from', 'up', 'down', 'in', 'out', 'on', 'off', 'over', 'under', 'again', 'further', 'then', 'once', 'here', 'there', 'when', 'where', 'why', 'how', 'all', 'any', 'both', 'each', 'few', 'more', 'most', 'other', 'some', 'such', 'no', 'nor', 'not', 'only', 'own', 'same', 'so', 'than', 'too', 'very', 's', 't', 'can', 'will', 'just', 'don', \"don't\", 'should', \"should've\", 'now', 'd', 'll', 'm', 'o', 're', 've', 'y', 'ain', 'aren', \"aren't\", 'couldn', \"couldn't\", 'didn', \"didn't\", 'doesn', \"doesn't\", 'hadn', \"hadn't\", 'hasn', \"hasn't\", 'haven', \"haven't\", 'isn', \"isn't\", 'ma', 'mightn', \"mightn't\", 'mustn', \"mustn't\", 'needn', \"needn't\", 'shan', \"shan't\", 'shouldn', \"shouldn't\", 'wasn', \"wasn't\", 'weren', \"weren't\", 'won', \"won't\", 'wouldn', \"wouldn't\"]\n"
          ],
          "name": "stdout"
        }
      ]
    },
    {
      "cell_type": "code",
      "metadata": {
        "id": "KHynswUzDCZi"
      },
      "source": [
        "\n",
        "# Adding custom words to stopwords \n",
        "stop.extend([\"rated\", \"n\", \"nan\", \"x\"])\n",
        "# Removing stopwords from the tokens\n",
        "review_tokens = review_tokens.apply(lambda x: [token for token in x if token not in stop])"
      ],
      "execution_count": 43,
      "outputs": []
    },
    {
      "cell_type": "code",
      "metadata": {
        "id": "_rENA-r2DCX6"
      },
      "source": [
        "all_reviews = review_tokens.astype(str).str.cat()\n",
        "cleaned_reviews = tokenizer.tokenize(all_reviews)"
      ],
      "execution_count": 44,
      "outputs": []
    },
    {
      "cell_type": "code",
      "metadata": {
        "id": "h-9DqSWEDCUF",
        "colab": {
          "base_uri": "https://localhost:8080/"
        },
        "outputId": "a5eb0e2b-7220-4810-a936-b62f05c66f14"
      },
      "source": [
        "fd = FreqDist()\n",
        "for word in cleaned_reviews:\n",
        "    fd[word] += 1\n",
        "    \n",
        "# Examining the top 5 most frequent words\n",
        "fd.most_common(5)"
      ],
      "execution_count": 45,
      "outputs": [
        {
          "output_type": "execute_result",
          "data": {
            "text/plain": [
              "[('place', 889011),\n",
              " ('good', 830404),\n",
              " ('food', 775939),\n",
              " ('chicken', 344990),\n",
              " ('service', 293068)]"
            ]
          },
          "metadata": {},
          "execution_count": 45
        }
      ]
    },
    {
      "cell_type": "code",
      "metadata": {
        "id": "_2teuflrDCSZ",
        "colab": {
          "base_uri": "https://localhost:8080/",
          "height": 378
        },
        "outputId": "e8cfb5dd-3e22-4400-c4d5-086ae03fb3be"
      },
      "source": [
        "plt.figure(figsize = (10, 5))\n",
        "fd.plot(50)\n",
        "plt.show()"
      ],
      "execution_count": 46,
      "outputs": [
        {
          "output_type": "display_data",
          "data": {
            "image/png": "[encoded data removed]",
            "text/plain": [
              "<Figure size 720x360 with 1 Axes>"
            ]
          },
          "metadata": {}
        }
      ]
    },
    {
      "cell_type": "markdown",
      "metadata": {
        "id": "3oAaikFmzCU4"
      },
      "source": [
        "#Data cleaning is done, lets see Visualization\n"
      ]
    },
    {
      "cell_type": "markdown",
      "metadata": {
        "id": "fPZT9s66zv9g"
      },
      "source": [
        "#Visualising online order"
      ]
    },
    {
      "cell_type": "code",
      "metadata": {
        "id": "mLOfdprty6oj",
        "colab": {
          "base_uri": "https://localhost:8080/",
          "height": 0
        },
        "outputId": "fe5ac3b6-74c7-4bd0-d862-40512bcfe4a4"
      },
      "source": [
        "plt.figure(figsize=(6,6))\n",
        "sns.countplot(data['online_order'], palette='inferno')"
      ],
      "execution_count": 47,
      "outputs": [
        {
          "output_type": "execute_result",
          "data": {
            "text/plain": [
              "<matplotlib.axes._subplots.AxesSubplot at 0x7f16476286d0>"
            ]
          },
          "metadata": {},
          "execution_count": 47
        },
        {
          "output_type": "display_data",
          "data": {
            "image/png": "[encoded data removed]",
            "text/plain": [
              "<Figure size 432x432 with 1 Axes>"
            ]
          },
          "metadata": {}
        }
      ]
    },
    {
      "cell_type": "markdown",
      "metadata": {
        "id": "DkTD-II70Wre"
      },
      "source": [
        "#Visualsing book table "
      ]
    },
    {
      "cell_type": "code",
      "metadata": {
        "id": "aHHqed9k0Ham",
        "colab": {
          "base_uri": "https://localhost:8080/",
          "height": 406
        },
        "outputId": "3d96ea53-bcbc-44f5-c405-48e5cc436cc3"
      },
      "source": [
        "plt.figure(figsize=(6,6))\n",
        "sns.countplot(data['book_table'], palette= 'rainbow')\n"
      ],
      "execution_count": 48,
      "outputs": [
        {
          "output_type": "execute_result",
          "data": {
            "text/plain": [
              "<matplotlib.axes._subplots.AxesSubplot at 0x7f16ac557790>"
            ]
          },
          "metadata": {},
          "execution_count": 48
        },
        {
          "output_type": "display_data",
          "data": {
            "image/png": "[encoded data removed]",
            "text/plain": [
              "<Figure size 432x432 with 1 Axes>"
            ]
          },
          "metadata": {}
        }
      ]
    },
    {
      "cell_type": "markdown",
      "metadata": {
        "id": "T_Hx_CSE6SG0"
      },
      "source": [
        "This says most of the restaurants not having booking table facility"
      ]
    },
    {
      "cell_type": "markdown",
      "metadata": {
        "id": "pyWqZVy71Dj9"
      },
      "source": [
        "#Visualising locations"
      ]
    },
    {
      "cell_type": "code",
      "metadata": {
        "id": "v3OgzeQr0rKB",
        "colab": {
          "base_uri": "https://localhost:8080/",
          "height": 762
        },
        "outputId": "16e50f45-651f-4bb8-df26-ac443bb5d057"
      },
      "source": [
        "plt.figure(figsize=(15,10))\n",
        "axis=sns.countplot(data['location'])\n",
        "plt.xticks(rotation=90)"
      ],
      "execution_count": 49,
      "outputs": [
        {
          "output_type": "execute_result",
          "data": {
            "text/plain": [
              "(array([ 0,  1,  2,  3,  4,  5,  6,  7,  8,  9, 10, 11, 12, 13, 14, 15, 16,\n",
              "        17, 18, 19, 20, 21, 22, 23, 24, 25, 26, 27, 28, 29, 30]),\n",
              " <a list of 31 Text major ticklabel objects>)"
            ]
          },
          "metadata": {},
          "execution_count": 49
        },
        {
          "output_type": "display_data",
          "data": {
            "image/png": "[encoded data removed]",
            "text/plain": [
              "<Figure size 1080x720 with 1 Axes>"
            ]
          },
          "metadata": {}
        }
      ]
    },
    {
      "cell_type": "markdown",
      "metadata": {
        "id": "NIuF4pFX6fgO"
      },
      "source": [
        "This says  that which location having no. of restaurants in area"
      ]
    },
    {
      "cell_type": "markdown",
      "metadata": {
        "id": "DXG39PfU3ySt"
      },
      "source": [
        "#visualising Book table vs rate "
      ]
    },
    {
      "cell_type": "code",
      "metadata": {
        "id": "J2wgFwmk1dBH",
        "colab": {
          "base_uri": "https://localhost:8080/",
          "height": 406
        },
        "outputId": "10c3006e-7923-4c9d-d9bf-8090da3cd0f4"
      },
      "source": [
        "plt.figure(figsize=(6,6))\n",
        "sns.boxplot(x=\"book_table\",y=\"rate\", data =data)"
      ],
      "execution_count": 50,
      "outputs": [
        {
          "output_type": "execute_result",
          "data": {
            "text/plain": [
              "<matplotlib.axes._subplots.AxesSubplot at 0x7f1647115b90>"
            ]
          },
          "metadata": {},
          "execution_count": 50
        },
        {
          "output_type": "display_data",
          "data": {
            "image/png": "[encoded data removed]",
            "text/plain": [
              "<Figure size 432x432 with 1 Axes>"
            ]
          },
          "metadata": {}
        }
      ]
    },
    {
      "cell_type": "markdown",
      "metadata": {
        "id": "bwppVn_u8B_c"
      },
      "source": [
        "Here's the difference is high because, restaurants having book table facility rating is higher than restaurants not having book table facility."
      ]
    },
    {
      "cell_type": "markdown",
      "metadata": {
        "id": "eRgrefJ24ZF0"
      },
      "source": [
        "#visualising online order"
      ]
    },
    {
      "cell_type": "code",
      "metadata": {
        "id": "Dg6DzudS4Jr9",
        "colab": {
          "base_uri": "https://localhost:8080/",
          "height": 406
        },
        "outputId": "e215c6b6-be5e-4fdd-9723-a59f927b1916"
      },
      "source": [
        "plt.figure(figsize=(6,6))\n",
        "sns.countplot(data['online_order'], palette='rainbow')"
      ],
      "execution_count": 51,
      "outputs": [
        {
          "output_type": "execute_result",
          "data": {
            "text/plain": [
              "<matplotlib.axes._subplots.AxesSubplot at 0x7f1647077990>"
            ]
          },
          "metadata": {},
          "execution_count": 51
        },
        {
          "output_type": "display_data",
          "data": {
            "image/png": "[encoded data removed]",
            "text/plain": [
              "<Figure size 432x432 with 1 Axes>"
            ]
          },
          "metadata": {}
        }
      ]
    },
    {
      "cell_type": "markdown",
      "metadata": {
        "id": "OilGLzHw5VV1"
      },
      "source": [
        "From this we can see that most of them having online order facility.\n"
      ]
    },
    {
      "cell_type": "markdown",
      "metadata": {
        "id": "se_0e76A7Smc"
      },
      "source": [
        "#visualsing online order vs rate(rating)"
      ]
    },
    {
      "cell_type": "code",
      "metadata": {
        "id": "ATaYHCst4skT",
        "colab": {
          "base_uri": "https://localhost:8080/",
          "height": 406
        },
        "outputId": "0a5b2907-0c5b-4449-9e59-e5e7a53f8199"
      },
      "source": [
        "plt.figure(figsize=(6,6))\n",
        "sns.boxplot(x='online_order',y='rate',data=data)"
      ],
      "execution_count": 52,
      "outputs": [
        {
          "output_type": "execute_result",
          "data": {
            "text/plain": [
              "<matplotlib.axes._subplots.AxesSubplot at 0x7f1646fee950>"
            ]
          },
          "metadata": {},
          "execution_count": 52
        },
        {
          "output_type": "display_data",
          "data": {
            "image/png": "[encoded data removed]",
            "text/plain": [
              "<Figure size 432x432 with 1 Axes>"
            ]
          },
          "metadata": {}
        }
      ]
    },
    {
      "cell_type": "markdown",
      "metadata": {
        "id": "8BqUagnG7rhW"
      },
      "source": [
        "This says that restaurants having online order facility rating is higher than not having online order facility"
      ]
    },
    {
      "cell_type": "code",
      "metadata": {
        "id": "ftkiCBsf7Odh"
      },
      "source": [
        "#visualsing online order facility, location wise"
      ],
      "execution_count": 53,
      "outputs": []
    },
    {
      "cell_type": "code",
      "metadata": {
        "id": "o0Mzks4187i2",
        "colab": {
          "base_uri": "https://localhost:8080/",
          "height": 1000
        },
        "outputId": "4e088eb3-5cf0-4a03-b802-3dbb08d5968b"
      },
      "source": [
        "data1=data.groupby(['location','online_order'])['name'].count()\n",
        "data1.to_csv('location_online.csv')\n",
        "data1=pd.read_csv('location_online.csv')\n",
        "data1=pd.pivot_table(data1, values=None, index=['location'], columns=['online_order'],fill_value=0, aggfunc=np.sum)\n",
        "data1"
      ],
      "execution_count": 54,
      "outputs": [
        {
          "output_type": "execute_result",
          "data": {
            "text/html": [
              "<div>\n",
              "<style scoped>\n",
              "    .dataframe tbody tr th:only-of-type {\n",
              "        vertical-align: middle;\n",
              "    }\n",
              "\n",
              "    .dataframe tbody tr th {\n",
              "        vertical-align: top;\n",
              "    }\n",
              "\n",
              "    .dataframe thead tr th {\n",
              "        text-align: left;\n",
              "    }\n",
              "\n",
              "    .dataframe thead tr:last-of-type th {\n",
              "        text-align: right;\n",
              "    }\n",
              "</style>\n",
              "<table border=\"1\" class=\"dataframe\">\n",
              "  <thead>\n",
              "    <tr>\n",
              "      <th></th>\n",
              "      <th colspan=\"2\" halign=\"left\">name</th>\n",
              "    </tr>\n",
              "    <tr>\n",
              "      <th>online_order</th>\n",
              "      <th>No</th>\n",
              "      <th>Yes</th>\n",
              "    </tr>\n",
              "    <tr>\n",
              "      <th>location</th>\n",
              "      <th></th>\n",
              "      <th></th>\n",
              "    </tr>\n",
              "  </thead>\n",
              "  <tbody>\n",
              "    <tr>\n",
              "      <th>BTM</th>\n",
              "      <td>267</td>\n",
              "      <td>1193</td>\n",
              "    </tr>\n",
              "    <tr>\n",
              "      <th>Banashankari</th>\n",
              "      <td>103</td>\n",
              "      <td>287</td>\n",
              "    </tr>\n",
              "    <tr>\n",
              "      <th>Bannerghatta Road</th>\n",
              "      <td>112</td>\n",
              "      <td>385</td>\n",
              "    </tr>\n",
              "    <tr>\n",
              "      <th>Bellandur</th>\n",
              "      <td>110</td>\n",
              "      <td>352</td>\n",
              "    </tr>\n",
              "    <tr>\n",
              "      <th>Brigade Road</th>\n",
              "      <td>225</td>\n",
              "      <td>345</td>\n",
              "    </tr>\n",
              "    <tr>\n",
              "      <th>Brookefield</th>\n",
              "      <td>61</td>\n",
              "      <td>246</td>\n",
              "    </tr>\n",
              "    <tr>\n",
              "      <th>Church Street</th>\n",
              "      <td>191</td>\n",
              "      <td>317</td>\n",
              "    </tr>\n",
              "    <tr>\n",
              "      <th>Cunningham Road</th>\n",
              "      <td>62</td>\n",
              "      <td>271</td>\n",
              "    </tr>\n",
              "    <tr>\n",
              "      <th>Electronic City</th>\n",
              "      <td>98</td>\n",
              "      <td>229</td>\n",
              "    </tr>\n",
              "    <tr>\n",
              "      <th>HSR</th>\n",
              "      <td>151</td>\n",
              "      <td>1011</td>\n",
              "    </tr>\n",
              "    <tr>\n",
              "      <th>Indiranagar</th>\n",
              "      <td>398</td>\n",
              "      <td>952</td>\n",
              "    </tr>\n",
              "    <tr>\n",
              "      <th>JP Nagar</th>\n",
              "      <td>311</td>\n",
              "      <td>714</td>\n",
              "    </tr>\n",
              "    <tr>\n",
              "      <th>Jayanagar</th>\n",
              "      <td>205</td>\n",
              "      <td>842</td>\n",
              "    </tr>\n",
              "    <tr>\n",
              "      <th>Kalyan Nagar</th>\n",
              "      <td>126</td>\n",
              "      <td>341</td>\n",
              "    </tr>\n",
              "    <tr>\n",
              "      <th>Koramangala 1st Block</th>\n",
              "      <td>57</td>\n",
              "      <td>410</td>\n",
              "    </tr>\n",
              "    <tr>\n",
              "      <th>Koramangala 4th Block</th>\n",
              "      <td>254</td>\n",
              "      <td>390</td>\n",
              "    </tr>\n",
              "    <tr>\n",
              "      <th>Koramangala 5th Block</th>\n",
              "      <td>554</td>\n",
              "      <td>1230</td>\n",
              "    </tr>\n",
              "    <tr>\n",
              "      <th>Koramangala 6th Block</th>\n",
              "      <td>231</td>\n",
              "      <td>489</td>\n",
              "    </tr>\n",
              "    <tr>\n",
              "      <th>Koramangala 7th Block</th>\n",
              "      <td>198</td>\n",
              "      <td>527</td>\n",
              "    </tr>\n",
              "    <tr>\n",
              "      <th>Lavelle Road</th>\n",
              "      <td>254</td>\n",
              "      <td>191</td>\n",
              "    </tr>\n",
              "    <tr>\n",
              "      <th>MG Road</th>\n",
              "      <td>321</td>\n",
              "      <td>275</td>\n",
              "    </tr>\n",
              "    <tr>\n",
              "      <th>Malleshwaram</th>\n",
              "      <td>126</td>\n",
              "      <td>240</td>\n",
              "    </tr>\n",
              "    <tr>\n",
              "      <th>Marathahalli</th>\n",
              "      <td>161</td>\n",
              "      <td>522</td>\n",
              "    </tr>\n",
              "    <tr>\n",
              "      <th>New BEL Road</th>\n",
              "      <td>64</td>\n",
              "      <td>239</td>\n",
              "    </tr>\n",
              "    <tr>\n",
              "      <th>Residency Road</th>\n",
              "      <td>267</td>\n",
              "      <td>175</td>\n",
              "    </tr>\n",
              "    <tr>\n",
              "      <th>Richmond Road</th>\n",
              "      <td>202</td>\n",
              "      <td>149</td>\n",
              "    </tr>\n",
              "    <tr>\n",
              "      <th>Sarjapur Road</th>\n",
              "      <td>109</td>\n",
              "      <td>347</td>\n",
              "    </tr>\n",
              "    <tr>\n",
              "      <th>St. Marks Road</th>\n",
              "      <td>137</td>\n",
              "      <td>167</td>\n",
              "    </tr>\n",
              "    <tr>\n",
              "      <th>Ulsoor</th>\n",
              "      <td>170</td>\n",
              "      <td>307</td>\n",
              "    </tr>\n",
              "    <tr>\n",
              "      <th>Whitefield</th>\n",
              "      <td>264</td>\n",
              "      <td>560</td>\n",
              "    </tr>\n",
              "    <tr>\n",
              "      <th>others</th>\n",
              "      <td>1057</td>\n",
              "      <td>2673</td>\n",
              "    </tr>\n",
              "  </tbody>\n",
              "</table>\n",
              "</div>"
            ],
            "text/plain": [
              "                       name      \n",
              "online_order             No   Yes\n",
              "location                         \n",
              "BTM                     267  1193\n",
              "Banashankari            103   287\n",
              "Bannerghatta Road       112   385\n",
              "Bellandur               110   352\n",
              "Brigade Road            225   345\n",
              "Brookefield              61   246\n",
              "Church Street           191   317\n",
              "Cunningham Road          62   271\n",
              "Electronic City          98   229\n",
              "HSR                     151  1011\n",
              "Indiranagar             398   952\n",
              "JP Nagar                311   714\n",
              "Jayanagar               205   842\n",
              "Kalyan Nagar            126   341\n",
              "Koramangala 1st Block    57   410\n",
              "Koramangala 4th Block   254   390\n",
              "Koramangala 5th Block   554  1230\n",
              "Koramangala 6th Block   231   489\n",
              "Koramangala 7th Block   198   527\n",
              "Lavelle Road            254   191\n",
              "MG Road                 321   275\n",
              "Malleshwaram            126   240\n",
              "Marathahalli            161   522\n",
              "New BEL Road             64   239\n",
              "Residency Road          267   175\n",
              "Richmond Road           202   149\n",
              "Sarjapur Road           109   347\n",
              "St. Marks Road          137   167\n",
              "Ulsoor                  170   307\n",
              "Whitefield              264   560\n",
              "others                 1057  2673"
            ]
          },
          "metadata": {},
          "execution_count": 54
        }
      ]
    },
    {
      "cell_type": "markdown",
      "metadata": {
        "id": "WMDOshTd-nS2"
      },
      "source": [
        "This says that which location having no. of online order and not having online order in restaurants"
      ]
    },
    {
      "cell_type": "code",
      "metadata": {
        "id": "8NzFhv5v-mUo",
        "colab": {
          "base_uri": "https://localhost:8080/",
          "height": 620
        },
        "outputId": "98eb8b2c-fb16-4c48-ed82-7e82647b9e81"
      },
      "source": [
        "data1.plot(kind='bar', figsize=(15,8))"
      ],
      "execution_count": 55,
      "outputs": [
        {
          "output_type": "execute_result",
          "data": {
            "text/plain": [
              "<matplotlib.axes._subplots.AxesSubplot at 0x7f1646ef93d0>"
            ]
          },
          "metadata": {},
          "execution_count": 55
        },
        {
          "output_type": "display_data",
          "data": {
            "image/png": "[encoded data removed]",
            "text/plain": [
              "<Figure size 1080x576 with 1 Axes>"
            ]
          },
          "metadata": {}
        }
      ]
    },
    {
      "cell_type": "markdown",
      "metadata": {
        "id": "M2JR1JMb_r-3"
      },
      "source": [
        "#visualsing book table facility, location wise"
      ]
    },
    {
      "cell_type": "code",
      "metadata": {
        "id": "OOUd4Enq-Xrl",
        "colab": {
          "base_uri": "https://localhost:8080/",
          "height": 1000
        },
        "outputId": "185abef3-d416-4997-a207-e87aacc1eb3c"
      },
      "source": [
        "data2=data.groupby([\"location\",\"book_table\"])[\"name\"].count()\n",
        "data2.to_csv('location_booktable.csv')\n",
        "data2=pd.read_csv('location_booktable.csv')\n",
        "data2=pd.pivot_table(data2, values=None, index=[\"location\"], columns=['book_table'],fill_value=0, aggfunc=np.sum)\n",
        "data2"
      ],
      "execution_count": 56,
      "outputs": [
        {
          "output_type": "execute_result",
          "data": {
            "text/html": [
              "<div>\n",
              "<style scoped>\n",
              "    .dataframe tbody tr th:only-of-type {\n",
              "        vertical-align: middle;\n",
              "    }\n",
              "\n",
              "    .dataframe tbody tr th {\n",
              "        vertical-align: top;\n",
              "    }\n",
              "\n",
              "    .dataframe thead tr th {\n",
              "        text-align: left;\n",
              "    }\n",
              "\n",
              "    .dataframe thead tr:last-of-type th {\n",
              "        text-align: right;\n",
              "    }\n",
              "</style>\n",
              "<table border=\"1\" class=\"dataframe\">\n",
              "  <thead>\n",
              "    <tr>\n",
              "      <th></th>\n",
              "      <th colspan=\"2\" halign=\"left\">name</th>\n",
              "    </tr>\n",
              "    <tr>\n",
              "      <th>book_table</th>\n",
              "      <th>No</th>\n",
              "      <th>Yes</th>\n",
              "    </tr>\n",
              "    <tr>\n",
              "      <th>location</th>\n",
              "      <th></th>\n",
              "      <th></th>\n",
              "    </tr>\n",
              "  </thead>\n",
              "  <tbody>\n",
              "    <tr>\n",
              "      <th>BTM</th>\n",
              "      <td>1322</td>\n",
              "      <td>138</td>\n",
              "    </tr>\n",
              "    <tr>\n",
              "      <th>Banashankari</th>\n",
              "      <td>335</td>\n",
              "      <td>55</td>\n",
              "    </tr>\n",
              "    <tr>\n",
              "      <th>Bannerghatta Road</th>\n",
              "      <td>406</td>\n",
              "      <td>91</td>\n",
              "    </tr>\n",
              "    <tr>\n",
              "      <th>Bellandur</th>\n",
              "      <td>366</td>\n",
              "      <td>96</td>\n",
              "    </tr>\n",
              "    <tr>\n",
              "      <th>Brigade Road</th>\n",
              "      <td>399</td>\n",
              "      <td>171</td>\n",
              "    </tr>\n",
              "    <tr>\n",
              "      <th>Brookefield</th>\n",
              "      <td>239</td>\n",
              "      <td>68</td>\n",
              "    </tr>\n",
              "    <tr>\n",
              "      <th>Church Street</th>\n",
              "      <td>326</td>\n",
              "      <td>182</td>\n",
              "    </tr>\n",
              "    <tr>\n",
              "      <th>Cunningham Road</th>\n",
              "      <td>164</td>\n",
              "      <td>169</td>\n",
              "    </tr>\n",
              "    <tr>\n",
              "      <th>Electronic City</th>\n",
              "      <td>243</td>\n",
              "      <td>84</td>\n",
              "    </tr>\n",
              "    <tr>\n",
              "      <th>HSR</th>\n",
              "      <td>960</td>\n",
              "      <td>202</td>\n",
              "    </tr>\n",
              "    <tr>\n",
              "      <th>Indiranagar</th>\n",
              "      <td>916</td>\n",
              "      <td>434</td>\n",
              "    </tr>\n",
              "    <tr>\n",
              "      <th>JP Nagar</th>\n",
              "      <td>726</td>\n",
              "      <td>299</td>\n",
              "    </tr>\n",
              "    <tr>\n",
              "      <th>Jayanagar</th>\n",
              "      <td>781</td>\n",
              "      <td>266</td>\n",
              "    </tr>\n",
              "    <tr>\n",
              "      <th>Kalyan Nagar</th>\n",
              "      <td>331</td>\n",
              "      <td>136</td>\n",
              "    </tr>\n",
              "    <tr>\n",
              "      <th>Koramangala 1st Block</th>\n",
              "      <td>417</td>\n",
              "      <td>50</td>\n",
              "    </tr>\n",
              "    <tr>\n",
              "      <th>Koramangala 4th Block</th>\n",
              "      <td>334</td>\n",
              "      <td>310</td>\n",
              "    </tr>\n",
              "    <tr>\n",
              "      <th>Koramangala 5th Block</th>\n",
              "      <td>1092</td>\n",
              "      <td>692</td>\n",
              "    </tr>\n",
              "    <tr>\n",
              "      <th>Koramangala 6th Block</th>\n",
              "      <td>607</td>\n",
              "      <td>113</td>\n",
              "    </tr>\n",
              "    <tr>\n",
              "      <th>Koramangala 7th Block</th>\n",
              "      <td>561</td>\n",
              "      <td>164</td>\n",
              "    </tr>\n",
              "    <tr>\n",
              "      <th>Lavelle Road</th>\n",
              "      <td>213</td>\n",
              "      <td>232</td>\n",
              "    </tr>\n",
              "    <tr>\n",
              "      <th>MG Road</th>\n",
              "      <td>278</td>\n",
              "      <td>318</td>\n",
              "    </tr>\n",
              "    <tr>\n",
              "      <th>Malleshwaram</th>\n",
              "      <td>277</td>\n",
              "      <td>89</td>\n",
              "    </tr>\n",
              "    <tr>\n",
              "      <th>Marathahalli</th>\n",
              "      <td>522</td>\n",
              "      <td>161</td>\n",
              "    </tr>\n",
              "    <tr>\n",
              "      <th>New BEL Road</th>\n",
              "      <td>251</td>\n",
              "      <td>52</td>\n",
              "    </tr>\n",
              "    <tr>\n",
              "      <th>Residency Road</th>\n",
              "      <td>291</td>\n",
              "      <td>151</td>\n",
              "    </tr>\n",
              "    <tr>\n",
              "      <th>Richmond Road</th>\n",
              "      <td>235</td>\n",
              "      <td>116</td>\n",
              "    </tr>\n",
              "    <tr>\n",
              "      <th>Sarjapur Road</th>\n",
              "      <td>304</td>\n",
              "      <td>152</td>\n",
              "    </tr>\n",
              "    <tr>\n",
              "      <th>St. Marks Road</th>\n",
              "      <td>180</td>\n",
              "      <td>124</td>\n",
              "    </tr>\n",
              "    <tr>\n",
              "      <th>Ulsoor</th>\n",
              "      <td>327</td>\n",
              "      <td>150</td>\n",
              "    </tr>\n",
              "    <tr>\n",
              "      <th>Whitefield</th>\n",
              "      <td>579</td>\n",
              "      <td>245</td>\n",
              "    </tr>\n",
              "    <tr>\n",
              "      <th>others</th>\n",
              "      <td>3104</td>\n",
              "      <td>626</td>\n",
              "    </tr>\n",
              "  </tbody>\n",
              "</table>\n",
              "</div>"
            ],
            "text/plain": [
              "                       name     \n",
              "book_table               No  Yes\n",
              "location                        \n",
              "BTM                    1322  138\n",
              "Banashankari            335   55\n",
              "Bannerghatta Road       406   91\n",
              "Bellandur               366   96\n",
              "Brigade Road            399  171\n",
              "Brookefield             239   68\n",
              "Church Street           326  182\n",
              "Cunningham Road         164  169\n",
              "Electronic City         243   84\n",
              "HSR                     960  202\n",
              "Indiranagar             916  434\n",
              "JP Nagar                726  299\n",
              "Jayanagar               781  266\n",
              "Kalyan Nagar            331  136\n",
              "Koramangala 1st Block   417   50\n",
              "Koramangala 4th Block   334  310\n",
              "Koramangala 5th Block  1092  692\n",
              "Koramangala 6th Block   607  113\n",
              "Koramangala 7th Block   561  164\n",
              "Lavelle Road            213  232\n",
              "MG Road                 278  318\n",
              "Malleshwaram            277   89\n",
              "Marathahalli            522  161\n",
              "New BEL Road            251   52\n",
              "Residency Road          291  151\n",
              "Richmond Road           235  116\n",
              "Sarjapur Road           304  152\n",
              "St. Marks Road          180  124\n",
              "Ulsoor                  327  150\n",
              "Whitefield              579  245\n",
              "others                 3104  626"
            ]
          },
          "metadata": {},
          "execution_count": 56
        }
      ]
    },
    {
      "cell_type": "code",
      "metadata": {
        "id": "7U79tlJ4AgDq",
        "colab": {
          "base_uri": "https://localhost:8080/",
          "height": 837
        },
        "outputId": "73b06f79-c220-446a-a804-83d7a843f890"
      },
      "source": [
        "data2.plot(kind='bar', figsize=(20,12))"
      ],
      "execution_count": 57,
      "outputs": [
        {
          "output_type": "execute_result",
          "data": {
            "text/plain": [
              "<matplotlib.axes._subplots.AxesSubplot at 0x7f1646d1f390>"
            ]
          },
          "metadata": {},
          "execution_count": 57
        },
        {
          "output_type": "display_data",
          "data": {
            "image/png": "[encoded data removed]",
            "text/plain": [
              "<Figure size 1440x864 with 1 Axes>"
            ]
          },
          "metadata": {}
        }
      ]
    },
    {
      "cell_type": "markdown",
      "metadata": {
        "id": "9tTTpZaaBZVw"
      },
      "source": [
        "#Restaurants vs rate"
      ]
    },
    {
      "cell_type": "code",
      "metadata": {
        "id": "FacVUiEAAqMF",
        "colab": {
          "base_uri": "https://localhost:8080/",
          "height": 514
        },
        "outputId": "c3553ffb-1a4f-40cc-d95e-0e56289d4573"
      },
      "source": [
        "plt.figure(figsize=(16,8))\n",
        "sns.boxplot(x='type',y='rate', data=data, palette=\"inferno\")"
      ],
      "execution_count": 58,
      "outputs": [
        {
          "output_type": "execute_result",
          "data": {
            "text/plain": [
              "<matplotlib.axes._subplots.AxesSubplot at 0x7f1646bed150>"
            ]
          },
          "metadata": {},
          "execution_count": 58
        },
        {
          "output_type": "display_data",
          "data": {
            "image/png": "[encoded data removed]",
            "text/plain": [
              "<Figure size 1152x576 with 1 Axes>"
            ]
          },
          "metadata": {}
        }
      ]
    },
    {
      "cell_type": "markdown",
      "metadata": {
        "id": "J3O1RnQEB3VZ"
      },
      "source": [
        "Here we can see that drinks and night life restaurants and pubs and bars are getting high rating compared to others"
      ]
    },
    {
      "cell_type": "markdown",
      "metadata": {
        "id": "jMHotem9CmkB"
      },
      "source": [
        "#clustering types of restaurants, location wise"
      ]
    },
    {
      "cell_type": "code",
      "metadata": {
        "id": "JMdSSBOnBs-R",
        "colab": {
          "base_uri": "https://localhost:8080/",
          "height": 1000
        },
        "outputId": "50afbc63-f3a7-4d68-8266-08ab4f2b83fd"
      },
      "source": [
        "data3=data.groupby(['location','type'])['name'].count()\n",
        "data3.to_csv('location_type.csv')\n",
        "data3=pd.read_csv(\"location_type.csv\")\n",
        "data3=pd.pivot_table(data3, values=None, index=['location'], columns=[\"type\"],fill_value=0, aggfunc=np.sum)\n",
        "data3"
      ],
      "execution_count": 59,
      "outputs": [
        {
          "output_type": "execute_result",
          "data": {
            "text/html": [
              "<div>\n",
              "<style scoped>\n",
              "    .dataframe tbody tr th:only-of-type {\n",
              "        vertical-align: middle;\n",
              "    }\n",
              "\n",
              "    .dataframe tbody tr th {\n",
              "        vertical-align: top;\n",
              "    }\n",
              "\n",
              "    .dataframe thead tr th {\n",
              "        text-align: left;\n",
              "    }\n",
              "\n",
              "    .dataframe thead tr:last-of-type th {\n",
              "        text-align: right;\n",
              "    }\n",
              "</style>\n",
              "<table border=\"1\" class=\"dataframe\">\n",
              "  <thead>\n",
              "    <tr>\n",
              "      <th></th>\n",
              "      <th colspan=\"7\" halign=\"left\">name</th>\n",
              "    </tr>\n",
              "    <tr>\n",
              "      <th>type</th>\n",
              "      <th>Buffet</th>\n",
              "      <th>Cafes</th>\n",
              "      <th>Delivery</th>\n",
              "      <th>Desserts</th>\n",
              "      <th>Dine-out</th>\n",
              "      <th>Drinks &amp; nightlife</th>\n",
              "      <th>Pubs and bars</th>\n",
              "    </tr>\n",
              "    <tr>\n",
              "      <th>location</th>\n",
              "      <th></th>\n",
              "      <th></th>\n",
              "      <th></th>\n",
              "      <th></th>\n",
              "      <th></th>\n",
              "      <th></th>\n",
              "      <th></th>\n",
              "    </tr>\n",
              "  </thead>\n",
              "  <tbody>\n",
              "    <tr>\n",
              "      <th>BTM</th>\n",
              "      <td>18</td>\n",
              "      <td>36</td>\n",
              "      <td>884</td>\n",
              "      <td>51</td>\n",
              "      <td>456</td>\n",
              "      <td>9</td>\n",
              "      <td>6</td>\n",
              "    </tr>\n",
              "    <tr>\n",
              "      <th>Banashankari</th>\n",
              "      <td>7</td>\n",
              "      <td>24</td>\n",
              "      <td>191</td>\n",
              "      <td>19</td>\n",
              "      <td>141</td>\n",
              "      <td>8</td>\n",
              "      <td>0</td>\n",
              "    </tr>\n",
              "    <tr>\n",
              "      <th>Bannerghatta Road</th>\n",
              "      <td>8</td>\n",
              "      <td>19</td>\n",
              "      <td>252</td>\n",
              "      <td>28</td>\n",
              "      <td>180</td>\n",
              "      <td>8</td>\n",
              "      <td>2</td>\n",
              "    </tr>\n",
              "    <tr>\n",
              "      <th>Bellandur</th>\n",
              "      <td>26</td>\n",
              "      <td>11</td>\n",
              "      <td>211</td>\n",
              "      <td>22</td>\n",
              "      <td>165</td>\n",
              "      <td>15</td>\n",
              "      <td>12</td>\n",
              "    </tr>\n",
              "    <tr>\n",
              "      <th>Brigade Road</th>\n",
              "      <td>20</td>\n",
              "      <td>20</td>\n",
              "      <td>202</td>\n",
              "      <td>42</td>\n",
              "      <td>213</td>\n",
              "      <td>53</td>\n",
              "      <td>20</td>\n",
              "    </tr>\n",
              "    <tr>\n",
              "      <th>Brookefield</th>\n",
              "      <td>6</td>\n",
              "      <td>15</td>\n",
              "      <td>150</td>\n",
              "      <td>14</td>\n",
              "      <td>118</td>\n",
              "      <td>4</td>\n",
              "      <td>0</td>\n",
              "    </tr>\n",
              "    <tr>\n",
              "      <th>Church Street</th>\n",
              "      <td>19</td>\n",
              "      <td>40</td>\n",
              "      <td>178</td>\n",
              "      <td>23</td>\n",
              "      <td>197</td>\n",
              "      <td>31</td>\n",
              "      <td>20</td>\n",
              "    </tr>\n",
              "    <tr>\n",
              "      <th>Cunningham Road</th>\n",
              "      <td>23</td>\n",
              "      <td>23</td>\n",
              "      <td>145</td>\n",
              "      <td>17</td>\n",
              "      <td>110</td>\n",
              "      <td>11</td>\n",
              "      <td>4</td>\n",
              "    </tr>\n",
              "    <tr>\n",
              "      <th>Electronic City</th>\n",
              "      <td>17</td>\n",
              "      <td>11</td>\n",
              "      <td>126</td>\n",
              "      <td>15</td>\n",
              "      <td>134</td>\n",
              "      <td>12</td>\n",
              "      <td>12</td>\n",
              "    </tr>\n",
              "    <tr>\n",
              "      <th>HSR</th>\n",
              "      <td>17</td>\n",
              "      <td>36</td>\n",
              "      <td>759</td>\n",
              "      <td>54</td>\n",
              "      <td>270</td>\n",
              "      <td>12</td>\n",
              "      <td>14</td>\n",
              "    </tr>\n",
              "    <tr>\n",
              "      <th>Indiranagar</th>\n",
              "      <td>36</td>\n",
              "      <td>81</td>\n",
              "      <td>668</td>\n",
              "      <td>87</td>\n",
              "      <td>358</td>\n",
              "      <td>62</td>\n",
              "      <td>58</td>\n",
              "    </tr>\n",
              "    <tr>\n",
              "      <th>JP Nagar</th>\n",
              "      <td>34</td>\n",
              "      <td>51</td>\n",
              "      <td>470</td>\n",
              "      <td>63</td>\n",
              "      <td>356</td>\n",
              "      <td>45</td>\n",
              "      <td>6</td>\n",
              "    </tr>\n",
              "    <tr>\n",
              "      <th>Jayanagar</th>\n",
              "      <td>25</td>\n",
              "      <td>55</td>\n",
              "      <td>572</td>\n",
              "      <td>72</td>\n",
              "      <td>311</td>\n",
              "      <td>12</td>\n",
              "      <td>0</td>\n",
              "    </tr>\n",
              "    <tr>\n",
              "      <th>Kalyan Nagar</th>\n",
              "      <td>9</td>\n",
              "      <td>27</td>\n",
              "      <td>193</td>\n",
              "      <td>33</td>\n",
              "      <td>187</td>\n",
              "      <td>18</td>\n",
              "      <td>0</td>\n",
              "    </tr>\n",
              "    <tr>\n",
              "      <th>Koramangala 1st Block</th>\n",
              "      <td>3</td>\n",
              "      <td>18</td>\n",
              "      <td>269</td>\n",
              "      <td>17</td>\n",
              "      <td>148</td>\n",
              "      <td>7</td>\n",
              "      <td>5</td>\n",
              "    </tr>\n",
              "    <tr>\n",
              "      <th>Koramangala 4th Block</th>\n",
              "      <td>16</td>\n",
              "      <td>39</td>\n",
              "      <td>259</td>\n",
              "      <td>41</td>\n",
              "      <td>209</td>\n",
              "      <td>52</td>\n",
              "      <td>28</td>\n",
              "    </tr>\n",
              "    <tr>\n",
              "      <th>Koramangala 5th Block</th>\n",
              "      <td>65</td>\n",
              "      <td>124</td>\n",
              "      <td>710</td>\n",
              "      <td>148</td>\n",
              "      <td>601</td>\n",
              "      <td>84</td>\n",
              "      <td>52</td>\n",
              "    </tr>\n",
              "    <tr>\n",
              "      <th>Koramangala 6th Block</th>\n",
              "      <td>18</td>\n",
              "      <td>36</td>\n",
              "      <td>315</td>\n",
              "      <td>44</td>\n",
              "      <td>258</td>\n",
              "      <td>36</td>\n",
              "      <td>13</td>\n",
              "    </tr>\n",
              "    <tr>\n",
              "      <th>Koramangala 7th Block</th>\n",
              "      <td>25</td>\n",
              "      <td>26</td>\n",
              "      <td>277</td>\n",
              "      <td>68</td>\n",
              "      <td>287</td>\n",
              "      <td>20</td>\n",
              "      <td>22</td>\n",
              "    </tr>\n",
              "    <tr>\n",
              "      <th>Lavelle Road</th>\n",
              "      <td>29</td>\n",
              "      <td>22</td>\n",
              "      <td>101</td>\n",
              "      <td>29</td>\n",
              "      <td>178</td>\n",
              "      <td>55</td>\n",
              "      <td>31</td>\n",
              "    </tr>\n",
              "    <tr>\n",
              "      <th>MG Road</th>\n",
              "      <td>44</td>\n",
              "      <td>43</td>\n",
              "      <td>144</td>\n",
              "      <td>29</td>\n",
              "      <td>256</td>\n",
              "      <td>50</td>\n",
              "      <td>30</td>\n",
              "    </tr>\n",
              "    <tr>\n",
              "      <th>Malleshwaram</th>\n",
              "      <td>11</td>\n",
              "      <td>14</td>\n",
              "      <td>119</td>\n",
              "      <td>27</td>\n",
              "      <td>163</td>\n",
              "      <td>18</td>\n",
              "      <td>14</td>\n",
              "    </tr>\n",
              "    <tr>\n",
              "      <th>Marathahalli</th>\n",
              "      <td>27</td>\n",
              "      <td>8</td>\n",
              "      <td>354</td>\n",
              "      <td>18</td>\n",
              "      <td>251</td>\n",
              "      <td>22</td>\n",
              "      <td>3</td>\n",
              "    </tr>\n",
              "    <tr>\n",
              "      <th>New BEL Road</th>\n",
              "      <td>4</td>\n",
              "      <td>20</td>\n",
              "      <td>157</td>\n",
              "      <td>14</td>\n",
              "      <td>93</td>\n",
              "      <td>7</td>\n",
              "      <td>8</td>\n",
              "    </tr>\n",
              "    <tr>\n",
              "      <th>Residency Road</th>\n",
              "      <td>20</td>\n",
              "      <td>20</td>\n",
              "      <td>111</td>\n",
              "      <td>42</td>\n",
              "      <td>191</td>\n",
              "      <td>41</td>\n",
              "      <td>17</td>\n",
              "    </tr>\n",
              "    <tr>\n",
              "      <th>Richmond Road</th>\n",
              "      <td>54</td>\n",
              "      <td>10</td>\n",
              "      <td>86</td>\n",
              "      <td>25</td>\n",
              "      <td>164</td>\n",
              "      <td>6</td>\n",
              "      <td>6</td>\n",
              "    </tr>\n",
              "    <tr>\n",
              "      <th>Sarjapur Road</th>\n",
              "      <td>26</td>\n",
              "      <td>11</td>\n",
              "      <td>207</td>\n",
              "      <td>25</td>\n",
              "      <td>146</td>\n",
              "      <td>20</td>\n",
              "      <td>21</td>\n",
              "    </tr>\n",
              "    <tr>\n",
              "      <th>St. Marks Road</th>\n",
              "      <td>5</td>\n",
              "      <td>10</td>\n",
              "      <td>101</td>\n",
              "      <td>10</td>\n",
              "      <td>120</td>\n",
              "      <td>36</td>\n",
              "      <td>22</td>\n",
              "    </tr>\n",
              "    <tr>\n",
              "      <th>Ulsoor</th>\n",
              "      <td>16</td>\n",
              "      <td>43</td>\n",
              "      <td>170</td>\n",
              "      <td>27</td>\n",
              "      <td>184</td>\n",
              "      <td>19</td>\n",
              "      <td>18</td>\n",
              "    </tr>\n",
              "    <tr>\n",
              "      <th>Whitefield</th>\n",
              "      <td>21</td>\n",
              "      <td>27</td>\n",
              "      <td>360</td>\n",
              "      <td>39</td>\n",
              "      <td>319</td>\n",
              "      <td>31</td>\n",
              "      <td>27</td>\n",
              "    </tr>\n",
              "    <tr>\n",
              "      <th>others</th>\n",
              "      <td>113</td>\n",
              "      <td>127</td>\n",
              "      <td>1887</td>\n",
              "      <td>190</td>\n",
              "      <td>1271</td>\n",
              "      <td>86</td>\n",
              "      <td>56</td>\n",
              "    </tr>\n",
              "  </tbody>\n",
              "</table>\n",
              "</div>"
            ],
            "text/plain": [
              "                        name        ...                                 \n",
              "type                  Buffet Cafes  ... Drinks & nightlife Pubs and bars\n",
              "location                            ...                                 \n",
              "BTM                       18    36  ...                  9             6\n",
              "Banashankari               7    24  ...                  8             0\n",
              "Bannerghatta Road          8    19  ...                  8             2\n",
              "Bellandur                 26    11  ...                 15            12\n",
              "Brigade Road              20    20  ...                 53            20\n",
              "Brookefield                6    15  ...                  4             0\n",
              "Church Street             19    40  ...                 31            20\n",
              "Cunningham Road           23    23  ...                 11             4\n",
              "Electronic City           17    11  ...                 12            12\n",
              "HSR                       17    36  ...                 12            14\n",
              "Indiranagar               36    81  ...                 62            58\n",
              "JP Nagar                  34    51  ...                 45             6\n",
              "Jayanagar                 25    55  ...                 12             0\n",
              "Kalyan Nagar               9    27  ...                 18             0\n",
              "Koramangala 1st Block      3    18  ...                  7             5\n",
              "Koramangala 4th Block     16    39  ...                 52            28\n",
              "Koramangala 5th Block     65   124  ...                 84            52\n",
              "Koramangala 6th Block     18    36  ...                 36            13\n",
              "Koramangala 7th Block     25    26  ...                 20            22\n",
              "Lavelle Road              29    22  ...                 55            31\n",
              "MG Road                   44    43  ...                 50            30\n",
              "Malleshwaram              11    14  ...                 18            14\n",
              "Marathahalli              27     8  ...                 22             3\n",
              "New BEL Road               4    20  ...                  7             8\n",
              "Residency Road            20    20  ...                 41            17\n",
              "Richmond Road             54    10  ...                  6             6\n",
              "Sarjapur Road             26    11  ...                 20            21\n",
              "St. Marks Road             5    10  ...                 36            22\n",
              "Ulsoor                    16    43  ...                 19            18\n",
              "Whitefield                21    27  ...                 31            27\n",
              "others                   113   127  ...                 86            56\n",
              "\n",
              "[31 rows x 7 columns]"
            ]
          },
          "metadata": {},
          "execution_count": 59
        }
      ]
    },
    {
      "cell_type": "markdown",
      "metadata": {
        "id": "MVr22H6RDoD0"
      },
      "source": [
        "we can see all types regarding all locations"
      ]
    },
    {
      "cell_type": "code",
      "metadata": {
        "id": "alCS3w-iDEil",
        "colab": {
          "base_uri": "https://localhost:8080/",
          "height": 754
        },
        "outputId": "b509c0d1-cc86-420d-db2e-90af86abfcb5"
      },
      "source": [
        "data3.plot(kind=\"bar\", figsize=(40,15))\n"
      ],
      "execution_count": 60,
      "outputs": [
        {
          "output_type": "execute_result",
          "data": {
            "text/plain": [
              "<matplotlib.axes._subplots.AxesSubplot at 0x7f1646b0e550>"
            ]
          },
          "metadata": {},
          "execution_count": 60
        },
        {
          "output_type": "display_data",
          "data": {
            "image/png": "[encoded data removed]",
            "text/plain": [
              "<Figure size 2880x1080 with 1 Axes>"
            ]
          },
          "metadata": {}
        }
      ]
    },
    {
      "cell_type": "markdown",
      "metadata": {
        "id": "vgkBDB-_EgWi"
      },
      "source": [
        "#No.of votes, location wise"
      ]
    },
    {
      "cell_type": "code",
      "metadata": {
        "id": "4U5S7fDrEljf",
        "colab": {
          "base_uri": "https://localhost:8080/",
          "height": 237
        },
        "outputId": "f1d3630c-1d6d-4d2e-9155-aee777eb2c5c"
      },
      "source": [
        "data4=data[['location', 'votes']]\n",
        "data4.drop_duplicates()\n",
        "data5=data4.groupby(['location'])['votes'].sum()\n",
        "data5=data5.to_frame()\n",
        "data5=data5.sort_values('votes', ascending=False)\n",
        "data5.head()"
      ],
      "execution_count": 61,
      "outputs": [
        {
          "output_type": "execute_result",
          "data": {
            "text/html": [
              "<div>\n",
              "<style scoped>\n",
              "    .dataframe tbody tr th:only-of-type {\n",
              "        vertical-align: middle;\n",
              "    }\n",
              "\n",
              "    .dataframe tbody tr th {\n",
              "        vertical-align: top;\n",
              "    }\n",
              "\n",
              "    .dataframe thead th {\n",
              "        text-align: right;\n",
              "    }\n",
              "</style>\n",
              "<table border=\"1\" class=\"dataframe\">\n",
              "  <thead>\n",
              "    <tr style=\"text-align: right;\">\n",
              "      <th></th>\n",
              "      <th>votes</th>\n",
              "    </tr>\n",
              "    <tr>\n",
              "      <th>location</th>\n",
              "      <th></th>\n",
              "    </tr>\n",
              "  </thead>\n",
              "  <tbody>\n",
              "    <tr>\n",
              "      <th>Koramangala 5th Block</th>\n",
              "      <td>2197617</td>\n",
              "    </tr>\n",
              "    <tr>\n",
              "      <th>others</th>\n",
              "      <td>1213964</td>\n",
              "    </tr>\n",
              "    <tr>\n",
              "      <th>Indiranagar</th>\n",
              "      <td>1150323</td>\n",
              "    </tr>\n",
              "    <tr>\n",
              "      <th>Koramangala 4th Block</th>\n",
              "      <td>656372</td>\n",
              "    </tr>\n",
              "    <tr>\n",
              "      <th>Church Street</th>\n",
              "      <td>593580</td>\n",
              "    </tr>\n",
              "  </tbody>\n",
              "</table>\n",
              "</div>"
            ],
            "text/plain": [
              "                         votes\n",
              "location                      \n",
              "Koramangala 5th Block  2197617\n",
              "others                 1213964\n",
              "Indiranagar            1150323\n",
              "Koramangala 4th Block   656372\n",
              "Church Street           593580"
            ]
          },
          "metadata": {},
          "execution_count": 61
        }
      ]
    },
    {
      "cell_type": "markdown",
      "metadata": {
        "id": "19u6AKLRFS-9"
      },
      "source": [
        "above are the votes, location wise"
      ]
    },
    {
      "cell_type": "code",
      "metadata": {
        "id": "ZT2SfFaeEBV9",
        "colab": {
          "base_uri": "https://localhost:8080/",
          "height": 666
        },
        "outputId": "51629c8e-bed6-4eaa-b58c-dadca726ab1c"
      },
      "source": [
        "plt.figure(figsize=(15,8))\n",
        "sns.barplot(data5.index, data5[\"votes\"])\n",
        "plt.xticks(rotation=90)"
      ],
      "execution_count": 62,
      "outputs": [
        {
          "output_type": "execute_result",
          "data": {
            "text/plain": [
              "(array([ 0,  1,  2,  3,  4,  5,  6,  7,  8,  9, 10, 11, 12, 13, 14, 15, 16,\n",
              "        17, 18, 19, 20, 21, 22, 23, 24, 25, 26, 27, 28, 29, 30]),\n",
              " <a list of 31 Text major ticklabel objects>)"
            ]
          },
          "metadata": {},
          "execution_count": 62
        },
        {
          "output_type": "display_data",
          "data": {
            "image/png": "[encoded data removed]",
            "text/plain": [
              "<Figure size 1080x576 with 1 Axes>"
            ]
          },
          "metadata": {}
        }
      ]
    },
    {
      "cell_type": "markdown",
      "metadata": {
        "id": "K3tH4COzF7bB"
      },
      "source": [
        "above one says about the location wise customers interest in voting or giving feed back"
      ]
    },
    {
      "cell_type": "markdown",
      "metadata": {
        "id": "XeUXVkebGO25"
      },
      "source": [
        "#visualsing top cuisines"
      ]
    },
    {
      "cell_type": "code",
      "metadata": {
        "id": "PxzaynHhFxtI",
        "colab": {
          "base_uri": "https://localhost:8080/",
          "height": 237
        },
        "outputId": "48487626-e078-4ab2-b4fd-1744c5245e85"
      },
      "source": [
        "data6= data[['cuisines', 'votes']]\n",
        "data6.drop_duplicates()\n",
        "data7=data6.groupby(['cuisines'])['votes'].sum()\n",
        "data7=data7.to_frame()\n",
        "data7=data7.sort_values('votes', ascending=False)\n",
        "data7.head()"
      ],
      "execution_count": 63,
      "outputs": [
        {
          "output_type": "execute_result",
          "data": {
            "text/html": [
              "<div>\n",
              "<style scoped>\n",
              "    .dataframe tbody tr th:only-of-type {\n",
              "        vertical-align: middle;\n",
              "    }\n",
              "\n",
              "    .dataframe tbody tr th {\n",
              "        vertical-align: top;\n",
              "    }\n",
              "\n",
              "    .dataframe thead th {\n",
              "        text-align: right;\n",
              "    }\n",
              "</style>\n",
              "<table border=\"1\" class=\"dataframe\">\n",
              "  <thead>\n",
              "    <tr style=\"text-align: right;\">\n",
              "      <th></th>\n",
              "      <th>votes</th>\n",
              "    </tr>\n",
              "    <tr>\n",
              "      <th>cuisines</th>\n",
              "      <th></th>\n",
              "    </tr>\n",
              "  </thead>\n",
              "  <tbody>\n",
              "    <tr>\n",
              "      <th>others</th>\n",
              "      <td>12092439</td>\n",
              "    </tr>\n",
              "    <tr>\n",
              "      <th>North Indian</th>\n",
              "      <td>487386</td>\n",
              "    </tr>\n",
              "    <tr>\n",
              "      <th>North Indian, Chinese</th>\n",
              "      <td>219244</td>\n",
              "    </tr>\n",
              "    <tr>\n",
              "      <th>South Indian</th>\n",
              "      <td>143967</td>\n",
              "    </tr>\n",
              "    <tr>\n",
              "      <th>North Indian, Mughlai</th>\n",
              "      <td>102581</td>\n",
              "    </tr>\n",
              "  </tbody>\n",
              "</table>\n",
              "</div>"
            ],
            "text/plain": [
              "                          votes\n",
              "cuisines                       \n",
              "others                 12092439\n",
              "North Indian             487386\n",
              "North Indian, Chinese    219244\n",
              "South Indian             143967\n",
              "North Indian, Mughlai    102581"
            ]
          },
          "metadata": {},
          "execution_count": 63
        }
      ]
    },
    {
      "cell_type": "code",
      "metadata": {
        "id": "jVNA-bvPG91g",
        "colab": {
          "base_uri": "https://localhost:8080/",
          "height": 790
        },
        "outputId": "48f44f8a-5e88-400a-cf28-ede832427bbb"
      },
      "source": [
        "plt.figure(figsize=(15,8))\n",
        "sns.barplot(data7.index, data7[\"votes\"])\n",
        "plt.xticks(rotation=90)"
      ],
      "execution_count": 64,
      "outputs": [
        {
          "output_type": "execute_result",
          "data": {
            "text/plain": [
              "(array([ 0,  1,  2,  3,  4,  5,  6,  7,  8,  9, 10, 11, 12, 13, 14, 15, 16,\n",
              "        17, 18, 19, 20, 21, 22, 23]),\n",
              " <a list of 24 Text major ticklabel objects>)"
            ]
          },
          "metadata": {},
          "execution_count": 64
        },
        {
          "output_type": "display_data",
          "data": {
            "image/png": "[encoded data removed]",
            "text/plain": [
              "<Figure size 1080x576 with 1 Axes>"
            ]
          },
          "metadata": {}
        }
      ]
    },
    {
      "cell_type": "code",
      "metadata": {
        "id": "2GveJRv7HQQp",
        "colab": {
          "base_uri": "https://localhost:8080/",
          "height": 237
        },
        "outputId": "d4caf64e-14f2-4a81-e3ca-65b803e56018"
      },
      "source": [
        "#removing others \n",
        "data7=data7.iloc[1:, :]\n",
        "data7.head()"
      ],
      "execution_count": 65,
      "outputs": [
        {
          "output_type": "execute_result",
          "data": {
            "text/html": [
              "<div>\n",
              "<style scoped>\n",
              "    .dataframe tbody tr th:only-of-type {\n",
              "        vertical-align: middle;\n",
              "    }\n",
              "\n",
              "    .dataframe tbody tr th {\n",
              "        vertical-align: top;\n",
              "    }\n",
              "\n",
              "    .dataframe thead th {\n",
              "        text-align: right;\n",
              "    }\n",
              "</style>\n",
              "<table border=\"1\" class=\"dataframe\">\n",
              "  <thead>\n",
              "    <tr style=\"text-align: right;\">\n",
              "      <th></th>\n",
              "      <th>votes</th>\n",
              "    </tr>\n",
              "    <tr>\n",
              "      <th>cuisines</th>\n",
              "      <th></th>\n",
              "    </tr>\n",
              "  </thead>\n",
              "  <tbody>\n",
              "    <tr>\n",
              "      <th>North Indian</th>\n",
              "      <td>487386</td>\n",
              "    </tr>\n",
              "    <tr>\n",
              "      <th>North Indian, Chinese</th>\n",
              "      <td>219244</td>\n",
              "    </tr>\n",
              "    <tr>\n",
              "      <th>South Indian</th>\n",
              "      <td>143967</td>\n",
              "    </tr>\n",
              "    <tr>\n",
              "      <th>North Indian, Mughlai</th>\n",
              "      <td>102581</td>\n",
              "    </tr>\n",
              "    <tr>\n",
              "      <th>Chinese</th>\n",
              "      <td>98508</td>\n",
              "    </tr>\n",
              "  </tbody>\n",
              "</table>\n",
              "</div>"
            ],
            "text/plain": [
              "                        votes\n",
              "cuisines                     \n",
              "North Indian           487386\n",
              "North Indian, Chinese  219244\n",
              "South Indian           143967\n",
              "North Indian, Mughlai  102581\n",
              "Chinese                 98508"
            ]
          },
          "metadata": {},
          "execution_count": 65
        }
      ]
    },
    {
      "cell_type": "code",
      "metadata": {
        "id": "VtffWYEmILQ2",
        "colab": {
          "base_uri": "https://localhost:8080/",
          "height": 762
        },
        "outputId": "dbaccf61-c5b2-408a-bec8-dfdda191d16e"
      },
      "source": [
        "#after removing others\n",
        "plt.figure(figsize=(15,8))\n",
        "sns.barplot(data7.index, data7[\"votes\"])\n",
        "plt.xticks(rotation=90)"
      ],
      "execution_count": 66,
      "outputs": [
        {
          "output_type": "execute_result",
          "data": {
            "text/plain": [
              "(array([ 0,  1,  2,  3,  4,  5,  6,  7,  8,  9, 10, 11, 12, 13, 14, 15, 16,\n",
              "        17, 18, 19, 20, 21, 22]), <a list of 23 Text major ticklabel objects>)"
            ]
          },
          "metadata": {},
          "execution_count": 66
        },
        {
          "output_type": "display_data",
          "data": {
            "image/png": "[encoded data removed]",
            "text/plain": [
              "<Figure size 1080x576 with 1 Axes>"
            ]
          },
          "metadata": {}
        }
      ]
    },
    {
      "cell_type": "markdown",
      "metadata": {
        "id": "chbF9q8EIqcK"
      },
      "source": [
        "Above says highest votes are given to north indian cuisines "
      ]
    },
    {
      "cell_type": "code",
      "metadata": {
        "id": "TNEeFCgKITS1",
        "colab": {
          "base_uri": "https://localhost:8080/",
          "height": 501
        },
        "outputId": "b773a431-c085-4b19-f6e7-c31049ed9400"
      },
      "source": [
        "data.head()"
      ],
      "execution_count": 67,
      "outputs": [
        {
          "output_type": "execute_result",
          "data": {
            "text/html": [
              "<div>\n",
              "<style scoped>\n",
              "    .dataframe tbody tr th:only-of-type {\n",
              "        vertical-align: middle;\n",
              "    }\n",
              "\n",
              "    .dataframe tbody tr th {\n",
              "        vertical-align: top;\n",
              "    }\n",
              "\n",
              "    .dataframe thead th {\n",
              "        text-align: right;\n",
              "    }\n",
              "</style>\n",
              "<table border=\"1\" class=\"dataframe\">\n",
              "  <thead>\n",
              "    <tr style=\"text-align: right;\">\n",
              "      <th></th>\n",
              "      <th>url</th>\n",
              "      <th>address</th>\n",
              "      <th>name</th>\n",
              "      <th>online_order</th>\n",
              "      <th>book_table</th>\n",
              "      <th>rate</th>\n",
              "      <th>votes</th>\n",
              "      <th>phone</th>\n",
              "      <th>location</th>\n",
              "      <th>rest_type</th>\n",
              "      <th>dish_liked</th>\n",
              "      <th>cuisines</th>\n",
              "      <th>costfor2plates</th>\n",
              "      <th>reviews_list</th>\n",
              "      <th>menu_item</th>\n",
              "      <th>type</th>\n",
              "    </tr>\n",
              "  </thead>\n",
              "  <tbody>\n",
              "    <tr>\n",
              "      <th>0</th>\n",
              "      <td>https://www.zomato.com/bangalore/jalsa-banasha...</td>\n",
              "      <td>942, 21st Main Road, 2nd Stage, Banashankari, ...</td>\n",
              "      <td>Jalsa</td>\n",
              "      <td>Yes</td>\n",
              "      <td>Yes</td>\n",
              "      <td>4.1</td>\n",
              "      <td>775</td>\n",
              "      <td>080 42297555\\r\\n+91 9743772233</td>\n",
              "      <td>Banashankari</td>\n",
              "      <td>Casual Dining</td>\n",
              "      <td>Pasta, Lunch Buffet, Masala Papad, Paneer Laja...</td>\n",
              "      <td>others</td>\n",
              "      <td>800.0</td>\n",
              "      <td>[('Rated 4.0', 'RATED\\n  A beautiful place to ...</td>\n",
              "      <td>[]</td>\n",
              "      <td>Buffet</td>\n",
              "    </tr>\n",
              "    <tr>\n",
              "      <th>1</th>\n",
              "      <td>https://www.zomato.com/bangalore/spice-elephan...</td>\n",
              "      <td>2nd Floor, 80 Feet Road, Near Big Bazaar, 6th ...</td>\n",
              "      <td>Spice Elephant</td>\n",
              "      <td>Yes</td>\n",
              "      <td>No</td>\n",
              "      <td>4.1</td>\n",
              "      <td>787</td>\n",
              "      <td>080 41714161</td>\n",
              "      <td>Banashankari</td>\n",
              "      <td>Casual Dining</td>\n",
              "      <td>Momos, Lunch Buffet, Chocolate Nirvana, Thai G...</td>\n",
              "      <td>others</td>\n",
              "      <td>800.0</td>\n",
              "      <td>[('Rated 4.0', 'RATED\\n  Had been here for din...</td>\n",
              "      <td>[]</td>\n",
              "      <td>Buffet</td>\n",
              "    </tr>\n",
              "    <tr>\n",
              "      <th>2</th>\n",
              "      <td>https://www.zomato.com/SanchurroBangalore?cont...</td>\n",
              "      <td>1112, Next to KIMS Medical College, 17th Cross...</td>\n",
              "      <td>San Churro Cafe</td>\n",
              "      <td>Yes</td>\n",
              "      <td>No</td>\n",
              "      <td>3.8</td>\n",
              "      <td>918</td>\n",
              "      <td>+91 9663487993</td>\n",
              "      <td>Banashankari</td>\n",
              "      <td>others</td>\n",
              "      <td>Churros, Cannelloni, Minestrone Soup, Hot Choc...</td>\n",
              "      <td>others</td>\n",
              "      <td>800.0</td>\n",
              "      <td>[('Rated 3.0', \"RATED\\n  Ambience is not that ...</td>\n",
              "      <td>[]</td>\n",
              "      <td>Buffet</td>\n",
              "    </tr>\n",
              "    <tr>\n",
              "      <th>3</th>\n",
              "      <td>https://www.zomato.com/bangalore/addhuri-udupi...</td>\n",
              "      <td>1st Floor, Annakuteera, 3rd Stage, Banashankar...</td>\n",
              "      <td>Addhuri Udupi Bhojana</td>\n",
              "      <td>No</td>\n",
              "      <td>No</td>\n",
              "      <td>3.7</td>\n",
              "      <td>88</td>\n",
              "      <td>+91 9620009302</td>\n",
              "      <td>Banashankari</td>\n",
              "      <td>Quick Bites</td>\n",
              "      <td>Masala Dosa</td>\n",
              "      <td>others</td>\n",
              "      <td>300.0</td>\n",
              "      <td>[('Rated 4.0', \"RATED\\n  Great food and proper...</td>\n",
              "      <td>[]</td>\n",
              "      <td>Buffet</td>\n",
              "    </tr>\n",
              "    <tr>\n",
              "      <th>4</th>\n",
              "      <td>https://www.zomato.com/bangalore/grand-village...</td>\n",
              "      <td>10, 3rd Floor, Lakshmi Associates, Gandhi Baza...</td>\n",
              "      <td>Grand Village</td>\n",
              "      <td>No</td>\n",
              "      <td>No</td>\n",
              "      <td>3.8</td>\n",
              "      <td>166</td>\n",
              "      <td>+91 8026612447\\r\\n+91 9901210005</td>\n",
              "      <td>others</td>\n",
              "      <td>Casual Dining</td>\n",
              "      <td>Panipuri, Gol Gappe</td>\n",
              "      <td>others</td>\n",
              "      <td>600.0</td>\n",
              "      <td>[('Rated 4.0', 'RATED\\n  Very good restaurant ...</td>\n",
              "      <td>[]</td>\n",
              "      <td>Buffet</td>\n",
              "    </tr>\n",
              "  </tbody>\n",
              "</table>\n",
              "</div>"
            ],
            "text/plain": [
              "                                                 url  ...    type\n",
              "0  https://www.zomato.com/bangalore/jalsa-banasha...  ...  Buffet\n",
              "1  https://www.zomato.com/bangalore/spice-elephan...  ...  Buffet\n",
              "2  https://www.zomato.com/SanchurroBangalore?cont...  ...  Buffet\n",
              "3  https://www.zomato.com/bangalore/addhuri-udupi...  ...  Buffet\n",
              "4  https://www.zomato.com/bangalore/grand-village...  ...  Buffet\n",
              "\n",
              "[5 rows x 16 columns]"
            ]
          },
          "metadata": {},
          "execution_count": 67
        }
      ]
    },
    {
      "cell_type": "markdown",
      "metadata": {
        "id": "TRDHo08J-0Y-"
      },
      "source": [
        "#creating a new feature in data"
      ]
    },
    {
      "cell_type": "code",
      "metadata": {
        "id": "Z4tuXI6c_Z6d"
      },
      "source": [
        "#function to count number of cuisnes\n",
        "def cuisine_counter(inpStr):\n",
        "  numcuisines=len(str(inpStr).split(','))\n",
        "  return(numcuisines)"
      ],
      "execution_count": 68,
      "outputs": []
    },
    {
      "cell_type": "code",
      "metadata": {
        "id": "HUUlOplz-ROg",
        "colab": {
          "base_uri": "https://localhost:8080/",
          "height": 590
        },
        "outputId": "8c0a335b-dbf7-4c08-94d0-c98f040b8054"
      },
      "source": [
        "data['cuisinecount']=data['cuisines'].apply(cuisine_counter)\n",
        "data.head()"
      ],
      "execution_count": 69,
      "outputs": [
        {
          "output_type": "execute_result",
          "data": {
            "text/html": [
              "<div>\n",
              "<style scoped>\n",
              "    .dataframe tbody tr th:only-of-type {\n",
              "        vertical-align: middle;\n",
              "    }\n",
              "\n",
              "    .dataframe tbody tr th {\n",
              "        vertical-align: top;\n",
              "    }\n",
              "\n",
              "    .dataframe thead th {\n",
              "        text-align: right;\n",
              "    }\n",
              "</style>\n",
              "<table border=\"1\" class=\"dataframe\">\n",
              "  <thead>\n",
              "    <tr style=\"text-align: right;\">\n",
              "      <th></th>\n",
              "      <th>url</th>\n",
              "      <th>address</th>\n",
              "      <th>name</th>\n",
              "      <th>online_order</th>\n",
              "      <th>book_table</th>\n",
              "      <th>rate</th>\n",
              "      <th>votes</th>\n",
              "      <th>phone</th>\n",
              "      <th>location</th>\n",
              "      <th>rest_type</th>\n",
              "      <th>dish_liked</th>\n",
              "      <th>cuisines</th>\n",
              "      <th>costfor2plates</th>\n",
              "      <th>reviews_list</th>\n",
              "      <th>menu_item</th>\n",
              "      <th>type</th>\n",
              "      <th>cuisinecount</th>\n",
              "    </tr>\n",
              "  </thead>\n",
              "  <tbody>\n",
              "    <tr>\n",
              "      <th>0</th>\n",
              "      <td>https://www.zomato.com/bangalore/jalsa-banasha...</td>\n",
              "      <td>942, 21st Main Road, 2nd Stage, Banashankari, ...</td>\n",
              "      <td>Jalsa</td>\n",
              "      <td>Yes</td>\n",
              "      <td>Yes</td>\n",
              "      <td>4.1</td>\n",
              "      <td>775</td>\n",
              "      <td>080 42297555\\r\\n+91 9743772233</td>\n",
              "      <td>Banashankari</td>\n",
              "      <td>Casual Dining</td>\n",
              "      <td>Pasta, Lunch Buffet, Masala Papad, Paneer Laja...</td>\n",
              "      <td>others</td>\n",
              "      <td>800.0</td>\n",
              "      <td>[('Rated 4.0', 'RATED\\n  A beautiful place to ...</td>\n",
              "      <td>[]</td>\n",
              "      <td>Buffet</td>\n",
              "      <td>1</td>\n",
              "    </tr>\n",
              "    <tr>\n",
              "      <th>1</th>\n",
              "      <td>https://www.zomato.com/bangalore/spice-elephan...</td>\n",
              "      <td>2nd Floor, 80 Feet Road, Near Big Bazaar, 6th ...</td>\n",
              "      <td>Spice Elephant</td>\n",
              "      <td>Yes</td>\n",
              "      <td>No</td>\n",
              "      <td>4.1</td>\n",
              "      <td>787</td>\n",
              "      <td>080 41714161</td>\n",
              "      <td>Banashankari</td>\n",
              "      <td>Casual Dining</td>\n",
              "      <td>Momos, Lunch Buffet, Chocolate Nirvana, Thai G...</td>\n",
              "      <td>others</td>\n",
              "      <td>800.0</td>\n",
              "      <td>[('Rated 4.0', 'RATED\\n  Had been here for din...</td>\n",
              "      <td>[]</td>\n",
              "      <td>Buffet</td>\n",
              "      <td>1</td>\n",
              "    </tr>\n",
              "    <tr>\n",
              "      <th>2</th>\n",
              "      <td>https://www.zomato.com/SanchurroBangalore?cont...</td>\n",
              "      <td>1112, Next to KIMS Medical College, 17th Cross...</td>\n",
              "      <td>San Churro Cafe</td>\n",
              "      <td>Yes</td>\n",
              "      <td>No</td>\n",
              "      <td>3.8</td>\n",
              "      <td>918</td>\n",
              "      <td>+91 9663487993</td>\n",
              "      <td>Banashankari</td>\n",
              "      <td>others</td>\n",
              "      <td>Churros, Cannelloni, Minestrone Soup, Hot Choc...</td>\n",
              "      <td>others</td>\n",
              "      <td>800.0</td>\n",
              "      <td>[('Rated 3.0', \"RATED\\n  Ambience is not that ...</td>\n",
              "      <td>[]</td>\n",
              "      <td>Buffet</td>\n",
              "      <td>1</td>\n",
              "    </tr>\n",
              "    <tr>\n",
              "      <th>3</th>\n",
              "      <td>https://www.zomato.com/bangalore/addhuri-udupi...</td>\n",
              "      <td>1st Floor, Annakuteera, 3rd Stage, Banashankar...</td>\n",
              "      <td>Addhuri Udupi Bhojana</td>\n",
              "      <td>No</td>\n",
              "      <td>No</td>\n",
              "      <td>3.7</td>\n",
              "      <td>88</td>\n",
              "      <td>+91 9620009302</td>\n",
              "      <td>Banashankari</td>\n",
              "      <td>Quick Bites</td>\n",
              "      <td>Masala Dosa</td>\n",
              "      <td>others</td>\n",
              "      <td>300.0</td>\n",
              "      <td>[('Rated 4.0', \"RATED\\n  Great food and proper...</td>\n",
              "      <td>[]</td>\n",
              "      <td>Buffet</td>\n",
              "      <td>1</td>\n",
              "    </tr>\n",
              "    <tr>\n",
              "      <th>4</th>\n",
              "      <td>https://www.zomato.com/bangalore/grand-village...</td>\n",
              "      <td>10, 3rd Floor, Lakshmi Associates, Gandhi Baza...</td>\n",
              "      <td>Grand Village</td>\n",
              "      <td>No</td>\n",
              "      <td>No</td>\n",
              "      <td>3.8</td>\n",
              "      <td>166</td>\n",
              "      <td>+91 8026612447\\r\\n+91 9901210005</td>\n",
              "      <td>others</td>\n",
              "      <td>Casual Dining</td>\n",
              "      <td>Panipuri, Gol Gappe</td>\n",
              "      <td>others</td>\n",
              "      <td>600.0</td>\n",
              "      <td>[('Rated 4.0', 'RATED\\n  Very good restaurant ...</td>\n",
              "      <td>[]</td>\n",
              "      <td>Buffet</td>\n",
              "      <td>1</td>\n",
              "    </tr>\n",
              "  </tbody>\n",
              "</table>\n",
              "</div>"
            ],
            "text/plain": [
              "                                                 url  ... cuisinecount\n",
              "0  https://www.zomato.com/bangalore/jalsa-banasha...  ...            1\n",
              "1  https://www.zomato.com/bangalore/spice-elephan...  ...            1\n",
              "2  https://www.zomato.com/SanchurroBangalore?cont...  ...            1\n",
              "3  https://www.zomato.com/bangalore/addhuri-udupi...  ...            1\n",
              "4  https://www.zomato.com/bangalore/grand-village...  ...            1\n",
              "\n",
              "[5 rows x 17 columns]"
            ]
          },
          "metadata": {},
          "execution_count": 69
        }
      ]
    },
    {
      "cell_type": "markdown",
      "metadata": {
        "id": "swR7eVP2AT4N"
      },
      "source": [
        "In above cuisine count is added"
      ]
    },
    {
      "cell_type": "markdown",
      "metadata": {
        "id": "7H9nULyzAnTR"
      },
      "source": [
        "#DATA PREPROCESSING"
      ]
    },
    {
      "cell_type": "code",
      "metadata": {
        "id": "Dg4VJRWatD5_",
        "colab": {
          "base_uri": "https://localhost:8080/"
        },
        "outputId": "5dbe7af6-999f-4e92-d9a6-00c1b18ec1b6"
      },
      "source": [
        "data.isnull().sum()"
      ],
      "execution_count": 70,
      "outputs": [
        {
          "output_type": "execute_result",
          "data": {
            "text/plain": [
              "url               0\n",
              "address           0\n",
              "name              0\n",
              "online_order      0\n",
              "book_table        0\n",
              "rate              0\n",
              "votes             0\n",
              "phone             0\n",
              "location          0\n",
              "rest_type         0\n",
              "dish_liked        0\n",
              "cuisines          0\n",
              "costfor2plates    0\n",
              "reviews_list      0\n",
              "menu_item         0\n",
              "type              0\n",
              "cuisinecount      0\n",
              "dtype: int64"
            ]
          },
          "metadata": {},
          "execution_count": 70
        }
      ]
    },
    {
      "cell_type": "code",
      "metadata": {
        "id": "fsyjjryFtD2z",
        "colab": {
          "base_uri": "https://localhost:8080/"
        },
        "outputId": "06200ffb-d630-4345-ee5a-9937d5036f15"
      },
      "source": [
        "data.info()"
      ],
      "execution_count": 71,
      "outputs": [
        {
          "output_type": "stream",
          "text": [
            "<class 'pandas.core.frame.DataFrame'>\n",
            "Int64Index: 23222 entries, 0 to 51715\n",
            "Data columns (total 17 columns):\n",
            " #   Column          Non-Null Count  Dtype  \n",
            "---  ------          --------------  -----  \n",
            " 0   url             23222 non-null  object \n",
            " 1   address         23222 non-null  object \n",
            " 2   name            23222 non-null  object \n",
            " 3   online_order    23222 non-null  object \n",
            " 4   book_table      23222 non-null  object \n",
            " 5   rate            23222 non-null  float64\n",
            " 6   votes           23222 non-null  int64  \n",
            " 7   phone           23222 non-null  object \n",
            " 8   location        23222 non-null  object \n",
            " 9   rest_type       23222 non-null  object \n",
            " 10  dish_liked      23222 non-null  object \n",
            " 11  cuisines        23222 non-null  object \n",
            " 12  costfor2plates  23222 non-null  float64\n",
            " 13  reviews_list    23222 non-null  object \n",
            " 14  menu_item       23222 non-null  object \n",
            " 15  type            23222 non-null  object \n",
            " 16  cuisinecount    23222 non-null  int64  \n",
            "dtypes: float64(2), int64(2), object(13)\n",
            "memory usage: 3.8+ MB\n"
          ],
          "name": "stdout"
        }
      ]
    },
    {
      "cell_type": "code",
      "metadata": {
        "id": "6J8p6aWxtDwO",
        "colab": {
          "base_uri": "https://localhost:8080/"
        },
        "outputId": "3890eab9-9baa-4c96-dc99-e2c539aa6868"
      },
      "source": [
        "data.rename({'approx_cost(for two people)': 'costfor2plates',\n",
        "               'listed_in(type)':'listed_in_type',\n",
        "               'listed_in(city)':'listed_in_city'\n",
        "              }, axis=1, inplace=True)\n",
        "data.columns"
      ],
      "execution_count": 72,
      "outputs": [
        {
          "output_type": "execute_result",
          "data": {
            "text/plain": [
              "Index(['url', 'address', 'name', 'online_order', 'book_table', 'rate', 'votes',\n",
              "       'phone', 'location', 'rest_type', 'dish_liked', 'cuisines',\n",
              "       'costfor2plates', 'reviews_list', 'menu_item', 'type', 'cuisinecount'],\n",
              "      dtype='object')"
            ]
          },
          "metadata": {},
          "execution_count": 72
        }
      ]
    },
    {
      "cell_type": "code",
      "metadata": {
        "id": "8YtSQiMDtDst"
      },
      "source": [
        "remove_comma = lambda x: int(x.replace(',', '')) if type(x) == np.str and x != np.nan else x \n",
        "data.votes = data.votes.astype('int')\n"
      ],
      "execution_count": 73,
      "outputs": []
    },
    {
      "cell_type": "code",
      "metadata": {
        "id": "qf5fKp5otDo5",
        "colab": {
          "base_uri": "https://localhost:8080/"
        },
        "outputId": "5e826eb8-02cf-46e7-b5c2-9b817fa08f4c"
      },
      "source": [
        "data.info()"
      ],
      "execution_count": 74,
      "outputs": [
        {
          "output_type": "stream",
          "text": [
            "<class 'pandas.core.frame.DataFrame'>\n",
            "Int64Index: 23222 entries, 0 to 51715\n",
            "Data columns (total 17 columns):\n",
            " #   Column          Non-Null Count  Dtype  \n",
            "---  ------          --------------  -----  \n",
            " 0   url             23222 non-null  object \n",
            " 1   address         23222 non-null  object \n",
            " 2   name            23222 non-null  object \n",
            " 3   online_order    23222 non-null  object \n",
            " 4   book_table      23222 non-null  object \n",
            " 5   rate            23222 non-null  float64\n",
            " 6   votes           23222 non-null  int64  \n",
            " 7   phone           23222 non-null  object \n",
            " 8   location        23222 non-null  object \n",
            " 9   rest_type       23222 non-null  object \n",
            " 10  dish_liked      23222 non-null  object \n",
            " 11  cuisines        23222 non-null  object \n",
            " 12  costfor2plates  23222 non-null  float64\n",
            " 13  reviews_list    23222 non-null  object \n",
            " 14  menu_item       23222 non-null  object \n",
            " 15  type            23222 non-null  object \n",
            " 16  cuisinecount    23222 non-null  int64  \n",
            "dtypes: float64(2), int64(2), object(13)\n",
            "memory usage: 3.8+ MB\n"
          ],
          "name": "stdout"
        }
      ]
    },
    {
      "cell_type": "code",
      "metadata": {
        "id": "ERIljDictDk6",
        "colab": {
          "base_uri": "https://localhost:8080/"
        },
        "outputId": "80176d34-46c8-465c-f4b7-aa155cfb8fd5"
      },
      "source": [
        "data['rate'].unique()"
      ],
      "execution_count": 75,
      "outputs": [
        {
          "output_type": "execute_result",
          "data": {
            "text/plain": [
              "array([4.1       , 3.8       , 3.7       , 4.6       , 4.        ,\n",
              "       4.2       , 3.9       , 3.        , 3.6       , 2.8       ,\n",
              "       4.4       , 3.1       , 4.3       , 2.6       , 3.3       ,\n",
              "       3.5       , 3.2       , 4.5       , 2.5       , 2.9       ,\n",
              "       3.4       , 2.7       , 4.7       , 3.70044882, 2.4       ,\n",
              "       2.2       , 2.3       , 4.8       , 4.9       , 2.1       ,\n",
              "       2.        , 1.8       ])"
            ]
          },
          "metadata": {},
          "execution_count": 75
        }
      ]
    },
    {
      "cell_type": "code",
      "metadata": {
        "id": "gki_MsmXtDiu"
      },
      "source": [
        "data = data.loc[data.rate !='NEW']\n",
        "data = data.loc[data.rate !='-'].reset_index(drop=True)"
      ],
      "execution_count": 76,
      "outputs": []
    },
    {
      "cell_type": "code",
      "metadata": {
        "id": "3C68DO_utDgD",
        "colab": {
          "base_uri": "https://localhost:8080/",
          "height": 345
        },
        "outputId": "19ad5089-d99d-4a46-d72f-eb7a1bd33579"
      },
      "source": [
        "#Now we will remove '/5'\n",
        "remove_slash = lambda x: x.replace('/5', '') if type(x) == np.str else x\n",
        "data.rate = data.rate.apply(remove_slash).str.strip().astype('float')"
      ],
      "execution_count": 77,
      "outputs": [
        {
          "output_type": "error",
          "ename": "AttributeError",
          "evalue": "ignored",
          "traceback": [
            "\u001b[0;31m---------------------------------------------------------------------------\u001b[0m",
            "\u001b[0;31mAttributeError\u001b[0m                            Traceback (most recent call last)",
            "\u001b[0;32m<ipython-input-77-408878e90ec8>\u001b[0m in \u001b[0;36m<module>\u001b[0;34m()\u001b[0m\n\u001b[1;32m      1\u001b[0m \u001b[0;31m#Now we will remove '/5'\u001b[0m\u001b[0;34m\u001b[0m\u001b[0;34m\u001b[0m\u001b[0;34m\u001b[0m\u001b[0m\n\u001b[1;32m      2\u001b[0m \u001b[0mremove_slash\u001b[0m \u001b[0;34m=\u001b[0m \u001b[0;32mlambda\u001b[0m \u001b[0mx\u001b[0m\u001b[0;34m:\u001b[0m \u001b[0mx\u001b[0m\u001b[0;34m.\u001b[0m\u001b[0mreplace\u001b[0m\u001b[0;34m(\u001b[0m\u001b[0;34m'/5'\u001b[0m\u001b[0;34m,\u001b[0m \u001b[0;34m''\u001b[0m\u001b[0;34m)\u001b[0m \u001b[0;32mif\u001b[0m \u001b[0mtype\u001b[0m\u001b[0;34m(\u001b[0m\u001b[0mx\u001b[0m\u001b[0;34m)\u001b[0m \u001b[0;34m==\u001b[0m \u001b[0mnp\u001b[0m\u001b[0;34m.\u001b[0m\u001b[0mstr\u001b[0m \u001b[0;32melse\u001b[0m \u001b[0mx\u001b[0m\u001b[0;34m\u001b[0m\u001b[0;34m\u001b[0m\u001b[0m\n\u001b[0;32m----> 3\u001b[0;31m \u001b[0mdata\u001b[0m\u001b[0;34m.\u001b[0m\u001b[0mrate\u001b[0m \u001b[0;34m=\u001b[0m \u001b[0mdata\u001b[0m\u001b[0;34m.\u001b[0m\u001b[0mrate\u001b[0m\u001b[0;34m.\u001b[0m\u001b[0mapply\u001b[0m\u001b[0;34m(\u001b[0m\u001b[0mremove_slash\u001b[0m\u001b[0;34m)\u001b[0m\u001b[0;34m.\u001b[0m\u001b[0mstr\u001b[0m\u001b[0;34m.\u001b[0m\u001b[0mstrip\u001b[0m\u001b[0;34m(\u001b[0m\u001b[0;34m)\u001b[0m\u001b[0;34m.\u001b[0m\u001b[0mastype\u001b[0m\u001b[0;34m(\u001b[0m\u001b[0;34m'float'\u001b[0m\u001b[0;34m)\u001b[0m\u001b[0;34m\u001b[0m\u001b[0;34m\u001b[0m\u001b[0m\n\u001b[0m",
            "\u001b[0;32m/usr/local/lib/python3.7/dist-packages/pandas/core/generic.py\u001b[0m in \u001b[0;36m__getattr__\u001b[0;34m(self, name)\u001b[0m\n\u001b[1;32m   5135\u001b[0m             \u001b[0;32mor\u001b[0m \u001b[0mname\u001b[0m \u001b[0;32min\u001b[0m \u001b[0mself\u001b[0m\u001b[0;34m.\u001b[0m\u001b[0m_accessors\u001b[0m\u001b[0;34m\u001b[0m\u001b[0;34m\u001b[0m\u001b[0m\n\u001b[1;32m   5136\u001b[0m         ):\n\u001b[0;32m-> 5137\u001b[0;31m             \u001b[0;32mreturn\u001b[0m \u001b[0mobject\u001b[0m\u001b[0;34m.\u001b[0m\u001b[0m__getattribute__\u001b[0m\u001b[0;34m(\u001b[0m\u001b[0mself\u001b[0m\u001b[0;34m,\u001b[0m \u001b[0mname\u001b[0m\u001b[0;34m)\u001b[0m\u001b[0;34m\u001b[0m\u001b[0;34m\u001b[0m\u001b[0m\n\u001b[0m\u001b[1;32m   5138\u001b[0m         \u001b[0;32melse\u001b[0m\u001b[0;34m:\u001b[0m\u001b[0;34m\u001b[0m\u001b[0;34m\u001b[0m\u001b[0m\n\u001b[1;32m   5139\u001b[0m             \u001b[0;32mif\u001b[0m \u001b[0mself\u001b[0m\u001b[0;34m.\u001b[0m\u001b[0m_info_axis\u001b[0m\u001b[0;34m.\u001b[0m\u001b[0m_can_hold_identifiers_and_holds_name\u001b[0m\u001b[0;34m(\u001b[0m\u001b[0mname\u001b[0m\u001b[0;34m)\u001b[0m\u001b[0;34m:\u001b[0m\u001b[0;34m\u001b[0m\u001b[0;34m\u001b[0m\u001b[0m\n",
            "\u001b[0;32m/usr/local/lib/python3.7/dist-packages/pandas/core/accessor.py\u001b[0m in \u001b[0;36m__get__\u001b[0;34m(self, obj, cls)\u001b[0m\n\u001b[1;32m    185\u001b[0m             \u001b[0;31m# we're accessing the attribute of the class, i.e., Dataset.geo\u001b[0m\u001b[0;34m\u001b[0m\u001b[0;34m\u001b[0m\u001b[0;34m\u001b[0m\u001b[0m\n\u001b[1;32m    186\u001b[0m             \u001b[0;32mreturn\u001b[0m \u001b[0mself\u001b[0m\u001b[0;34m.\u001b[0m\u001b[0m_accessor\u001b[0m\u001b[0;34m\u001b[0m\u001b[0;34m\u001b[0m\u001b[0m\n\u001b[0;32m--> 187\u001b[0;31m         \u001b[0maccessor_obj\u001b[0m \u001b[0;34m=\u001b[0m \u001b[0mself\u001b[0m\u001b[0;34m.\u001b[0m\u001b[0m_accessor\u001b[0m\u001b[0;34m(\u001b[0m\u001b[0mobj\u001b[0m\u001b[0;34m)\u001b[0m\u001b[0;34m\u001b[0m\u001b[0;34m\u001b[0m\u001b[0m\n\u001b[0m\u001b[1;32m    188\u001b[0m         \u001b[0;31m# Replace the property with the accessor object. Inspired by:\u001b[0m\u001b[0;34m\u001b[0m\u001b[0;34m\u001b[0m\u001b[0;34m\u001b[0m\u001b[0m\n\u001b[1;32m    189\u001b[0m         \u001b[0;31m# https://www.pydanny.com/cached-property.html\u001b[0m\u001b[0;34m\u001b[0m\u001b[0;34m\u001b[0m\u001b[0;34m\u001b[0m\u001b[0m\n",
            "\u001b[0;32m/usr/local/lib/python3.7/dist-packages/pandas/core/strings.py\u001b[0m in \u001b[0;36m__init__\u001b[0;34m(self, data)\u001b[0m\n\u001b[1;32m   2098\u001b[0m \u001b[0;34m\u001b[0m\u001b[0m\n\u001b[1;32m   2099\u001b[0m     \u001b[0;32mdef\u001b[0m \u001b[0m__init__\u001b[0m\u001b[0;34m(\u001b[0m\u001b[0mself\u001b[0m\u001b[0;34m,\u001b[0m \u001b[0mdata\u001b[0m\u001b[0;34m)\u001b[0m\u001b[0;34m:\u001b[0m\u001b[0;34m\u001b[0m\u001b[0;34m\u001b[0m\u001b[0m\n\u001b[0;32m-> 2100\u001b[0;31m         \u001b[0mself\u001b[0m\u001b[0;34m.\u001b[0m\u001b[0m_inferred_dtype\u001b[0m \u001b[0;34m=\u001b[0m \u001b[0mself\u001b[0m\u001b[0;34m.\u001b[0m\u001b[0m_validate\u001b[0m\u001b[0;34m(\u001b[0m\u001b[0mdata\u001b[0m\u001b[0;34m)\u001b[0m\u001b[0;34m\u001b[0m\u001b[0;34m\u001b[0m\u001b[0m\n\u001b[0m\u001b[1;32m   2101\u001b[0m         \u001b[0mself\u001b[0m\u001b[0;34m.\u001b[0m\u001b[0m_is_categorical\u001b[0m \u001b[0;34m=\u001b[0m \u001b[0mis_categorical_dtype\u001b[0m\u001b[0;34m(\u001b[0m\u001b[0mdata\u001b[0m\u001b[0;34m.\u001b[0m\u001b[0mdtype\u001b[0m\u001b[0;34m)\u001b[0m\u001b[0;34m\u001b[0m\u001b[0;34m\u001b[0m\u001b[0m\n\u001b[1;32m   2102\u001b[0m         \u001b[0mself\u001b[0m\u001b[0;34m.\u001b[0m\u001b[0m_is_string\u001b[0m \u001b[0;34m=\u001b[0m \u001b[0mdata\u001b[0m\u001b[0;34m.\u001b[0m\u001b[0mdtype\u001b[0m\u001b[0;34m.\u001b[0m\u001b[0mname\u001b[0m \u001b[0;34m==\u001b[0m \u001b[0;34m\"string\"\u001b[0m\u001b[0;34m\u001b[0m\u001b[0;34m\u001b[0m\u001b[0m\n",
            "\u001b[0;32m/usr/local/lib/python3.7/dist-packages/pandas/core/strings.py\u001b[0m in \u001b[0;36m_validate\u001b[0;34m(data)\u001b[0m\n\u001b[1;32m   2155\u001b[0m \u001b[0;34m\u001b[0m\u001b[0m\n\u001b[1;32m   2156\u001b[0m         \u001b[0;32mif\u001b[0m \u001b[0minferred_dtype\u001b[0m \u001b[0;32mnot\u001b[0m \u001b[0;32min\u001b[0m \u001b[0mallowed_types\u001b[0m\u001b[0;34m:\u001b[0m\u001b[0;34m\u001b[0m\u001b[0;34m\u001b[0m\u001b[0m\n\u001b[0;32m-> 2157\u001b[0;31m             \u001b[0;32mraise\u001b[0m \u001b[0mAttributeError\u001b[0m\u001b[0;34m(\u001b[0m\u001b[0;34m\"Can only use .str accessor with string values!\"\u001b[0m\u001b[0;34m)\u001b[0m\u001b[0;34m\u001b[0m\u001b[0;34m\u001b[0m\u001b[0m\n\u001b[0m\u001b[1;32m   2158\u001b[0m         \u001b[0;32mreturn\u001b[0m \u001b[0minferred_dtype\u001b[0m\u001b[0;34m\u001b[0m\u001b[0;34m\u001b[0m\u001b[0m\n\u001b[1;32m   2159\u001b[0m \u001b[0;34m\u001b[0m\u001b[0m\n",
            "\u001b[0;31mAttributeError\u001b[0m: Can only use .str accessor with string values!"
          ]
        }
      ]
    },
    {
      "cell_type": "code",
      "metadata": {
        "id": "rV_ow5AntDdm",
        "colab": {
          "base_uri": "https://localhost:8080/"
        },
        "outputId": "81839500-933b-457e-8e5c-2ffcdae7c0c7"
      },
      "source": [
        "data['rate'].head()"
      ],
      "execution_count": 78,
      "outputs": [
        {
          "output_type": "execute_result",
          "data": {
            "text/plain": [
              "0    4.1\n",
              "1    4.1\n",
              "2    3.8\n",
              "3    3.7\n",
              "4    3.8\n",
              "Name: rate, dtype: float64"
            ]
          },
          "metadata": {},
          "execution_count": 78
        }
      ]
    },
    {
      "cell_type": "code",
      "metadata": {
        "id": "LzP1jyOvtDan",
        "colab": {
          "base_uri": "https://localhost:8080/"
        },
        "outputId": "a4b8954f-ed0c-4951-d8fb-fea37bf3506d"
      },
      "source": [
        "data.info()"
      ],
      "execution_count": 79,
      "outputs": [
        {
          "output_type": "stream",
          "text": [
            "<class 'pandas.core.frame.DataFrame'>\n",
            "RangeIndex: 23222 entries, 0 to 23221\n",
            "Data columns (total 17 columns):\n",
            " #   Column          Non-Null Count  Dtype  \n",
            "---  ------          --------------  -----  \n",
            " 0   url             23222 non-null  object \n",
            " 1   address         23222 non-null  object \n",
            " 2   name            23222 non-null  object \n",
            " 3   online_order    23222 non-null  object \n",
            " 4   book_table      23222 non-null  object \n",
            " 5   rate            23222 non-null  float64\n",
            " 6   votes           23222 non-null  int64  \n",
            " 7   phone           23222 non-null  object \n",
            " 8   location        23222 non-null  object \n",
            " 9   rest_type       23222 non-null  object \n",
            " 10  dish_liked      23222 non-null  object \n",
            " 11  cuisines        23222 non-null  object \n",
            " 12  costfor2plates  23222 non-null  float64\n",
            " 13  reviews_list    23222 non-null  object \n",
            " 14  menu_item       23222 non-null  object \n",
            " 15  type            23222 non-null  object \n",
            " 16  cuisinecount    23222 non-null  int64  \n",
            "dtypes: float64(2), int64(2), object(13)\n",
            "memory usage: 3.0+ MB\n"
          ],
          "name": "stdout"
        }
      ]
    },
    {
      "cell_type": "code",
      "metadata": {
        "id": "dI-pZ5intDXL"
      },
      "source": [
        "#Now we see that 'rate' column has converted to float datatype\n",
        "\n",
        "#Now we will Label Encode the input variable columns into 0,1,2...\n",
        "\n",
        "def Encode(data):\n",
        "    for column in data.columns[~data.columns.isin(['rate', 'approx_cost_for_2_people', 'votes'])]:\n",
        "        data[column] = data[column].factorize()[0]\n",
        "    return data\n",
        "\n",
        "new_data = Encode(data.copy())"
      ],
      "execution_count": 80,
      "outputs": []
    },
    {
      "cell_type": "code",
      "metadata": {
        "id": "vwbJE3OJtDUo"
      },
      "source": [
        "\n",
        "new_data['rate'] = new_data['rate'].fillna(new_data['rate'].mean())\n",
        "new_data['costfor2plates'] = new_data['costfor2plates'].fillna(new_data['costfor2plates'].mean())"
      ],
      "execution_count": 81,
      "outputs": []
    },
    {
      "cell_type": "code",
      "metadata": {
        "id": "4GATCXyPtDSL",
        "colab": {
          "base_uri": "https://localhost:8080/"
        },
        "outputId": "66110ae1-48bc-4a20-c06c-03d4dd1d945f"
      },
      "source": [
        "new_data.isna().sum()"
      ],
      "execution_count": 82,
      "outputs": [
        {
          "output_type": "execute_result",
          "data": {
            "text/plain": [
              "url               0\n",
              "address           0\n",
              "name              0\n",
              "online_order      0\n",
              "book_table        0\n",
              "rate              0\n",
              "votes             0\n",
              "phone             0\n",
              "location          0\n",
              "rest_type         0\n",
              "dish_liked        0\n",
              "cuisines          0\n",
              "costfor2plates    0\n",
              "reviews_list      0\n",
              "menu_item         0\n",
              "type              0\n",
              "cuisinecount      0\n",
              "dtype: int64"
            ]
          },
          "metadata": {},
          "execution_count": 82
        }
      ]
    },
    {
      "cell_type": "code",
      "metadata": {
        "id": "VL4d610LtDPa",
        "colab": {
          "base_uri": "https://localhost:8080/",
          "height": 565
        },
        "outputId": "769cfe0b-3797-48b3-895d-e6da6eb339cf"
      },
      "source": [
        "\n",
        "#Checking for correlation among all the x(inputs)\n",
        "\n",
        "corr = new_data.corr(method='kendall')\n",
        "plt.figure(figsize=(15,8))\n",
        "sns.heatmap(corr, annot=True)"
      ],
      "execution_count": 83,
      "outputs": [
        {
          "output_type": "execute_result",
          "data": {
            "text/plain": [
              "<matplotlib.axes._subplots.AxesSubplot at 0x7f1644d01610>"
            ]
          },
          "metadata": {},
          "execution_count": 83
        },
        {
          "output_type": "display_data",
          "data": {
            "image/png": "[encoded data removed]",
            "text/plain": [
              "<Figure size 1080x576 with 2 Axes>"
            ]
          },
          "metadata": {}
        }
      ]
    },
    {
      "cell_type": "code",
      "metadata": {
        "id": "5k6HSEmDtDMZ",
        "colab": {
          "base_uri": "https://localhost:8080/"
        },
        "outputId": "c8154b03-4909-4b66-dbfe-87e115e8e064"
      },
      "source": [
        "new_data.columns"
      ],
      "execution_count": 93,
      "outputs": [
        {
          "output_type": "execute_result",
          "data": {
            "text/plain": [
              "Index(['name', 'online_order', 'rate', 'votes', 'phone', 'location',\n",
              "       'rest_type', 'cuisines'],\n",
              "      dtype='object')"
            ]
          },
          "metadata": {},
          "execution_count": 93
        }
      ]
    },
    {
      "cell_type": "code",
      "metadata": {
        "id": "UIBcv2yjJLXu",
        "colab": {
          "base_uri": "https://localhost:8080/"
        },
        "outputId": "a0750dfb-6492-44be-cf96-1cee7decd5f9"
      },
      "source": [
        "type(new_data)"
      ],
      "execution_count": 97,
      "outputs": [
        {
          "output_type": "execute_result",
          "data": {
            "text/plain": [
              "pandas.core.frame.DataFrame"
            ]
          },
          "metadata": {},
          "execution_count": 97
        }
      ]
    },
    {
      "cell_type": "markdown",
      "metadata": {
        "id": "T9JSF3d3Qstp"
      },
      "source": [
        "#Proprocessing Text features\n"
      ]
    },
    {
      "cell_type": "code",
      "metadata": {
        "id": "5_LBn89CSEM9"
      },
      "source": [
        "data=pd.read_csv('/content/drive/MyDrive/zomato.csv')"
      ],
      "execution_count": null,
      "outputs": []
    },
    {
      "cell_type": "code",
      "metadata": {
        "id": "B8ZoK-5KQp1e"
      },
      "source": [
        "from bs4 import BeautifulSoup\n",
        "# Combining all the above stundents \n",
        "from tqdm import tqdm\n",
        "# tqdm is for printing the status bar\n",
        "word_counter = []\n",
        "\n",
        "stop_words = set(stopwords.words('english')) \n",
        "\n",
        "def filterised_text(text):\n",
        "    preprocessed_text = []\n",
        "    for sentance in tqdm(text):\n",
        "        sentance = re.sub('[0-9]+', '', sentance)\n",
        "        sentance = re.sub('[^A-Za-z0-9]+', ' ', sentance)\n",
        "        sentance = re.sub(r\"http\\S+\", \"\", sentance)\n",
        "        sentance = BeautifulSoup(sentance, 'lxml').get_text()\n",
        "        sentance = decontracted(sentance)\n",
        "        sentance = re.sub(\"\\S*\\d\\S*\", \"\", sentance).strip()\n",
        "        sentance = re.sub('[^A-Za-z]+', ' ', sentance)\n",
        "        sentance = ' '.join(word.lower() for word in sentance.split() if len(word)>1 and word.lower() not in stop_words)\n",
        "        sentance = re.sub(r\"rated\", \"\", sentance)\n",
        "        count = len(sentance.split())\n",
        "        word_counter.append(count)\n",
        "        preprocessed_text.append(sentance.strip())\n",
        "    return preprocessed_text\n",
        "\n"
      ],
      "execution_count": null,
      "outputs": []
    },
    {
      "cell_type": "code",
      "metadata": {
        "id": "iAOY5pw9Qpw1"
      },
      "source": [
        "#reference from github\n",
        "def decontracted(phrase):\n",
        "    # specific\n",
        "    phrase = re.sub(r\"won't\", \"will not\", phrase)\n",
        "    phrase = re.sub(r\"can\\'t\", \"can not\", phrase)\n",
        "\n",
        "    # general\n",
        "    phrase = re.sub(r\"n\\'t\", \" not\", phrase)\n",
        "    phrase = re.sub(r\"\\'re\", \" are\", phrase)\n",
        "    phrase = re.sub(r\"\\'s\", \" is\", phrase)\n",
        "    phrase = re.sub(r\"\\'d\", \" would\", phrase)\n",
        "    phrase = re.sub(r\"\\'ll\", \" will\", phrase)\n",
        "    phrase = re.sub(r\"\\'t\", \" not\", phrase)\n",
        "    phrase = re.sub(r\"\\'ve\", \" have\", phrase)\n",
        "    phrase = re.sub(r\"\\'m\", \" am\", phrase)\n",
        "\n",
        "    return phrase"
      ],
      "execution_count": null,
      "outputs": []
    },
    {
      "cell_type": "code",
      "metadata": {
        "id": "SlyLCXp3QpvM"
      },
      "source": [
        "preprocessed_reviews = filterised_text(data['reviews_list'].values)\n",
        "data['preprocessed_reviews']  = preprocessed_reviews\n",
        "preprocessed_reviews[1822]"
      ],
      "execution_count": null,
      "outputs": []
    },
    {
      "cell_type": "code",
      "metadata": {
        "id": "taFVqshsQpog"
      },
      "source": [
        "data.columns"
      ],
      "execution_count": null,
      "outputs": []
    },
    {
      "cell_type": "code",
      "metadata": {
        "id": "oAf6T3c3Vd-q"
      },
      "source": [
        "y = data['rate']\n",
        "X = data.drop(['rate','reviews_list','cuisines','name'],axis = 1)"
      ],
      "execution_count": null,
      "outputs": []
    },
    {
      "cell_type": "code",
      "metadata": {
        "id": "R-CjhkLpVdw4"
      },
      "source": [
        "#splitting into x and y into train and test set\n",
        "X_train, x_test, y_train, y_test = train_test_split(X, y, test_size = 0.2, random_state = 42)\n",
        "# Splitting train set into tr and cv set\n",
        "x_tr, x_cv, y_tr, y_cv = train_test_split(X_train, y_train, test_size = 0.2,random_state = 42)\n",
        "\n",
        "x_tr_txt = x_tr['preprocessed_reviews']\n",
        "x_cv_txt = x_cv['preprocessed_reviews']\n",
        "x_test_txt = x_test['preprocessed_reviews']\n",
        "\n",
        "print(x_tr_txt.shape,y_tr.shape )\n",
        "print(x_cv_txt.shape,y_cv.shape )\n",
        "print(x_test_txt.shape,y_test.shape )\n",
        "\n",
        "x_tr_txt = x_tr['preprocessed_reviews']\n",
        "x_cv_txt = x_cv['preprocessed_reviews']\n",
        "x_test_txt = x_test['preprocessed_reviews']"
      ],
      "execution_count": null,
      "outputs": []
    },
    {
      "cell_type": "code",
      "metadata": {
        "id": "xTcL0LiGWEG7"
      },
      "source": [
        "from sklearn.feature_extraction.text import CountVectorizer"
      ],
      "execution_count": null,
      "outputs": []
    },
    {
      "cell_type": "code",
      "metadata": {
        "id": "rx35Uz7CVdaM"
      },
      "source": [
        "#reference from medium\n",
        "count_vect = CountVectorizer(ngram_range=(1,1), min_df=10) \n",
        "# train data\n",
        "X_train_bow = count_vect.fit_transform(x_tr_txt)\n",
        "\n",
        "# test data\n",
        "x_cv_bow = count_vect.transform(x_cv_txt)\n",
        "x_test_bow = count_vect.transform(x_test_txt)\n",
        "\n",
        "\n",
        "print('X_train_bow',X_train_bow.shape)\n",
        "print('==='*10)\n",
        "print('x_cv_bow',x_cv_bow.shape)\n",
        "print('==='*10)\n",
        "print('x_test_bow',x_test_bow.shape)"
      ],
      "execution_count": null,
      "outputs": []
    },
    {
      "cell_type": "markdown",
      "metadata": {
        "id": "z5Liq-uJaTLR"
      },
      "source": [
        "#LSTM MODEL"
      ]
    },
    {
      "cell_type": "code",
      "metadata": {
        "id": "DBc_TCk2aSXf"
      },
      "source": [
        "X = data['preprocessed_reviews']\n",
        "y = data['rate']\n",
        "\n",
        "# split the data set into train and test\n",
        "X_train, x_test, y_train, y_test = train_test_split(X, y, test_size=0.3,random_state=0, shuffle=True)\n",
        "\n",
        "print(X_train.shape, x_test.shape, y_train.shape, y_test.shape)"
      ],
      "execution_count": null,
      "outputs": []
    },
    {
      "cell_type": "code",
      "metadata": {
        "id": "Yo2b0PeSYJxm"
      },
      "source": [
        "max_review_length = 600\n",
        "top_words = 10000\n",
        "\n",
        "\n",
        "## pass through tokenizer\n",
        "tk = Tokenizer(lower = True, num_words= top_words)\n",
        "tk.fit_on_texts(X_train)\n",
        "X_train_seq = tk.texts_to_sequences(X_train)\n",
        "## add padding\n",
        "X_train_pad = pad_sequences(X_train_seq, maxlen=max_review_length)\n",
        "X_test_seq = tk.texts_to_sequences(x_test)\n",
        "X_test_pad = pad_sequences(X_test_seq, maxlen=max_review_length)\n",
        "\n",
        "print('train data shape ', X_train_pad.shape)\n",
        "print('test data shape', X_test_pad.shape)\n"
      ],
      "execution_count": null,
      "outputs": []
    },
    {
      "cell_type": "code",
      "metadata": {
        "id": "teOcyjY6YJu-"
      },
      "source": [
        "embedding_vecor_length = 256\n",
        "model = Sequential()\n",
        "model.add(Embedding(top_words+1, embedding_vecor_length, input_length=max_review_length))\n",
        "model.add(LSTM(200))  # returns a sequence of vectors of dimension 32\n",
        "model.add(Dropout(0.5))\n",
        "model.add(Dense(1, activation='linear'))\n",
        "model.compile(loss='mean_squared_error', optimizer='adam')\n",
        "print(model.summary())"
      ],
      "execution_count": null,
      "outputs": []
    },
    {
      "cell_type": "code",
      "metadata": {
        "id": "Q2Q9UwlQitwA"
      },
      "source": [
        ""
      ],
      "execution_count": null,
      "outputs": []
    }
  ]
}