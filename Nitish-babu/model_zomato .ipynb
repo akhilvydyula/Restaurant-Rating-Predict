{
  "nbformat": 4,
  "nbformat_minor": 0,
  "metadata": {
    "colab": {
      "name": "model.zomato.ipynb",
      "provenance": [],
      "collapsed_sections": []
    },
    "kernelspec": {
      "name": "python3",
      "display_name": "Python 3"
    },
    "language_info": {
      "name": "python"
    }
  },
  "cells": [
    {
      "cell_type": "markdown",
      "metadata": {
        "id": "kEEloSeUZ5w-"
      },
      "source": [
        "##Random forest regressor"
      ]
    },
    {
      "cell_type": "code",
      "metadata": {
        "colab": {
          "base_uri": "https://localhost:8080/"
        },
        "id": "NZY-vGxsWo5R",
        "outputId": "ca8e07f8-049a-4309-e9ee-a34b665e8fc2"
      },
      "source": [
        "from google.colab import drive \n",
        "drive.mount(\"/content/drive\")"
      ],
      "execution_count": 7,
      "outputs": [
        {
          "output_type": "stream",
          "text": [
            "Mounted at /content/drive\n"
          ],
          "name": "stdout"
        }
      ]
    },
    {
      "cell_type": "code",
      "metadata": {
        "id": "aCOUAGv8TDp_"
      },
      "source": [
        "import pandas as pd\n",
        "import numpy as np\n",
        "from sklearn.model_selection import train_test_split\n",
        "from sklearn.feature_extraction.text import TfidfVectorizer #replacement for count vectorizer and inverse frequency transformer\n",
        "from sklearn.ensemble import RandomForestRegressor\n",
        "from sklearn import metrics\n",
        "from sklearn.metrics import r2_score\n",
        "import pickle "
      ],
      "execution_count": 50,
      "outputs": []
    },
    {
      "cell_type": "code",
      "metadata": {
        "id": "VhDP1nr7Wig1"
      },
      "source": [
        "zomato=pd.read_csv('/content/drive/MyDrive/zomato_preprocessed.csv')"
      ],
      "execution_count": 12,
      "outputs": []
    },
    {
      "cell_type": "code",
      "metadata": {
        "id": "ivVt4sxaTRjr"
      },
      "source": [
        " zomato['rate'] = zomato['rate'].str.replace('/5', '')"
      ],
      "execution_count": 13,
      "outputs": []
    },
    {
      "cell_type": "code",
      "metadata": {
        "id": "sDQ4iw_vZJWm"
      },
      "source": [
        "\n",
        "x= zomato[\"location\"]+ \" \"+ zomato[\"cuisines\"]+ \" \"+ zomato[\"dish_liked\"]+ \" \"+ zomato[\"rest_type\"]"
      ],
      "execution_count": 14,
      "outputs": []
    },
    {
      "cell_type": "code",
      "metadata": {
        "id": "KrLztBl9ZRGK"
      },
      "source": [
        "y= zomato['rate']"
      ],
      "execution_count": 15,
      "outputs": []
    },
    {
      "cell_type": "code",
      "metadata": {
        "colab": {
          "base_uri": "https://localhost:8080/"
        },
        "id": "XxgHkcMVZUR6",
        "outputId": "28c13d4f-dd8f-4796-bd4b-60b74741e77c"
      },
      "source": [
        "\n",
        "X_train, X_test, y_train, y_test = train_test_split(x,y , test_size=0.2)\n",
        "print( X_train.shape, y_train.shape)\n",
        "print (X_test.shape, y_test.shape)"
      ],
      "execution_count": 16,
      "outputs": [
        {
          "output_type": "stream",
          "text": [
            "(18607,) (18607,)\n",
            "(4652,) (4652,)\n"
          ],
          "name": "stdout"
        }
      ]
    },
    {
      "cell_type": "code",
      "metadata": {
        "id": "8tsVg19dZYFi"
      },
      "source": [
        "\n",
        "v = TfidfVectorizer()\n",
        "x_train_tf= v.fit_transform(X_train)"
      ],
      "execution_count": 17,
      "outputs": []
    },
    {
      "cell_type": "code",
      "metadata": {
        "id": "liOMh5YsZbIB"
      },
      "source": [
        "x_test_tf= v.transform(X_test)"
      ],
      "execution_count": 18,
      "outputs": []
    },
    {
      "cell_type": "code",
      "metadata": {
        "colab": {
          "base_uri": "https://localhost:8080/"
        },
        "id": "-HdXL1D1ZgFF",
        "outputId": "efd5881e-85b7-49aa-b46e-95c95753a157"
      },
      "source": [
        "rf = RandomForestRegressor(n_estimators = 15, random_state = 100)\n",
        "rf.fit(x_train_tf, y_train.astype(float))\n",
        "y_pred_rf= rf.predict(x_test_tf)\n",
        "print('R2 score:', r2_score(y_test, y_pred_rf)*100, '%')"
      ],
      "execution_count": 19,
      "outputs": [
        {
          "output_type": "stream",
          "text": [
            "R2 score: 92.04066252405083 %\n"
          ],
          "name": "stdout"
        }
      ]
    },
    {
      "cell_type": "code",
      "metadata": {
        "colab": {
          "base_uri": "https://localhost:8080/"
        },
        "id": "mDrhIJglZk9G",
        "outputId": "a0eb1f62-bc1a-42ac-f619-eb9c1c5f5726"
      },
      "source": [
        "print('Mean Absolute Error:', metrics.mean_absolute_error(y_test, y_pred_rf))\n",
        "print('Mean Squared Error:', metrics.mean_squared_error(y_test, y_pred_rf))\n",
        "print('Root Mean Squared Error:', np.sqrt(metrics.mean_squared_error(y_test, y_pred_rf)))"
      ],
      "execution_count": 20,
      "outputs": [
        {
          "output_type": "stream",
          "text": [
            "Mean Absolute Error: 0.0432176990288426\n",
            "Mean Squared Error: 0.014261537304502914\n",
            "Root Mean Squared Error: 0.11942167853661627\n"
          ],
          "name": "stdout"
        }
      ]
    },
    {
      "cell_type": "code",
      "metadata": {
        "id": "AkfAZCifguZC"
      },
      "source": [
        "with open('zomato.pkl','wb') as f:\n",
        "  pickle.dump(rf,f)"
      ],
      "execution_count": 52,
      "outputs": []
    },
    {
      "cell_type": "code",
      "metadata": {
        "id": "6FWw4WEbitOG"
      },
      "source": [
        "rf_model=pickle.load(open('zomato.pkl','rb'))\n"
      ],
      "execution_count": 59,
      "outputs": []
    },
    {
      "cell_type": "markdown",
      "metadata": {
        "id": "YgKnl4m-akmK"
      },
      "source": [
        "##multinomial nb and linear regression"
      ]
    },
    {
      "cell_type": "code",
      "metadata": {
        "id": "MGxubKLzZtks"
      },
      "source": [
        "from sklearn.metrics import confusion_matrix\n",
        "from sklearn.naive_bayes import MultinomialNB\n",
        "from sklearn import metrics\n",
        "from sklearn.metrics import accuracy_score\n",
        "import numpy as np\n",
        "import pandas as pd\n",
        "from sklearn.model_selection import train_test_split\n",
        "from sklearn.feature_extraction.text import CountVectorizer\n",
        "from sklearn.feature_extraction.text import TfidfTransformer\n",
        "from sklearn.feature_extraction.text import TfidfVectorizer"
      ],
      "execution_count": 21,
      "outputs": []
    },
    {
      "cell_type": "code",
      "metadata": {
        "id": "oPP1aZF8as2w"
      },
      "source": [
        "catagories = zomato['rate']"
      ],
      "execution_count": 22,
      "outputs": []
    },
    {
      "cell_type": "code",
      "metadata": {
        "id": "XyAXiqAXayXa"
      },
      "source": [
        "catagories = np.unique(catagories)"
      ],
      "execution_count": 34,
      "outputs": []
    },
    {
      "cell_type": "code",
      "metadata": {
        "colab": {
          "base_uri": "https://localhost:8080/"
        },
        "id": "u-AfqsENa4OA",
        "outputId": "8863a3d7-17e6-4ea3-d97d-866e2314cb41"
      },
      "source": [
        "lables = catagories.tolist()\n",
        "type(lables)"
      ],
      "execution_count": 35,
      "outputs": [
        {
          "output_type": "execute_result",
          "data": {
            "text/plain": [
              "list"
            ]
          },
          "metadata": {},
          "execution_count": 35
        }
      ]
    },
    {
      "cell_type": "code",
      "metadata": {
        "colab": {
          "base_uri": "https://localhost:8080/",
          "height": 34
        },
        "id": "xvEC01C2a68a",
        "outputId": "256c8d65-5e7c-40fc-d87a-316f147768f7"
      },
      "source": [
        "lables.pop(0)"
      ],
      "execution_count": 36,
      "outputs": [
        {
          "output_type": "execute_result",
          "data": {
            "application/vnd.google.colaboratory.intrinsic+json": {
              "type": "string"
            },
            "text/plain": [
              "'1.8'"
            ]
          },
          "metadata": {},
          "execution_count": 36
        }
      ]
    },
    {
      "cell_type": "code",
      "metadata": {
        "id": "U1fhKmPua-MG"
      },
      "source": [
        "x = zomato[\"location\"] + \" \" +zomato[\"cuisines\"]+ \" \" +zomato[\"rest_type\"]+ \" \" +zomato[\"dish_liked\"]\n",
        "y = zomato[\"rate\"].str.replace('/5', '')"
      ],
      "execution_count": 37,
      "outputs": []
    },
    {
      "cell_type": "code",
      "metadata": {
        "colab": {
          "base_uri": "https://localhost:8080/"
        },
        "id": "JftHGlTdbEB6",
        "outputId": "15eab506-985c-4c17-b69a-774cf349d416"
      },
      "source": [
        "X_train, X_test, y_train, y_test = train_test_split(x, y, test_size=0.2, random_state = 10)\n",
        "print(X_train.shape, y_train.shape)\n",
        "print(X_test.shape, y_test.shape)"
      ],
      "execution_count": 38,
      "outputs": [
        {
          "output_type": "stream",
          "text": [
            "(18607,) (18607,)\n",
            "(4652,) (4652,)\n"
          ],
          "name": "stdout"
        }
      ]
    },
    {
      "cell_type": "code",
      "metadata": {
        "colab": {
          "base_uri": "https://localhost:8080/"
        },
        "id": "ET8VT_JIbInE",
        "outputId": "e3aaf3b2-79f9-4c60-89cd-282e03427296"
      },
      "source": [
        "\n",
        "count_vect = CountVectorizer()\n",
        "\n",
        "x_train_tf = count_vect.fit_transform(X_train)\n",
        "\n",
        "tfidf_transformer = TfidfTransformer()\n",
        "\n",
        "x_train_tfidf = tfidf_transformer.fit_transform(x_train_tf)\n",
        "\n",
        "x_train_tfidf.shape"
      ],
      "execution_count": 39,
      "outputs": [
        {
          "output_type": "execute_result",
          "data": {
            "text/plain": [
              "(18607, 1534)"
            ]
          },
          "metadata": {},
          "execution_count": 39
        }
      ]
    },
    {
      "cell_type": "code",
      "metadata": {
        "colab": {
          "base_uri": "https://localhost:8080/"
        },
        "id": "aig0ypXRbSmJ",
        "outputId": "ca572bf8-2326-4fe5-ee05-f052ec7aa77e"
      },
      "source": [
        "x_test_tf = count_vect.transform(X_test)\n",
        "x_test_tfidf = tfidf_transformer.transform(x_test_tf)\n",
        "\n",
        "clf = MultinomialNB().fit(x_train_tfidf, y_train)\n",
        "predicted = clf.predict(x_test_tfidf)\n",
        "\n",
        "print('accuracy :',accuracy_score(y_test, predicted))\n",
        "print(metrics.classification_report(y_test, predicted, target_names = lables))\n",
        "metrics.confusion_matrix(y_test, predicted)"
      ],
      "execution_count": 40,
      "outputs": [
        {
          "output_type": "stream",
          "text": [
            "accuracy : 0.38134135855546003\n",
            "              precision    recall  f1-score   support\n",
            "\n",
            "         2.0       0.00      0.00      0.00         2\n",
            "         2.1       0.00      0.00      0.00         5\n",
            "         2.2       0.00      0.00      0.00         3\n",
            "         2.3       0.00      0.00      0.00        10\n",
            "         2.4       0.00      0.00      0.00         8\n",
            "         2.5       0.00      0.00      0.00        13\n",
            "         2.6       0.00      0.00      0.00        30\n",
            "         2.7       0.00      0.00      0.00        39\n",
            "         2.8       0.00      0.00      0.00        50\n",
            "         2.9       0.00      0.00      0.00        72\n",
            "         3.0       1.00      0.04      0.08        68\n",
            "         3.1       0.00      0.00      0.00        55\n",
            "         3.2       0.00      0.00      0.00        49\n",
            "         3.3       0.00      0.00      0.00        45\n",
            "         3.4       1.00      0.03      0.05        77\n",
            "         3.5       0.75      0.10      0.17        94\n",
            "         3.6       0.55      0.06      0.12       171\n",
            "         3.7       0.32      0.23      0.27       326\n",
            "         3.8       0.30      0.44      0.35       519\n",
            "         3.9       0.30      0.61      0.40       648\n",
            "         4.0       0.45      0.43      0.44       589\n",
            "         4.1       0.39      0.59      0.47       539\n",
            "         4.2       0.44      0.45      0.44       412\n",
            "         4.3       0.54      0.48      0.51       342\n",
            "         4.4       0.67      0.38      0.48       237\n",
            "         4.5       0.89      0.29      0.44       135\n",
            "         4.6       0.00      0.00      0.00        54\n",
            "         4.7       1.00      0.03      0.06        33\n",
            "         4.8       0.00      0.00      0.00        16\n",
            "         4.9       0.00      0.00      0.00        11\n",
            "\n",
            "    accuracy                           0.38      4652\n",
            "   macro avg       0.29      0.14      0.14      4652\n",
            "weighted avg       0.41      0.38      0.35      4652\n",
            "\n"
          ],
          "name": "stdout"
        },
        {
          "output_type": "stream",
          "text": [
            "/usr/local/lib/python3.7/dist-packages/sklearn/metrics/_classification.py:1272: UndefinedMetricWarning: Precision and F-score are ill-defined and being set to 0.0 in labels with no predicted samples. Use `zero_division` parameter to control this behavior.\n",
            "  _warn_prf(average, modifier, msg_start, len(result))\n"
          ],
          "name": "stderr"
        },
        {
          "output_type": "execute_result",
          "data": {
            "text/plain": [
              "array([[  0,   0,   0,   0,   0,   0,   0,   0,   0,   0,   0,   0,   0,\n",
              "          0,   0,   0,   0,   0,   0,   0,   0,   0,   0,   2,   0,   0,\n",
              "          0,   0,   0,   0],\n",
              "       [  0,   0,   0,   0,   0,   0,   0,   0,   0,   0,   0,   0,   0,\n",
              "          0,   0,   0,   0,   0,   1,   2,   0,   2,   0,   0,   0,   0,\n",
              "          0,   0,   0,   0],\n",
              "       [  0,   0,   0,   0,   0,   0,   0,   0,   0,   0,   0,   0,   0,\n",
              "          0,   0,   0,   0,   0,   1,   1,   0,   0,   1,   0,   0,   0,\n",
              "          0,   0,   0,   0],\n",
              "       [  0,   0,   0,   0,   0,   0,   0,   0,   0,   0,   0,   0,   0,\n",
              "          0,   0,   0,   0,   1,   6,   2,   1,   0,   0,   0,   0,   0,\n",
              "          0,   0,   0,   0],\n",
              "       [  0,   0,   0,   0,   0,   0,   0,   0,   0,   0,   0,   0,   0,\n",
              "          0,   0,   0,   0,   1,   2,   2,   2,   1,   0,   0,   0,   0,\n",
              "          0,   0,   0,   0],\n",
              "       [  0,   0,   0,   0,   0,   0,   0,   0,   0,   0,   0,   0,   0,\n",
              "          0,   0,   0,   0,   0,   3,   5,   0,   5,   0,   0,   0,   0,\n",
              "          0,   0,   0,   0],\n",
              "       [  0,   0,   0,   0,   0,   0,   0,   0,   0,   0,   0,   0,   0,\n",
              "          0,   0,   0,   0,   3,   5,  16,   1,   2,   2,   1,   0,   0,\n",
              "          0,   0,   0,   0],\n",
              "       [  0,   0,   0,   0,   0,   0,   0,   0,   0,   0,   0,   0,   0,\n",
              "          0,   0,   0,   0,   2,   3,  27,   1,   4,   2,   0,   0,   0,\n",
              "          0,   0,   0,   0],\n",
              "       [  0,   0,   0,   0,   0,   0,   0,   0,   0,   0,   0,   0,   0,\n",
              "          0,   0,   0,   1,   2,  10,  26,   6,   2,   1,   2,   0,   0,\n",
              "          0,   0,   0,   0],\n",
              "       [  0,   0,   0,   0,   0,   0,   0,   0,   0,   0,   0,   0,   0,\n",
              "          0,   0,   0,   0,  12,  15,  33,   7,   3,   0,   2,   0,   0,\n",
              "          0,   0,   0,   0],\n",
              "       [  0,   0,   0,   0,   0,   0,   0,   0,   0,   0,   3,   0,   0,\n",
              "          0,   0,   0,   0,   6,  19,  30,   6,   0,   4,   0,   0,   0,\n",
              "          0,   0,   0,   0],\n",
              "       [  0,   0,   0,   0,   0,   0,   0,   0,   0,   0,   0,   0,   0,\n",
              "          0,   0,   1,   0,   4,  21,  23,   2,   3,   0,   1,   0,   0,\n",
              "          0,   0,   0,   0],\n",
              "       [  0,   0,   0,   0,   0,   0,   0,   0,   0,   0,   0,   0,   0,\n",
              "          0,   0,   1,   0,   4,  17,  17,   6,   4,   0,   0,   0,   0,\n",
              "          0,   0,   0,   0],\n",
              "       [  0,   0,   0,   0,   0,   0,   0,   0,   0,   0,   0,   0,   0,\n",
              "          0,   0,   0,   0,   8,  14,  18,   2,   3,   0,   0,   0,   0,\n",
              "          0,   0,   0,   0],\n",
              "       [  0,   0,   0,   0,   0,   0,   0,   0,   0,   0,   0,   0,   0,\n",
              "          0,   2,   0,   0,   9,  24,  37,   0,   2,   1,   2,   0,   0,\n",
              "          0,   0,   0,   0],\n",
              "       [  0,   0,   0,   0,   0,   0,   0,   0,   0,   0,   0,   0,   0,\n",
              "          0,   0,   9,   1,  11,  25,  32,  10,   3,   2,   0,   1,   0,\n",
              "          0,   0,   0,   0],\n",
              "       [  0,   0,   0,   0,   0,   0,   0,   0,   0,   0,   0,   0,   0,\n",
              "          0,   0,   0,  11,  17,  43,  69,  10,  18,   0,   3,   0,   0,\n",
              "          0,   0,   0,   0],\n",
              "       [  0,   0,   0,   0,   0,   0,   0,   0,   0,   0,   0,   0,   0,\n",
              "          0,   0,   0,   1,  76,  76, 107,  19,  31,  13,   3,   0,   0,\n",
              "          0,   0,   0,   0],\n",
              "       [  0,   0,   0,   0,   0,   0,   0,   0,   0,   0,   0,   0,   0,\n",
              "          0,   0,   0,   0,  26, 227, 133,  54,  54,  16,   7,   0,   2,\n",
              "          0,   0,   0,   0],\n",
              "       [  0,   0,   0,   0,   0,   0,   0,   0,   0,   0,   0,   0,   0,\n",
              "          0,   0,   0,   5,  13,  82, 395,  58,  50,  27,  11,   5,   2,\n",
              "          0,   0,   0,   0],\n",
              "       [  0,   0,   0,   0,   0,   0,   0,   0,   0,   0,   0,   0,   0,\n",
              "          0,   0,   1,   1,  18,  70, 128, 256,  83,  21,   6,   5,   0,\n",
              "          0,   0,   0,   0],\n",
              "       [  0,   0,   0,   0,   0,   0,   0,   0,   0,   0,   0,   0,   0,\n",
              "          0,   0,   0,   0,  15,  40,  74,  40, 316,  31,  17,   6,   0,\n",
              "          0,   0,   0,   0],\n",
              "       [  0,   0,   0,   0,   0,   0,   0,   0,   0,   0,   0,   0,   0,\n",
              "          0,   0,   0,   0,   3,  26,  71,  34,  67, 186,  20,   5,   0,\n",
              "          0,   0,   0,   0],\n",
              "       [  0,   0,   0,   0,   0,   0,   0,   0,   0,   0,   0,   0,   0,\n",
              "          0,   0,   0,   0,   1,  16,  24,  19,  65,  48, 163,   6,   0,\n",
              "          0,   0,   0,   0],\n",
              "       [  0,   0,   0,   0,   0,   0,   0,   0,   0,   0,   0,   0,   0,\n",
              "          0,   0,   0,   0,   3,   9,  33,  14,  40,  23,  25,  90,   0,\n",
              "          0,   0,   0,   0],\n",
              "       [  0,   0,   0,   0,   0,   0,   0,   0,   0,   0,   0,   0,   0,\n",
              "          0,   0,   0,   0,   1,   3,   9,  16,  25,  22,  14,   6,  39,\n",
              "          0,   0,   0,   0],\n",
              "       [  0,   0,   0,   0,   0,   0,   0,   0,   0,   0,   0,   0,   0,\n",
              "          0,   0,   0,   0,   0,   2,   1,   4,  19,   9,  11,   7,   1,\n",
              "          0,   0,   0,   0],\n",
              "       [  0,   0,   0,   0,   0,   0,   0,   0,   0,   0,   0,   0,   0,\n",
              "          0,   0,   0,   0,   0,   0,   0,   2,  13,   8,   7,   2,   0,\n",
              "          0,   1,   0,   0],\n",
              "       [  0,   0,   0,   0,   0,   0,   0,   0,   0,   0,   0,   0,   0,\n",
              "          0,   0,   0,   0,   0,   1,   0,   1,   4,   7,   3,   0,   0,\n",
              "          0,   0,   0,   0],\n",
              "       [  0,   0,   0,   0,   0,   0,   0,   0,   0,   0,   0,   0,   0,\n",
              "          0,   0,   0,   0,   0,   0,   0,   3,   1,   3,   2,   2,   0,\n",
              "          0,   0,   0,   0]])"
            ]
          },
          "metadata": {},
          "execution_count": 40
        }
      ]
    },
    {
      "cell_type": "code",
      "metadata": {
        "id": "cNizZ5W5bZwd"
      },
      "source": [
        "x_test_tf = count_vect.transform(X_test)\n",
        "x_test_tfidf = tfidf_transformer.transform(x_test_tf)"
      ],
      "execution_count": 41,
      "outputs": []
    },
    {
      "cell_type": "code",
      "metadata": {
        "id": "nyXoaDXfbh_6"
      },
      "source": [
        "clf = MultinomialNB().fit(x_train_tfidf, y_train)\n",
        "predicted = clf.predict(x_test_tfidf)"
      ],
      "execution_count": 42,
      "outputs": []
    },
    {
      "cell_type": "code",
      "metadata": {
        "colab": {
          "base_uri": "https://localhost:8080/"
        },
        "id": "zf-j4kQsbli_",
        "outputId": "c7f29200-729c-4bf0-aacf-04d0fd124695"
      },
      "source": [
        "print('accuracy :',accuracy_score(y_test, predicted))\n",
        "print(metrics.classification_report(y_test, predicted, target_names = lables))\n",
        "metrics.confusion_matrix(y_test, predicted)"
      ],
      "execution_count": 43,
      "outputs": [
        {
          "output_type": "stream",
          "text": [
            "accuracy : 0.38134135855546003\n",
            "              precision    recall  f1-score   support\n",
            "\n",
            "         2.0       0.00      0.00      0.00         2\n",
            "         2.1       0.00      0.00      0.00         5\n",
            "         2.2       0.00      0.00      0.00         3\n",
            "         2.3       0.00      0.00      0.00        10\n",
            "         2.4       0.00      0.00      0.00         8\n",
            "         2.5       0.00      0.00      0.00        13\n",
            "         2.6       0.00      0.00      0.00        30\n",
            "         2.7       0.00      0.00      0.00        39\n",
            "         2.8       0.00      0.00      0.00        50\n",
            "         2.9       0.00      0.00      0.00        72\n",
            "         3.0       1.00      0.04      0.08        68\n",
            "         3.1       0.00      0.00      0.00        55\n",
            "         3.2       0.00      0.00      0.00        49\n",
            "         3.3       0.00      0.00      0.00        45\n",
            "         3.4       1.00      0.03      0.05        77\n",
            "         3.5       0.75      0.10      0.17        94\n",
            "         3.6       0.55      0.06      0.12       171\n",
            "         3.7       0.32      0.23      0.27       326\n",
            "         3.8       0.30      0.44      0.35       519\n",
            "         3.9       0.30      0.61      0.40       648\n",
            "         4.0       0.45      0.43      0.44       589\n",
            "         4.1       0.39      0.59      0.47       539\n",
            "         4.2       0.44      0.45      0.44       412\n",
            "         4.3       0.54      0.48      0.51       342\n",
            "         4.4       0.67      0.38      0.48       237\n",
            "         4.5       0.89      0.29      0.44       135\n",
            "         4.6       0.00      0.00      0.00        54\n",
            "         4.7       1.00      0.03      0.06        33\n",
            "         4.8       0.00      0.00      0.00        16\n",
            "         4.9       0.00      0.00      0.00        11\n",
            "\n",
            "    accuracy                           0.38      4652\n",
            "   macro avg       0.29      0.14      0.14      4652\n",
            "weighted avg       0.41      0.38      0.35      4652\n",
            "\n"
          ],
          "name": "stdout"
        },
        {
          "output_type": "stream",
          "text": [
            "/usr/local/lib/python3.7/dist-packages/sklearn/metrics/_classification.py:1272: UndefinedMetricWarning: Precision and F-score are ill-defined and being set to 0.0 in labels with no predicted samples. Use `zero_division` parameter to control this behavior.\n",
            "  _warn_prf(average, modifier, msg_start, len(result))\n"
          ],
          "name": "stderr"
        },
        {
          "output_type": "execute_result",
          "data": {
            "text/plain": [
              "array([[  0,   0,   0,   0,   0,   0,   0,   0,   0,   0,   0,   0,   0,\n",
              "          0,   0,   0,   0,   0,   0,   0,   0,   0,   0,   2,   0,   0,\n",
              "          0,   0,   0,   0],\n",
              "       [  0,   0,   0,   0,   0,   0,   0,   0,   0,   0,   0,   0,   0,\n",
              "          0,   0,   0,   0,   0,   1,   2,   0,   2,   0,   0,   0,   0,\n",
              "          0,   0,   0,   0],\n",
              "       [  0,   0,   0,   0,   0,   0,   0,   0,   0,   0,   0,   0,   0,\n",
              "          0,   0,   0,   0,   0,   1,   1,   0,   0,   1,   0,   0,   0,\n",
              "          0,   0,   0,   0],\n",
              "       [  0,   0,   0,   0,   0,   0,   0,   0,   0,   0,   0,   0,   0,\n",
              "          0,   0,   0,   0,   1,   6,   2,   1,   0,   0,   0,   0,   0,\n",
              "          0,   0,   0,   0],\n",
              "       [  0,   0,   0,   0,   0,   0,   0,   0,   0,   0,   0,   0,   0,\n",
              "          0,   0,   0,   0,   1,   2,   2,   2,   1,   0,   0,   0,   0,\n",
              "          0,   0,   0,   0],\n",
              "       [  0,   0,   0,   0,   0,   0,   0,   0,   0,   0,   0,   0,   0,\n",
              "          0,   0,   0,   0,   0,   3,   5,   0,   5,   0,   0,   0,   0,\n",
              "          0,   0,   0,   0],\n",
              "       [  0,   0,   0,   0,   0,   0,   0,   0,   0,   0,   0,   0,   0,\n",
              "          0,   0,   0,   0,   3,   5,  16,   1,   2,   2,   1,   0,   0,\n",
              "          0,   0,   0,   0],\n",
              "       [  0,   0,   0,   0,   0,   0,   0,   0,   0,   0,   0,   0,   0,\n",
              "          0,   0,   0,   0,   2,   3,  27,   1,   4,   2,   0,   0,   0,\n",
              "          0,   0,   0,   0],\n",
              "       [  0,   0,   0,   0,   0,   0,   0,   0,   0,   0,   0,   0,   0,\n",
              "          0,   0,   0,   1,   2,  10,  26,   6,   2,   1,   2,   0,   0,\n",
              "          0,   0,   0,   0],\n",
              "       [  0,   0,   0,   0,   0,   0,   0,   0,   0,   0,   0,   0,   0,\n",
              "          0,   0,   0,   0,  12,  15,  33,   7,   3,   0,   2,   0,   0,\n",
              "          0,   0,   0,   0],\n",
              "       [  0,   0,   0,   0,   0,   0,   0,   0,   0,   0,   3,   0,   0,\n",
              "          0,   0,   0,   0,   6,  19,  30,   6,   0,   4,   0,   0,   0,\n",
              "          0,   0,   0,   0],\n",
              "       [  0,   0,   0,   0,   0,   0,   0,   0,   0,   0,   0,   0,   0,\n",
              "          0,   0,   1,   0,   4,  21,  23,   2,   3,   0,   1,   0,   0,\n",
              "          0,   0,   0,   0],\n",
              "       [  0,   0,   0,   0,   0,   0,   0,   0,   0,   0,   0,   0,   0,\n",
              "          0,   0,   1,   0,   4,  17,  17,   6,   4,   0,   0,   0,   0,\n",
              "          0,   0,   0,   0],\n",
              "       [  0,   0,   0,   0,   0,   0,   0,   0,   0,   0,   0,   0,   0,\n",
              "          0,   0,   0,   0,   8,  14,  18,   2,   3,   0,   0,   0,   0,\n",
              "          0,   0,   0,   0],\n",
              "       [  0,   0,   0,   0,   0,   0,   0,   0,   0,   0,   0,   0,   0,\n",
              "          0,   2,   0,   0,   9,  24,  37,   0,   2,   1,   2,   0,   0,\n",
              "          0,   0,   0,   0],\n",
              "       [  0,   0,   0,   0,   0,   0,   0,   0,   0,   0,   0,   0,   0,\n",
              "          0,   0,   9,   1,  11,  25,  32,  10,   3,   2,   0,   1,   0,\n",
              "          0,   0,   0,   0],\n",
              "       [  0,   0,   0,   0,   0,   0,   0,   0,   0,   0,   0,   0,   0,\n",
              "          0,   0,   0,  11,  17,  43,  69,  10,  18,   0,   3,   0,   0,\n",
              "          0,   0,   0,   0],\n",
              "       [  0,   0,   0,   0,   0,   0,   0,   0,   0,   0,   0,   0,   0,\n",
              "          0,   0,   0,   1,  76,  76, 107,  19,  31,  13,   3,   0,   0,\n",
              "          0,   0,   0,   0],\n",
              "       [  0,   0,   0,   0,   0,   0,   0,   0,   0,   0,   0,   0,   0,\n",
              "          0,   0,   0,   0,  26, 227, 133,  54,  54,  16,   7,   0,   2,\n",
              "          0,   0,   0,   0],\n",
              "       [  0,   0,   0,   0,   0,   0,   0,   0,   0,   0,   0,   0,   0,\n",
              "          0,   0,   0,   5,  13,  82, 395,  58,  50,  27,  11,   5,   2,\n",
              "          0,   0,   0,   0],\n",
              "       [  0,   0,   0,   0,   0,   0,   0,   0,   0,   0,   0,   0,   0,\n",
              "          0,   0,   1,   1,  18,  70, 128, 256,  83,  21,   6,   5,   0,\n",
              "          0,   0,   0,   0],\n",
              "       [  0,   0,   0,   0,   0,   0,   0,   0,   0,   0,   0,   0,   0,\n",
              "          0,   0,   0,   0,  15,  40,  74,  40, 316,  31,  17,   6,   0,\n",
              "          0,   0,   0,   0],\n",
              "       [  0,   0,   0,   0,   0,   0,   0,   0,   0,   0,   0,   0,   0,\n",
              "          0,   0,   0,   0,   3,  26,  71,  34,  67, 186,  20,   5,   0,\n",
              "          0,   0,   0,   0],\n",
              "       [  0,   0,   0,   0,   0,   0,   0,   0,   0,   0,   0,   0,   0,\n",
              "          0,   0,   0,   0,   1,  16,  24,  19,  65,  48, 163,   6,   0,\n",
              "          0,   0,   0,   0],\n",
              "       [  0,   0,   0,   0,   0,   0,   0,   0,   0,   0,   0,   0,   0,\n",
              "          0,   0,   0,   0,   3,   9,  33,  14,  40,  23,  25,  90,   0,\n",
              "          0,   0,   0,   0],\n",
              "       [  0,   0,   0,   0,   0,   0,   0,   0,   0,   0,   0,   0,   0,\n",
              "          0,   0,   0,   0,   1,   3,   9,  16,  25,  22,  14,   6,  39,\n",
              "          0,   0,   0,   0],\n",
              "       [  0,   0,   0,   0,   0,   0,   0,   0,   0,   0,   0,   0,   0,\n",
              "          0,   0,   0,   0,   0,   2,   1,   4,  19,   9,  11,   7,   1,\n",
              "          0,   0,   0,   0],\n",
              "       [  0,   0,   0,   0,   0,   0,   0,   0,   0,   0,   0,   0,   0,\n",
              "          0,   0,   0,   0,   0,   0,   0,   2,  13,   8,   7,   2,   0,\n",
              "          0,   1,   0,   0],\n",
              "       [  0,   0,   0,   0,   0,   0,   0,   0,   0,   0,   0,   0,   0,\n",
              "          0,   0,   0,   0,   0,   1,   0,   1,   4,   7,   3,   0,   0,\n",
              "          0,   0,   0,   0],\n",
              "       [  0,   0,   0,   0,   0,   0,   0,   0,   0,   0,   0,   0,   0,\n",
              "          0,   0,   0,   0,   0,   0,   0,   3,   1,   3,   2,   2,   0,\n",
              "          0,   0,   0,   0]])"
            ]
          },
          "metadata": {},
          "execution_count": 43
        }
      ]
    },
    {
      "cell_type": "code",
      "metadata": {
        "colab": {
          "base_uri": "https://localhost:8080/"
        },
        "id": "gitqSfVTbsyg",
        "outputId": "ab8e983a-60d4-426a-b4ee-01e6f1b96556"
      },
      "source": [
        "from sklearn.linear_model import LinearRegression\n",
        "from sklearn.metrics import r2_score\n",
        "LR = LinearRegression()\n",
        "\n",
        "clf = LR.fit(x_train_tfidf, y_train)\n",
        "predicted = clf.predict(x_test_tfidf)\n",
        "\n",
        "print('r2_score :',r2_score(y_test, predicted))"
      ],
      "execution_count": 45,
      "outputs": [
        {
          "output_type": "stream",
          "text": [
            "r2_score : 0.5312883239733606\n"
          ],
          "name": "stdout"
        }
      ]
    },
    {
      "cell_type": "code",
      "metadata": {
        "id": "Jn_9-MxodOat"
      },
      "source": [
        ""
      ],
      "execution_count": null,
      "outputs": []
    }
  ]
}