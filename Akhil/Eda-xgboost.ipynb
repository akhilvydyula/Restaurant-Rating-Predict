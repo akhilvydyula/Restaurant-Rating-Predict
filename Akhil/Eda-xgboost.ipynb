{
  "nbformat": 4,
  "nbformat_minor": 0,
  "metadata": {
    "kernelspec": {
      "display_name": "Python 3",
      "language": "python",
      "name": "python3"
    },
    "language_info": {
      "name": "python",
      "version": "3.6.4",
      "mimetype": "text/x-python",
      "codemirror_mode": {
        "name": "ipython",
        "version": 3
      },
      "pygments_lexer": "ipython3",
      "nbconvert_exporter": "python",
      "file_extension": ".py"
    },
    "colab": {
      "name": "EDA_XGBOOST.ipynb",
      "provenance": [],
      "include_colab_link": true
    }
  },
  "cells": [
    {
      "cell_type": "markdown",
      "metadata": {
        "id": "view-in-github",
        "colab_type": "text"
      },
      "source": [
        "<a href=\"https://colab.research.google.com/github/akhilvydyula/Restaurant-Rating-Predict/blob/main/EDA_XGBOOST.ipynb\" target=\"_parent\"><img src=\"https://colab.research.google.com/assets/colab-badge.svg\" alt=\"Open In Colab\"/></a>"
      ]
    },
    {
      "cell_type": "code",
      "metadata": {
        "colab": {
          "base_uri": "https://localhost:8080/"
        },
        "id": "ls_TYsXBS81e",
        "outputId": "0e012e4b-846b-4e26-8488-29960a9a0af1"
      },
      "source": [
        "from google.colab import drive\n",
        "drive.mount('/content/drive')"
      ],
      "execution_count": 1,
      "outputs": [
        {
          "output_type": "stream",
          "text": [
            "Mounted at /content/drive\n"
          ],
          "name": "stdout"
        }
      ]
    },
    {
      "cell_type": "code",
      "metadata": {
        "colab": {
          "base_uri": "https://localhost:8080/"
        },
        "id": "6nha1dQXT5q3",
        "outputId": "23686315-53c4-42de-8e12-92e5e63646f8"
      },
      "source": [
        "!ls /content/drive/MyDrive/"
      ],
      "execution_count": 2,
      "outputs": [
        {
          "output_type": "stream",
          "text": [
            " Akhil-T-CV.gdoc\t\t     RE-AKHIL.gdoc\n",
            "'Colab Notebooks'\t\t     RE-AKHIL.pdf\n",
            "'Copy of final_model.ipynb'\t    'Restaurant '\n",
            "'FDI Case Study.gsheet'\t\t     Resume.gdoc\n",
            " kaggle_movie_train.csv\t\t     SCIENCE_BOORLA.gslides\n",
            "'mng-vbsx-yuf - Apr 24, 2021.gjam'  'Thyroid '\n",
            "'Mushroom '\t\t\t    'Transfer Learning Resnet 50.ipynb'\n",
            " news\t\t\t\t     Untitled\n",
            "'RE-AKHIL (1).pdf'\t\t    'Untitled document.gdoc'\n",
            "'RE-AKHIL (2).pdf'\t\t    'Untitled spreadsheet.gsheet'\n",
            "'RE-AKHIL (3).pdf'\t\t    'Vehicle '\n"
          ],
          "name": "stdout"
        }
      ]
    },
    {
      "cell_type": "code",
      "metadata": {
        "_uuid": "8f2839f25d086af736a60e9eeb907d3b93b6e0e5",
        "_cell_guid": "b1076dfc-b9ad-4769-8c92-a6c4dae69d19",
        "trusted": true,
        "id": "3TsS7gNSR1eV",
        "colab": {
          "base_uri": "https://localhost:8080/"
        },
        "outputId": "f94560de-1d91-442c-e15e-f0155b197aaa"
      },
      "source": [
        "import pandas as pd\n",
        "import numpy as np\n",
        "from sklearn.model_selection import train_test_split\n",
        "from sklearn.compose import ColumnTransformer\n",
        "from sklearn.pipeline import Pipeline\n",
        "from sklearn.impute import SimpleImputer\n",
        "from sklearn.preprocessing import StandardScaler, OneHotEncoder\n",
        "from statsmodels.regression.linear_model import OLS\n",
        "from xgboost import XGBRegressor\n",
        "from sklearn.metrics import mean_squared_error, mean_absolute_error\n",
        "import matplotlib\n",
        "from matplotlib import pyplot as plt\n",
        "import seaborn as sns\n",
        "%matplotlib inline\n",
        "\n",
        "zomato = pd.read_csv(\"/content/drive/MyDrive/Restaurant /zomato.csv\", na_values = [\"-\", \"\"])\n",
        "# Making a copy of the data to work on\n",
        "data = zomato.copy()"
      ],
      "execution_count": 3,
      "outputs": [
        {
          "output_type": "stream",
          "text": [
            "/usr/local/lib/python3.7/dist-packages/statsmodels/tools/_testing.py:19: FutureWarning: pandas.util.testing is deprecated. Use the functions in the public API at pandas.testing instead.\n",
            "  import pandas.util.testing as tm\n"
          ],
          "name": "stderr"
        }
      ]
    },
    {
      "cell_type": "code",
      "metadata": {
        "_cell_guid": "79c7e3d0-c299-4dcb-8224-4455121ee9b0",
        "_uuid": "d629ff2d2480ee46fbb7e2d37f6b5fab8052498a",
        "trusted": true,
        "colab": {
          "base_uri": "https://localhost:8080/"
        },
        "id": "ampcYKuoR1ea",
        "outputId": "73a22f86-55b7-45c6-9f4f-addd33cc5050"
      },
      "source": [
        "data.shape\n",
        "# The dataset has 51717 rows and 17 columns"
      ],
      "execution_count": 4,
      "outputs": [
        {
          "output_type": "execute_result",
          "data": {
            "text/plain": [
              "(51717, 17)"
            ]
          },
          "metadata": {
            "tags": []
          },
          "execution_count": 4
        }
      ]
    },
    {
      "cell_type": "code",
      "metadata": {
        "trusted": true,
        "colab": {
          "base_uri": "https://localhost:8080/"
        },
        "id": "FZ-sIppGR1ec",
        "outputId": "865eec3d-c91f-497c-970f-761c812f4e6a"
      },
      "source": [
        "data.info()\n",
        "# Each row represents a restaurant and each column is a feature of the restaurant"
      ],
      "execution_count": 5,
      "outputs": [
        {
          "output_type": "stream",
          "text": [
            "<class 'pandas.core.frame.DataFrame'>\n",
            "RangeIndex: 51717 entries, 0 to 51716\n",
            "Data columns (total 17 columns):\n",
            " #   Column                       Non-Null Count  Dtype \n",
            "---  ------                       --------------  ----- \n",
            " 0   url                          51717 non-null  object\n",
            " 1   address                      51717 non-null  object\n",
            " 2   name                         51717 non-null  object\n",
            " 3   online_order                 51717 non-null  object\n",
            " 4   book_table                   51717 non-null  object\n",
            " 5   rate                         43873 non-null  object\n",
            " 6   votes                        51717 non-null  int64 \n",
            " 7   phone                        50509 non-null  object\n",
            " 8   location                     51696 non-null  object\n",
            " 9   rest_type                    51490 non-null  object\n",
            " 10  dish_liked                   23639 non-null  object\n",
            " 11  cuisines                     51672 non-null  object\n",
            " 12  approx_cost(for two people)  51371 non-null  object\n",
            " 13  reviews_list                 51717 non-null  object\n",
            " 14  menu_item                    51717 non-null  object\n",
            " 15  listed_in(type)              51717 non-null  object\n",
            " 16  listed_in(city)              51717 non-null  object\n",
            "dtypes: int64(1), object(16)\n",
            "memory usage: 6.7+ MB\n"
          ],
          "name": "stdout"
        }
      ]
    },
    {
      "cell_type": "code",
      "metadata": {
        "trusted": true,
        "colab": {
          "base_uri": "https://localhost:8080/",
          "height": 441
        },
        "id": "_EapzMmBR1eg",
        "outputId": "d8f212a1-59db-4b3c-fd13-53897fc5d056"
      },
      "source": [
        "data.head(3)"
      ],
      "execution_count": 6,
      "outputs": [
        {
          "output_type": "execute_result",
          "data": {
            "text/html": [
              "<div>\n",
              "<style scoped>\n",
              "    .dataframe tbody tr th:only-of-type {\n",
              "        vertical-align: middle;\n",
              "    }\n",
              "\n",
              "    .dataframe tbody tr th {\n",
              "        vertical-align: top;\n",
              "    }\n",
              "\n",
              "    .dataframe thead th {\n",
              "        text-align: right;\n",
              "    }\n",
              "</style>\n",
              "<table border=\"1\" class=\"dataframe\">\n",
              "  <thead>\n",
              "    <tr style=\"text-align: right;\">\n",
              "      <th></th>\n",
              "      <th>url</th>\n",
              "      <th>address</th>\n",
              "      <th>name</th>\n",
              "      <th>online_order</th>\n",
              "      <th>book_table</th>\n",
              "      <th>rate</th>\n",
              "      <th>votes</th>\n",
              "      <th>phone</th>\n",
              "      <th>location</th>\n",
              "      <th>rest_type</th>\n",
              "      <th>dish_liked</th>\n",
              "      <th>cuisines</th>\n",
              "      <th>approx_cost(for two people)</th>\n",
              "      <th>reviews_list</th>\n",
              "      <th>menu_item</th>\n",
              "      <th>listed_in(type)</th>\n",
              "      <th>listed_in(city)</th>\n",
              "    </tr>\n",
              "  </thead>\n",
              "  <tbody>\n",
              "    <tr>\n",
              "      <th>0</th>\n",
              "      <td>https://www.zomato.com/bangalore/jalsa-banasha...</td>\n",
              "      <td>942, 21st Main Road, 2nd Stage, Banashankari, ...</td>\n",
              "      <td>Jalsa</td>\n",
              "      <td>Yes</td>\n",
              "      <td>Yes</td>\n",
              "      <td>4.1/5</td>\n",
              "      <td>775</td>\n",
              "      <td>080 42297555\\r\\n+91 9743772233</td>\n",
              "      <td>Banashankari</td>\n",
              "      <td>Casual Dining</td>\n",
              "      <td>Pasta, Lunch Buffet, Masala Papad, Paneer Laja...</td>\n",
              "      <td>North Indian, Mughlai, Chinese</td>\n",
              "      <td>800</td>\n",
              "      <td>[('Rated 4.0', 'RATED\\n  A beautiful place to ...</td>\n",
              "      <td>[]</td>\n",
              "      <td>Buffet</td>\n",
              "      <td>Banashankari</td>\n",
              "    </tr>\n",
              "    <tr>\n",
              "      <th>1</th>\n",
              "      <td>https://www.zomato.com/bangalore/spice-elephan...</td>\n",
              "      <td>2nd Floor, 80 Feet Road, Near Big Bazaar, 6th ...</td>\n",
              "      <td>Spice Elephant</td>\n",
              "      <td>Yes</td>\n",
              "      <td>No</td>\n",
              "      <td>4.1/5</td>\n",
              "      <td>787</td>\n",
              "      <td>080 41714161</td>\n",
              "      <td>Banashankari</td>\n",
              "      <td>Casual Dining</td>\n",
              "      <td>Momos, Lunch Buffet, Chocolate Nirvana, Thai G...</td>\n",
              "      <td>Chinese, North Indian, Thai</td>\n",
              "      <td>800</td>\n",
              "      <td>[('Rated 4.0', 'RATED\\n  Had been here for din...</td>\n",
              "      <td>[]</td>\n",
              "      <td>Buffet</td>\n",
              "      <td>Banashankari</td>\n",
              "    </tr>\n",
              "    <tr>\n",
              "      <th>2</th>\n",
              "      <td>https://www.zomato.com/SanchurroBangalore?cont...</td>\n",
              "      <td>1112, Next to KIMS Medical College, 17th Cross...</td>\n",
              "      <td>San Churro Cafe</td>\n",
              "      <td>Yes</td>\n",
              "      <td>No</td>\n",
              "      <td>3.8/5</td>\n",
              "      <td>918</td>\n",
              "      <td>+91 9663487993</td>\n",
              "      <td>Banashankari</td>\n",
              "      <td>Cafe, Casual Dining</td>\n",
              "      <td>Churros, Cannelloni, Minestrone Soup, Hot Choc...</td>\n",
              "      <td>Cafe, Mexican, Italian</td>\n",
              "      <td>800</td>\n",
              "      <td>[('Rated 3.0', \"RATED\\n  Ambience is not that ...</td>\n",
              "      <td>[]</td>\n",
              "      <td>Buffet</td>\n",
              "      <td>Banashankari</td>\n",
              "    </tr>\n",
              "  </tbody>\n",
              "</table>\n",
              "</div>"
            ],
            "text/plain": [
              "                                                 url  ... listed_in(city)\n",
              "0  https://www.zomato.com/bangalore/jalsa-banasha...  ...    Banashankari\n",
              "1  https://www.zomato.com/bangalore/spice-elephan...  ...    Banashankari\n",
              "2  https://www.zomato.com/SanchurroBangalore?cont...  ...    Banashankari\n",
              "\n",
              "[3 rows x 17 columns]"
            ]
          },
          "metadata": {
            "tags": []
          },
          "execution_count": 6
        }
      ]
    },
    {
      "cell_type": "code",
      "metadata": {
        "trusted": true,
        "colab": {
          "base_uri": "https://localhost:8080/",
          "height": 441
        },
        "id": "EBL4BafqR1ei",
        "outputId": "a47ecb07-c432-486d-8d69-37192976d3d3"
      },
      "source": [
        "data.tail(3)"
      ],
      "execution_count": 7,
      "outputs": [
        {
          "output_type": "execute_result",
          "data": {
            "text/html": [
              "<div>\n",
              "<style scoped>\n",
              "    .dataframe tbody tr th:only-of-type {\n",
              "        vertical-align: middle;\n",
              "    }\n",
              "\n",
              "    .dataframe tbody tr th {\n",
              "        vertical-align: top;\n",
              "    }\n",
              "\n",
              "    .dataframe thead th {\n",
              "        text-align: right;\n",
              "    }\n",
              "</style>\n",
              "<table border=\"1\" class=\"dataframe\">\n",
              "  <thead>\n",
              "    <tr style=\"text-align: right;\">\n",
              "      <th></th>\n",
              "      <th>url</th>\n",
              "      <th>address</th>\n",
              "      <th>name</th>\n",
              "      <th>online_order</th>\n",
              "      <th>book_table</th>\n",
              "      <th>rate</th>\n",
              "      <th>votes</th>\n",
              "      <th>phone</th>\n",
              "      <th>location</th>\n",
              "      <th>rest_type</th>\n",
              "      <th>dish_liked</th>\n",
              "      <th>cuisines</th>\n",
              "      <th>approx_cost(for two people)</th>\n",
              "      <th>reviews_list</th>\n",
              "      <th>menu_item</th>\n",
              "      <th>listed_in(type)</th>\n",
              "      <th>listed_in(city)</th>\n",
              "    </tr>\n",
              "  </thead>\n",
              "  <tbody>\n",
              "    <tr>\n",
              "      <th>51714</th>\n",
              "      <td>https://www.zomato.com/bangalore/plunge-sherat...</td>\n",
              "      <td>Sheraton Grand Bengaluru Whitefield Hotel &amp; Co...</td>\n",
              "      <td>Plunge - Sheraton Grand Bengaluru Whitefield H...</td>\n",
              "      <td>No</td>\n",
              "      <td>No</td>\n",
              "      <td>NaN</td>\n",
              "      <td>0</td>\n",
              "      <td>NaN</td>\n",
              "      <td>Whitefield</td>\n",
              "      <td>Bar</td>\n",
              "      <td>NaN</td>\n",
              "      <td>Finger Food</td>\n",
              "      <td>2,000</td>\n",
              "      <td>[]</td>\n",
              "      <td>[]</td>\n",
              "      <td>Pubs and bars</td>\n",
              "      <td>Whitefield</td>\n",
              "    </tr>\n",
              "    <tr>\n",
              "      <th>51715</th>\n",
              "      <td>https://www.zomato.com/bangalore/chime-sherato...</td>\n",
              "      <td>Sheraton Grand Bengaluru Whitefield Hotel &amp; Co...</td>\n",
              "      <td>Chime - Sheraton Grand Bengaluru Whitefield Ho...</td>\n",
              "      <td>No</td>\n",
              "      <td>Yes</td>\n",
              "      <td>4.3 /5</td>\n",
              "      <td>236</td>\n",
              "      <td>080 49652769</td>\n",
              "      <td>ITPL Main Road, Whitefield</td>\n",
              "      <td>Bar</td>\n",
              "      <td>Cocktails, Pizza, Buttermilk</td>\n",
              "      <td>Finger Food</td>\n",
              "      <td>2,500</td>\n",
              "      <td>[('Rated 4.0', 'RATED\\n  Nice and friendly pla...</td>\n",
              "      <td>[]</td>\n",
              "      <td>Pubs and bars</td>\n",
              "      <td>Whitefield</td>\n",
              "    </tr>\n",
              "    <tr>\n",
              "      <th>51716</th>\n",
              "      <td>https://www.zomato.com/bangalore/the-nest-the-...</td>\n",
              "      <td>ITPL Main Road, KIADB Export Promotion Industr...</td>\n",
              "      <td>The Nest - The Den Bengaluru</td>\n",
              "      <td>No</td>\n",
              "      <td>No</td>\n",
              "      <td>3.4 /5</td>\n",
              "      <td>13</td>\n",
              "      <td>+91 8071117272</td>\n",
              "      <td>ITPL Main Road, Whitefield</td>\n",
              "      <td>Bar, Casual Dining</td>\n",
              "      <td>NaN</td>\n",
              "      <td>Finger Food, North Indian, Continental</td>\n",
              "      <td>1,500</td>\n",
              "      <td>[('Rated 5.0', 'RATED\\n  Great ambience , look...</td>\n",
              "      <td>[]</td>\n",
              "      <td>Pubs and bars</td>\n",
              "      <td>Whitefield</td>\n",
              "    </tr>\n",
              "  </tbody>\n",
              "</table>\n",
              "</div>"
            ],
            "text/plain": [
              "                                                     url  ... listed_in(city)\n",
              "51714  https://www.zomato.com/bangalore/plunge-sherat...  ...      Whitefield\n",
              "51715  https://www.zomato.com/bangalore/chime-sherato...  ...      Whitefield\n",
              "51716  https://www.zomato.com/bangalore/the-nest-the-...  ...      Whitefield\n",
              "\n",
              "[3 rows x 17 columns]"
            ]
          },
          "metadata": {
            "tags": []
          },
          "execution_count": 7
        }
      ]
    },
    {
      "cell_type": "markdown",
      "metadata": {
        "id": "qYci8TyoR1ek"
      },
      "source": [
        "### Observations\n",
        "- The dataset contains missing values\n",
        "- Location information is captured more accurately by \"location\" than by \"listed_in(city)\"\n",
        "- There is some information overlap between rest_type and listed_in(type) \n",
        "- There's something strange about the menu_item column - let's take a closer look"
      ]
    },
    {
      "cell_type": "code",
      "metadata": {
        "trusted": true,
        "colab": {
          "base_uri": "https://localhost:8080/"
        },
        "id": "G8rCmqjtR1ep",
        "outputId": "239285b9-ee48-47ef-8722-8abaf9d8865d"
      },
      "source": [
        "data[\"menu_item\"].value_counts()[:1]"
      ],
      "execution_count": 8,
      "outputs": [
        {
          "output_type": "execute_result",
          "data": {
            "text/plain": [
              "[]    39617\n",
              "Name: menu_item, dtype: int64"
            ]
          },
          "metadata": {
            "tags": []
          },
          "execution_count": 8
        }
      ]
    },
    {
      "cell_type": "markdown",
      "metadata": {
        "id": "embSnfj-R1es"
      },
      "source": [
        "39617 entries in the column are empty lists [] "
      ]
    },
    {
      "cell_type": "code",
      "metadata": {
        "trusted": true,
        "colab": {
          "base_uri": "https://localhost:8080/"
        },
        "id": "2_PmuIlTR1ew",
        "outputId": "c32c3c23-d59a-41c8-9877-a25792f04771"
      },
      "source": [
        "data.isnull().sum()"
      ],
      "execution_count": 9,
      "outputs": [
        {
          "output_type": "execute_result",
          "data": {
            "text/plain": [
              "url                                0\n",
              "address                            0\n",
              "name                               0\n",
              "online_order                       0\n",
              "book_table                         0\n",
              "rate                            7844\n",
              "votes                              0\n",
              "phone                           1208\n",
              "location                          21\n",
              "rest_type                        227\n",
              "dish_liked                     28078\n",
              "cuisines                          45\n",
              "approx_cost(for two people)      346\n",
              "reviews_list                       0\n",
              "menu_item                          0\n",
              "listed_in(type)                    0\n",
              "listed_in(city)                    0\n",
              "dtype: int64"
            ]
          },
          "metadata": {
            "tags": []
          },
          "execution_count": 9
        }
      ]
    },
    {
      "cell_type": "markdown",
      "metadata": {
        "id": "kqCSSUx1R1ey"
      },
      "source": [
        "It appears both menu_item and dish_liked have over 50% of their data missing."
      ]
    },
    {
      "cell_type": "code",
      "metadata": {
        "trusted": true,
        "colab": {
          "base_uri": "https://localhost:8080/",
          "height": 35
        },
        "id": "qxGlD74KR1ez",
        "outputId": "f4748477-e20f-40bb-cb61-602003c4205f"
      },
      "source": [
        "data.address[1]"
      ],
      "execution_count": 10,
      "outputs": [
        {
          "output_type": "execute_result",
          "data": {
            "application/vnd.google.colaboratory.intrinsic+json": {
              "type": "string"
            },
            "text/plain": [
              "'2nd Floor, 80 Feet Road, Near Big Bazaar, 6th Block, Kathriguppe, 3rd Stage, Banashankari, Bangalore'"
            ]
          },
          "metadata": {
            "tags": []
          },
          "execution_count": 10
        }
      ]
    },
    {
      "cell_type": "markdown",
      "metadata": {
        "id": "Yx0CgLHmR1e0"
      },
      "source": [
        "Zip codes are not included in the addresses. So they may not be useful for analysis but can be used to identify duplicate data."
      ]
    },
    {
      "cell_type": "code",
      "metadata": {
        "trusted": true,
        "id": "1rWyE60lR1e2"
      },
      "source": [
        "# Renaming and removing commas in the cost column \n",
        "data = data.rename({\"approx_cost(for two people)\": \"cost\"}, axis=1)\n",
        "data[\"cost\"] = data[\"cost\"].replace(\",\", \"\", regex = True)"
      ],
      "execution_count": 11,
      "outputs": []
    },
    {
      "cell_type": "code",
      "metadata": {
        "trusted": true,
        "id": "55Yprw-5R1e3"
      },
      "source": [
        "# Converting numeric columns to their appropriate dtypes\n",
        "data[[\"votes\", \"cost\"]] = data[[\"votes\", \"cost\"]].apply(pd.to_numeric)"
      ],
      "execution_count": 12,
      "outputs": []
    },
    {
      "cell_type": "code",
      "metadata": {
        "trusted": true,
        "colab": {
          "base_uri": "https://localhost:8080/"
        },
        "id": "PT0DJL1SR1e4",
        "outputId": "404f3c5d-1498-486f-dc88-ae89422a5587"
      },
      "source": [
        "# Examining restaurant types in the column \"listed_in(type)\"\n",
        "data[\"listed_in(type)\"].value_counts()"
      ],
      "execution_count": 13,
      "outputs": [
        {
          "output_type": "execute_result",
          "data": {
            "text/plain": [
              "Delivery              25942\n",
              "Dine-out              17779\n",
              "Desserts               3593\n",
              "Cafes                  1723\n",
              "Drinks & nightlife     1101\n",
              "Buffet                  882\n",
              "Pubs and bars           697\n",
              "Name: listed_in(type), dtype: int64"
            ]
          },
          "metadata": {
            "tags": []
          },
          "execution_count": 13
        }
      ]
    },
    {
      "cell_type": "code",
      "metadata": {
        "trusted": true,
        "colab": {
          "base_uri": "https://localhost:8080/"
        },
        "id": "UZzjFTM8R1e5",
        "outputId": "7da74f51-86ee-4e31-bddf-6083d3dfbd66"
      },
      "source": [
        "# Examining the top 20 restaurant types in the column \"rest_type\"\n",
        "data[\"rest_type\"].value_counts()[:10]"
      ],
      "execution_count": 14,
      "outputs": [
        {
          "output_type": "execute_result",
          "data": {
            "text/plain": [
              "Quick Bites           19132\n",
              "Casual Dining         10330\n",
              "Cafe                   3732\n",
              "Delivery               2604\n",
              "Dessert Parlor         2263\n",
              "Takeaway, Delivery     2037\n",
              "Casual Dining, Bar     1154\n",
              "Bakery                 1141\n",
              "Beverage Shop           867\n",
              "Bar                     697\n",
              "Name: rest_type, dtype: int64"
            ]
          },
          "metadata": {
            "tags": []
          },
          "execution_count": 14
        }
      ]
    },
    {
      "cell_type": "markdown",
      "metadata": {
        "id": "aApLUtKFR1e6"
      },
      "source": [
        "There is an information overlap between these two features and we can see that rest_type is more informative. Additionally, the uploader has mentioned there is duplication of data because many restaurants are categorised under multiple types in listed_in(type). We will handle this duplication before proceeding further."
      ]
    },
    {
      "cell_type": "code",
      "metadata": {
        "trusted": true,
        "id": "8MYjNaVZR1e6"
      },
      "source": [
        "# Group and aggregate duplicate restaurants that are listed under multiple types in listed_in(type)\n",
        "\n",
        "grouped = data.groupby([\"name\", \"address\"]).agg({\"listed_in(type)\" : list})\n",
        "newdata = pd.merge(grouped, data, on = ([\"name\", \"address\"]))"
      ],
      "execution_count": 15,
      "outputs": []
    },
    {
      "cell_type": "code",
      "metadata": {
        "trusted": true,
        "colab": {
          "base_uri": "https://localhost:8080/",
          "height": 354
        },
        "id": "Yn1wQi7fR1e7",
        "outputId": "b929fc24-3688-4075-d3b8-676c8794466f"
      },
      "source": [
        "# Examine the duplicates\n",
        "newdata.head(3)\n",
        "# The duplicates can be seen in column \"listed_in(type)_x\""
      ],
      "execution_count": 16,
      "outputs": [
        {
          "output_type": "execute_result",
          "data": {
            "text/html": [
              "<div>\n",
              "<style scoped>\n",
              "    .dataframe tbody tr th:only-of-type {\n",
              "        vertical-align: middle;\n",
              "    }\n",
              "\n",
              "    .dataframe tbody tr th {\n",
              "        vertical-align: top;\n",
              "    }\n",
              "\n",
              "    .dataframe thead th {\n",
              "        text-align: right;\n",
              "    }\n",
              "</style>\n",
              "<table border=\"1\" class=\"dataframe\">\n",
              "  <thead>\n",
              "    <tr style=\"text-align: right;\">\n",
              "      <th></th>\n",
              "      <th>name</th>\n",
              "      <th>address</th>\n",
              "      <th>listed_in(type)_x</th>\n",
              "      <th>url</th>\n",
              "      <th>online_order</th>\n",
              "      <th>book_table</th>\n",
              "      <th>rate</th>\n",
              "      <th>votes</th>\n",
              "      <th>phone</th>\n",
              "      <th>location</th>\n",
              "      <th>rest_type</th>\n",
              "      <th>dish_liked</th>\n",
              "      <th>cuisines</th>\n",
              "      <th>cost</th>\n",
              "      <th>reviews_list</th>\n",
              "      <th>menu_item</th>\n",
              "      <th>listed_in(type)_y</th>\n",
              "      <th>listed_in(city)</th>\n",
              "    </tr>\n",
              "  </thead>\n",
              "  <tbody>\n",
              "    <tr>\n",
              "      <th>0</th>\n",
              "      <td>#FeelTheROLL</td>\n",
              "      <td>Opposite Mantri Commercio, Outer Ring Road, De...</td>\n",
              "      <td>[Delivery, Delivery]</td>\n",
              "      <td>https://www.zomato.com/bangalore/feeltheroll-b...</td>\n",
              "      <td>No</td>\n",
              "      <td>No</td>\n",
              "      <td>3.4/5</td>\n",
              "      <td>7</td>\n",
              "      <td>+91 9108342079\\r\\n+91 9886117901</td>\n",
              "      <td>Bellandur</td>\n",
              "      <td>Quick Bites</td>\n",
              "      <td>NaN</td>\n",
              "      <td>Fast Food</td>\n",
              "      <td>200.0</td>\n",
              "      <td>[('Rated 5.0', \"RATED\\n  Had an egg chicken ro...</td>\n",
              "      <td>[]</td>\n",
              "      <td>Delivery</td>\n",
              "      <td>Bellandur</td>\n",
              "    </tr>\n",
              "    <tr>\n",
              "      <th>1</th>\n",
              "      <td>#FeelTheROLL</td>\n",
              "      <td>Opposite Mantri Commercio, Outer Ring Road, De...</td>\n",
              "      <td>[Delivery, Delivery]</td>\n",
              "      <td>https://www.zomato.com/bangalore/feeltheroll-b...</td>\n",
              "      <td>No</td>\n",
              "      <td>No</td>\n",
              "      <td>3.4 /5</td>\n",
              "      <td>7</td>\n",
              "      <td>+91 9108342079\\n+91 9886117901</td>\n",
              "      <td>Bellandur</td>\n",
              "      <td>Quick Bites</td>\n",
              "      <td>NaN</td>\n",
              "      <td>Fast Food</td>\n",
              "      <td>200.0</td>\n",
              "      <td>[('Rated 5.0', \"RATED\\n  Had an egg chicken ro...</td>\n",
              "      <td>[]</td>\n",
              "      <td>Delivery</td>\n",
              "      <td>Sarjapur Road</td>\n",
              "    </tr>\n",
              "    <tr>\n",
              "      <th>2</th>\n",
              "      <td>#L-81 Cafe</td>\n",
              "      <td>Sector 6, HSR Layout, HSR</td>\n",
              "      <td>[Delivery, Dine-out, Delivery, Dine-out, Deliv...</td>\n",
              "      <td>https://www.zomato.com/bangalore/l-81-cafe-hsr...</td>\n",
              "      <td>Yes</td>\n",
              "      <td>No</td>\n",
              "      <td>3.9/5</td>\n",
              "      <td>48</td>\n",
              "      <td>+91 9986210891</td>\n",
              "      <td>HSR</td>\n",
              "      <td>Quick Bites</td>\n",
              "      <td>Burgers</td>\n",
              "      <td>Fast Food, Beverages</td>\n",
              "      <td>400.0</td>\n",
              "      <td>[('Rated 4.0', 'RATED\\n  This little cafe is s...</td>\n",
              "      <td>[]</td>\n",
              "      <td>Delivery</td>\n",
              "      <td>BTM</td>\n",
              "    </tr>\n",
              "  </tbody>\n",
              "</table>\n",
              "</div>"
            ],
            "text/plain": [
              "           name  ... listed_in(city)\n",
              "0  #FeelTheROLL  ...       Bellandur\n",
              "1  #FeelTheROLL  ...   Sarjapur Road\n",
              "2    #L-81 Cafe  ...             BTM\n",
              "\n",
              "[3 rows x 18 columns]"
            ]
          },
          "metadata": {
            "tags": []
          },
          "execution_count": 16
        }
      ]
    },
    {
      "cell_type": "code",
      "metadata": {
        "trusted": true,
        "id": "y7fLlagSR1e8"
      },
      "source": [
        "# Drop rows which have duplicate information in \"name\", \"address\" and \"listed_in(type)_x\"\n",
        "newdata[\"listed_in(type)_x\"] = newdata[\"listed_in(type)_x\"].astype(str) # converting unhashable list to a hashable type\n",
        "newdata.drop_duplicates(subset = [\"name\", \"address\", \"listed_in(type)_x\"], inplace = True)"
      ],
      "execution_count": 17,
      "outputs": []
    },
    {
      "cell_type": "code",
      "metadata": {
        "trusted": true,
        "colab": {
          "base_uri": "https://localhost:8080/"
        },
        "id": "wN-BuPVVR1e9",
        "outputId": "5af29726-cb12-421d-eb46-83858f54172b"
      },
      "source": [
        "newdata.shape"
      ],
      "execution_count": 18,
      "outputs": [
        {
          "output_type": "execute_result",
          "data": {
            "text/plain": [
              "(12499, 18)"
            ]
          },
          "metadata": {
            "tags": []
          },
          "execution_count": 18
        }
      ]
    },
    {
      "cell_type": "markdown",
      "metadata": {
        "id": "Xa0EfvOJR1e-"
      },
      "source": [
        "The reduced dataset has 12499 restaurants - **a substantial reduction from 51717 !**"
      ]
    },
    {
      "cell_type": "code",
      "metadata": {
        "trusted": true,
        "colab": {
          "base_uri": "https://localhost:8080/",
          "height": 449
        },
        "id": "0MAUkyZyR1e_",
        "outputId": "f4075ad6-61c3-4322-fa60-4105bd0827d6"
      },
      "source": [
        "newdata.describe(include = \"all\")"
      ],
      "execution_count": 19,
      "outputs": [
        {
          "output_type": "execute_result",
          "data": {
            "text/html": [
              "<div>\n",
              "<style scoped>\n",
              "    .dataframe tbody tr th:only-of-type {\n",
              "        vertical-align: middle;\n",
              "    }\n",
              "\n",
              "    .dataframe tbody tr th {\n",
              "        vertical-align: top;\n",
              "    }\n",
              "\n",
              "    .dataframe thead th {\n",
              "        text-align: right;\n",
              "    }\n",
              "</style>\n",
              "<table border=\"1\" class=\"dataframe\">\n",
              "  <thead>\n",
              "    <tr style=\"text-align: right;\">\n",
              "      <th></th>\n",
              "      <th>name</th>\n",
              "      <th>address</th>\n",
              "      <th>listed_in(type)_x</th>\n",
              "      <th>url</th>\n",
              "      <th>online_order</th>\n",
              "      <th>book_table</th>\n",
              "      <th>rate</th>\n",
              "      <th>votes</th>\n",
              "      <th>phone</th>\n",
              "      <th>location</th>\n",
              "      <th>rest_type</th>\n",
              "      <th>dish_liked</th>\n",
              "      <th>cuisines</th>\n",
              "      <th>cost</th>\n",
              "      <th>reviews_list</th>\n",
              "      <th>menu_item</th>\n",
              "      <th>listed_in(type)_y</th>\n",
              "      <th>listed_in(city)</th>\n",
              "    </tr>\n",
              "  </thead>\n",
              "  <tbody>\n",
              "    <tr>\n",
              "      <th>count</th>\n",
              "      <td>12499</td>\n",
              "      <td>12499</td>\n",
              "      <td>12499</td>\n",
              "      <td>12499</td>\n",
              "      <td>12499</td>\n",
              "      <td>12499</td>\n",
              "      <td>10088</td>\n",
              "      <td>12499.000000</td>\n",
              "      <td>12232</td>\n",
              "      <td>12490</td>\n",
              "      <td>12436</td>\n",
              "      <td>4608</td>\n",
              "      <td>12480</td>\n",
              "      <td>12440.00000</td>\n",
              "      <td>12499</td>\n",
              "      <td>12499</td>\n",
              "      <td>12499</td>\n",
              "      <td>12499</td>\n",
              "    </tr>\n",
              "    <tr>\n",
              "      <th>unique</th>\n",
              "      <td>8792</td>\n",
              "      <td>11495</td>\n",
              "      <td>927</td>\n",
              "      <td>12499</td>\n",
              "      <td>2</td>\n",
              "      <td>2</td>\n",
              "      <td>60</td>\n",
              "      <td>NaN</td>\n",
              "      <td>10898</td>\n",
              "      <td>93</td>\n",
              "      <td>93</td>\n",
              "      <td>4277</td>\n",
              "      <td>2609</td>\n",
              "      <td>NaN</td>\n",
              "      <td>9966</td>\n",
              "      <td>2279</td>\n",
              "      <td>7</td>\n",
              "      <td>30</td>\n",
              "    </tr>\n",
              "    <tr>\n",
              "      <th>top</th>\n",
              "      <td>Cafe Coffee Day</td>\n",
              "      <td>Delivery Only</td>\n",
              "      <td>['Delivery', 'Dine-out']</td>\n",
              "      <td>https://www.zomato.com/bangalore/feeltheroll-b...</td>\n",
              "      <td>Yes</td>\n",
              "      <td>No</td>\n",
              "      <td>NEW</td>\n",
              "      <td>NaN</td>\n",
              "      <td>080 43334333</td>\n",
              "      <td>Whitefield</td>\n",
              "      <td>Quick Bites</td>\n",
              "      <td>Biryani</td>\n",
              "      <td>North Indian</td>\n",
              "      <td>NaN</td>\n",
              "      <td>[]</td>\n",
              "      <td>[]</td>\n",
              "      <td>Delivery</td>\n",
              "      <td>BTM</td>\n",
              "    </tr>\n",
              "    <tr>\n",
              "      <th>freq</th>\n",
              "      <td>54</td>\n",
              "      <td>33</td>\n",
              "      <td>1209</td>\n",
              "      <td>1</td>\n",
              "      <td>6604</td>\n",
              "      <td>11550</td>\n",
              "      <td>772</td>\n",
              "      <td>NaN</td>\n",
              "      <td>79</td>\n",
              "      <td>885</td>\n",
              "      <td>5024</td>\n",
              "      <td>47</td>\n",
              "      <td>745</td>\n",
              "      <td>NaN</td>\n",
              "      <td>2511</td>\n",
              "      <td>10201</td>\n",
              "      <td>8715</td>\n",
              "      <td>1456</td>\n",
              "    </tr>\n",
              "    <tr>\n",
              "      <th>mean</th>\n",
              "      <td>NaN</td>\n",
              "      <td>NaN</td>\n",
              "      <td>NaN</td>\n",
              "      <td>NaN</td>\n",
              "      <td>NaN</td>\n",
              "      <td>NaN</td>\n",
              "      <td>NaN</td>\n",
              "      <td>180.683815</td>\n",
              "      <td>NaN</td>\n",
              "      <td>NaN</td>\n",
              "      <td>NaN</td>\n",
              "      <td>NaN</td>\n",
              "      <td>NaN</td>\n",
              "      <td>487.20000</td>\n",
              "      <td>NaN</td>\n",
              "      <td>NaN</td>\n",
              "      <td>NaN</td>\n",
              "      <td>NaN</td>\n",
              "    </tr>\n",
              "    <tr>\n",
              "      <th>std</th>\n",
              "      <td>NaN</td>\n",
              "      <td>NaN</td>\n",
              "      <td>NaN</td>\n",
              "      <td>NaN</td>\n",
              "      <td>NaN</td>\n",
              "      <td>NaN</td>\n",
              "      <td>NaN</td>\n",
              "      <td>591.711621</td>\n",
              "      <td>NaN</td>\n",
              "      <td>NaN</td>\n",
              "      <td>NaN</td>\n",
              "      <td>NaN</td>\n",
              "      <td>NaN</td>\n",
              "      <td>390.85198</td>\n",
              "      <td>NaN</td>\n",
              "      <td>NaN</td>\n",
              "      <td>NaN</td>\n",
              "      <td>NaN</td>\n",
              "    </tr>\n",
              "    <tr>\n",
              "      <th>min</th>\n",
              "      <td>NaN</td>\n",
              "      <td>NaN</td>\n",
              "      <td>NaN</td>\n",
              "      <td>NaN</td>\n",
              "      <td>NaN</td>\n",
              "      <td>NaN</td>\n",
              "      <td>NaN</td>\n",
              "      <td>0.000000</td>\n",
              "      <td>NaN</td>\n",
              "      <td>NaN</td>\n",
              "      <td>NaN</td>\n",
              "      <td>NaN</td>\n",
              "      <td>NaN</td>\n",
              "      <td>40.00000</td>\n",
              "      <td>NaN</td>\n",
              "      <td>NaN</td>\n",
              "      <td>NaN</td>\n",
              "      <td>NaN</td>\n",
              "    </tr>\n",
              "    <tr>\n",
              "      <th>25%</th>\n",
              "      <td>NaN</td>\n",
              "      <td>NaN</td>\n",
              "      <td>NaN</td>\n",
              "      <td>NaN</td>\n",
              "      <td>NaN</td>\n",
              "      <td>NaN</td>\n",
              "      <td>NaN</td>\n",
              "      <td>0.000000</td>\n",
              "      <td>NaN</td>\n",
              "      <td>NaN</td>\n",
              "      <td>NaN</td>\n",
              "      <td>NaN</td>\n",
              "      <td>NaN</td>\n",
              "      <td>250.00000</td>\n",
              "      <td>NaN</td>\n",
              "      <td>NaN</td>\n",
              "      <td>NaN</td>\n",
              "      <td>NaN</td>\n",
              "    </tr>\n",
              "    <tr>\n",
              "      <th>50%</th>\n",
              "      <td>NaN</td>\n",
              "      <td>NaN</td>\n",
              "      <td>NaN</td>\n",
              "      <td>NaN</td>\n",
              "      <td>NaN</td>\n",
              "      <td>NaN</td>\n",
              "      <td>NaN</td>\n",
              "      <td>24.000000</td>\n",
              "      <td>NaN</td>\n",
              "      <td>NaN</td>\n",
              "      <td>NaN</td>\n",
              "      <td>NaN</td>\n",
              "      <td>NaN</td>\n",
              "      <td>400.00000</td>\n",
              "      <td>NaN</td>\n",
              "      <td>NaN</td>\n",
              "      <td>NaN</td>\n",
              "      <td>NaN</td>\n",
              "    </tr>\n",
              "    <tr>\n",
              "      <th>75%</th>\n",
              "      <td>NaN</td>\n",
              "      <td>NaN</td>\n",
              "      <td>NaN</td>\n",
              "      <td>NaN</td>\n",
              "      <td>NaN</td>\n",
              "      <td>NaN</td>\n",
              "      <td>NaN</td>\n",
              "      <td>120.000000</td>\n",
              "      <td>NaN</td>\n",
              "      <td>NaN</td>\n",
              "      <td>NaN</td>\n",
              "      <td>NaN</td>\n",
              "      <td>NaN</td>\n",
              "      <td>600.00000</td>\n",
              "      <td>NaN</td>\n",
              "      <td>NaN</td>\n",
              "      <td>NaN</td>\n",
              "      <td>NaN</td>\n",
              "    </tr>\n",
              "    <tr>\n",
              "      <th>max</th>\n",
              "      <td>NaN</td>\n",
              "      <td>NaN</td>\n",
              "      <td>NaN</td>\n",
              "      <td>NaN</td>\n",
              "      <td>NaN</td>\n",
              "      <td>NaN</td>\n",
              "      <td>NaN</td>\n",
              "      <td>16345.000000</td>\n",
              "      <td>NaN</td>\n",
              "      <td>NaN</td>\n",
              "      <td>NaN</td>\n",
              "      <td>NaN</td>\n",
              "      <td>NaN</td>\n",
              "      <td>6000.00000</td>\n",
              "      <td>NaN</td>\n",
              "      <td>NaN</td>\n",
              "      <td>NaN</td>\n",
              "      <td>NaN</td>\n",
              "    </tr>\n",
              "  </tbody>\n",
              "</table>\n",
              "</div>"
            ],
            "text/plain": [
              "                   name        address  ... listed_in(type)_y listed_in(city)\n",
              "count             12499          12499  ...             12499           12499\n",
              "unique             8792          11495  ...                 7              30\n",
              "top     Cafe Coffee Day  Delivery Only  ...          Delivery             BTM\n",
              "freq                 54             33  ...              8715            1456\n",
              "mean                NaN            NaN  ...               NaN             NaN\n",
              "std                 NaN            NaN  ...               NaN             NaN\n",
              "min                 NaN            NaN  ...               NaN             NaN\n",
              "25%                 NaN            NaN  ...               NaN             NaN\n",
              "50%                 NaN            NaN  ...               NaN             NaN\n",
              "75%                 NaN            NaN  ...               NaN             NaN\n",
              "max                 NaN            NaN  ...               NaN             NaN\n",
              "\n",
              "[11 rows x 18 columns]"
            ]
          },
          "metadata": {
            "tags": []
          },
          "execution_count": 19
        }
      ]
    },
    {
      "cell_type": "markdown",
      "metadata": {
        "id": "GyH8htnWR1fA"
      },
      "source": [
        "## Observations\n",
        "- There are 8792 unique restaurant names, of which **Cafe Coffee Day** has the highest occurrence (54)\n",
        "- There are 93 unique locations in Bangalore of which **Whitefield** has the highest number of restaurants (885). Note that this is different from the original dataset's \"top\" location, BTM, which shows the importance of removing duplicates\n",
        "- The most common restaurant type is \"Quick Bites\" (5024 occurrences)\n",
        "- The most common listed type is Delivery (8715) \n",
        "- Biryani is the most popular dish, but we can't be sure about this as dish_liked is missing over half its data\n",
        "- There are 2609 unique levels in the cuisines column, this is because restaurants are categorised under many different combinations of cuisines\n",
        "- Average cost for two at Bangalore restaurants is Rs 487 and there is very **high variance** (standard deviation Rs 390)\n",
        "- Average number of votes per restaurant is 180 and here too there is **high variance**\n",
        "- Majority of restaurants allow online ordering but don't allow online table booking\n",
        "- NEW is the most common entry in the rating column - this represents unrated new restaurants. We will look at the ratings more closely later\n",
        "- Like menu_item, reviews_list also contains many empty lists (2511)\n"
      ]
    },
    {
      "cell_type": "code",
      "metadata": {
        "trusted": true,
        "id": "9kkyXv4sR1fB"
      },
      "source": [
        "# Converting the restaurant names to rownames \n",
        "newdata.index = newdata[\"name\"]"
      ],
      "execution_count": 20,
      "outputs": []
    },
    {
      "cell_type": "code",
      "metadata": {
        "trusted": true,
        "colab": {
          "base_uri": "https://localhost:8080/",
          "height": 394
        },
        "id": "b-7U0p7YR1fC",
        "outputId": "a3fb5e6b-de24-416a-a9f1-68d558f92564"
      },
      "source": [
        "# Identifying the top 10 cuisines in Bangalore?\n",
        "pd.DataFrame(newdata.groupby([\"cuisines\"])[\"cuisines\"].agg(['count']).sort_values(\"count\", ascending = False)).head(10)"
      ],
      "execution_count": 21,
      "outputs": [
        {
          "output_type": "execute_result",
          "data": {
            "text/html": [
              "<div>\n",
              "<style scoped>\n",
              "    .dataframe tbody tr th:only-of-type {\n",
              "        vertical-align: middle;\n",
              "    }\n",
              "\n",
              "    .dataframe tbody tr th {\n",
              "        vertical-align: top;\n",
              "    }\n",
              "\n",
              "    .dataframe thead th {\n",
              "        text-align: right;\n",
              "    }\n",
              "</style>\n",
              "<table border=\"1\" class=\"dataframe\">\n",
              "  <thead>\n",
              "    <tr style=\"text-align: right;\">\n",
              "      <th></th>\n",
              "      <th>count</th>\n",
              "    </tr>\n",
              "    <tr>\n",
              "      <th>cuisines</th>\n",
              "      <th></th>\n",
              "    </tr>\n",
              "  </thead>\n",
              "  <tbody>\n",
              "    <tr>\n",
              "      <th>North Indian</th>\n",
              "      <td>745</td>\n",
              "    </tr>\n",
              "    <tr>\n",
              "      <th>South Indian</th>\n",
              "      <td>612</td>\n",
              "    </tr>\n",
              "    <tr>\n",
              "      <th>North Indian, Chinese</th>\n",
              "      <td>571</td>\n",
              "    </tr>\n",
              "    <tr>\n",
              "      <th>Biryani</th>\n",
              "      <td>274</td>\n",
              "    </tr>\n",
              "    <tr>\n",
              "      <th>Bakery, Desserts</th>\n",
              "      <td>254</td>\n",
              "    </tr>\n",
              "    <tr>\n",
              "      <th>Fast Food</th>\n",
              "      <td>241</td>\n",
              "    </tr>\n",
              "    <tr>\n",
              "      <th>South Indian, North Indian, Chinese</th>\n",
              "      <td>200</td>\n",
              "    </tr>\n",
              "    <tr>\n",
              "      <th>Bakery</th>\n",
              "      <td>196</td>\n",
              "    </tr>\n",
              "    <tr>\n",
              "      <th>Desserts</th>\n",
              "      <td>183</td>\n",
              "    </tr>\n",
              "    <tr>\n",
              "      <th>Ice Cream, Desserts</th>\n",
              "      <td>133</td>\n",
              "    </tr>\n",
              "  </tbody>\n",
              "</table>\n",
              "</div>"
            ],
            "text/plain": [
              "                                     count\n",
              "cuisines                                  \n",
              "North Indian                           745\n",
              "South Indian                           612\n",
              "North Indian, Chinese                  571\n",
              "Biryani                                274\n",
              "Bakery, Desserts                       254\n",
              "Fast Food                              241\n",
              "South Indian, North Indian, Chinese    200\n",
              "Bakery                                 196\n",
              "Desserts                               183\n",
              "Ice Cream, Desserts                    133"
            ]
          },
          "metadata": {
            "tags": []
          },
          "execution_count": 21
        }
      ]
    },
    {
      "cell_type": "markdown",
      "metadata": {
        "id": "ZdKVwhQ-R1fD"
      },
      "source": [
        "Despite being a southern city, Bangalore has **more North Indian restaurants than South Indian**. Bangaloreans also really seem to love their biryani as no other dish has an entire cuisine category to itself."
      ]
    },
    {
      "cell_type": "code",
      "metadata": {
        "trusted": true,
        "id": "WqVzey4zR1fE"
      },
      "source": [
        "# Dropping unnecessary columns\n",
        "newdata.drop([\"name\", \"url\", \"phone\", \"listed_in(city)\", \"listed_in(type)_x\", \"address\", \"dish_liked\",  \"listed_in(type)_y\", \"menu_item\", \"cuisines\", \"reviews_list\"], axis = 1, inplace = True)\n"
      ],
      "execution_count": 22,
      "outputs": []
    },
    {
      "cell_type": "code",
      "metadata": {
        "trusted": true,
        "colab": {
          "base_uri": "https://localhost:8080/",
          "height": 175
        },
        "id": "BuuhRDzgR1fF",
        "outputId": "187f21ab-de16-46e3-8896-1eae8b16120a"
      },
      "source": [
        "newdata.head(3)"
      ],
      "execution_count": 23,
      "outputs": [
        {
          "output_type": "execute_result",
          "data": {
            "text/html": [
              "<div>\n",
              "<style scoped>\n",
              "    .dataframe tbody tr th:only-of-type {\n",
              "        vertical-align: middle;\n",
              "    }\n",
              "\n",
              "    .dataframe tbody tr th {\n",
              "        vertical-align: top;\n",
              "    }\n",
              "\n",
              "    .dataframe thead th {\n",
              "        text-align: right;\n",
              "    }\n",
              "</style>\n",
              "<table border=\"1\" class=\"dataframe\">\n",
              "  <thead>\n",
              "    <tr style=\"text-align: right;\">\n",
              "      <th></th>\n",
              "      <th>online_order</th>\n",
              "      <th>book_table</th>\n",
              "      <th>rate</th>\n",
              "      <th>votes</th>\n",
              "      <th>location</th>\n",
              "      <th>rest_type</th>\n",
              "      <th>cost</th>\n",
              "    </tr>\n",
              "    <tr>\n",
              "      <th>name</th>\n",
              "      <th></th>\n",
              "      <th></th>\n",
              "      <th></th>\n",
              "      <th></th>\n",
              "      <th></th>\n",
              "      <th></th>\n",
              "      <th></th>\n",
              "    </tr>\n",
              "  </thead>\n",
              "  <tbody>\n",
              "    <tr>\n",
              "      <th>#FeelTheROLL</th>\n",
              "      <td>No</td>\n",
              "      <td>No</td>\n",
              "      <td>3.4/5</td>\n",
              "      <td>7</td>\n",
              "      <td>Bellandur</td>\n",
              "      <td>Quick Bites</td>\n",
              "      <td>200.0</td>\n",
              "    </tr>\n",
              "    <tr>\n",
              "      <th>#L-81 Cafe</th>\n",
              "      <td>Yes</td>\n",
              "      <td>No</td>\n",
              "      <td>3.9/5</td>\n",
              "      <td>48</td>\n",
              "      <td>HSR</td>\n",
              "      <td>Quick Bites</td>\n",
              "      <td>400.0</td>\n",
              "    </tr>\n",
              "    <tr>\n",
              "      <th>#Vibes Restro</th>\n",
              "      <td>No</td>\n",
              "      <td>No</td>\n",
              "      <td>NaN</td>\n",
              "      <td>0</td>\n",
              "      <td>Electronic City</td>\n",
              "      <td>Casual Dining</td>\n",
              "      <td>700.0</td>\n",
              "    </tr>\n",
              "  </tbody>\n",
              "</table>\n",
              "</div>"
            ],
            "text/plain": [
              "              online_order book_table  ...      rest_type   cost\n",
              "name                                   ...                      \n",
              "#FeelTheROLL            No         No  ...    Quick Bites  200.0\n",
              "#L-81 Cafe             Yes         No  ...    Quick Bites  400.0\n",
              "#Vibes Restro           No         No  ...  Casual Dining  700.0\n",
              "\n",
              "[3 rows x 7 columns]"
            ]
          },
          "metadata": {
            "tags": []
          },
          "execution_count": 23
        }
      ]
    },
    {
      "cell_type": "markdown",
      "metadata": {
        "id": "BgnGMVvQR1fF"
      },
      "source": [
        "These are the features we'll use to build our regression model."
      ]
    },
    {
      "cell_type": "code",
      "metadata": {
        "trusted": true,
        "id": "23UqtvfmR1fG"
      },
      "source": [
        "# Converting restaurant ratings to a numeric variable\n",
        "newdata[\"rating\"] = newdata[\"rate\"].str[:3] # Extracting the first three characters of each string in \"rate\"\n",
        "newdata.drop(\"rate\", axis = 1, inplace = True)"
      ],
      "execution_count": 24,
      "outputs": []
    },
    {
      "cell_type": "markdown",
      "metadata": {
        "id": "cbOtUlo8R1fH"
      },
      "source": [
        "Instead of representing a rating as 3.5/5, we are now representing it as just 3.5.\n",
        "\n",
        "Next we will remove the \"NEW\" level from ratings as it is not predictable."
      ]
    },
    {
      "cell_type": "code",
      "metadata": {
        "trusted": true,
        "id": "f4KBpWW2R1fH"
      },
      "source": [
        "# Recreating dataset without NEW restaurants\n",
        "newdata = newdata[newdata.rating != \"NEW\"] "
      ],
      "execution_count": 25,
      "outputs": []
    },
    {
      "cell_type": "code",
      "metadata": {
        "trusted": true,
        "colab": {
          "base_uri": "https://localhost:8080/"
        },
        "id": "ZipUtqR2R1fI",
        "outputId": "061d09b7-59b7-4554-f212-18424fd5ca87"
      },
      "source": [
        "newdata.isnull().sum()"
      ],
      "execution_count": 26,
      "outputs": [
        {
          "output_type": "execute_result",
          "data": {
            "text/plain": [
              "online_order       0\n",
              "book_table         0\n",
              "votes              0\n",
              "location           9\n",
              "rest_type         62\n",
              "cost              58\n",
              "rating          2411\n",
              "dtype: int64"
            ]
          },
          "metadata": {
            "tags": []
          },
          "execution_count": 26
        }
      ]
    },
    {
      "cell_type": "markdown",
      "metadata": {
        "id": "mP8ZmW-kR1fI"
      },
      "source": [
        "We will drop rows that have missing values in the target variable. The remaining missing values in other features will be imputed later."
      ]
    },
    {
      "cell_type": "code",
      "metadata": {
        "trusted": true,
        "id": "kKaV1TdqR1fJ"
      },
      "source": [
        "newdata = newdata.dropna(subset = [\"rating\"])"
      ],
      "execution_count": 27,
      "outputs": []
    },
    {
      "cell_type": "markdown",
      "metadata": {
        "id": "3I1oi8IzR1fJ"
      },
      "source": [
        "Now we can convert ratings to a numeric column."
      ]
    },
    {
      "cell_type": "code",
      "metadata": {
        "trusted": true,
        "id": "fnYN6gdSR1fK"
      },
      "source": [
        "newdata[\"rating\"] = pd.to_numeric(newdata[\"rating\"])"
      ],
      "execution_count": 28,
      "outputs": []
    },
    {
      "cell_type": "markdown",
      "metadata": {
        "id": "SAX2xC7YR1fL"
      },
      "source": [
        "## Data visualizations"
      ]
    },
    {
      "cell_type": "code",
      "metadata": {
        "trusted": true,
        "colab": {
          "base_uri": "https://localhost:8080/",
          "height": 320
        },
        "id": "DyDEQQlYR1fL",
        "outputId": "5ce83233-70b8-4b05-a89e-46e6a5a68577"
      },
      "source": [
        "# Plotting the distribution of restaurant ratings\n",
        "plt.figure(figsize = (10, 5))\n",
        "plt.hist(newdata.rating, bins = 20, color = \"r\")\n",
        "plt.show()\n"
      ],
      "execution_count": 29,
      "outputs": [
        {
          "output_type": "display_data",
          "data": {
            "image/png": "[encoded data removed]",
            "text/plain": [
              "<Figure size 720x360 with 1 Axes>"
            ]
          },
          "metadata": {
            "tags": [],
            "needs_background": "light"
          }
        }
      ]
    },
    {
      "cell_type": "markdown",
      "metadata": {
        "id": "gxBEUwslR1fM"
      },
      "source": [
        "### Observations\n",
        "- **3.7 is the most common rating**, i.e. most Bangaloreans have above-average dining experiences when they go out. \n",
        "- There are very few ratings between 2 to 2.5 and 4.5 to 5, and hardly any under 2."
      ]
    },
    {
      "cell_type": "code",
      "metadata": {
        "trusted": true,
        "colab": {
          "base_uri": "https://localhost:8080/",
          "height": 829
        },
        "id": "C7Mc-FRrR1fM",
        "outputId": "d8fcd7f3-4c54-43b9-feb2-bc2de64602e0"
      },
      "source": [
        "# Plotting the distribution of locations\n",
        "plt.figure(figsize = (30, 20))\n",
        "ax = sns.barplot(data = newdata, x = newdata.location.value_counts().index, y = newdata.location.value_counts())\n",
        "ax.set_xticklabels(ax.get_xticklabels(), rotation=40, ha=\"right\") # to make the labels more readable\n",
        "plt.show()"
      ],
      "execution_count": 30,
      "outputs": [
        {
          "output_type": "display_data",
          "data": {
            "image/png": "[encoded data removed]",
            "text/plain": [
              "<Figure size 2160x1440 with 1 Axes>"
            ]
          },
          "metadata": {
            "tags": [],
            "needs_background": "light"
          }
        }
      ]
    },
    {
      "cell_type": "code",
      "metadata": {
        "trusted": true,
        "colab": {
          "base_uri": "https://localhost:8080/"
        },
        "id": "GTS2TFmjR1fN",
        "outputId": "29526d19-ff16-45a1-aebb-bdf3e7270a6f"
      },
      "source": [
        "# Printing restaurant value counts for the top 25 locations\n",
        "newdata[\"location\"].value_counts()[:25]"
      ],
      "execution_count": 31,
      "outputs": [
        {
          "output_type": "execute_result",
          "data": {
            "text/plain": [
              "Whitefield               617\n",
              "BTM                      518\n",
              "HSR                      517\n",
              "Marathahalli             498\n",
              "Electronic City          458\n",
              "Indiranagar              435\n",
              "JP Nagar                 372\n",
              "Bannerghatta Road        350\n",
              "Jayanagar                306\n",
              "Bellandur                260\n",
              "Sarjapur Road            251\n",
              "Koramangala 5th Block    240\n",
              "Banashankari             227\n",
              "New BEL Road             220\n",
              "Malleshwaram             202\n",
              "Kalyan Nagar             189\n",
              "Basavanagudi             177\n",
              "Rajajinagar              174\n",
              "Banaswadi                146\n",
              "Frazer Town              144\n",
              "Brookefield              140\n",
              "Koramangala 6th Block    133\n",
              "Koramangala 7th Block    129\n",
              "Kammanahalli             126\n",
              "Koramangala 1st Block    110\n",
              "Name: location, dtype: int64"
            ]
          },
          "metadata": {
            "tags": []
          },
          "execution_count": 31
        }
      ]
    },
    {
      "cell_type": "markdown",
      "metadata": {
        "id": "qo7c8HZRR1fN"
      },
      "source": [
        "### Observations\n",
        "\n",
        "- After Whitefield, the maximum number of restaurants are in BTM, HSR, Marathahalli and Electronic City\n",
        "- Koramangala has been split blockwise or it would be at the top with the others\n",
        "\n",
        "\n",
        "Let's see which locations have the **highest rated** restaurants."
      ]
    },
    {
      "cell_type": "code",
      "metadata": {
        "trusted": true,
        "colab": {
          "base_uri": "https://localhost:8080/",
          "height": 237
        },
        "id": "VkPARyFMR1fO",
        "outputId": "4a7306ec-f7e6-445c-80c6-0fd5a8844ed7"
      },
      "source": [
        "# Top 5 locations with the highest ratings\n",
        "(pd.DataFrame(newdata.groupby(\"location\")[\"rating\"].mean())).sort_values(\"rating\", ascending = False).head(5)\n"
      ],
      "execution_count": 32,
      "outputs": [
        {
          "output_type": "execute_result",
          "data": {
            "text/html": [
              "<div>\n",
              "<style scoped>\n",
              "    .dataframe tbody tr th:only-of-type {\n",
              "        vertical-align: middle;\n",
              "    }\n",
              "\n",
              "    .dataframe tbody tr th {\n",
              "        vertical-align: top;\n",
              "    }\n",
              "\n",
              "    .dataframe thead th {\n",
              "        text-align: right;\n",
              "    }\n",
              "</style>\n",
              "<table border=\"1\" class=\"dataframe\">\n",
              "  <thead>\n",
              "    <tr style=\"text-align: right;\">\n",
              "      <th></th>\n",
              "      <th>rating</th>\n",
              "    </tr>\n",
              "    <tr>\n",
              "      <th>location</th>\n",
              "      <th></th>\n",
              "    </tr>\n",
              "  </thead>\n",
              "  <tbody>\n",
              "    <tr>\n",
              "      <th>Lavelle Road</th>\n",
              "      <td>4.073077</td>\n",
              "    </tr>\n",
              "    <tr>\n",
              "      <th>Sankey Road</th>\n",
              "      <td>4.041667</td>\n",
              "    </tr>\n",
              "    <tr>\n",
              "      <th>St. Marks Road</th>\n",
              "      <td>3.929412</td>\n",
              "    </tr>\n",
              "    <tr>\n",
              "      <th>Koramangala 3rd Block</th>\n",
              "      <td>3.926316</td>\n",
              "    </tr>\n",
              "    <tr>\n",
              "      <th>Koramangala 5th Block</th>\n",
              "      <td>3.914167</td>\n",
              "    </tr>\n",
              "  </tbody>\n",
              "</table>\n",
              "</div>"
            ],
            "text/plain": [
              "                         rating\n",
              "location                       \n",
              "Lavelle Road           4.073077\n",
              "Sankey Road            4.041667\n",
              "St. Marks Road         3.929412\n",
              "Koramangala 3rd Block  3.926316\n",
              "Koramangala 5th Block  3.914167"
            ]
          },
          "metadata": {
            "tags": []
          },
          "execution_count": 32
        }
      ]
    },
    {
      "cell_type": "markdown",
      "metadata": {
        "id": "mL7y7L3JR1fO"
      },
      "source": [
        "Which locations are the **most expensive** to dine in?"
      ]
    },
    {
      "cell_type": "code",
      "metadata": {
        "trusted": true,
        "colab": {
          "base_uri": "https://localhost:8080/",
          "height": 237
        },
        "id": "hEgHzzA2R1fP",
        "outputId": "ce22262a-ab47-498a-cb2a-96c647a7c5fb"
      },
      "source": [
        "# Top 5 most expensive locations (cost = cost for two)\n",
        "(pd.DataFrame(newdata.groupby(\"location\")[\"cost\"].mean())).sort_values(\"cost\", ascending = False).head(5)"
      ],
      "execution_count": 33,
      "outputs": [
        {
          "output_type": "execute_result",
          "data": {
            "text/html": [
              "<div>\n",
              "<style scoped>\n",
              "    .dataframe tbody tr th:only-of-type {\n",
              "        vertical-align: middle;\n",
              "    }\n",
              "\n",
              "    .dataframe tbody tr th {\n",
              "        vertical-align: top;\n",
              "    }\n",
              "\n",
              "    .dataframe thead th {\n",
              "        text-align: right;\n",
              "    }\n",
              "</style>\n",
              "<table border=\"1\" class=\"dataframe\">\n",
              "  <thead>\n",
              "    <tr style=\"text-align: right;\">\n",
              "      <th></th>\n",
              "      <th>cost</th>\n",
              "    </tr>\n",
              "    <tr>\n",
              "      <th>location</th>\n",
              "      <th></th>\n",
              "    </tr>\n",
              "  </thead>\n",
              "  <tbody>\n",
              "    <tr>\n",
              "      <th>Sankey Road</th>\n",
              "      <td>2695.833333</td>\n",
              "    </tr>\n",
              "    <tr>\n",
              "      <th>Lavelle Road</th>\n",
              "      <td>1379.807692</td>\n",
              "    </tr>\n",
              "    <tr>\n",
              "      <th>Race Course Road</th>\n",
              "      <td>1331.034483</td>\n",
              "    </tr>\n",
              "    <tr>\n",
              "      <th>MG Road</th>\n",
              "      <td>1145.882353</td>\n",
              "    </tr>\n",
              "    <tr>\n",
              "      <th>Residency Road</th>\n",
              "      <td>1004.109589</td>\n",
              "    </tr>\n",
              "  </tbody>\n",
              "</table>\n",
              "</div>"
            ],
            "text/plain": [
              "                         cost\n",
              "location                     \n",
              "Sankey Road       2695.833333\n",
              "Lavelle Road      1379.807692\n",
              "Race Course Road  1331.034483\n",
              "MG Road           1145.882353\n",
              "Residency Road    1004.109589"
            ]
          },
          "metadata": {
            "tags": []
          },
          "execution_count": 33
        }
      ]
    },
    {
      "cell_type": "markdown",
      "metadata": {
        "id": "APHDz15GR1fP"
      },
      "source": [
        "### Observations\n",
        "- The top two locations with high ratings are also the two most expensive locations (Sankey Road and Lavelle Road)\n",
        "- In general we can see that restaurants around the MG Road area are more expensive\n"
      ]
    },
    {
      "cell_type": "code",
      "metadata": {
        "trusted": true,
        "colab": {
          "base_uri": "https://localhost:8080/",
          "height": 331
        },
        "id": "Tq7djWRuR1fQ",
        "outputId": "b61026e6-1dfc-4f53-9a37-4d2351a33e0e"
      },
      "source": [
        "# Identifying the high rated fancy restaurants on Sankey Road\n",
        "newdata[(newdata[\"location\"] == \"Sankey Road\") & (newdata[\"rating\"] >= 4 )]"
      ],
      "execution_count": 34,
      "outputs": [
        {
          "output_type": "execute_result",
          "data": {
            "text/html": [
              "<div>\n",
              "<style scoped>\n",
              "    .dataframe tbody tr th:only-of-type {\n",
              "        vertical-align: middle;\n",
              "    }\n",
              "\n",
              "    .dataframe tbody tr th {\n",
              "        vertical-align: top;\n",
              "    }\n",
              "\n",
              "    .dataframe thead th {\n",
              "        text-align: right;\n",
              "    }\n",
              "</style>\n",
              "<table border=\"1\" class=\"dataframe\">\n",
              "  <thead>\n",
              "    <tr style=\"text-align: right;\">\n",
              "      <th></th>\n",
              "      <th>online_order</th>\n",
              "      <th>book_table</th>\n",
              "      <th>votes</th>\n",
              "      <th>location</th>\n",
              "      <th>rest_type</th>\n",
              "      <th>cost</th>\n",
              "      <th>rating</th>\n",
              "    </tr>\n",
              "    <tr>\n",
              "      <th>name</th>\n",
              "      <th></th>\n",
              "      <th></th>\n",
              "      <th></th>\n",
              "      <th></th>\n",
              "      <th></th>\n",
              "      <th></th>\n",
              "      <th></th>\n",
              "    </tr>\n",
              "  </thead>\n",
              "  <tbody>\n",
              "    <tr>\n",
              "      <th>Dakshin - ITC Windsor</th>\n",
              "      <td>No</td>\n",
              "      <td>Yes</td>\n",
              "      <td>202</td>\n",
              "      <td>Sankey Road</td>\n",
              "      <td>Fine Dining</td>\n",
              "      <td>4000.0</td>\n",
              "      <td>4.3</td>\n",
              "    </tr>\n",
              "    <tr>\n",
              "      <th>Dublin - ITC Windsor</th>\n",
              "      <td>No</td>\n",
              "      <td>Yes</td>\n",
              "      <td>187</td>\n",
              "      <td>Sankey Road</td>\n",
              "      <td>Bar</td>\n",
              "      <td>2500.0</td>\n",
              "      <td>4.1</td>\n",
              "    </tr>\n",
              "    <tr>\n",
              "      <th>Dum Pukht Jolly Nabobs - ITC Windsor</th>\n",
              "      <td>No</td>\n",
              "      <td>Yes</td>\n",
              "      <td>291</td>\n",
              "      <td>Sankey Road</td>\n",
              "      <td>Fine Dining</td>\n",
              "      <td>4000.0</td>\n",
              "      <td>4.3</td>\n",
              "    </tr>\n",
              "    <tr>\n",
              "      <th>Fabelle Chocolate Boutique - ITC Windsor</th>\n",
              "      <td>No</td>\n",
              "      <td>No</td>\n",
              "      <td>59</td>\n",
              "      <td>Sankey Road</td>\n",
              "      <td>Dessert Parlor</td>\n",
              "      <td>1250.0</td>\n",
              "      <td>4.2</td>\n",
              "    </tr>\n",
              "    <tr>\n",
              "      <th>La Brasserie - Le Meridien</th>\n",
              "      <td>No</td>\n",
              "      <td>Yes</td>\n",
              "      <td>309</td>\n",
              "      <td>Sankey Road</td>\n",
              "      <td>Fine Dining</td>\n",
              "      <td>4100.0</td>\n",
              "      <td>4.1</td>\n",
              "    </tr>\n",
              "    <tr>\n",
              "      <th>Nandhini Deluxe</th>\n",
              "      <td>No</td>\n",
              "      <td>No</td>\n",
              "      <td>471</td>\n",
              "      <td>Sankey Road</td>\n",
              "      <td>Casual Dining</td>\n",
              "      <td>600.0</td>\n",
              "      <td>4.0</td>\n",
              "    </tr>\n",
              "    <tr>\n",
              "      <th>Royal Afghan - ITC Windsor</th>\n",
              "      <td>No</td>\n",
              "      <td>Yes</td>\n",
              "      <td>413</td>\n",
              "      <td>Sankey Road</td>\n",
              "      <td>Fine Dining</td>\n",
              "      <td>5000.0</td>\n",
              "      <td>4.3</td>\n",
              "    </tr>\n",
              "    <tr>\n",
              "      <th>The Raj Pavilion - ITC Windsor</th>\n",
              "      <td>No</td>\n",
              "      <td>Yes</td>\n",
              "      <td>371</td>\n",
              "      <td>Sankey Road</td>\n",
              "      <td>Fine Dining</td>\n",
              "      <td>2400.0</td>\n",
              "      <td>4.2</td>\n",
              "    </tr>\n",
              "  </tbody>\n",
              "</table>\n",
              "</div>"
            ],
            "text/plain": [
              "                                         online_order  ... rating\n",
              "name                                                   ...       \n",
              "Dakshin - ITC Windsor                              No  ...    4.3\n",
              "Dublin - ITC Windsor                               No  ...    4.1\n",
              "Dum Pukht Jolly Nabobs - ITC Windsor               No  ...    4.3\n",
              "Fabelle Chocolate Boutique - ITC Windsor           No  ...    4.2\n",
              "La Brasserie - Le Meridien                         No  ...    4.1\n",
              "Nandhini Deluxe                                    No  ...    4.0\n",
              "Royal Afghan - ITC Windsor                         No  ...    4.3\n",
              "The Raj Pavilion - ITC Windsor                     No  ...    4.2\n",
              "\n",
              "[8 rows x 7 columns]"
            ]
          },
          "metadata": {
            "tags": []
          },
          "execution_count": 34
        }
      ]
    },
    {
      "cell_type": "markdown",
      "metadata": {
        "id": "qzDnKJLWR1fQ"
      },
      "source": [
        "Almost all of them are located in one 5 star hotel!\n",
        "\n",
        "What about Lavelle Road?"
      ]
    },
    {
      "cell_type": "code",
      "metadata": {
        "trusted": true,
        "colab": {
          "base_uri": "https://localhost:8080/",
          "height": 394
        },
        "id": "6D1AYbC_R1fR",
        "outputId": "cd83060a-4f16-40a4-d124-e822bbba15e2"
      },
      "source": [
        "newdata[(newdata[\"location\"] == \"Lavelle Road\") & (newdata[\"rating\"] >= 4 )][:10]"
      ],
      "execution_count": 35,
      "outputs": [
        {
          "output_type": "execute_result",
          "data": {
            "text/html": [
              "<div>\n",
              "<style scoped>\n",
              "    .dataframe tbody tr th:only-of-type {\n",
              "        vertical-align: middle;\n",
              "    }\n",
              "\n",
              "    .dataframe tbody tr th {\n",
              "        vertical-align: top;\n",
              "    }\n",
              "\n",
              "    .dataframe thead th {\n",
              "        text-align: right;\n",
              "    }\n",
              "</style>\n",
              "<table border=\"1\" class=\"dataframe\">\n",
              "  <thead>\n",
              "    <tr style=\"text-align: right;\">\n",
              "      <th></th>\n",
              "      <th>online_order</th>\n",
              "      <th>book_table</th>\n",
              "      <th>votes</th>\n",
              "      <th>location</th>\n",
              "      <th>rest_type</th>\n",
              "      <th>cost</th>\n",
              "      <th>rating</th>\n",
              "    </tr>\n",
              "    <tr>\n",
              "      <th>name</th>\n",
              "      <th></th>\n",
              "      <th></th>\n",
              "      <th></th>\n",
              "      <th></th>\n",
              "      <th></th>\n",
              "      <th></th>\n",
              "      <th></th>\n",
              "    </tr>\n",
              "  </thead>\n",
              "  <tbody>\n",
              "    <tr>\n",
              "      <th>Airlines Hotel</th>\n",
              "      <td>Yes</td>\n",
              "      <td>No</td>\n",
              "      <td>867</td>\n",
              "      <td>Lavelle Road</td>\n",
              "      <td>Quick Bites</td>\n",
              "      <td>400.0</td>\n",
              "      <td>4.0</td>\n",
              "    </tr>\n",
              "    <tr>\n",
              "      <th>Alba - JW Marriott Bengaluru</th>\n",
              "      <td>No</td>\n",
              "      <td>Yes</td>\n",
              "      <td>583</td>\n",
              "      <td>Lavelle Road</td>\n",
              "      <td>Fine Dining</td>\n",
              "      <td>4000.0</td>\n",
              "      <td>4.5</td>\n",
              "    </tr>\n",
              "    <tr>\n",
              "      <th>Amande Patisserie</th>\n",
              "      <td>Yes</td>\n",
              "      <td>No</td>\n",
              "      <td>231</td>\n",
              "      <td>Lavelle Road</td>\n",
              "      <td>Bakery, Dessert Parlor</td>\n",
              "      <td>300.0</td>\n",
              "      <td>4.2</td>\n",
              "    </tr>\n",
              "    <tr>\n",
              "      <th>BBQ'D - Global Grill &amp; Brewery</th>\n",
              "      <td>No</td>\n",
              "      <td>No</td>\n",
              "      <td>471</td>\n",
              "      <td>Lavelle Road</td>\n",
              "      <td>Casual Dining, Microbrewery</td>\n",
              "      <td>1500.0</td>\n",
              "      <td>4.3</td>\n",
              "    </tr>\n",
              "    <tr>\n",
              "      <th>Bengaluru Baking Company - JW Marriott Bengaluru</th>\n",
              "      <td>No</td>\n",
              "      <td>No</td>\n",
              "      <td>521</td>\n",
              "      <td>Lavelle Road</td>\n",
              "      <td>Bakery, Cafe</td>\n",
              "      <td>1400.0</td>\n",
              "      <td>4.3</td>\n",
              "    </tr>\n",
              "    <tr>\n",
              "      <th>Bootlegger</th>\n",
              "      <td>No</td>\n",
              "      <td>No</td>\n",
              "      <td>1543</td>\n",
              "      <td>Lavelle Road</td>\n",
              "      <td>Pub</td>\n",
              "      <td>1200.0</td>\n",
              "      <td>4.1</td>\n",
              "    </tr>\n",
              "    <tr>\n",
              "      <th>Cafe Coffee Day The Square</th>\n",
              "      <td>No</td>\n",
              "      <td>No</td>\n",
              "      <td>388</td>\n",
              "      <td>Lavelle Road</td>\n",
              "      <td>Cafe</td>\n",
              "      <td>1100.0</td>\n",
              "      <td>4.1</td>\n",
              "    </tr>\n",
              "    <tr>\n",
              "      <th>Cafe Mangii</th>\n",
              "      <td>Yes</td>\n",
              "      <td>Yes</td>\n",
              "      <td>1048</td>\n",
              "      <td>Lavelle Road</td>\n",
              "      <td>Casual Dining</td>\n",
              "      <td>1600.0</td>\n",
              "      <td>4.3</td>\n",
              "    </tr>\n",
              "    <tr>\n",
              "      <th>Cafe Noir</th>\n",
              "      <td>No</td>\n",
              "      <td>Yes</td>\n",
              "      <td>2074</td>\n",
              "      <td>Lavelle Road</td>\n",
              "      <td>Casual Dining</td>\n",
              "      <td>1500.0</td>\n",
              "      <td>4.2</td>\n",
              "    </tr>\n",
              "    <tr>\n",
              "      <th>Caperberry</th>\n",
              "      <td>No</td>\n",
              "      <td>Yes</td>\n",
              "      <td>1423</td>\n",
              "      <td>Lavelle Road</td>\n",
              "      <td>Fine Dining</td>\n",
              "      <td>2200.0</td>\n",
              "      <td>4.6</td>\n",
              "    </tr>\n",
              "  </tbody>\n",
              "</table>\n",
              "</div>"
            ],
            "text/plain": [
              "                                                 online_order  ... rating\n",
              "name                                                           ...       \n",
              "Airlines Hotel                                            Yes  ...    4.0\n",
              "Alba - JW Marriott Bengaluru                               No  ...    4.5\n",
              "Amande Patisserie                                         Yes  ...    4.2\n",
              "BBQ'D - Global Grill & Brewery                             No  ...    4.3\n",
              "Bengaluru Baking Company - JW Marriott Bengaluru           No  ...    4.3\n",
              "Bootlegger                                                 No  ...    4.1\n",
              "Cafe Coffee Day The Square                                 No  ...    4.1\n",
              "Cafe Mangii                                               Yes  ...    4.3\n",
              "Cafe Noir                                                  No  ...    4.2\n",
              "Caperberry                                                 No  ...    4.6\n",
              "\n",
              "[10 rows x 7 columns]"
            ]
          },
          "metadata": {
            "tags": []
          },
          "execution_count": 35
        }
      ]
    },
    {
      "cell_type": "code",
      "metadata": {
        "trusted": true,
        "colab": {
          "base_uri": "https://localhost:8080/",
          "height": 320
        },
        "id": "Gg3-080MR1fR",
        "outputId": "bab4a888-30f4-42dc-e481-fd61cd35703c"
      },
      "source": [
        "# Visualizing the relationship between rating and cost\n",
        "plt.figure(figsize = (10, 5))\n",
        "plt.scatter(newdata.rating, newdata.cost)\n",
        "plt.show()"
      ],
      "execution_count": 36,
      "outputs": [
        {
          "output_type": "display_data",
          "data": {
            "image/png": "[encoded data removed]",
            "text/plain": [
              "<Figure size 720x360 with 1 Axes>"
            ]
          },
          "metadata": {
            "tags": [],
            "needs_background": "light"
          }
        }
      ]
    },
    {
      "cell_type": "markdown",
      "metadata": {
        "id": "Btc_7d0tR1fS"
      },
      "source": [
        "### Observations\n",
        "Interestingly, restaurants rated between 4.5 and 5.0 are **cheaper** than those rated between 4.0 and 4.5.\n",
        "\n",
        "We have explored and cleaned the dataset and can now apply preprocessing steps that are necessary for model-building.\n"
      ]
    },
    {
      "cell_type": "markdown",
      "metadata": {
        "id": "LesdAfFLR1fS"
      },
      "source": [
        "## Data preprocessing"
      ]
    },
    {
      "cell_type": "code",
      "metadata": {
        "trusted": true,
        "id": "v9AU64aJR1fT"
      },
      "source": [
        "# Separating the predictors and target\n",
        "predictors = newdata.drop(\"rating\", axis = 1)\n",
        "target = newdata[\"rating\"]"
      ],
      "execution_count": 37,
      "outputs": []
    },
    {
      "cell_type": "code",
      "metadata": {
        "trusted": true,
        "id": "MEOZ4R6UR1fT"
      },
      "source": [
        "# Splitting the data into train and test sets\n",
        "X_train, X_test, y_train, y_test = train_test_split(predictors, target, random_state = 0, test_size = 0.3)"
      ],
      "execution_count": 38,
      "outputs": []
    },
    {
      "cell_type": "code",
      "metadata": {
        "trusted": true,
        "id": "K9D8_IylR1fU"
      },
      "source": [
        "# Preprocessing the predictors\n",
        "num_cols = [\"votes\", \"cost\"]\n",
        "cat_cols = [\"location\", \"rest_type\", \"online_order\", \"book_table\"]\n",
        "\n",
        "num_imputer = SimpleImputer(strategy = \"median\") \n",
        "# Imputing numeric columns with the median (not mean because of the high variance)\n",
        "num_imputed = num_imputer.fit_transform(X_train[num_cols])\n",
        "scaler = StandardScaler()\n",
        "# Scaling the numeric columns to have a mean of 0 and standard deviation of 1\n",
        "num_preprocessed = pd.DataFrame(scaler.fit_transform(num_imputed), columns = num_cols)\n",
        "\n",
        "cat_imputer = SimpleImputer(strategy = \"most_frequent\")\n",
        "# Imputing categorical columns with the mode\n",
        "cat_imputed = pd.DataFrame(cat_imputer.fit_transform(X_train[cat_cols]), columns = cat_cols)\n",
        "# Dummifying the categorical columns\n",
        "cat_preprocessed = pd.DataFrame(pd.get_dummies(cat_imputed, prefix = cat_cols, drop_first = True))\n"
      ],
      "execution_count": 39,
      "outputs": []
    },
    {
      "cell_type": "code",
      "metadata": {
        "trusted": true,
        "id": "W5sk5DVaR1fV"
      },
      "source": [
        "# Joining the numeric and categorical columns and checking their shape\n",
        "predictors = pd.concat([num_preprocessed, cat_preprocessed], axis=1)"
      ],
      "execution_count": 40,
      "outputs": []
    },
    {
      "cell_type": "markdown",
      "metadata": {
        "id": "XJUksXLNR1fZ"
      },
      "source": [
        "After building one regression model I had found that one feature (\"rest_type_Quick Bites\") had a high VIF of 12, indicating multicollinearity. We will drop this feature from our predictors."
      ]
    },
    {
      "cell_type": "code",
      "metadata": {
        "trusted": true,
        "colab": {
          "base_uri": "https://localhost:8080/"
        },
        "id": "8t0NJwKrR1fa",
        "outputId": "2b2c0994-dfb3-45ed-95ca-81d5dbe73609"
      },
      "source": [
        "# Dropping the feature with a high VIF \n",
        "predictors.drop(\"rest_type_Quick Bites\", axis = 1, inplace = True)\n",
        "predictors.shape"
      ],
      "execution_count": 41,
      "outputs": [
        {
          "output_type": "execute_result",
          "data": {
            "text/plain": [
              "(6521, 170)"
            ]
          },
          "metadata": {
            "tags": []
          },
          "execution_count": 41
        }
      ]
    },
    {
      "cell_type": "code",
      "metadata": {
        "trusted": true,
        "id": "y7RvTW9zR1fa"
      },
      "source": [
        "Y = list(y_train)"
      ],
      "execution_count": 42,
      "outputs": []
    },
    {
      "cell_type": "markdown",
      "metadata": {
        "id": "EvbcntzqR1fb"
      },
      "source": [
        "## Model Building"
      ]
    },
    {
      "cell_type": "code",
      "metadata": {
        "trusted": true,
        "id": "XS5ZHxxkR1fb"
      },
      "source": [
        "# Building an Ordinary Least Squares regression model\n",
        "import statsmodels.api as sm\n",
        "X = sm.add_constant(predictors)\n",
        "ols = sm.OLS(Y, X).fit()"
      ],
      "execution_count": 43,
      "outputs": []
    },
    {
      "cell_type": "code",
      "metadata": {
        "trusted": true,
        "colab": {
          "base_uri": "https://localhost:8080/"
        },
        "id": "agGO9RhCR1fc",
        "outputId": "67e35d03-069e-433c-9a2b-d17573db0311"
      },
      "source": [
        "# Predicting on the train data\n",
        "pred_train = np.around(ols.predict(X), 1)\n",
        "pred_train[:5] # checking the first 5 predictions"
      ],
      "execution_count": 44,
      "outputs": [
        {
          "output_type": "execute_result",
          "data": {
            "text/plain": [
              "0    3.5\n",
              "1    3.7\n",
              "2    3.8\n",
              "3    3.5\n",
              "4    3.4\n",
              "dtype: float64"
            ]
          },
          "metadata": {
            "tags": []
          },
          "execution_count": 44
        }
      ]
    },
    {
      "cell_type": "code",
      "metadata": {
        "trusted": true,
        "colab": {
          "base_uri": "https://localhost:8080/"
        },
        "id": "-9FWaTlLR1fc",
        "outputId": "65e0662a-8954-44e9-9c9b-462cc6c1fb7a"
      },
      "source": [
        "# Preprocessing the test data and predicting on it\n",
        "test_num_imputed = num_imputer.transform(X_test[num_cols])\n",
        "test_num_preprocessed = pd.DataFrame(scaler.transform(test_num_imputed), columns = num_cols)\n",
        "\n",
        "test_cat_imputed = pd.DataFrame(cat_imputer.transform(X_test[cat_cols]), columns = cat_cols)\n",
        "test_cat_preprocessed = pd.DataFrame(pd.get_dummies(test_cat_imputed, prefix = cat_cols))\n",
        "\n",
        "test_predictors = pd.concat([test_num_preprocessed, test_cat_preprocessed], axis=1)\n",
        "test_predictors.drop(\"rest_type_Quick Bites\", axis = 1, inplace = True)\n",
        "\n",
        "# Accounting for missing columns in the test set caused by dummification\n",
        "missing_cols = set(predictors) - set(test_predictors)\n",
        "# Adding missing columns to test set with default value equal to 0\n",
        "for c in missing_cols:\n",
        "    test_predictors[c] = 0\n",
        "# Ensuring the order of column in the test set is in the same order than in train set\n",
        "test_predictors = test_predictors[predictors.columns]\n",
        "\n",
        "test_X = sm.add_constant(test_predictors)\n",
        "test_Y = list(y_train)\n",
        "\n",
        "# Prediction\n",
        "pred_test = np.around(ols.predict(test_X), 1)\n",
        "pred_test[:5] # first five rating predictions"
      ],
      "execution_count": 45,
      "outputs": [
        {
          "output_type": "execute_result",
          "data": {
            "text/plain": [
              "0    4.0\n",
              "1    3.9\n",
              "2    3.7\n",
              "3    3.8\n",
              "4    3.5\n",
              "dtype: float64"
            ]
          },
          "metadata": {
            "tags": []
          },
          "execution_count": 45
        }
      ]
    },
    {
      "cell_type": "markdown",
      "metadata": {
        "id": "XBFHHdhPR1fd"
      },
      "source": [
        "### Evaluation"
      ]
    },
    {
      "cell_type": "code",
      "metadata": {
        "trusted": true,
        "colab": {
          "base_uri": "https://localhost:8080/"
        },
        "id": "MMtoaPLFR1fd",
        "outputId": "5d830ac6-79ed-4736-d895-4f5abc0e7f32"
      },
      "source": [
        "mean_squared_error(y_train, pred_train)"
      ],
      "execution_count": 46,
      "outputs": [
        {
          "output_type": "execute_result",
          "data": {
            "text/plain": [
              "0.12937586259776107"
            ]
          },
          "metadata": {
            "tags": []
          },
          "execution_count": 46
        }
      ]
    },
    {
      "cell_type": "code",
      "metadata": {
        "trusted": true,
        "colab": {
          "base_uri": "https://localhost:8080/"
        },
        "id": "ECI98evCR1fe",
        "outputId": "b2673f5d-966e-4708-8644-1679fff0ad1d"
      },
      "source": [
        "mean_squared_error(y_test, pred_test)"
      ],
      "execution_count": 47,
      "outputs": [
        {
          "output_type": "execute_result",
          "data": {
            "text/plain": [
              "0.1332808586762075"
            ]
          },
          "metadata": {
            "tags": []
          },
          "execution_count": 47
        }
      ]
    },
    {
      "cell_type": "code",
      "metadata": {
        "trusted": true,
        "colab": {
          "base_uri": "https://localhost:8080/"
        },
        "id": "5UoiQ-d2R1fe",
        "outputId": "9dfd9af2-0b2f-4a39-dfdc-d9d228e29f54"
      },
      "source": [
        "# Finding the Mean Absolute Percentage Error\n",
        "def mape(y_true, y_pred): \n",
        "    y_true, y_pred = np.array(y_true), np.array(y_pred)\n",
        "    return np.mean(np.abs((y_true - y_pred) / y_true)) * 100\n",
        "\n",
        "mape(y_train, pred_train)"
      ],
      "execution_count": 48,
      "outputs": [
        {
          "output_type": "execute_result",
          "data": {
            "text/plain": [
              "8.129189649556416"
            ]
          },
          "metadata": {
            "tags": []
          },
          "execution_count": 48
        }
      ]
    },
    {
      "cell_type": "code",
      "metadata": {
        "trusted": true,
        "colab": {
          "base_uri": "https://localhost:8080/"
        },
        "id": "d0pYTAxSR1fe",
        "outputId": "f84152a9-98dc-4b0c-8187-2cfb291a557c"
      },
      "source": [
        "mape(y_test, pred_test)"
      ],
      "execution_count": 49,
      "outputs": [
        {
          "output_type": "execute_result",
          "data": {
            "text/plain": [
              "8.195894047787434"
            ]
          },
          "metadata": {
            "tags": []
          },
          "execution_count": 49
        }
      ]
    },
    {
      "cell_type": "code",
      "metadata": {
        "trusted": true,
        "colab": {
          "base_uri": "https://localhost:8080/"
        },
        "id": "nz419eN-R1fg",
        "outputId": "687a3569-3984-41d9-d297-95cd1f0f2259"
      },
      "source": [
        "# Regression with XGBoost\n",
        "xgb = XGBRegressor(n_estimators = 25000, max_depth = 5, gamma = 0.5, colsample_bytree = 0.8, random_state = 42333)\n",
        "xgb.fit(predictors, y_train)\n",
        "\n",
        "pred_train = xgb.predict(predictors)\n",
        "pred_test = xgb.predict(test_predictors)"
      ],
      "execution_count": 50,
      "outputs": [
        {
          "output_type": "stream",
          "text": [
            "[12:35:04] WARNING: /workspace/src/objective/regression_obj.cu:152: reg:linear is now deprecated in favor of reg:squarederror.\n"
          ],
          "name": "stdout"
        }
      ]
    },
    {
      "cell_type": "code",
      "metadata": {
        "trusted": true,
        "colab": {
          "base_uri": "https://localhost:8080/"
        },
        "id": "bD0QtsGZR1fg",
        "outputId": "dcb667e8-83b4-434c-fd3c-6f2fe8071e55"
      },
      "source": [
        "mean_squared_error(y_train, pred_train)"
      ],
      "execution_count": 51,
      "outputs": [
        {
          "output_type": "execute_result",
          "data": {
            "text/plain": [
              "0.0942740502266156"
            ]
          },
          "metadata": {
            "tags": []
          },
          "execution_count": 51
        }
      ]
    },
    {
      "cell_type": "code",
      "metadata": {
        "trusted": true,
        "colab": {
          "base_uri": "https://localhost:8080/"
        },
        "id": "lldMjN06R1fh",
        "outputId": "6df13793-76f0-43b4-eb6d-4efb98143bbc"
      },
      "source": [
        "mean_squared_error(y_test, pred_test)"
      ],
      "execution_count": 52,
      "outputs": [
        {
          "output_type": "execute_result",
          "data": {
            "text/plain": [
              "0.10576529524871363"
            ]
          },
          "metadata": {
            "tags": []
          },
          "execution_count": 52
        }
      ]
    },
    {
      "cell_type": "code",
      "metadata": {
        "trusted": true,
        "colab": {
          "base_uri": "https://localhost:8080/"
        },
        "id": "4x49UfnoR1fh",
        "outputId": "dfe239a8-bc0f-436a-c24f-6d6259fc1cbb"
      },
      "source": [
        "mape(y_train, pred_train)"
      ],
      "execution_count": 53,
      "outputs": [
        {
          "output_type": "execute_result",
          "data": {
            "text/plain": [
              "6.652958115098677"
            ]
          },
          "metadata": {
            "tags": []
          },
          "execution_count": 53
        }
      ]
    },
    {
      "cell_type": "code",
      "metadata": {
        "trusted": true,
        "colab": {
          "base_uri": "https://localhost:8080/"
        },
        "id": "aM8XHX64R1fh",
        "outputId": "49c2454a-c9be-4584-9b56-3c8b305c81fb"
      },
      "source": [
        "mape(y_test, pred_test)"
      ],
      "execution_count": 54,
      "outputs": [
        {
          "output_type": "execute_result",
          "data": {
            "text/plain": [
              "6.995497252022008"
            ]
          },
          "metadata": {
            "tags": []
          },
          "execution_count": 54
        }
      ]
    },
    {
      "cell_type": "markdown",
      "metadata": {
        "id": "7LSxQZEC-FkZ"
      },
      "source": [
        "#Feature Importance"
      ]
    },
    {
      "cell_type": "code",
      "metadata": {
        "colab": {
          "base_uri": "https://localhost:8080/"
        },
        "id": "HBqCG2029crr",
        "outputId": "50ded137-2339-40fd-ee82-34f4a68e2165"
      },
      "source": [
        "xgb.get_booster().get_score(importance_type=\"gain\")"
      ],
      "execution_count": 69,
      "outputs": [
        {
          "output_type": "execute_result",
          "data": {
            "text/plain": [
              "{'book_table_Yes': 3.1646958317222222,\n",
              " 'cost': 2.3773386154726044,\n",
              " 'location_Banaswadi': 1.4000473050000002,\n",
              " 'location_Bannerghatta Road': 0.9692485340000002,\n",
              " 'location_Basavanagudi': 0.37173662162500004,\n",
              " 'location_Bellandur': 0.8709976137777778,\n",
              " 'location_Bommanahalli': 0.9307069310588236,\n",
              " 'location_Brigade Road': 0.71695920323,\n",
              " 'location_Brookefield': 0.569468588,\n",
              " 'location_Church Street': 0.628009796,\n",
              " 'location_City Market': 0.21898587800000002,\n",
              " 'location_Domlur': 0.6090598085,\n",
              " 'location_East Bangalore': 0.292663116,\n",
              " 'location_Ejipura': 0.584129333,\n",
              " 'location_Electronic City': 0.7872271692,\n",
              " 'location_Frazer Town': 0.24123486366666666,\n",
              " 'location_HBR Layout': 0.2650352956,\n",
              " 'location_HSR': 0.342127323,\n",
              " 'location_Hennur': 0.4811168956666667,\n",
              " 'location_Hosur Road': 0.138277777,\n",
              " 'location_ITPL Main Road, Whitefield': 0.31237297059999997,\n",
              " 'location_Indiranagar': 0.5468204919999999,\n",
              " 'location_JP Nagar': 0.648019791,\n",
              " 'location_Jayanagar': 0.5735514238999999,\n",
              " 'location_Jeevan Bhima Nagar': 0.30967234083333334,\n",
              " 'location_Kaggadasapura': 0.172648326,\n",
              " 'location_Kalyan Nagar': 0.3512545005,\n",
              " 'location_Koramangala 1st Block': 0.7376547455,\n",
              " 'location_Koramangala 4th Block': 0.159548424,\n",
              " 'location_Koramangala 5th Block': 0.8767203180909092,\n",
              " 'location_Koramangala 6th Block': 0.629697164,\n",
              " 'location_Koramangala 7th Block': 0.1581907945,\n",
              " 'location_Koramangala 8th Block': 0.2337381064,\n",
              " 'location_Kumaraswamy Layout': 0.368327962,\n",
              " 'location_Lavelle Road': 0.134870663,\n",
              " 'location_MG Road': 1.0667012506666669,\n",
              " 'location_Majestic': 0.17953889824999997,\n",
              " 'location_Malleshwaram': 0.8908859091666667,\n",
              " 'location_Marathahalli': 1.0655761014375,\n",
              " 'location_Nagawara': 0.4285773335,\n",
              " 'location_New BEL Road': 0.37753956749999995,\n",
              " 'location_Old Airport Road': 0.5934118629999999,\n",
              " 'location_Old Madras Road': 0.953670502,\n",
              " 'location_RT Nagar': 0.14547821900000002,\n",
              " 'location_Race Course Road': 0.1515089345,\n",
              " 'location_Rajajinagar': 0.529417038,\n",
              " 'location_Rammurthy Nagar': 0.37825744344444445,\n",
              " 'location_Residency Road': 0.45682506570000003,\n",
              " 'location_Richmond Road': 0.49611952854545455,\n",
              " 'location_Seshadripuram': 0.2902047785,\n",
              " 'location_South Bangalore': 0.706044018,\n",
              " 'location_St. Marks Road': 0.18592264874999997,\n",
              " 'location_Ulsoor': 0.145343989,\n",
              " 'location_Varthur Main Road, Whitefield': 0.563903809,\n",
              " 'location_Vasanth Nagar': 0.134614423,\n",
              " 'location_Whitefield': 0.258963108,\n",
              " 'online_order_Yes': 1.1153214473684212,\n",
              " 'rest_type_Bakery, Dessert Parlor': 0.160291423,\n",
              " 'rest_type_Bakery, Quick Bites': 0.6214631123750001,\n",
              " 'rest_type_Bar': 0.2262524405,\n",
              " 'rest_type_Beverage Shop': 0.5956226488461538,\n",
              " 'rest_type_Beverage Shop, Dessert Parlor': 0.2960729018888889,\n",
              " 'rest_type_Beverage Shop, Quick Bites': 0.5220934425,\n",
              " 'rest_type_Cafe': 0.9648021414999999,\n",
              " 'rest_type_Cafe, Bakery': 0.26958223844444446,\n",
              " 'rest_type_Cafe, Dessert Parlor': 0.5082251506000001,\n",
              " 'rest_type_Casual Dining': 1.4936903391304346,\n",
              " 'rest_type_Casual Dining, Bar': 0.52666086,\n",
              " 'rest_type_Casual Dining, Cafe': 0.40332365179999996,\n",
              " 'rest_type_Delivery': 0.40001483200000004,\n",
              " 'rest_type_Dessert Parlor': 1.9941364211818176,\n",
              " 'rest_type_Dessert Parlor, Bakery': 0.20126021400000002,\n",
              " 'rest_type_Dessert Parlor, Beverage Shop': 0.24997141216666666,\n",
              " 'rest_type_Dessert Parlor, Cafe': 0.2924663338571429,\n",
              " 'rest_type_Dessert Parlor, Quick Bites': 0.30232079149999996,\n",
              " 'rest_type_Food Court': 0.40480371833333334,\n",
              " 'rest_type_Food Court, Casual Dining': 0.316259481,\n",
              " 'rest_type_Food Court, Quick Bites': 0.7820129395000001,\n",
              " 'rest_type_Food Truck': 0.21042655400000002,\n",
              " 'rest_type_Kiosk': 0.30961014342857146,\n",
              " 'rest_type_Lounge': 0.7590209357777778,\n",
              " 'rest_type_Lounge, Microbrewery': 0.129203901,\n",
              " 'rest_type_Pub': 0.4654129013333333,\n",
              " 'rest_type_Quick Bites, Cafe': 0.545539856,\n",
              " 'rest_type_Quick Bites, Dessert Parlor': 0.743041992,\n",
              " 'rest_type_Quick Bites, Food Court': 0.5298886293333334,\n",
              " 'rest_type_Sweet Shop': 0.4259529956666666,\n",
              " 'rest_type_Takeaway, Delivery': 0.3244987934,\n",
              " 'votes': 6.469121316980323}"
            ]
          },
          "metadata": {
            "tags": []
          },
          "execution_count": 69
        }
      ]
    }
  ]
}
