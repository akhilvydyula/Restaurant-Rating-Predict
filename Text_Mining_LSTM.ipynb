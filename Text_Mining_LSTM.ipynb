{
  "nbformat": 4,
  "nbformat_minor": 0,
  "metadata": {
    "kernelspec": {
      "display_name": "Python 3",
      "language": "python",
      "name": "python3"
    },
    "language_info": {
      "codemirror_mode": {
        "name": "ipython",
        "version": 3
      },
      "file_extension": ".py",
      "mimetype": "text/x-python",
      "name": "python",
      "nbconvert_exporter": "python",
      "pygments_lexer": "ipython3",
      "version": "3.7.3"
    },
    "colab": {
      "name": "Text_Mining_LSTM.ipynb",
      "provenance": [],
      "include_colab_link": true
    }
  },
  "cells": [
    {
      "cell_type": "markdown",
      "metadata": {
        "id": "view-in-github",
        "colab_type": "text"
      },
      "source": [
        "<a href=\"https://colab.research.google.com/github/akhilvydyula/Restaurant-Rating-Predict/blob/main/Text_Mining_LSTM.ipynb\" target=\"_parent\"><img src=\"https://colab.research.google.com/assets/colab-badge.svg\" alt=\"Open In Colab\"/></a>"
      ]
    },
    {
      "cell_type": "code",
      "metadata": {
        "colab": {
          "base_uri": "https://localhost:8080/"
        },
        "id": "uHKusDrU45dc",
        "outputId": "749f54c2-50c7-4aa6-9f32-f246fd87d1e9"
      },
      "source": [
        "from google.colab import drive\n",
        "drive.mount('/content/drive')"
      ],
      "execution_count": 2,
      "outputs": [
        {
          "output_type": "stream",
          "text": [
            "Mounted at /content/drive\n"
          ],
          "name": "stdout"
        }
      ]
    },
    {
      "cell_type": "code",
      "metadata": {
        "_cell_guid": "79c7e3d0-c299-4dcb-8224-4455121ee9b0",
        "_uuid": "d629ff2d2480ee46fbb7e2d37f6b5fab8052498a",
        "id": "IxVjQP9Y4a2I"
      },
      "source": [
        "import os\n",
        "import pandas as pd\n",
        "import numpy as np\n",
        "from sklearn.model_selection import train_test_split\n",
        "import nltk\n",
        "from nltk.corpus import RegexpTokenizer as regextoken\n",
        "from nltk.corpus import stopwords\n",
        "from nltk import FreqDist, bigrams, trigrams\n",
        "from nltk import WordNetLemmatizer\n",
        "import matplotlib\n",
        "from matplotlib import pyplot as plt\n",
        "import seaborn as sns\n",
        "%matplotlib inline\n",
        "from keras.preprocessing.text import Tokenizer\n",
        "from sklearn.preprocessing import LabelEncoder\n",
        "from tensorflow.keras.utils import to_categorical\n",
        "from keras.preprocessing.sequence import pad_sequences\n",
        "import gensim\n",
        "from gensim.models.keyedvectors import KeyedVectors\n",
        "from keras.models import Sequential\n",
        "from keras.models import Model\n",
        "from keras.layers import Dense, Flatten, Embedding, Conv1D, MaxPooling1D, Dropout, LSTM, GRU\n",
        "from keras.regularizers import l1, l2\n",
        "from sklearn.metrics import classification_report\n",
        "import warnings\n",
        "warnings.filterwarnings(\"ignore\")\n",
        "\n",
        "zomato = pd.read_csv(\"/content/drive/MyDrive/Restaurant /zomato.csv\", na_values = [\"-\", \"\"])\n",
        "# Making a copy of the data to work on\n",
        "data = zomato.copy()"
      ],
      "execution_count": 30,
      "outputs": []
    },
    {
      "cell_type": "code",
      "metadata": {
        "id": "brDKTmo-4a2K"
      },
      "source": [
        "# Dropping duplicates - see Part One for explanation\n",
        "\n",
        "grouped = data.groupby([\"name\", \"address\"]).agg({\"listed_in(type)\" : list})\n",
        "newdata = pd.merge(grouped, data, on = ([\"name\", \"address\"]))\n",
        "newdata[\"listed_in(type)_x\"] = newdata[\"listed_in(type)_x\"].astype(str) # converting unhashable list to a hashable type\n",
        "newdata.drop_duplicates(subset = [\"name\", \"address\", \"listed_in(type)_x\"], inplace = True)\n",
        "newdata = newdata.reset_index(drop = True)"
      ],
      "execution_count": 5,
      "outputs": []
    },
    {
      "cell_type": "code",
      "metadata": {
        "id": "GIxfwBAe4a2K"
      },
      "source": [
        "# Transforming the ratings column \n",
        "\n",
        "newdata[\"rating\"] = newdata[\"rate\"].str[:3] # Extracting the first three characters of each string in \"rate\"\n",
        "# Removing rows with \"NEW\" in ratings as it is not a predictable level\n",
        "newdata = newdata[newdata.rating != \"NEW\"] \n",
        "# Dropping rows that have missing values in ratings \n",
        "newdata = newdata.dropna(subset = [\"rating\"])\n",
        "# Converting ratings to a numeric column so we can discretize it\n",
        "newdata[\"rating\"] = pd.to_numeric(newdata[\"rating\"])\n",
        "# Discretizing the ratings into a categorical feature with 4 levels\n",
        "\n",
        "newdata[\"rating\"] = pd.cut(newdata[\"rating\"], bins = [0, 3.0, 3.5, 4.0, 5.0], labels = [\"0\", \"1\", \"2\", \"3\"])"
      ],
      "execution_count": 6,
      "outputs": []
    },
    {
      "cell_type": "markdown",
      "metadata": {
        "id": "NAPpaM1v4a2K"
      },
      "source": [
        "Our four rating bins (classes) will be 0 to 3 < 3 to 3.5 < 3.5 to 4 < 4 to 5. To make label encoding easier later, we'll label these classes 0, 1, 2, 3. We can think of these as Very Low, Low, Medium and High."
      ]
    },
    {
      "cell_type": "code",
      "metadata": {
        "colab": {
          "base_uri": "https://localhost:8080/",
          "height": 334
        },
        "id": "Yb13sev54a2L",
        "outputId": "bc61b224-caeb-4a34-f794-1b154fbf37fb"
      },
      "source": [
        "# Visualizing the rating class distribution\n",
        "plt.figure(figsize = (10, 5))\n",
        "sns.countplot(newdata[\"rating\"])\n",
        "plt.show()"
      ],
      "execution_count": 7,
      "outputs": [
        {
          "output_type": "display_data",
          "data": {
            "image/png": "[encoded data removed]",
            "text/plain": [
              "<Figure size 720x360 with 1 Axes>"
            ]
          },
          "metadata": {
            "tags": [],
            "needs_background": "light"
          }
        }
      ]
    },
    {
      "cell_type": "code",
      "metadata": {
        "colab": {
          "base_uri": "https://localhost:8080/",
          "height": 466
        },
        "id": "jK6dZIhu4a2L",
        "outputId": "85c89ace-3383-411f-8337-648d7848d449"
      },
      "source": [
        "# Summary statistics\n",
        "newdata.describe(include = \"all\")"
      ],
      "execution_count": 8,
      "outputs": [
        {
          "output_type": "execute_result",
          "data": {
            "text/html": [
              "<div>\n",
              "<style scoped>\n",
              "    .dataframe tbody tr th:only-of-type {\n",
              "        vertical-align: middle;\n",
              "    }\n",
              "\n",
              "    .dataframe tbody tr th {\n",
              "        vertical-align: top;\n",
              "    }\n",
              "\n",
              "    .dataframe thead th {\n",
              "        text-align: right;\n",
              "    }\n",
              "</style>\n",
              "<table border=\"1\" class=\"dataframe\">\n",
              "  <thead>\n",
              "    <tr style=\"text-align: right;\">\n",
              "      <th></th>\n",
              "      <th>name</th>\n",
              "      <th>address</th>\n",
              "      <th>listed_in(type)_x</th>\n",
              "      <th>url</th>\n",
              "      <th>online_order</th>\n",
              "      <th>book_table</th>\n",
              "      <th>rate</th>\n",
              "      <th>votes</th>\n",
              "      <th>phone</th>\n",
              "      <th>location</th>\n",
              "      <th>rest_type</th>\n",
              "      <th>dish_liked</th>\n",
              "      <th>cuisines</th>\n",
              "      <th>approx_cost(for two people)</th>\n",
              "      <th>reviews_list</th>\n",
              "      <th>menu_item</th>\n",
              "      <th>listed_in(type)_y</th>\n",
              "      <th>listed_in(city)</th>\n",
              "      <th>rating</th>\n",
              "    </tr>\n",
              "  </thead>\n",
              "  <tbody>\n",
              "    <tr>\n",
              "      <th>count</th>\n",
              "      <td>9316</td>\n",
              "      <td>9316</td>\n",
              "      <td>9316</td>\n",
              "      <td>9316</td>\n",
              "      <td>9316</td>\n",
              "      <td>9316</td>\n",
              "      <td>9316</td>\n",
              "      <td>9316.000000</td>\n",
              "      <td>9149</td>\n",
              "      <td>9316</td>\n",
              "      <td>9279</td>\n",
              "      <td>4577</td>\n",
              "      <td>9313</td>\n",
              "      <td>9284</td>\n",
              "      <td>9316</td>\n",
              "      <td>9316</td>\n",
              "      <td>9316</td>\n",
              "      <td>9316</td>\n",
              "      <td>9316</td>\n",
              "    </tr>\n",
              "    <tr>\n",
              "      <th>unique</th>\n",
              "      <td>6512</td>\n",
              "      <td>8676</td>\n",
              "      <td>870</td>\n",
              "      <td>9316</td>\n",
              "      <td>2</td>\n",
              "      <td>2</td>\n",
              "      <td>59</td>\n",
              "      <td>NaN</td>\n",
              "      <td>8381</td>\n",
              "      <td>92</td>\n",
              "      <td>86</td>\n",
              "      <td>4249</td>\n",
              "      <td>2246</td>\n",
              "      <td>63</td>\n",
              "      <td>8964</td>\n",
              "      <td>1990</td>\n",
              "      <td>7</td>\n",
              "      <td>30</td>\n",
              "      <td>4</td>\n",
              "    </tr>\n",
              "    <tr>\n",
              "      <th>top</th>\n",
              "      <td>Cafe Coffee Day</td>\n",
              "      <td>Delivery Only</td>\n",
              "      <td>['Delivery', 'Dine-out']</td>\n",
              "      <td>https://www.zomato.com/bangalore/baisakhi-basa...</td>\n",
              "      <td>Yes</td>\n",
              "      <td>No</td>\n",
              "      <td>3.7/5</td>\n",
              "      <td>NaN</td>\n",
              "      <td>080 43334321</td>\n",
              "      <td>Whitefield</td>\n",
              "      <td>Quick Bites</td>\n",
              "      <td>Biryani</td>\n",
              "      <td>North Indian</td>\n",
              "      <td>400</td>\n",
              "      <td>[]</td>\n",
              "      <td>[]</td>\n",
              "      <td>Delivery</td>\n",
              "      <td>BTM</td>\n",
              "      <td>2</td>\n",
              "    </tr>\n",
              "    <tr>\n",
              "      <th>freq</th>\n",
              "      <td>49</td>\n",
              "      <td>21</td>\n",
              "      <td>872</td>\n",
              "      <td>1</td>\n",
              "      <td>5705</td>\n",
              "      <td>8393</td>\n",
              "      <td>706</td>\n",
              "      <td>NaN</td>\n",
              "      <td>55</td>\n",
              "      <td>617</td>\n",
              "      <td>3445</td>\n",
              "      <td>47</td>\n",
              "      <td>484</td>\n",
              "      <td>1370</td>\n",
              "      <td>332</td>\n",
              "      <td>7314</td>\n",
              "      <td>6519</td>\n",
              "      <td>1115</td>\n",
              "      <td>4037</td>\n",
              "    </tr>\n",
              "    <tr>\n",
              "      <th>mean</th>\n",
              "      <td>NaN</td>\n",
              "      <td>NaN</td>\n",
              "      <td>NaN</td>\n",
              "      <td>NaN</td>\n",
              "      <td>NaN</td>\n",
              "      <td>NaN</td>\n",
              "      <td>NaN</td>\n",
              "      <td>242.149420</td>\n",
              "      <td>NaN</td>\n",
              "      <td>NaN</td>\n",
              "      <td>NaN</td>\n",
              "      <td>NaN</td>\n",
              "      <td>NaN</td>\n",
              "      <td>NaN</td>\n",
              "      <td>NaN</td>\n",
              "      <td>NaN</td>\n",
              "      <td>NaN</td>\n",
              "      <td>NaN</td>\n",
              "      <td>NaN</td>\n",
              "    </tr>\n",
              "    <tr>\n",
              "      <th>std</th>\n",
              "      <td>NaN</td>\n",
              "      <td>NaN</td>\n",
              "      <td>NaN</td>\n",
              "      <td>NaN</td>\n",
              "      <td>NaN</td>\n",
              "      <td>NaN</td>\n",
              "      <td>NaN</td>\n",
              "      <td>673.984948</td>\n",
              "      <td>NaN</td>\n",
              "      <td>NaN</td>\n",
              "      <td>NaN</td>\n",
              "      <td>NaN</td>\n",
              "      <td>NaN</td>\n",
              "      <td>NaN</td>\n",
              "      <td>NaN</td>\n",
              "      <td>NaN</td>\n",
              "      <td>NaN</td>\n",
              "      <td>NaN</td>\n",
              "      <td>NaN</td>\n",
              "    </tr>\n",
              "    <tr>\n",
              "      <th>min</th>\n",
              "      <td>NaN</td>\n",
              "      <td>NaN</td>\n",
              "      <td>NaN</td>\n",
              "      <td>NaN</td>\n",
              "      <td>NaN</td>\n",
              "      <td>NaN</td>\n",
              "      <td>NaN</td>\n",
              "      <td>0.000000</td>\n",
              "      <td>NaN</td>\n",
              "      <td>NaN</td>\n",
              "      <td>NaN</td>\n",
              "      <td>NaN</td>\n",
              "      <td>NaN</td>\n",
              "      <td>NaN</td>\n",
              "      <td>NaN</td>\n",
              "      <td>NaN</td>\n",
              "      <td>NaN</td>\n",
              "      <td>NaN</td>\n",
              "      <td>NaN</td>\n",
              "    </tr>\n",
              "    <tr>\n",
              "      <th>25%</th>\n",
              "      <td>NaN</td>\n",
              "      <td>NaN</td>\n",
              "      <td>NaN</td>\n",
              "      <td>NaN</td>\n",
              "      <td>NaN</td>\n",
              "      <td>NaN</td>\n",
              "      <td>NaN</td>\n",
              "      <td>16.000000</td>\n",
              "      <td>NaN</td>\n",
              "      <td>NaN</td>\n",
              "      <td>NaN</td>\n",
              "      <td>NaN</td>\n",
              "      <td>NaN</td>\n",
              "      <td>NaN</td>\n",
              "      <td>NaN</td>\n",
              "      <td>NaN</td>\n",
              "      <td>NaN</td>\n",
              "      <td>NaN</td>\n",
              "      <td>NaN</td>\n",
              "    </tr>\n",
              "    <tr>\n",
              "      <th>50%</th>\n",
              "      <td>NaN</td>\n",
              "      <td>NaN</td>\n",
              "      <td>NaN</td>\n",
              "      <td>NaN</td>\n",
              "      <td>NaN</td>\n",
              "      <td>NaN</td>\n",
              "      <td>NaN</td>\n",
              "      <td>53.000000</td>\n",
              "      <td>NaN</td>\n",
              "      <td>NaN</td>\n",
              "      <td>NaN</td>\n",
              "      <td>NaN</td>\n",
              "      <td>NaN</td>\n",
              "      <td>NaN</td>\n",
              "      <td>NaN</td>\n",
              "      <td>NaN</td>\n",
              "      <td>NaN</td>\n",
              "      <td>NaN</td>\n",
              "      <td>NaN</td>\n",
              "    </tr>\n",
              "    <tr>\n",
              "      <th>75%</th>\n",
              "      <td>NaN</td>\n",
              "      <td>NaN</td>\n",
              "      <td>NaN</td>\n",
              "      <td>NaN</td>\n",
              "      <td>NaN</td>\n",
              "      <td>NaN</td>\n",
              "      <td>NaN</td>\n",
              "      <td>191.000000</td>\n",
              "      <td>NaN</td>\n",
              "      <td>NaN</td>\n",
              "      <td>NaN</td>\n",
              "      <td>NaN</td>\n",
              "      <td>NaN</td>\n",
              "      <td>NaN</td>\n",
              "      <td>NaN</td>\n",
              "      <td>NaN</td>\n",
              "      <td>NaN</td>\n",
              "      <td>NaN</td>\n",
              "      <td>NaN</td>\n",
              "    </tr>\n",
              "    <tr>\n",
              "      <th>max</th>\n",
              "      <td>NaN</td>\n",
              "      <td>NaN</td>\n",
              "      <td>NaN</td>\n",
              "      <td>NaN</td>\n",
              "      <td>NaN</td>\n",
              "      <td>NaN</td>\n",
              "      <td>NaN</td>\n",
              "      <td>16345.000000</td>\n",
              "      <td>NaN</td>\n",
              "      <td>NaN</td>\n",
              "      <td>NaN</td>\n",
              "      <td>NaN</td>\n",
              "      <td>NaN</td>\n",
              "      <td>NaN</td>\n",
              "      <td>NaN</td>\n",
              "      <td>NaN</td>\n",
              "      <td>NaN</td>\n",
              "      <td>NaN</td>\n",
              "      <td>NaN</td>\n",
              "    </tr>\n",
              "  </tbody>\n",
              "</table>\n",
              "</div>"
            ],
            "text/plain": [
              "                   name        address  ... listed_in(city) rating\n",
              "count              9316           9316  ...            9316   9316\n",
              "unique             6512           8676  ...              30      4\n",
              "top     Cafe Coffee Day  Delivery Only  ...             BTM      2\n",
              "freq                 49             21  ...            1115   4037\n",
              "mean                NaN            NaN  ...             NaN    NaN\n",
              "std                 NaN            NaN  ...             NaN    NaN\n",
              "min                 NaN            NaN  ...             NaN    NaN\n",
              "25%                 NaN            NaN  ...             NaN    NaN\n",
              "50%                 NaN            NaN  ...             NaN    NaN\n",
              "75%                 NaN            NaN  ...             NaN    NaN\n",
              "max                 NaN            NaN  ...             NaN    NaN\n",
              "\n",
              "[11 rows x 19 columns]"
            ]
          },
          "metadata": {
            "tags": []
          },
          "execution_count": 8
        }
      ]
    },
    {
      "cell_type": "markdown",
      "metadata": {
        "id": "6bk_CHX74a2L"
      },
      "source": [
        "### Agenda\n",
        "We will use the reviews_list, menu_item, dish_liked and cuisines columns for our analysis.\n",
        "\n",
        "First, we will look at the customer reviews and pull out the most common words and phrases. Next, we will analyse cuisine listings and identify cuisines that are rare in Bangalore. Finally we will build a neural network with all four features to predict restaurant ratings."
      ]
    },
    {
      "cell_type": "code",
      "metadata": {
        "colab": {
          "base_uri": "https://localhost:8080/",
          "height": 122
        },
        "id": "SZNg5bZt4a2L",
        "outputId": "f1d4a92c-b171-41a5-b467-1567e34df9d2"
      },
      "source": [
        "# Creating a new dataset that has only customer reviews and restaurant ratings\n",
        "reviews_data = newdata[[\"reviews_list\", \"rating\"]]\n",
        "# Examining the reviews for the first restaurant in the dataset\n",
        "reviews_data[\"reviews_list\"][0]\n",
        "# The text needs cleaning up"
      ],
      "execution_count": 9,
      "outputs": [
        {
          "output_type": "execute_result",
          "data": {
            "application/vnd.google.colaboratory.intrinsic+json": {
              "type": "string"
            },
            "text/plain": [
              "'[(\\'Rated 5.0\\', \"RATED\\\\n  Had an egg chicken roll and a paneer roll... Really yummy... A must visit place... It would be good if you guys can keep the shop open on Sunday\\'s as well.. Good luck... :-)\"), (\\'Rated 5.0\\', \\'RATED\\\\n  Not just the Roll but the filling tastes great. I would highly recommend to others to try their rolls. Owners hospitality is also good and very friendly.\\'), (\\'Rated 4.5\\', \\'RATED\\\\n  Very nice place complete value for money ? Highly recommend.Must visit for any foodie . I would recommend the egg chicken roll . #feeltheroll\\'), (\\'Rated 5.0\\', \\'RATED\\\\n  Had an amazing mouth-watering ?chicken roll?Worth every bite..A must try for every foodie?A variety of rolls and sandwiches are available as well .. A budding rafflesia ?\\')]'"
            ]
          },
          "metadata": {
            "tags": []
          },
          "execution_count": 9
        }
      ]
    },
    {
      "cell_type": "code",
      "metadata": {
        "colab": {
          "base_uri": "https://localhost:8080/"
        },
        "id": "PHnONrtj4a2L",
        "outputId": "ad93559d-d973-4825-b84d-170f83ffd2db"
      },
      "source": [
        "# Converting all the text to lowercase\n",
        "reviews_data[\"reviews_list\"] = reviews_data[\"reviews_list\"].apply(lambda x: x.lower())\n",
        "\n",
        "# Creating a regular expression tokenizer that matches only alphabets\n",
        "# This will return separate words (tokens) from the text\n",
        "tokenizer = regextoken(\"[a-zA-Z]+\") \n",
        "# Applying the tokenizer to each row of the reviews\n",
        "review_tokens = reviews_data[\"reviews_list\"].apply(tokenizer.tokenize)\n",
        "# Examining the tokens created for the first row / restaurant\n",
        "print(review_tokens[0])"
      ],
      "execution_count": 10,
      "outputs": [
        {
          "output_type": "stream",
          "text": [
            "['rated', 'rated', 'n', 'had', 'an', 'egg', 'chicken', 'roll', 'and', 'a', 'paneer', 'roll', 'really', 'yummy', 'a', 'must', 'visit', 'place', 'it', 'would', 'be', 'good', 'if', 'you', 'guys', 'can', 'keep', 'the', 'shop', 'open', 'on', 'sunday', 's', 'as', 'well', 'good', 'luck', 'rated', 'rated', 'n', 'not', 'just', 'the', 'roll', 'but', 'the', 'filling', 'tastes', 'great', 'i', 'would', 'highly', 'recommend', 'to', 'others', 'to', 'try', 'their', 'rolls', 'owners', 'hospitality', 'is', 'also', 'good', 'and', 'very', 'friendly', 'rated', 'rated', 'n', 'very', 'nice', 'place', 'complete', 'value', 'for', 'money', 'highly', 'recommend', 'must', 'visit', 'for', 'any', 'foodie', 'i', 'would', 'recommend', 'the', 'egg', 'chicken', 'roll', 'feeltheroll', 'rated', 'rated', 'n', 'had', 'an', 'amazing', 'mouth', 'watering', 'chicken', 'roll', 'worth', 'every', 'bite', 'a', 'must', 'try', 'for', 'every', 'foodie', 'a', 'variety', 'of', 'rolls', 'and', 'sandwiches', 'are', 'available', 'as', 'well', 'a', 'budding', 'rafflesia']\n"
          ],
          "name": "stdout"
        }
      ]
    },
    {
      "cell_type": "code",
      "metadata": {
        "colab": {
          "base_uri": "https://localhost:8080/"
        },
        "id": "zjgnf3vg5jE6",
        "outputId": "a580e371-6ace-4d90-816b-5a71dbd85c73"
      },
      "source": [
        "import nltk\n",
        "nltk.download('stopwords')"
      ],
      "execution_count": 12,
      "outputs": [
        {
          "output_type": "stream",
          "text": [
            "[nltk_data] Downloading package stopwords to /root/nltk_data...\n",
            "[nltk_data]   Unzipping corpora/stopwords.zip.\n"
          ],
          "name": "stdout"
        },
        {
          "output_type": "execute_result",
          "data": {
            "text/plain": [
              "True"
            ]
          },
          "metadata": {
            "tags": []
          },
          "execution_count": 12
        }
      ]
    },
    {
      "cell_type": "code",
      "metadata": {
        "colab": {
          "base_uri": "https://localhost:8080/"
        },
        "id": "wiVpATik4a2M",
        "outputId": "c101e4b2-5d81-40d0-a592-1859d57c41b8"
      },
      "source": [
        "# Importing and examining the English stopwords directory \n",
        "# These are common words that typically don't add meaning to the text and can be removed\n",
        "stop = stopwords.words(\"english\")\n",
        "print(stop)"
      ],
      "execution_count": 14,
      "outputs": [
        {
          "output_type": "stream",
          "text": [
            "['i', 'me', 'my', 'myself', 'we', 'our', 'ours', 'ourselves', 'you', \"you're\", \"you've\", \"you'll\", \"you'd\", 'your', 'yours', 'yourself', 'yourselves', 'he', 'him', 'his', 'himself', 'she', \"she's\", 'her', 'hers', 'herself', 'it', \"it's\", 'its', 'itself', 'they', 'them', 'their', 'theirs', 'themselves', 'what', 'which', 'who', 'whom', 'this', 'that', \"that'll\", 'these', 'those', 'am', 'is', 'are', 'was', 'were', 'be', 'been', 'being', 'have', 'has', 'had', 'having', 'do', 'does', 'did', 'doing', 'a', 'an', 'the', 'and', 'but', 'if', 'or', 'because', 'as', 'until', 'while', 'of', 'at', 'by', 'for', 'with', 'about', 'against', 'between', 'into', 'through', 'during', 'before', 'after', 'above', 'below', 'to', 'from', 'up', 'down', 'in', 'out', 'on', 'off', 'over', 'under', 'again', 'further', 'then', 'once', 'here', 'there', 'when', 'where', 'why', 'how', 'all', 'any', 'both', 'each', 'few', 'more', 'most', 'other', 'some', 'such', 'no', 'nor', 'not', 'only', 'own', 'same', 'so', 'than', 'too', 'very', 's', 't', 'can', 'will', 'just', 'don', \"don't\", 'should', \"should've\", 'now', 'd', 'll', 'm', 'o', 're', 've', 'y', 'ain', 'aren', \"aren't\", 'couldn', \"couldn't\", 'didn', \"didn't\", 'doesn', \"doesn't\", 'hadn', \"hadn't\", 'hasn', \"hasn't\", 'haven', \"haven't\", 'isn', \"isn't\", 'ma', 'mightn', \"mightn't\", 'mustn', \"mustn't\", 'needn', \"needn't\", 'shan', \"shan't\", 'shouldn', \"shouldn't\", 'wasn', \"wasn't\", 'weren', \"weren't\", 'won', \"won't\", 'wouldn', \"wouldn't\"]\n"
          ],
          "name": "stdout"
        }
      ]
    },
    {
      "cell_type": "code",
      "metadata": {
        "colab": {
          "base_uri": "https://localhost:8080/"
        },
        "id": "M0qsIFPK4a2M",
        "outputId": "db1c6bb5-c880-4ef7-f87a-369c36534cb6"
      },
      "source": [
        "# Adding custom words to stopwords \n",
        "stop.extend([\"rated\", \"n\", \"nan\", \"x\"])\n",
        "# Removing stopwords from the tokens\n",
        "review_tokens = review_tokens.apply(lambda x: [token for token in x if token not in stop])\n",
        "# Concatenating all the reviews \n",
        "all_reviews = review_tokens.astype(str).str.cat()\n",
        "cleaned_reviews = tokenizer.tokenize(all_reviews)\n",
        "\n",
        "# Getting the frequency distribution of individual words in the reviews\n",
        "fd = FreqDist()\n",
        "for word in cleaned_reviews:\n",
        "    fd[word] += 1\n",
        "    \n",
        "# Examining the top 5 most frequent words\n",
        "fd.most_common(5)"
      ],
      "execution_count": 15,
      "outputs": [
        {
          "output_type": "execute_result",
          "data": {
            "text/plain": [
              "[('good', 150929),\n",
              " ('food', 147551),\n",
              " ('place', 139169),\n",
              " ('chicken', 68678),\n",
              " ('ordered', 50928)]"
            ]
          },
          "metadata": {
            "tags": []
          },
          "execution_count": 15
        }
      ]
    },
    {
      "cell_type": "code",
      "metadata": {
        "colab": {
          "base_uri": "https://localhost:8080/",
          "height": 379
        },
        "id": "w9JZukft4a2N",
        "outputId": "12fc52de-abb0-4dfa-900a-f8babd7f30d1"
      },
      "source": [
        "# Plotting the top 50 most frequent words\n",
        "plt.figure(figsize = (10, 5))\n",
        "fd.plot(50)\n",
        "plt.show()"
      ],
      "execution_count": 16,
      "outputs": [
        {
          "output_type": "display_data",
          "data": {
            "image/png": "[encoded data removed]",
            "text/plain": [
              "<Figure size 720x360 with 1 Axes>"
            ]
          },
          "metadata": {
            "tags": [],
            "needs_background": "light"
          }
        }
      ]
    },
    {
      "cell_type": "markdown",
      "metadata": {
        "id": "ZYLJWZuO4a2N"
      },
      "source": [
        "### Observations\n",
        "Of the 50 most frequent words across customer reviews, six reveal food preferences: **chicken, biryani, veg, pizza, rice, paneer**. The only negative word in the top 50 is \"bad\".\n",
        "\n",
        "Factors contributing to restaurant experience are mentioned in the following (descending) order of frequency: place > taste > service > time > ambience > staff > quality > delivery > menu > quantity > friendly.\n",
        "\n",
        "Now let us repeat the analysis on a bi-gram level. Bi-grams are pairs of words which can provide better context than individual words."
      ]
    },
    {
      "cell_type": "code",
      "metadata": {
        "colab": {
          "base_uri": "https://localhost:8080/"
        },
        "id": "oc4jaWg64a2N",
        "outputId": "b0d9afba-159f-4aa8-a975-536e83186ba3"
      },
      "source": [
        "# Generating bigrams from the reviews\n",
        "bigrams = bigrams(cleaned_reviews)\n",
        "# Getting the bigram frequency distribution\n",
        "fd_bigrams = FreqDist()\n",
        "for bigram in bigrams:\n",
        "    fd_bigrams[bigram] += 1\n",
        "# Examining the top 5 most frequent bigrams\n",
        "fd_bigrams.most_common(5)"
      ],
      "execution_count": 17,
      "outputs": [
        {
          "output_type": "execute_result",
          "data": {
            "text/plain": [
              "[(('must', 'try'), 10719),\n",
              " (('really', 'good'), 9973),\n",
              " (('good', 'food'), 9939),\n",
              " (('food', 'good'), 9585),\n",
              " (('good', 'place'), 7871)]"
            ]
          },
          "metadata": {
            "tags": []
          },
          "execution_count": 17
        }
      ]
    },
    {
      "cell_type": "code",
      "metadata": {
        "colab": {
          "base_uri": "https://localhost:8080/",
          "height": 439
        },
        "id": "Ha0lV3sY4a2O",
        "outputId": "fa32993b-84bc-4872-b690-82d21e28bcc0"
      },
      "source": [
        "# Plotting the top 50 most frequent bigrams\n",
        "plt.figure(figsize = (10, 5))\n",
        "fd_bigrams.plot(50)\n",
        "plt.show()\n"
      ],
      "execution_count": 18,
      "outputs": [
        {
          "output_type": "display_data",
          "data": {
            "image/png": "[encoded data removed]",
            "text/plain": [
              "<Figure size 720x360 with 1 Axes>"
            ]
          },
          "metadata": {
            "tags": [],
            "needs_background": "light"
          }
        }
      ]
    },
    {
      "cell_type": "markdown",
      "metadata": {
        "id": "YGopQm6E4a2O"
      },
      "source": [
        "### Observations\n",
        "\n",
        "We have some new insights! Food items/preferences mentioned in the top 50 bigrams are **ice cream, non veg, North Indian, chicken biryani, fried rice, chicken and South Indian**. Top six bigrams related to restaurant experience: good food > good place > good service > value (for) money > pocket friendly > ambience good. \n",
        "\n",
        "There's a key insight here: **the expense factor, which was missed by individual word frequency counts, was picked up by the bigram frequency counts.**\n",
        "\n",
        "Zomato might also be happy to know their membership program \"Zomato Gold\" is in the top 50 bigrams, with 2593 mentions in the customer reviews.\n",
        "\n",
        "What about trigrams? "
      ]
    },
    {
      "cell_type": "code",
      "metadata": {
        "colab": {
          "base_uri": "https://localhost:8080/"
        },
        "id": "eKJTTd3S4a2O",
        "outputId": "17181a48-a251-4485-ddd9-66bc8365da44"
      },
      "source": [
        "# Generating trigrams from the reviews\n",
        "trigrams = trigrams(cleaned_reviews)\n",
        "\n",
        "fd_trigrams = FreqDist()\n",
        "for trigram in trigrams:\n",
        "    fd_trigrams[trigram] += 1\n",
        "\n",
        "fd_trigrams.most_common(5)"
      ],
      "execution_count": 19,
      "outputs": [
        {
          "output_type": "execute_result",
          "data": {
            "text/plain": [
              "[(('xa', 'xa', 'xa'), 1975),\n",
              " (('north', 'indian', 'food'), 1707),\n",
              " (('f', 'f', 'f'), 1681),\n",
              " (('must', 'visit', 'place'), 1666),\n",
              " (('veg', 'non', 'veg'), 1634)]"
            ]
          },
          "metadata": {
            "tags": []
          },
          "execution_count": 19
        }
      ]
    },
    {
      "cell_type": "code",
      "metadata": {
        "colab": {
          "base_uri": "https://localhost:8080/",
          "height": 498
        },
        "id": "pWHGrr8T4a2O",
        "outputId": "e3556fab-a44c-4a6f-8c2a-38427cf0edda"
      },
      "source": [
        "plt.figure(figsize = (10, 5))\n",
        "fd_trigrams.plot(50)\n",
        "plt.show()"
      ],
      "execution_count": 20,
      "outputs": [
        {
          "output_type": "display_data",
          "data": {
            "image/png": "[encoded data removed]",
            "text/plain": [
              "<Figure size 720x360 with 1 Axes>"
            ]
          },
          "metadata": {
            "tags": [],
            "needs_background": "light"
          }
        }
      ]
    },
    {
      "cell_type": "markdown",
      "metadata": {
        "id": "0-uHfhj94a2O"
      },
      "source": [
        "### Observations\n",
        "There appears to be some bad data (strings of \"xa xa xa\") somewhere in the reviews, but we'll ignore that. The specific food preferences we can see here are **paneer butter masala, chicken fried rice, chicken biryani, peri peri chicken and chicken ghee roast**. Bangalore is really into chicken.\n",
        "\n",
        "On restaurant experience: a specific insight revealed by the trigrams is that **many people are looking for places to hang out with their friends**. \n",
        "\n",
        "We also see a variety of positive trigrams like \"must visit place\", \"food really good\", \"service also good\" and \"worth every penny\". However, there is only one negative trigram in the top 50 - \"worst food ever\".\n",
        "\n",
        "We now have plenty of insights into customer preferences and experiences, and will move onto an analysis of Bangalore's cuisines."
      ]
    },
    {
      "cell_type": "code",
      "metadata": {
        "colab": {
          "base_uri": "https://localhost:8080/"
        },
        "id": "xo__Bxsq4a2O",
        "outputId": "04894e0c-a5a8-43e9-ab35-5e8e55a35f58"
      },
      "source": [
        "# Creating a new dataset with cuisines info and restaurant ratings\n",
        "cuisines = newdata[[\"cuisines\", \"rating\"]]\n",
        "cuisines[\"cuisines\"] = cuisines[\"cuisines\"].astype(str)\n",
        "# Converting to lowercase\n",
        "cuisines[\"cuisines\"] = cuisines[\"cuisines\"].apply(lambda x: x.lower())\n",
        "# Tokenizing the cuisines\n",
        "cuisine_tokens = cuisines[\"cuisines\"].apply(tokenizer.tokenize)\n",
        "# Concatenating all the cuisine names into one text document\n",
        "all_cuisines = cuisine_tokens.astype(str).str.cat()\n",
        "cleaned_cuisines = tokenizer.tokenize(all_cuisines)\n",
        "\n",
        "# Generating cuisine frequencies \n",
        "fd_cuisine = FreqDist()\n",
        "for cuisine in cleaned_cuisines:\n",
        "    fd_cuisine[cuisine] += 1\n",
        "    \n",
        "# Printing the 50 most common cuisines (top 50)\n",
        "print(fd_cuisine.most_common(50))"
      ],
      "execution_count": 21,
      "outputs": [
        {
          "output_type": "stream",
          "text": [
            "[('indian', 5506), ('north', 3860), ('chinese', 2836), ('food', 2512), ('south', 1633), ('fast', 1602), ('biryani', 1285), ('desserts', 985), ('beverages', 842), ('continental', 821), ('cafe', 674), ('street', 605), ('italian', 501), ('bakery', 495), ('pizza', 393), ('andhra', 379), ('ice', 374), ('cream', 374), ('burger', 369), ('seafood', 320), ('mughlai', 305), ('rolls', 297), ('momos', 246), ('kerala', 244), ('mithai', 206), ('juices', 202), ('american', 200), ('arabian', 193), ('thai', 185), ('asian', 183), ('salad', 179), ('kebab', 174), ('sandwich', 167), ('finger', 159), ('healthy', 145), ('bbq', 126), ('mangalorean', 111), ('bengali', 106), ('european', 104), ('mexican', 98), ('mediterranean', 86), ('steak', 75), ('hyderabadi', 69), ('tea', 68), ('tibetan', 54), ('japanese', 43), ('chettinad', 38), ('chicken', 32), ('vietnamese', 31), ('rajasthani', 29)]\n"
          ],
          "name": "stdout"
        }
      ]
    },
    {
      "cell_type": "markdown",
      "metadata": {
        "id": "Jua7WrTg4a2P"
      },
      "source": [
        "### Observations\n",
        "One must be careful when interpreting these lists. For example, \"dogs\" can't be a cuisine but the preceding word \"hot\" tells us that the cuisine is \"hot dogs\". Another tricky one is Cantonese, which comes under Chinese and so might not really be rare.\n",
        "\n",
        "We've done our reviews and cuisines analysis and will now prepare all the text in the dataset for feeding into a neural network."
      ]
    },
    {
      "cell_type": "markdown",
      "metadata": {
        "id": "uDrrIRTq4a2P"
      },
      "source": [
        "## Text Preprocessing"
      ]
    },
    {
      "cell_type": "code",
      "metadata": {
        "id": "AgxNCzEu4a2P"
      },
      "source": [
        "# Converting all the text to strings\n",
        "newdata[[\"reviews_list\", \"menu_item\", \"dish_liked\", \"cuisines\"]] = newdata[[\"reviews_list\", \"menu_item\", \"dish_liked\", \"cuisines\"]].astype(\"str\")\n",
        "# Combining all the text data into a single feature called \"text\"\n",
        "newdata[\"text\"] = newdata[\"reviews_list\"] + \" \" + newdata[\"menu_item\"] + \" \" + newdata[\"dish_liked\"] + \" \" + newdata[\"cuisines\"]\n",
        "# Creating a new dataset with text and restaurant ratings\n",
        "text_data = newdata[[\"text\", \"rating\"]]\n",
        "# Converting text to lowercase\n",
        "text_data[\"text\"] = text_data[\"text\"].apply(lambda x: x.lower())\n",
        "# Tokenizing the text\n",
        "tokens = text_data[\"text\"].apply(tokenizer.tokenize) \n",
        "# Removing stopwords \n",
        "tokens = tokens.apply(lambda x: [token for token in x if token not in stop])\n"
      ],
      "execution_count": 22,
      "outputs": []
    },
    {
      "cell_type": "code",
      "metadata": {
        "colab": {
          "base_uri": "https://localhost:8080/"
        },
        "id": "5lOcG9ot4a2P",
        "outputId": "3268b39a-57f1-4a73-f981-59c25ab38abc"
      },
      "source": [
        "print(tokens[0])"
      ],
      "execution_count": 23,
      "outputs": [
        {
          "output_type": "stream",
          "text": [
            "['egg', 'chicken', 'roll', 'paneer', 'roll', 'really', 'yummy', 'must', 'visit', 'place', 'would', 'good', 'guys', 'keep', 'shop', 'open', 'sunday', 'well', 'good', 'luck', 'roll', 'filling', 'tastes', 'great', 'would', 'highly', 'recommend', 'others', 'try', 'rolls', 'owners', 'hospitality', 'also', 'good', 'friendly', 'nice', 'place', 'complete', 'value', 'money', 'highly', 'recommend', 'must', 'visit', 'foodie', 'would', 'recommend', 'egg', 'chicken', 'roll', 'feeltheroll', 'amazing', 'mouth', 'watering', 'chicken', 'roll', 'worth', 'every', 'bite', 'must', 'try', 'every', 'foodie', 'variety', 'rolls', 'sandwiches', 'available', 'well', 'budding', 'rafflesia', 'fast', 'food']\n"
          ],
          "name": "stdout"
        }
      ]
    },
    {
      "cell_type": "code",
      "metadata": {
        "colab": {
          "base_uri": "https://localhost:8080/"
        },
        "id": "G4XyC9nN6aml",
        "outputId": "10e51285-8848-4709-e7af-793ebda7b221"
      },
      "source": [
        "import nltk\n",
        "nltk.download('wordnet')"
      ],
      "execution_count": 25,
      "outputs": [
        {
          "output_type": "stream",
          "text": [
            "[nltk_data] Downloading package wordnet to /root/nltk_data...\n",
            "[nltk_data]   Unzipping corpora/wordnet.zip.\n"
          ],
          "name": "stdout"
        },
        {
          "output_type": "execute_result",
          "data": {
            "text/plain": [
              "True"
            ]
          },
          "metadata": {
            "tags": []
          },
          "execution_count": 25
        }
      ]
    },
    {
      "cell_type": "code",
      "metadata": {
        "id": "IG9IkDbU4a2P"
      },
      "source": [
        "# Writing a function to lemmatize words\n",
        "lmtzr = WordNetLemmatizer()\n",
        "def lem(text):\n",
        "    return [lmtzr.lemmatize(word) for word in text]\n",
        "\n",
        "# Applying the function to each row of the text\n",
        "# i.e. reducing each word to its lemma\n",
        "tokens_new = tokens.apply(lem)"
      ],
      "execution_count": 27,
      "outputs": []
    },
    {
      "cell_type": "code",
      "metadata": {
        "id": "2v-J2MbX4a2P"
      },
      "source": [
        "# Applying label encoding and one hot encoding to the restaurant rating classes \n",
        "le = LabelEncoder()\n",
        "target = le.fit_transform(text_data[\"rating\"])\n",
        "target = to_categorical(target)"
      ],
      "execution_count": 31,
      "outputs": []
    },
    {
      "cell_type": "code",
      "metadata": {
        "colab": {
          "base_uri": "https://localhost:8080/"
        },
        "id": "oT6ozfA94a2Q",
        "outputId": "b40b01b9-34b5-4293-d959-5363daba2dfe"
      },
      "source": [
        "# Splitting the data into train and test sets (stratified)\n",
        "X_train, X_test, y_train, y_test = train_test_split(tokens_new, target, test_size = 0.3, random_state = 0, stratify = target)\n",
        "\n",
        "# Processing the text with the Keras tokenizer\n",
        "t = Tokenizer() \n",
        "t.fit_on_texts(X_train)\n",
        "# Setting a vocabulary size that we will specify in the neural network\n",
        "vocab_size = len(t.word_index) + 1\n",
        "# The t.word_index contains each unique word in our text and an integer assigned to it\n",
        "print(vocab_size)"
      ],
      "execution_count": 32,
      "outputs": [
        {
          "output_type": "stream",
          "text": [
            "46123\n"
          ],
          "name": "stdout"
        }
      ]
    },
    {
      "cell_type": "code",
      "metadata": {
        "id": "7bc8-s7V4a2Q"
      },
      "source": [
        "# Encoding the text as sequences of integers\n",
        "train_sequences = t.texts_to_sequences(X_train)\n",
        "test_sequences = t.texts_to_sequences(X_test)\n",
        "# Adding zeros so each sequence has the same length \n",
        "train_padded = pad_sequences(train_sequences, maxlen=500)\n",
        "test_padded = pad_sequences(test_sequences, maxlen=500)"
      ],
      "execution_count": 33,
      "outputs": []
    },
    {
      "cell_type": "markdown",
      "metadata": {
        "id": "mLq8nP4w4a2Q"
      },
      "source": [
        "brew install wget\n",
        "\n",
        "wget -c \"https://s3.amazonaws.com/dl4j-distribution/GoogleNews-vectors-negative300.bin.gz\"\n",
        "This downloads the GZIP compressed file that you can uncompress using:\n",
        "\n",
        "gzip -d GoogleNews-vectors-negative300.bin.gz\n",
        "You can then use the below command to get wordVector.\n",
        "\n",
        "from gensim import models\n",
        "\n",
        "w = models.KeyedVectors.load_word2vec_format(\n",
        "    '../GoogleNews-vectors-negative300.bin', binary=True)"
      ]
    },
    {
      "cell_type": "code",
      "metadata": {
        "colab": {
          "base_uri": "https://localhost:8080/"
        },
        "id": "KfQmXvr7CZxR",
        "outputId": "00e00d30-dad7-4e1d-d70a-12b70c145ac2"
      },
      "source": [
        "!wget -c \"https://s3.amazonaws.com/dl4j-distribution/GoogleNews-vectors-negative300.bin.gz\" "
      ],
      "execution_count": 35,
      "outputs": [
        {
          "output_type": "stream",
          "text": [
            "--2021-08-09 13:11:12--  https://s3.amazonaws.com/dl4j-distribution/GoogleNews-vectors-negative300.bin.gz\n",
            "Resolving s3.amazonaws.com (s3.amazonaws.com)... 52.217.172.72\n",
            "Connecting to s3.amazonaws.com (s3.amazonaws.com)|52.217.172.72|:443... connected.\n",
            "HTTP request sent, awaiting response... 200 OK\n",
            "Length: 1647046227 (1.5G) [application/x-gzip]\n",
            "Saving to: ‘GoogleNews-vectors-negative300.bin.gz’\n",
            "\n",
            "GoogleNews-vectors- 100%[===================>]   1.53G  72.5MB/s    in 25s     \n",
            "\n",
            "2021-08-09 13:11:37 (62.5 MB/s) - ‘GoogleNews-vectors-negative300.bin.gz’ saved [1647046227/1647046227]\n",
            "\n"
          ],
          "name": "stdout"
        }
      ]
    },
    {
      "cell_type": "code",
      "metadata": {
        "id": "b65bFlLfDUH2"
      },
      "source": [
        "!gzip -d GoogleNews-vectors-negative300.bin.gz"
      ],
      "execution_count": 41,
      "outputs": []
    },
    {
      "cell_type": "code",
      "metadata": {
        "colab": {
          "base_uri": "https://localhost:8080/"
        },
        "id": "SO5kySFjDOpB",
        "outputId": "4fc250ea-c39e-4310-ff73-e324a063cda7"
      },
      "source": [
        "!ls"
      ],
      "execution_count": 43,
      "outputs": [
        {
          "output_type": "stream",
          "text": [
            "drive  GoogleNews-vectors-negative300.bin  sample_data\n"
          ],
          "name": "stdout"
        }
      ]
    },
    {
      "cell_type": "code",
      "metadata": {
        "id": "KyGSvPKt4a2Q"
      },
      "source": [
        "# Loading Word2Vec word embeddings \n",
        "\n",
        "word_vectors = KeyedVectors.load_word2vec_format( 'GoogleNews-vectors-negative300.bin', binary=True)\n",
        "\n",
        "embedding_dim = 300 # each word will become a 300-d vector\n",
        "\n",
        "# Creating an empty matrix \n",
        "embedding_matrix = np.zeros((vocab_size, embedding_dim)) \n",
        "# Each row is a word with 300 dimensions\n",
        "\n",
        "# Populating the matrix\n",
        "for word, i in t.word_index.items(): # for each word in the customer reviews vocabulary\n",
        "    try:\n",
        "        # get the Word2Vec vector representation for that word\n",
        "        embedding_vector = word_vectors[word] \n",
        "        # add it to the embedding matrix\n",
        "        embedding_matrix[i] = embedding_vector \n",
        "        # handle new words by generating random vectors for them\n",
        "    except KeyError: \n",
        "        embedding_matrix[i]=np.random.normal(0,np.sqrt(0.25), embedding_dim)"
      ],
      "execution_count": 45,
      "outputs": []
    },
    {
      "cell_type": "code",
      "metadata": {
        "colab": {
          "base_uri": "https://localhost:8080/"
        },
        "id": "RbCstRYx4a2Q",
        "outputId": "8562255c-69f0-4fe7-b984-2bfdb182a27c"
      },
      "source": [
        "embedding_matrix.shape"
      ],
      "execution_count": 46,
      "outputs": [
        {
          "output_type": "execute_result",
          "data": {
            "text/plain": [
              "(46123, 300)"
            ]
          },
          "metadata": {
            "tags": []
          },
          "execution_count": 46
        }
      ]
    },
    {
      "cell_type": "code",
      "metadata": {
        "colab": {
          "base_uri": "https://localhost:8080/"
        },
        "id": "JQnpwF694a2Q",
        "outputId": "68ca38f7-261a-45ca-c649-f43070439961"
      },
      "source": [
        "# Examining the words embeddings - vector representations of words\n",
        "embedding_matrix"
      ],
      "execution_count": 47,
      "outputs": [
        {
          "output_type": "execute_result",
          "data": {
            "text/plain": [
              "array([[ 0.        ,  0.        ,  0.        , ...,  0.        ,\n",
              "         0.        ,  0.        ],\n",
              "       [-0.18164062,  0.16503906, -0.16601562, ...,  0.15917969,\n",
              "         0.12792969,  0.00222778],\n",
              "       [ 0.04052734,  0.0625    , -0.01745605, ..., -0.15625   ,\n",
              "         0.00193024, -0.06982422],\n",
              "       ...,\n",
              "       [-0.12304688, -0.23925781,  0.25976562, ...,  0.06201172,\n",
              "         0.14746094,  0.12011719],\n",
              "       [-0.07362568, -0.33642301, -0.62491573, ..., -0.01554796,\n",
              "        -0.27020695, -0.8823394 ],\n",
              "       [-0.23801336, -0.14618539, -0.34087492, ...,  0.40586642,\n",
              "         0.35753403, -0.12258468]])"
            ]
          },
          "metadata": {
            "tags": []
          },
          "execution_count": 47
        }
      ]
    },
    {
      "cell_type": "markdown",
      "metadata": {
        "id": "U6Ecp8ds4a2Q"
      },
      "source": [
        "## Model Building"
      ]
    },
    {
      "cell_type": "code",
      "metadata": {
        "colab": {
          "base_uri": "https://localhost:8080/"
        },
        "id": "V8wHZgA54a2Q",
        "outputId": "4ea8b1db-5a98-41df-aa97-ec9b308fb329"
      },
      "source": [
        "# Building an LSTM neural network\n",
        "\n",
        "warnings.filterwarnings(\"ignore\")\n",
        "max_length = 50 # maximum length of each input string (movie review)\n",
        "\n",
        "model = Sequential()\n",
        "model.add(Embedding(vocab_size, embedding_dim, input_length=max_length, weights = [embedding_matrix], trainable = False))\n",
        "model.add(LSTM(100, activation = \"tanh\"))\n",
        "model.add(Dropout(0.5))\n",
        "model.add(Dense(4, activation='softmax'))\n",
        "model.compile(loss='categorical_crossentropy', optimizer = \"adam\", metrics=['accuracy'])\n",
        "model.fit(train_padded, y_train, validation_data=(test_padded, y_test), epochs=3, batch_size=256)"
      ],
      "execution_count": 49,
      "outputs": [
        {
          "output_type": "stream",
          "text": [
            "Epoch 1/3\n",
            "WARNING:tensorflow:Model was constructed with shape (None, 50) for input KerasTensor(type_spec=TensorSpec(shape=(None, 50), dtype=tf.float32, name='embedding_1_input'), name='embedding_1_input', description=\"created by layer 'embedding_1_input'\"), but it was called on an input with incompatible shape (None, 500).\n",
            "WARNING:tensorflow:Model was constructed with shape (None, 50) for input KerasTensor(type_spec=TensorSpec(shape=(None, 50), dtype=tf.float32, name='embedding_1_input'), name='embedding_1_input', description=\"created by layer 'embedding_1_input'\"), but it was called on an input with incompatible shape (None, 500).\n",
            "26/26 [==============================] - ETA: 0s - loss: 1.2485 - accuracy: 0.4292WARNING:tensorflow:Model was constructed with shape (None, 50) for input KerasTensor(type_spec=TensorSpec(shape=(None, 50), dtype=tf.float32, name='embedding_1_input'), name='embedding_1_input', description=\"created by layer 'embedding_1_input'\"), but it was called on an input with incompatible shape (None, 500).\n",
            "26/26 [==============================] - 84s 3s/step - loss: 1.2461 - accuracy: 0.4307 - val_loss: 1.0684 - val_accuracy: 0.5267\n",
            "Epoch 2/3\n",
            "26/26 [==============================] - 82s 3s/step - loss: 1.0601 - accuracy: 0.5152 - val_loss: 1.0126 - val_accuracy: 0.5621\n",
            "Epoch 3/3\n",
            "26/26 [==============================] - 82s 3s/step - loss: 1.0024 - accuracy: 0.5548 - val_loss: 0.9915 - val_accuracy: 0.5621\n"
          ],
          "name": "stdout"
        },
        {
          "output_type": "execute_result",
          "data": {
            "text/plain": [
              "<keras.callbacks.History at 0x7f3c6cad1690>"
            ]
          },
          "metadata": {
            "tags": []
          },
          "execution_count": 49
        }
      ]
    },
    {
      "cell_type": "markdown",
      "metadata": {
        "id": "MO9YT2Oz4a2R"
      },
      "source": [
        "### Evaluation"
      ]
    },
    {
      "cell_type": "code",
      "metadata": {
        "colab": {
          "base_uri": "https://localhost:8080/"
        },
        "id": "3h8qU8e94a2R",
        "outputId": "6d34b7bc-8aa1-491c-eb74-1b5ba997aafb"
      },
      "source": [
        "# Predicting on the train data\n",
        "pred_train = model.predict(train_padded)\n",
        "pred_train = np.argmax(pred_train, axis=1)\n",
        "y_train = np.argmax(y_train, axis=1)\n",
        "# Printing evaluation metrics\n",
        "print(classification_report(y_train, pred_train))"
      ],
      "execution_count": 50,
      "outputs": [
        {
          "output_type": "stream",
          "text": [
            "WARNING:tensorflow:Model was constructed with shape (None, 50) for input KerasTensor(type_spec=TensorSpec(shape=(None, 50), dtype=tf.float32, name='embedding_1_input'), name='embedding_1_input', description=\"created by layer 'embedding_1_input'\"), but it was called on an input with incompatible shape (None, 500).\n",
            "              precision    recall  f1-score   support\n",
            "\n",
            "           0       0.00      0.00      0.00       619\n",
            "           1       0.58      0.62      0.60      2050\n",
            "           2       0.56      0.64      0.59      2826\n",
            "           3       0.62      0.66      0.64      1026\n",
            "\n",
            "    accuracy                           0.57      6521\n",
            "   macro avg       0.44      0.48      0.46      6521\n",
            "weighted avg       0.52      0.57      0.55      6521\n",
            "\n"
          ],
          "name": "stdout"
        }
      ]
    },
    {
      "cell_type": "code",
      "metadata": {
        "colab": {
          "base_uri": "https://localhost:8080/"
        },
        "id": "EuAvEOgu4a2R",
        "outputId": "0a71fd81-7e7a-4402-8e40-1d41876000bb"
      },
      "source": [
        "# Predicting on the test data\n",
        "pred_test = model.predict(test_padded)\n",
        "pred_test = np.argmax(pred_test, axis=1)\n",
        "y_test = np.argmax(y_test, axis = 1)\n",
        "# Printing evaluation metrics\n",
        "print(classification_report(y_test, pred_test))"
      ],
      "execution_count": 51,
      "outputs": [
        {
          "output_type": "stream",
          "text": [
            "              precision    recall  f1-score   support\n",
            "\n",
            "           0       0.00      0.00      0.00       265\n",
            "           1       0.55      0.63      0.59       879\n",
            "           2       0.55      0.61      0.58      1211\n",
            "           3       0.61      0.64      0.63       440\n",
            "\n",
            "    accuracy                           0.56      2795\n",
            "   macro avg       0.43      0.47      0.45      2795\n",
            "weighted avg       0.51      0.56      0.53      2795\n",
            "\n"
          ],
          "name": "stdout"
        }
      ]
    }
  ]
}